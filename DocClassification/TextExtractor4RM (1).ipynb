{
 "cells": [
  {
   "cell_type": "code",
   "execution_count": null,
   "id": "pressed-royalty",
   "metadata": {},
   "outputs": [],
   "source": [
    "#!pip3 install extract_msg"
   ]
  },
  {
   "cell_type": "code",
   "execution_count": 41,
   "id": "progressive-patch",
   "metadata": {},
   "outputs": [],
   "source": [
    "import pandas as pd\n",
    "import os\n",
    "from tqdm import tqdm\n",
    "from pathlib import Path\n",
    "import multiprocessing\n",
    "\n",
    "from docx import Document\n",
    "import extract_msg\n",
    "from pptx import Presentation\n",
    "from openpyxl import load_workbook\n",
    "import matplotlib.pyplot as plt"
   ]
  },
  {
   "cell_type": "code",
   "execution_count": 42,
   "id": "heavy-insider",
   "metadata": {},
   "outputs": [
    {
     "name": "stdout",
     "output_type": "stream",
     "text": [
      "Requirement already satisfied: pdfminer in /Users/rmRM/opt/anaconda3/lib/python3.8/site-packages (20191125)\n",
      "Requirement already satisfied: pycryptodome in /Users/rmRM/opt/anaconda3/lib/python3.8/site-packages (from pdfminer) (3.10.1)\n"
     ]
    }
   ],
   "source": [
    "!pip install pdfminer\n",
    "from pdfminer.pdfinterp import PDFResourceManager, PDFPageInterpreter\n",
    "from pdfminer.converter import TextConverter\n",
    "from pdfminer.layout import LAParams\n",
    "from pdfminer.pdfpage import PDFPage\n",
    "from io import StringIO\n",
    "\n",
    "def convert_pdf_to_txt(path):\n",
    "    \n",
    "    rsrcmgr = PDFResourceManager()\n",
    "    retstr = StringIO()\n",
    "    laparams = LAParams()\n",
    "    device = TextConverter(rsrcmgr, retstr, laparams=laparams)\n",
    "    fp = open(path, 'rb')\n",
    "    interpreter = PDFPageInterpreter(rsrcmgr, device)\n",
    "    password = \"\"\n",
    "    maxpages = 0\n",
    "    pagenos=set()\n",
    "\n",
    "    for page in PDFPage.get_pages(fp, pagenos, maxpages=maxpages,\n",
    "                                  caching=True, check_extractable=True):\n",
    "        interpreter.process_page(page)\n",
    "\n",
    "    text = retstr.getvalue()\n",
    "\n",
    "    fp.close()\n",
    "    device.close()\n",
    "    retstr.close()\n",
    "    return text\n"
   ]
  },
  {
   "cell_type": "code",
   "execution_count": 43,
   "id": "dressed-swing",
   "metadata": {},
   "outputs": [],
   "source": [
    "def write_errors(path):\n",
    "    with open('ERRORS.txt', 'a') as f:\n",
    "        f.write(str(path)+'\\n')"
   ]
  },
  {
   "cell_type": "code",
   "execution_count": 44,
   "id": "solid-dimension",
   "metadata": {},
   "outputs": [],
   "source": [
    "def get_text_docx(path):\n",
    "    full_text = ''\n",
    "    document = Document(path)\n",
    "    for para in document.paragraphs:\n",
    "        full_text += para.text + '. '\n",
    "        #Add tables\n",
    "#     for table in document.tables:\n",
    "#         for i, row in enumerate(table.rows):\n",
    "#             for cell in row.cells:\n",
    "#                 full_text += cell.text\n",
    "    return full_text"
   ]
  },
  {
   "cell_type": "code",
   "execution_count": 45,
   "id": "pending-accommodation",
   "metadata": {},
   "outputs": [],
   "source": [
    "def get_text_pptx(path):\n",
    "    full_text = ''\n",
    "    prs = Presentation(path)\n",
    "    for slide in prs.slides:\n",
    "        for shape in slide.shapes:\n",
    "            if hasattr(shape, \"text\"):\n",
    "                full_text += shape.text + '. '\n",
    "    return full_text"
   ]
  },
  {
   "cell_type": "code",
   "execution_count": 46,
   "id": "mental-amber",
   "metadata": {},
   "outputs": [],
   "source": [
    "def get_text_xlsx(path):\n",
    "    full_text = ''\n",
    "    wb = load_workbook(path, data_only=True)\n",
    "    for sheetname in wb.sheetnames:\n",
    "        ws = wb[sheetname]\n",
    "        all_rows = list(ws.rows)\n",
    "        for row in all_rows:\n",
    "            for r in row:\n",
    "                if r.value is not None:\n",
    "                    full_text += str(r.value) + '. '\n",
    "    return full_text"
   ]
  },
  {
   "cell_type": "code",
   "execution_count": 47,
   "id": "available-allen",
   "metadata": {},
   "outputs": [],
   "source": [
    "def get_text_msg(path):\n",
    "    msg = extract_msg.openMsg(path)\n",
    "    full_text = msg.subject + '. ' + msg.body\n",
    "    return full_text"
   ]
  },
  {
   "cell_type": "code",
   "execution_count": 48,
   "id": "opponent-passage",
   "metadata": {},
   "outputs": [],
   "source": []
  },
  {
   "cell_type": "code",
   "execution_count": 49,
   "id": "external-gazette",
   "metadata": {},
   "outputs": [],
   "source": [
    "\n",
    "def extract_file(paths, step):\n",
    "    text = []\n",
    "    path = []\n",
    "    for file in tqdm(paths):\n",
    "        if str(file) in processeddata.paths.values:\n",
    "            #print (\"skipping: \")\n",
    "            #print (str(file))\n",
    "            continue\n",
    "        #print ('Processing:')\n",
    "        #print (str(file))\n",
    "        \n",
    "        if file.suffix == '.docx':\n",
    "            try:\n",
    "                text=(get_text_docx(file))\n",
    "                path=(str(file))\n",
    "            except:\n",
    "                write_errors(file)\n",
    "                #print(\"\\nERROR:\" + str(file)+ \"\\n\")\n",
    "        elif file.suffix == '.pptx':\n",
    "            try:\n",
    "                text=(get_text_pptx(file))\n",
    "                path=(str(file))\n",
    "            except:\n",
    "                write_errors(file)\n",
    "                #print(\"\\nERROR:\" + str(file)+ \"\\n\")\n",
    "        elif file.suffix == '.xlsx':\n",
    "            try:\n",
    "                text=(get_text_xlsx(file))\n",
    "                path=(str(file))\n",
    "            except:\n",
    "                write_errors(file)\n",
    "                #print(\"\\nERROR:\" + str(file)+ \"\\n\")\n",
    "        elif file.suffix == '.msg' or file.suffix == '.eml':\n",
    "            try:\n",
    "                text=(get_text_msg(file))\n",
    "                path=(str(file))\n",
    "            except:\n",
    "                write_errors(file)\n",
    "                #print(\"\\nERROR:\" + str(file)+ \"\\n\")\n",
    "        elif file.suffix == '.pdf':\n",
    "            try:\n",
    "                text=(convert_pdf_to_txt(file))\n",
    "                path=(file)\n",
    "            except:\n",
    "                write_errors(file)\n",
    "                #print(\"\\nERROR:\" + str(file)+ \"\\n\")\n",
    "                #print(str(file))\n",
    "        if len(text)>0:\n",
    "            print (str(file))\n",
    "            from IPython.core.debugger import set_trace\n",
    "            #set_trace()\n",
    "            df = pd.DataFrame({'paths':[path], 'text':[text]})\n",
    "            #df.to_csv('data'+str(step)+'.csv')\n",
    "            #with open('/Users/rmRM/Desktop/RM/trainv4.csv', 'a') as f:\n",
    "            #    df.to_csv(f, header=False)\n",
    "            \n",
    "            with open('/Users/rmRM/Desktop/RM/trainv4.csv','a') as f:\n",
    "                f.write('\\n')    \n",
    "            df.to_csv('/Users/rmRM/Desktop/RM/trainv4.csv', index = False, header = False, mode='a')\n",
    "            #print (df.head(10))\n",
    "            #break"
   ]
  },
  {
   "cell_type": "code",
   "execution_count": 50,
   "id": "conceptual-piano",
   "metadata": {},
   "outputs": [],
   "source": [
    "need_extention = {'.docx':0,'.doc':0,'.xls':0,'.xlsx':0,'.ppt':0,'.pptx':0,'.pdf':0,'.msg':0,'.eml':0}\n",
    "#all_data = sorted(list(Path('/Users/rmRM/Desktop/Evgenii/DS').rglob('*.*')))\n"
   ]
  },
  {
   "cell_type": "code",
   "execution_count": 95,
   "id": "funky-meaning",
   "metadata": {
    "scrolled": true
   },
   "outputs": [
    {
     "data": {
      "text/plain": [
       "(6247, 2)"
      ]
     },
     "execution_count": 95,
     "metadata": {},
     "output_type": "execute_result"
    }
   ],
   "source": [
    "#Loading processed data\n",
    "processeddata=pd.read_csv('/Users/rmRM/Desktop/RM/trainv8.csv')\n",
    "processeddata.head(10)\n",
    "processeddata.shape\n",
    "#print (len(processeddata)-len(processeddata.drop_duplicates()))\n",
    "#import textract\n",
    "#text = textract.process(\"/Users/rmRM/Desktop/Evgenii/DS/Tier 1 - 4/NGP - Retail/Meetings_Communications/Project Status Meeting Minutes/1. OFX/2015_12_03_OFX Meeting Agenda.doc\")\n",
    "#print (text)\n",
    "#processeddata.drop_duplicates().shape\n"
   ]
  },
  {
   "cell_type": "code",
   "execution_count": 52,
   "id": "sudden-organizer",
   "metadata": {},
   "outputs": [
    {
     "data": {
      "text/plain": [
       "8058"
      ]
     },
     "execution_count": 52,
     "metadata": {},
     "output_type": "execute_result"
    }
   ],
   "source": [
    "#Getting the list of files\n",
    "from os.path import join\n",
    "from glob import glob\n",
    "files = []\n",
    "for ext in ('*.docx', '*.doc', '*.xls','*.xlsx', '*.ppt', '*.pptx','*.pdf', '*.msg', '*.eml'):\n",
    "    files.extend(list(Path('/Users/rmRM/Desktop/Evgenii/DS').rglob(ext)))\n",
    "\n",
    "all_data = sorted(files)\n",
    "len(all_data)\n",
    "#print (files)\n"
   ]
  },
  {
   "cell_type": "code",
   "execution_count": 53,
   "id": "devoted-carol",
   "metadata": {},
   "outputs": [
    {
     "data": {
      "text/plain": [
       "8058"
      ]
     },
     "execution_count": 53,
     "metadata": {},
     "output_type": "execute_result"
    }
   ],
   "source": [
    "len(all_data)\n",
    "\n"
   ]
  },
  {
   "cell_type": "code",
   "execution_count": 54,
   "id": "productive-corner",
   "metadata": {},
   "outputs": [],
   "source": [
    "#testfile='/Users/rmRM/Desktop/Evgenii/DS/Tier 1 - 4/NGP - Retail/Meetings_Communications/Project Status Meeting Minutes/1. OFX/2015_12_03_OFX Meeting Agenda.doc'\n",
    "#text=(get_text_docx(testfile))"
   ]
  },
  {
   "cell_type": "code",
   "execution_count": 55,
   "id": "changed-register",
   "metadata": {},
   "outputs": [],
   "source": [
    "#from os.path import join\n",
    "#from glob import glob\n",
    "#files = []\n",
    "#for ext in ('*.docx', '*.doc', '*.xls','*.xlsx', '*.ppt', '*.pptx','*.pdf', '*.msg', '*.eml'):\n",
    "#    files.extend(list(Path('/Users/rmRM/Desktop/Evgenii/DS').rglob(ext)))\n",
    "\n",
    "#all_data = sorted(files)\n",
    "#print (files)\n",
    "\n",
    "\n",
    "#all_data = sorted(list(Path('/Users/rmRM/Desktop/Evgenii/DS').rglob('*.docx')))\n",
    "#all_data = sorted(list(Path('/Users/rmRM/Desktop/Evgenii/DS').rglob('*.doc')))\n",
    "#all_data = sorted(list(Path('/Users/rmRM/Desktop/Evgenii/DS').rglob('*.xls')))\n",
    "#all_data = sorted(list(Path('/Users/rmRM/Desktop/Evgenii/DS').rglob('*.xlsx')))\n",
    "#all_data = sorted(list(Path('/Users/rmRM/Desktop/Evgenii/DS').rglob('*.ppt')))\n",
    "#all_data = sorted(list(Path('/Users/rmRM/Desktop/Evgenii/DS').rglob('*.pptx')))\n",
    "#all_data = sorted(list(Path('/Users/rmRM/Desktop/Evgenii/DS').rglob('*.pdf')))\n",
    "#all_data = sorted(list(Path('/Users/rmRM/Desktop/Evgenii/DS').rglob('*.msg')))\n",
    "#all_data = sorted(list(Path('/Users/rmRM/Desktop/Evgenii/DS').rglob('*.eml')))\n",
    "#print (files)\n",
    "#all_data = sorted(list(Path('/Users/rmRM/Desktop/Evgenii/DS').rglob('*.*')))"
   ]
  },
  {
   "cell_type": "code",
   "execution_count": 56,
   "id": "attached-horse",
   "metadata": {},
   "outputs": [],
   "source": [
    " #print (list(Path('/Users/rmRM/Desktop/Evgenii/DS').rglob('*.xlsx')))"
   ]
  },
  {
   "cell_type": "code",
   "execution_count": 57,
   "id": "popular-strain",
   "metadata": {},
   "outputs": [],
   "source": [
    "for path in all_data:\n",
    "    if path.suffix in need_extention:\n",
    "        need_extention[path.suffix] += 1"
   ]
  },
  {
   "cell_type": "code",
   "execution_count": 58,
   "id": "lined-chrome",
   "metadata": {},
   "outputs": [
    {
     "data": {
      "text/plain": [
       "{'.docx': 1269,\n",
       " '.doc': 300,\n",
       " '.xls': 249,\n",
       " '.xlsx': 1832,\n",
       " '.ppt': 121,\n",
       " '.pptx': 1804,\n",
       " '.pdf': 1043,\n",
       " '.msg': 1440,\n",
       " '.eml': 0}"
      ]
     },
     "execution_count": 58,
     "metadata": {},
     "output_type": "execute_result"
    }
   ],
   "source": [
    "need_extention"
   ]
  },
  {
   "cell_type": "code",
   "execution_count": 59,
   "id": "frozen-salvation",
   "metadata": {},
   "outputs": [],
   "source": [
    "#####a='/Users/rmRM/Desktop/Evgenii/DS/Prod Checkouts.xlsx'\n",
    "#####a in processeddata.paths.values\n",
    "\n",
    "#for path in all_data:\n",
    "#    exists = path in processeddata.paths\n",
    "#    print(path)\n",
    "    #print (processeddata['paths'])\n",
    "    #found = processeddata[processeddata.str.contains(path)]\n",
    "    #if (found>0):\n",
    "    #    print(found.count())"
   ]
  },
  {
   "cell_type": "code",
   "execution_count": 60,
   "id": "judicial-trail",
   "metadata": {},
   "outputs": [],
   "source": [
    "#len(all_data)\n",
    "#remove files that were already processed:\n",
    "#xlsxattributes = pd.read_excel('/Users/rmRM/Desktop/Evgenii/TextExtraction/trainv5Attributes.xlsx')\n",
    "#print(xlsxattributes.shape)\n",
    "#xlsxattributes.head(10)\n",
    "#for row in xlsxattributes.iterrows():\n",
    "#    if 'abc' in str(my_list):\n",
    "#    print (row[1][3])\n",
    "\n",
    "#print (xlsxattributes.paths)\n",
    "#for path in all_data:\n",
    "#    print (path)\n",
    "#    if path in xlsxattributes.paths:\n",
    " #       print (path)\n",
    "#        need_extention[path.suffix] += 1\n"
   ]
  },
  {
   "cell_type": "code",
   "execution_count": 61,
   "id": "lesser-somewhere",
   "metadata": {},
   "outputs": [
    {
     "data": {
      "text/plain": [
       "8058"
      ]
     },
     "execution_count": 61,
     "metadata": {},
     "output_type": "execute_result"
    }
   ],
   "source": [
    "#print (xlsxattributes.paths[0])\n",
    "#print (all_data[4])\n",
    "len(all_data)\n"
   ]
  },
  {
   "cell_type": "code",
   "execution_count": 62,
   "id": "suitable-begin",
   "metadata": {
    "collapsed": true,
    "jupyter": {
     "outputs_hidden": true
    }
   },
   "outputs": [
    {
     "name": "stderr",
     "output_type": "stream",
     "text": [
      "  1%|          | 59/8058 [00:00<00:19, 402.63it/s]"
     ]
    },
    {
     "name": "stdout",
     "output_type": "stream",
     "text": [
      "/Users/rmRM/Desktop/Evgenii/DS/Tier 1 - 4/NGP - Retail/Meetings_Communications/Project Status Meeting Minutes/1. OFX/2015_12_03_OFX Meeting Agenda.docx\n",
      "/Users/rmRM/Desktop/Evgenii/DS/Tier 1 - 4/NGP - Retail/Meetings_Communications/Project Status Meeting Minutes/1. OFX/2015_12_11_NGP_P4_OFX Scope Review.doc\n",
      "/Users/rmRM/Desktop/Evgenii/DS/Tier 1 - 4/NGP - Retail/Meetings_Communications/Project Status Meeting Minutes/1. OFX/2015_12_11_NGP_P4_OFX Scope Review.docx\n",
      "/Users/rmRM/Desktop/Evgenii/DS/Tier 1 - 4/NGP - Retail/Meetings_Communications/Project Status Meeting Minutes/1. OFX/2015_12_18_NGP_P4_OFX .doc\n",
      "/Users/rmRM/Desktop/Evgenii/DS/Tier 1 - 4/NGP - Retail/Meetings_Communications/Project Status Meeting Minutes/1. OFX/2015_12_18_NGP_P4_OFX .docx\n",
      "/Users/rmRM/Desktop/Evgenii/DS/Tier 1 - 4/NGP - Retail/Meetings_Communications/Project Status Meeting Minutes/1. OFX/2015_12_18_NGP_P4_OFX Scope Review.doc\n",
      "/Users/rmRM/Desktop/Evgenii/DS/Tier 1 - 4/NGP - Retail/Meetings_Communications/Project Status Meeting Minutes/1. OFX/2015_12_18_NGP_P4_OFX Scope Review.docx\n",
      "/Users/rmRM/Desktop/Evgenii/DS/Tier 1 - 4/NGP - Retail/Meetings_Communications/Project Status Meeting Minutes/12. JRS/NGP JRS Sessions - Day 1 Meeting Minutes v0.1.docx\n",
      "/Users/rmRM/Desktop/Evgenii/DS/Tier 1 - 4/NGP - Retail/Meetings_Communications/Project Status Meeting Minutes/12. JRS/NGP JRS Sessions - Day 2 Meeting Minutes v0.1.docx\n",
      "/Users/rmRM/Desktop/Evgenii/DS/Tier 1 - 4/NGP - Retail/Meetings_Communications/Project Status Meeting Minutes/12. JRS/NGP JRS Sessions - Day 3 Meeting Minutes v0.1.docx\n",
      "/Users/rmRM/Desktop/Evgenii/DS/Tier 1 - 4/NGP - Retail/Meetings_Communications/Project Status Meeting Minutes/2. Bill Pay/2015_12_17_NGP_P4_Bill Pay Scope Review.doc\n",
      "/Users/rmRM/Desktop/Evgenii/DS/Tier 1 - 4/NGP - Retail/Meetings_Communications/Project Status Meeting Minutes/2. Bill Pay/2015_12_17_NGP_P4_Bill Pay Scope Review.docx\n",
      "/Users/rmRM/Desktop/Evgenii/DS/Tier 1 - 4/NGP - Retail/Meetings_Communications/Project Status Meeting Minutes/2. Bill Pay/2015_12_17_NGP_P4_Bill Pay.doc\n",
      "/Users/rmRM/Desktop/Evgenii/DS/Tier 1 - 4/NGP - Retail/Meetings_Communications/Project Status Meeting Minutes/2. Bill Pay/2015_12_17_NGP_P4_Bill Pay.docx\n",
      "/Users/rmRM/Desktop/Evgenii/DS/Tier 1 - 4/NGP - Retail/Meetings_Communications/Project Status Meeting Minutes/3. Alerts Engine/2015_12_17_NGP_P4_Alerts Minutes.doc\n",
      "/Users/rmRM/Desktop/Evgenii/DS/Tier 1 - 4/NGP - Retail/Meetings_Communications/Project Status Meeting Minutes/3. Alerts Engine/2015_12_17_NGP_P4_Alerts Minutes.docx\n",
      "/Users/rmRM/Desktop/Evgenii/DS/Tier 1 - 4/NGP - Retail/Meetings_Communications/Project Status Meeting Minutes/3. Alerts Engine/2015_12_17_NGP_P4_Alerts.doc\n"
     ]
    },
    {
     "name": "stderr",
     "output_type": "stream",
     "text": [
      "  1%|          | 94/8058 [00:00<00:35, 226.89it/s]"
     ]
    },
    {
     "name": "stdout",
     "output_type": "stream",
     "text": [
      "/Users/rmRM/Desktop/Evgenii/DS/Tier 1 - 4/NGP - Retail/Meetings_Communications/Project Status Meeting Minutes/3. Alerts Engine/2015_12_17_NGP_P4_Alerts.docx\n",
      "/Users/rmRM/Desktop/Evgenii/DS/Tier 1 - 4/NGP - Retail/Meetings_Communications/Project Status Meeting Minutes/4. Authentication/2015_12_02_Authentication Meeting Agenda.doc\n",
      "/Users/rmRM/Desktop/Evgenii/DS/Tier 1 - 4/NGP - Retail/Meetings_Communications/Project Status Meeting Minutes/4. Authentication/2015_12_02_Authentication Meeting Agenda.docx\n",
      "/Users/rmRM/Desktop/Evgenii/DS/Tier 1 - 4/NGP - Retail/Meetings_Communications/Project Status Meeting Minutes/4. Authentication/2015_12_11_NGP_P4_Authentication.doc\n",
      "/Users/rmRM/Desktop/Evgenii/DS/Tier 1 - 4/NGP - Retail/Meetings_Communications/Project Status Meeting Minutes/4. Authentication/2015_12_11_NGP_P4_Authentication.docx\n",
      "/Users/rmRM/Desktop/Evgenii/DS/Tier 1 - 4/NGP - Retail/Meetings_Communications/Project Status Meeting Minutes/4. Authentication/2015_12_18_NGP_P4_Authentication Minutes.doc\n",
      "/Users/rmRM/Desktop/Evgenii/DS/Tier 1 - 4/NGP - Retail/Meetings_Communications/Project Status Meeting Minutes/4. Authentication/2015_12_18_NGP_P4_Authentication Minutes.docx\n",
      "/Users/rmRM/Desktop/Evgenii/DS/Tier 1 - 4/NGP - Retail/Meetings_Communications/Project Status Meeting Minutes/4. Authentication/2015_12_18_NGP_P4_Authentication.doc\n",
      "/Users/rmRM/Desktop/Evgenii/DS/Tier 1 - 4/NGP - Retail/Meetings_Communications/Project Status Meeting Minutes/4. Authentication/2015_12_18_NGP_P4_Authentication.docx\n",
      "/Users/rmRM/Desktop/Evgenii/DS/Tier 1 - 4/NGP - Retail/Meetings_Communications/Project Status Meeting Minutes/7. CAST/2015_12_08_CAST_Meeting Agenda.doc\n",
      "/Users/rmRM/Desktop/Evgenii/DS/Tier 1 - 4/NGP - Retail/Meetings_Communications/Project Status Meeting Minutes/7. CAST/2015_12_08_CAST_Meeting Agenda.docx\n",
      "/Users/rmRM/Desktop/Evgenii/DS/Tier 1 - 4/NGP - Retail/Meetings_Communications/Project Status Meeting Minutes/7. CAST/2015_12_21_CAST_Meeting Minutes.doc\n",
      "/Users/rmRM/Desktop/Evgenii/DS/Tier 1 - 4/NGP - Retail/Meetings_Communications/Project Status Meeting Minutes/7. CAST/2015_12_21_CAST_Meeting Minutes.docx\n",
      "/Users/rmRM/Desktop/Evgenii/DS/Tier 1 - 4/NGP - Retail/Meetings_Communications/Project Status Meeting Minutes/8. Money Movement Engines/2016_01_15_NGP_P4_MME Minutes.doc\n",
      "/Users/rmRM/Desktop/Evgenii/DS/Tier 1 - 4/NGP - Retail/Meetings_Communications/Project Status Meeting Minutes/8. Money Movement Engines/2016_01_15_NGP_P4_MME Minutes.docx\n",
      "/Users/rmRM/Desktop/Evgenii/DS/Tier 1 - 4/NGP - Retail/Meetings_Communications/Project Status Meeting Minutes/Drafts/2015_12_02_Authentication.doc\n",
      "/Users/rmRM/Desktop/Evgenii/DS/Tier 1 - 4/NGP - Retail/Meetings_Communications/Project Status Meeting Minutes/Drafts/2015_12_02_Authentication.docx\n",
      "/Users/rmRM/Desktop/Evgenii/DS/Tier 1 - 4/NGP - Retail/Meetings_Communications/Project Status Meeting Minutes/Final/2015_11_24_Ann Jane Intro.doc\n",
      "/Users/rmRM/Desktop/Evgenii/DS/Tier 1 - 4/NGP - Retail/Meetings_Communications/Project Status Meeting Minutes/Final/2015_11_24_Ann Jane Intro.docx\n",
      "/Users/rmRM/Desktop/Evgenii/DS/Tier 1 - 4/NGP - Retail/Meetings_Communications/Project Status Meeting Minutes/Final/2015_11_30_FISERV Meeting Minutes.docx\n",
      "/Users/rmRM/Desktop/Evgenii/DS/Tier 1 - 4/NGP - Retail/Meetings_Communications/Project Status Meeting Minutes/Final/2015_12_02_Authentication .doc\n",
      "/Users/rmRM/Desktop/Evgenii/DS/Tier 1 - 4/NGP - Retail/Meetings_Communications/Project Status Meeting Minutes/Final/2015_12_02_Authentication .docx\n",
      "/Users/rmRM/Desktop/Evgenii/DS/Tier 1 - 4/NGP - Retail/Meetings_Communications/Project Status Meeting Minutes/Final/2015_12_03_OFX Meeting Minutes.doc\n",
      "/Users/rmRM/Desktop/Evgenii/DS/Tier 1 - 4/NGP - Retail/Meetings_Communications/Project Status Meeting Minutes/Final/2015_12_03_OFX Meeting Minutes.docx\n",
      "/Users/rmRM/Desktop/Evgenii/DS/Tier 1 - 4/NGP - Retail/Meetings_Communications/Project Status Meeting Minutes/Final/2015_12_08_CAST_Meeting Minutes .doc\n",
      "/Users/rmRM/Desktop/Evgenii/DS/Tier 1 - 4/NGP - Retail/Meetings_Communications/Project Status Meeting Minutes/Final/2015_12_08_CAST_Meeting Minutes .docx\n",
      "/Users/rmRM/Desktop/Evgenii/DS/Tier 1 - 4/NGP - Retail/Meetings_Communications/Project Status Meeting Minutes/Final/2015_12_11_NGP_P4_Authentication.doc\n",
      "/Users/rmRM/Desktop/Evgenii/DS/Tier 1 - 4/NGP - Retail/Meetings_Communications/Project Status Meeting Minutes/Final/2015_12_11_NGP_P4_Authentication.docx\n",
      "/Users/rmRM/Desktop/Evgenii/DS/Tier 1 - 4/NGP - Retail/Meetings_Communications/Project Status Meeting Minutes/Final/2015_12_11_NGP_P4_OFX.doc\n",
      "/Users/rmRM/Desktop/Evgenii/DS/Tier 1 - 4/NGP - Retail/Meetings_Communications/Project Status Meeting Minutes/Final/2015_12_11_NGP_P4_OFX.docx\n",
      "/Users/rmRM/Desktop/Evgenii/DS/Tier 1 - 4/NGP - Retail/Meetings_Communications/Project Status Meeting Minutes/Final/2015_12_11_OFX and Fiserv.docx\n"
     ]
    },
    {
     "name": "stderr",
     "output_type": "stream",
     "text": [
      "  2%|▏         | 151/8058 [00:00<00:31, 247.18it/s]"
     ]
    },
    {
     "name": "stdout",
     "output_type": "stream",
     "text": [
      "/Users/rmRM/Desktop/Evgenii/DS/Tier 1 - 4/NGP - Retail/Meetings_Communications/Project Status Meeting Minutes/Final/2015_12_11_OFX_Fiserv.docx\n",
      "/Users/rmRM/Desktop/Evgenii/DS/Tier 1 - 4/NGP - Retail/Meetings_Communications/Project Status Meeting Minutes/Final/2015_12_15_Group Program Meeting.docx\n",
      "/Users/rmRM/Desktop/Evgenii/DS/Tier 1 - 4/NGP - Retail/Meetings_Communications/Project Status Meeting Minutes/Final/2016_07_6_NGP P4 KickOff Meeting.doc\n",
      "/Users/rmRM/Desktop/Evgenii/DS/Tier 1 - 4/NGP - Retail/Meetings_Communications/Project Status Meeting Minutes/Final/2016_07_6_NGP P4 KickOff Meeting.docx\n",
      "/Users/rmRM/Desktop/Evgenii/DS/Tier 1 - 4/NGP - Retail/Meetings_Communications/Weekly Status/2. NGPR/Project NGP-R status USNGP - 2016-05-27.pptx\n",
      "/Users/rmRM/Desktop/Evgenii/DS/Tier 1 - 4/NGP - Retail/Meetings_Communications/Weekly Status/2. NGPR/Project NGP-R status USNGP - 2016-06-03.pptx\n",
      "/Users/rmRM/Desktop/Evgenii/DS/Tier 1 - 4/NGP - Retail/Meetings_Communications/Weekly Status/2. NGPR/Project NGP-R status USNGP - 2016-06-10.pptx\n",
      "/Users/rmRM/Desktop/Evgenii/DS/Tier 1 - 4/NGP - Retail/Meetings_Communications/Weekly Status/2. NGPR/Project NGP-R status USNGP - 2016-06-17.pptx\n",
      "/Users/rmRM/Desktop/Evgenii/DS/Tier 1 - 4/NGP - Retail/Meetings_Communications/Weekly Status/2. NGPR/Project NGP-R status USNGP - 2016-06-24.pptx\n",
      "/Users/rmRM/Desktop/Evgenii/DS/Tier 1 - 4/NGP - Retail/Meetings_Communications/Weekly Status/2. NGPR/Project NGP-R status USNGP - 2016-07-01.pptx\n",
      "/Users/rmRM/Desktop/Evgenii/DS/Tier 1 - 4/NGP - Retail/Meetings_Communications/Weekly Status/2. NGPR/Project NGP-R status USNGP - 2016-07-08.pptx\n",
      "/Users/rmRM/Desktop/Evgenii/DS/Tier 1 - 4/NGP - Retail/Meetings_Communications/Weekly Status/2. NGPR/Project NGP-R status USNGP - 2016-07-15.pptx\n",
      "/Users/rmRM/Desktop/Evgenii/DS/Tier 1 - 4/NGP - Retail/Meetings_Communications/Weekly Status/2. NGPR/Project NGP-R status USNGP - 2016-07-22.pptx\n",
      "/Users/rmRM/Desktop/Evgenii/DS/Tier 1 - 4/NGP - Retail/Meetings_Communications/Weekly Status/2. NGPR/Project NGP-R-S status USNGP_2016-11-18.pptx\n",
      "/Users/rmRM/Desktop/Evgenii/DS/Tier 1 - 4/NGP - Retail/Meetings_Communications/Weekly Status/2. NGPR/Project NGP-R-S status USNGP_2016-11-25.pptx\n",
      "/Users/rmRM/Desktop/Evgenii/DS/Tier 1 - 4/NGP - Retail/Meetings_Communications/Weekly Status/2. NGPR/Project NGP-R-S status USNGP_2016-12-16.pptx\n",
      "/Users/rmRM/Desktop/Evgenii/DS/Tier 1 - 4/NGP - Retail/Meetings_Communications/Weekly Status/2. NGPR/Project NGP-R-S status USNGP_2016-12-2.pptx\n",
      "/Users/rmRM/Desktop/Evgenii/DS/Tier 1 - 4/NGP - Retail/Meetings_Communications/Weekly Status/2. NGPR/Project NGP-R-S status USNGP_2016-12-23.pptx\n",
      "/Users/rmRM/Desktop/Evgenii/DS/Tier 1 - 4/NGP - Retail/Meetings_Communications/Weekly Status/2. NGPR/Project NGP-R-S status USNGP_2016-12-30.pptx\n",
      "/Users/rmRM/Desktop/Evgenii/DS/Tier 1 - 4/NGP - Retail/Meetings_Communications/Weekly Status/2. NGPR/Project NGP-R-S status USNGP_2016-12-9.pptx\n",
      "/Users/rmRM/Desktop/Evgenii/DS/Tier 1 - 4/NGP - Retail/Meetings_Communications/Weekly Status/2. NGPR/Project NGP-R-S status USNGP_2017-01-06.pptx\n",
      "/Users/rmRM/Desktop/Evgenii/DS/Tier 1 - 4/NGP - Retail/Meetings_Communications/Weekly Status/2. NGPR/Project NGP-R-S status USNGP_2017-01-13.pptx\n",
      "/Users/rmRM/Desktop/Evgenii/DS/Tier 1 - 4/NGP - Retail/Meetings_Communications/Weekly Status/2. NGPR/Status Report_01_13_2017.pptx\n",
      "/Users/rmRM/Desktop/Evgenii/DS/Tier 1 - 4/NGP - Retail/Meetings_Communications/Weekly Status/2. NGPR/Status Report_01_20_2017.pptx\n",
      "/Users/rmRM/Desktop/Evgenii/DS/Tier 1 - 4/NGP - Retail/Meetings_Communications/Weekly Status/2. NGPR/Status Report_01_27_2017.pptx\n",
      "/Users/rmRM/Desktop/Evgenii/DS/Tier 1 - 4/NGP - Retail/Meetings_Communications/Weekly Status/2. NGPR/Status Report_02_03_2017.pptx\n",
      "/Users/rmRM/Desktop/Evgenii/DS/Tier 1 - 4/NGP - Retail/Meetings_Communications/Weekly Status/2. NGPR/Status Report_02_10_2017.pptx\n",
      "/Users/rmRM/Desktop/Evgenii/DS/Tier 1 - 4/NGP - Retail/Meetings_Communications/Weekly Status/2. NGPR/Status Report_02_17_2017.pptx\n",
      "/Users/rmRM/Desktop/Evgenii/DS/Tier 1 - 4/NGP - Retail/Meetings_Communications/Weekly Status/2. NGPR/Status Report_02_24_2017.pptx\n",
      "/Users/rmRM/Desktop/Evgenii/DS/Tier 1 - 4/NGP - Retail/Meetings_Communications/Weekly Status/2. NGPR/Status Report_03_03_2017.pptx\n",
      "/Users/rmRM/Desktop/Evgenii/DS/Tier 1 - 4/NGP - Retail/Meetings_Communications/Weekly Status/2. NGPR/Status Report_03_10_2017.pptx\n",
      "/Users/rmRM/Desktop/Evgenii/DS/Tier 1 - 4/NGP - Retail/Meetings_Communications/Weekly Status/2. NGPR/Status Report_03_17_2017.pptx\n",
      "/Users/rmRM/Desktop/Evgenii/DS/Tier 1 - 4/NGP - Retail/Meetings_Communications/Weekly Status/2. NGPR/Status Report_03_17_2017pptx.pptx\n",
      "/Users/rmRM/Desktop/Evgenii/DS/Tier 1 - 4/NGP - Retail/Meetings_Communications/Weekly Status/2. NGPR/Status Report_03_24_2017pptx.pptx\n",
      "/Users/rmRM/Desktop/Evgenii/DS/Tier 1 - 4/NGP - Retail/Meetings_Communications/Weekly Status/2. NGPR/Status Report_03_31_2017pptx.pptx\n",
      "/Users/rmRM/Desktop/Evgenii/DS/Tier 1 - 4/NGP - Retail/Meetings_Communications/Weekly Status/2. NGPR/Status Report_04_07_2017pptx.pptx\n",
      "/Users/rmRM/Desktop/Evgenii/DS/Tier 1 - 4/NGP - Retail/Meetings_Communications/Weekly Status/2. NGPR/Status Report_04_14_2017pptx.pptx\n",
      "/Users/rmRM/Desktop/Evgenii/DS/Tier 1 - 4/NGP - Retail/Meetings_Communications/Weekly Status/2. NGPR/Status Report_04_21_2017pptx.pptx\n",
      "/Users/rmRM/Desktop/Evgenii/DS/Tier 1 - 4/NGP - Retail/Meetings_Communications/Weekly Status/2. NGPR/Status Report_04_28_2017pptx.pptx\n",
      "/Users/rmRM/Desktop/Evgenii/DS/Tier 1 - 4/NGP - Retail/Meetings_Communications/Weekly Status/2. NGPR/Status Report_05_05_2017pptx.pptx\n",
      "/Users/rmRM/Desktop/Evgenii/DS/Tier 1 - 4/NGP - Retail/Meetings_Communications/Weekly Status/2. NGPR/Status Report_05_12_2017pptx.pptx\n",
      "/Users/rmRM/Desktop/Evgenii/DS/Tier 1 - 4/NGP - Retail/Meetings_Communications/Weekly Status/2. NGPR/Status Report_05_19_2017pptx.pptx\n",
      "/Users/rmRM/Desktop/Evgenii/DS/Tier 1 - 4/NGP - Retail/Meetings_Communications/Weekly Status/2. NGPR/Status Report_05_26_2017pptx.pptx\n",
      "/Users/rmRM/Desktop/Evgenii/DS/Tier 1 - 4/NGP - Retail/Meetings_Communications/Weekly Status/2. NGPR/Status Report_06_02_2017pptx.pptx\n",
      "/Users/rmRM/Desktop/Evgenii/DS/Tier 1 - 4/NGP - Retail/Meetings_Communications/Weekly Status/2. NGPR/Status Report_06_09_2017pptx.pptx\n",
      "/Users/rmRM/Desktop/Evgenii/DS/Tier 1 - 4/NGP - Retail/Meetings_Communications/Weekly Status/2. NGPR/Status Report_06_16_2017pptx.pptx\n",
      "/Users/rmRM/Desktop/Evgenii/DS/Tier 1 - 4/NGP - Retail/Meetings_Communications/Weekly Status/2. NGPR/Status Report_06_23_2017pptx.pptx\n",
      "/Users/rmRM/Desktop/Evgenii/DS/Tier 1 - 4/NGP - Retail/Meetings_Communications/Weekly Status/2. NGPR/Status Report_06_30_2017pptx.pptx\n",
      "/Users/rmRM/Desktop/Evgenii/DS/Tier 1 - 4/NGP - Retail/Meetings_Communications/Weekly Status/2. NGPR/Status Report_07_07_2017Upptx.pptx\n",
      "/Users/rmRM/Desktop/Evgenii/DS/Tier 1 - 4/NGP - Retail/Meetings_Communications/Weekly Status/2. NGPR/Status Report_07_07_2017pptx.pptx\n",
      "/Users/rmRM/Desktop/Evgenii/DS/Tier 1 - 4/NGP - Retail/Meetings_Communications/Weekly Status/2. NGPR/Status Report_07_14_2017pptx.pptx\n",
      "/Users/rmRM/Desktop/Evgenii/DS/Tier 1 - 4/NGP - Retail/Meetings_Communications/Weekly Status/3. NGP P4/NGP – P4 Status.pptx\n",
      "/Users/rmRM/Desktop/Evgenii/DS/Tier 1 - 4/NGP - Retail/Meetings_Communications/Weekly Status/3. NGP P4/P4 remains green but still trending yellow.docx\n",
      "/Users/rmRM/Desktop/Evgenii/DS/Tier 1 - 4/NGP - Retail/Meetings_Communications/Weekly Status/3. NGP P4/Project NGP P4 status USNGP - 2016-03-11.pptx\n",
      "/Users/rmRM/Desktop/Evgenii/DS/Tier 1 - 4/NGP - Retail/Meetings_Communications/Weekly Status/3. NGP P4/Project NGP P4 status USNGP - 2016-03-18.pptx\n",
      "/Users/rmRM/Desktop/Evgenii/DS/Tier 1 - 4/NGP - Retail/Meetings_Communications/Weekly Status/3. NGP P4/Project NGP P4 status USNGP - 2016-03-25.pptx\n",
      "/Users/rmRM/Desktop/Evgenii/DS/Tier 1 - 4/NGP - Retail/Meetings_Communications/Weekly Status/3. NGP P4/Project NGP P4 status USNGP - 2016-04-01.pptx\n",
      "/Users/rmRM/Desktop/Evgenii/DS/Tier 1 - 4/NGP - Retail/Meetings_Communications/Weekly Status/3. NGP P4/Project NGP P4 status USNGP - 2016-04-08.pptx\n",
      "/Users/rmRM/Desktop/Evgenii/DS/Tier 1 - 4/NGP - Retail/Meetings_Communications/Weekly Status/3. NGP P4/Project NGP P4 status USNGP - 2016-04-15.pptx\n",
      "/Users/rmRM/Desktop/Evgenii/DS/Tier 1 - 4/NGP - Retail/Meetings_Communications/Weekly Status/3. NGP P4/Project NGP P4 status USNGP - 2016-04-22.pptx\n",
      "/Users/rmRM/Desktop/Evgenii/DS/Tier 1 - 4/NGP - Retail/Meetings_Communications/Weekly Status/3. NGP P4/Project NGP P4 status USNGP - 2016-04-29.pptx\n",
      "/Users/rmRM/Desktop/Evgenii/DS/Tier 1 - 4/NGP - Retail/Meetings_Communications/Weekly Status/3. NGP P4/Project NGP P4 status USNGP - 2016-05-06.pptx\n",
      "/Users/rmRM/Desktop/Evgenii/DS/Tier 1 - 4/NGP - Retail/Meetings_Communications/Weekly Status/3. NGP P4/Project NGP P4 status USNGP - 2016-05-13.pptx\n",
      "/Users/rmRM/Desktop/Evgenii/DS/Tier 1 - 4/NGP - Retail/Meetings_Communications/Weekly Status/3. NGP P4/Project NGP P4 status USNGP - 2016-05-20.pptx\n",
      "/Users/rmRM/Desktop/Evgenii/DS/Tier 1 - 4/NGP - Retail/Meetings_Communications/Weekly Status/3. NGP P4/Project NGP P4 status USNGP - 2016_05_06.pptx\n"
     ]
    },
    {
     "name": "stderr",
     "output_type": "stream",
     "text": [
      "  2%|▏         | 189/8058 [00:00<00:32, 244.49it/s]"
     ]
    },
    {
     "name": "stdout",
     "output_type": "stream",
     "text": [
      "/Users/rmRM/Desktop/Evgenii/DS/Tier 1 - 4/NGP - Retail/Project Control Artifacts/Change Strategy/Archive/Change_Strategy.pptx\n",
      "/Users/rmRM/Desktop/Evgenii/DS/Tier 1 - 4/NGP - Retail/Project Control Artifacts/Change Strategy/Archive/NGPR_Change Strategy_DRAFT v0.2.pptx\n",
      "/Users/rmRM/Desktop/Evgenii/DS/Tier 1 - 4/NGP - Retail/Project Control Artifacts/Change Strategy/Archive/NGPS_Change Strategy_DRAFT v0.2.pptx\n",
      "/Users/rmRM/Desktop/Evgenii/DS/Tier 1 - 4/NGP - Retail/Project Control Artifacts/NGP Retail Launch - Residual Risk Log/Residual Risk Log - NGP Retail - 20171017.xls\n",
      "/Users/rmRM/Desktop/Evgenii/DS/Tier 1 - 4/NGP - Retail/Project Control Artifacts/NGP Retail Launch - Residual Risk Log/Residual Risk Log - NGP Retail - 20171017.xlsx\n",
      "/Users/rmRM/Desktop/Evgenii/DS/Tier 1 - 4/NGP - Retail/Project Control Artifacts/PCR/PCR 32 - OFX/NGP R_S Phase 1 OFX Analytics Reporting Requirements Definitions.xlsx\n",
      "/Users/rmRM/Desktop/Evgenii/DS/Tier 1 - 4/NGP - Retail/Project Control Artifacts/PCR/PCR 32 - OFX/OFX EEI-May2016 Kickoff.pptx\n",
      "/Users/rmRM/Desktop/Evgenii/DS/Tier 1 - 4/NGP - Retail/Project Control Artifacts/PCR/PCR 36 - Tablet App-Universal App/NGP - Scope Definition - Universal App - Tablet_.pptx\n",
      "/Users/rmRM/Desktop/Evgenii/DS/Tier 1 - 4/NGP - Retail/Project Control Artifacts/PCR/PCR 36 - Tablet App-Universal App/NGP Tablet Project 2 Web vs Native.pptx\n",
      "/Users/rmRM/Desktop/Evgenii/DS/Tier 1 - 4/NGP - Retail/Project Control Artifacts/PCR/PCR 36 - Tablet App-Universal App/NGP Universal App Risks.pptx\n",
      "/Users/rmRM/Desktop/Evgenii/DS/Tier 1 - 4/NGP - Retail/Project Control Artifacts/PCR/PCR 36 - Tablet App-Universal App/PCR 36 Tech Questions-Bus Responses.docx\n",
      "/Users/rmRM/Desktop/Evgenii/DS/Tier 1 - 4/NGP - Retail/Project Control Artifacts/PCR/PCR 38 - Torrey Pines/BudgetSheet_TPBrowser.xls\n"
     ]
    },
    {
     "name": "stderr",
     "output_type": "stream",
     "text": [
      "  3%|▎         | 250/8058 [00:01<00:53, 147.29it/s]"
     ]
    },
    {
     "name": "stdout",
     "output_type": "stream",
     "text": [
      "/Users/rmRM/Desktop/Evgenii/DS/Tier 1 - 4/NGP - Retail/Project Control Artifacts/PCR/PCR 38 - Torrey Pines/BudgetSheet_TPBrowser.xlsx\n",
      "/Users/rmRM/Desktop/Evgenii/DS/Tier 1 - 4/NGP - Retail/Project Control Artifacts/PCR/PCR 38 - Torrey Pines/NGP-Torrey Pines NGP Browser ProjectChangeRequest.doc\n",
      "/Users/rmRM/Desktop/Evgenii/DS/Tier 1 - 4/NGP - Retail/Project Control Artifacts/PCR/PCR 38 - Torrey Pines/NGP-Torrey Pines NGP Browser ProjectChangeRequest.docx\n",
      "/Users/rmRM/Desktop/Evgenii/DS/Tier 1 - 4/NGP - Retail/Project Control Artifacts/PCR/PCR 38 - Torrey Pines/TD Bank RIB Torrey Pines Design Document Version 1.2 Updated.docx\n",
      "/Users/rmRM/Desktop/Evgenii/DS/Tier 1 - 4/NGP - Retail/Project Control Artifacts/PCR/PCR 38 - Torrey Pines/Torrey Pines Digital Phase 1 Requirements Package.v0.20.docx\n",
      "/Users/rmRM/Desktop/Evgenii/DS/Tier 1 - 4/NGP - Retail/Project Control Artifacts/PCR/PCR 38 - Torrey Pines/Torrey Pines Digital Phase 1 Requirements Package.v0.23docx_draft2.docx\n",
      "/Users/rmRM/Desktop/Evgenii/DS/Tier 1 - 4/NGP - Retail/Project Control Artifacts/PCR/PCR 38 - Torrey Pines/Torrey Pines NGP Browser PCR_Tech04282016.xlsx\n",
      "/Users/rmRM/Desktop/Evgenii/DS/Tier 1 - 4/NGP - Retail/Project Control Artifacts/PCR/PCR 45_Universal App Scope Update/CTS ROM NGP Tablet 2016-03-28 (3).pptx\n",
      "/Users/rmRM/Desktop/Evgenii/DS/Tier 1 - 4/NGP - Retail/Project Control Artifacts/PCR/PCR 45_Universal App Scope Update/PCR 45_Universal App Scope Updates.xlsx\n",
      "/Users/rmRM/Desktop/Evgenii/DS/Tier 1 - 4/NGP - Retail/Project Control Artifacts/PCR/PCR 45_Universal App Scope Update/Universal App NGP Master_DCX_ 060216.pptx\n",
      "/Users/rmRM/Desktop/Evgenii/DS/Tier 1 - 4/NGP - Retail/Project Control Artifacts/Project Risk Documentation/PIA_IRA/Copy of Privacy_Impact_Assessment_Tool.xlsx\n",
      "/Users/rmRM/Desktop/Evgenii/DS/Tier 1 - 4/NGP - Retail/Project Control Artifacts/Project Risk Documentation/PIA_IRA/NGPR_PRA_2016_06_17.xlsx\n",
      "/Users/rmRM/Desktop/Evgenii/DS/Tier 1 - 4/NGP - Retail/Project Control Artifacts/TRMIS/NGP EEI TRMIS Engagement Questionnaire (TEQ) v1 0.doc\n",
      "/Users/rmRM/Desktop/Evgenii/DS/Tier 1 - 4/NGP - Retail/Project Control Artifacts/TRMIS/NGP EEI TRMIS Engagement Questionnaire (TEQ) v1 0.docx\n",
      "/Users/rmRM/Desktop/Evgenii/DS/Tier 1 - 4/NGP - Retail/Project Control Artifacts/Vendor Management/NGP OFX SSG Exception_Form 2015 12 02.xls\n",
      "/Users/rmRM/Desktop/Evgenii/DS/Tier 1 - 4/NGP - Retail/Project Control Artifacts/Vendor Management/NGP OFX SSG Exception_Form 2015 12 02.xlsx\n",
      "/Users/rmRM/Desktop/Evgenii/DS/Tier 1 - 4/NGP - Retail/Scope_Requirements Management/Design Document(MCD_Visual)/Empty State - Upsell - browser versions/SP-TR_NGP RS - Empty State Upsell MCD 2017_0202_es.docx\n",
      "/Users/rmRM/Desktop/Evgenii/DS/Tier 1 - 4/NGP - Retail/Scope_Requirements Management/Design Document(MCD_Visual)/NGP R-S MCDs - P3 i10-i12 2017/SP2-TR_NGP MCD_P3_I11_Prods-StmtSetting-Etc_v4g_2017_0323_es.docx\n",
      "/Users/rmRM/Desktop/Evgenii/DS/Tier 1 - 4/NGP - Retail/Scope_Requirements Management/Design Document(MCD_Visual)/NGP R-S MCDs - P3 i10-i12 2017/SP2-TR_NGP MCD_P3_I12_v3b JDH - 2017_0119 KT_es.docx\n",
      "/Users/rmRM/Desktop/Evgenii/DS/Tier 1 - 4/NGP - Retail/Scope_Requirements Management/Design Document(MCD_Visual)/NGP R-S MCDs - P3 i10-i12 2017/SP2-TR_NGP MCD_P3_I13_MCD v03b - BillPay A2A P2P_2017_0223_es.docx\n",
      "/Users/rmRM/Desktop/Evgenii/DS/Tier 1 - 4/NGP - Retail/Scope_Requirements Management/Design Document(MCD_Visual)/i2-1_OTP/SP-TR_NGP_RS i9 MCD - i2-i9 OTP v0.6e 2017_04010_eng-es.docx\n",
      "/Users/rmRM/Desktop/Evgenii/DS/Tier 1 - 4/NGP - Retail/Scope_Requirements Management/Requirements Package/Approval/NGP Artifact Review Minutes July 25 2016 - Conditional Approval.docx\n",
      "/Users/rmRM/Desktop/Evgenii/DS/Tier 1 - 4/NGP - Retail/Scope_Requirements Management/Requirements Package/Approval/NGP Artifact Review Minutes July 25 2017 - Retail Final Bus Req Signoff.docx\n",
      "/Users/rmRM/Desktop/Evgenii/DS/Tier 1 - 4/NGP - Retail/Scope_Requirements Management/Requirements Package/Approval/NGP SB Final Bus Reqs Review Sessions_20170719_vF.docx\n",
      "/Users/rmRM/Desktop/Evgenii/DS/Tier 1 - 4/NGP - Retail/Scope_Requirements Management/Requirements Package/Approval/NGP-R Final Bus Reqs Review Session 1_20170512_vF.docx\n",
      "/Users/rmRM/Desktop/Evgenii/DS/Tier 1 - 4/NGP - Retail/Scope_Requirements Management/Requirements Package/Approval/NGP-R Final Bus Reqs Review Session 2_20170525_vF.docx\n",
      "/Users/rmRM/Desktop/Evgenii/DS/Tier 1 - 4/NGP - Retail/Scope_Requirements Management/Requirements Package/Approval/NGP-R Final Bus Reqs Review Session 3_20170531_vF.docx\n",
      "/Users/rmRM/Desktop/Evgenii/DS/Tier 1 - 4/NGP - Retail/Scope_Requirements Management/Requirements Package/Archive/NGP_R-S_Account_Transactions_CRD_v7.01.docx\n",
      "/Users/rmRM/Desktop/Evgenii/DS/Tier 1 - 4/NGP - Retail/Scope_Requirements Management/Requirements Package/Archive/NGP_R-S_Account_Transactions_CRD_v7.02.docx\n",
      "/Users/rmRM/Desktop/Evgenii/DS/Tier 1 - 4/NGP - Retail/Scope_Requirements Management/Requirements Package/Archive/NGP_R-S_Customer_Service_CRD_v_7 01.docx\n",
      "/Users/rmRM/Desktop/Evgenii/DS/Tier 1 - 4/NGP - Retail/Scope_Requirements Management/Requirements Package/Archive/NGP_R-S_Customer_Service_CRD_v_7 04.docx\n",
      "/Users/rmRM/Desktop/Evgenii/DS/Tier 1 - 4/NGP - Retail/Scope_Requirements Management/Requirements Package/Archive/NGP_R-S_Customer_Service_CRD_v_7 06.docx\n",
      "/Users/rmRM/Desktop/Evgenii/DS/Tier 1 - 4/NGP - Retail/Scope_Requirements Management/Requirements Package/Archive/NGP_R-S_Customer_Service_CRD_v_7.02.docx\n",
      "/Users/rmRM/Desktop/Evgenii/DS/Tier 1 - 4/NGP - Retail/Scope_Requirements Management/Requirements Package/Archive/NGP_R-S_Customer_Service_CRD_v_7.05.docx\n",
      "/Users/rmRM/Desktop/Evgenii/DS/Tier 1 - 4/NGP - Retail/Scope_Requirements Management/Requirements Package/Archive/NGP_R-S_Email_Alerts_CRD_v7.0.docx\n"
     ]
    },
    {
     "name": "stderr",
     "output_type": "stream",
     "text": [
      "  4%|▍         | 313/8058 [00:01<00:40, 190.70it/s]"
     ]
    },
    {
     "name": "stdout",
     "output_type": "stream",
     "text": [
      "/Users/rmRM/Desktop/Evgenii/DS/Tier 1 - 4/NGP - Retail/Scope_Requirements Management/Requirements Package/Archive/NGP_R-S_Email_Alerts_CRD_v7.01.docx\n",
      "/Users/rmRM/Desktop/Evgenii/DS/Tier 1 - 4/NGP - Retail/Scope_Requirements Management/Requirements Package/Archive/NGP_R-S_Email_Alerts_CRD_v7.02.docx\n",
      "/Users/rmRM/Desktop/Evgenii/DS/Tier 1 - 4/NGP - Retail/Scope_Requirements Management/Requirements Package/Archive/NGP_R-S_Financial_Transactions_CRD_v7.00.docx\n",
      "/Users/rmRM/Desktop/Evgenii/DS/Tier 1 - 4/NGP - Retail/Scope_Requirements Management/Requirements Package/Archive/NGP_R-S_Financial_Transactions_CRD_v7.01.docx\n",
      "/Users/rmRM/Desktop/Evgenii/DS/Tier 1 - 4/NGP - Retail/Scope_Requirements Management/Requirements Package/Archive/NGP_R-S_Financial_Transactions_CRD_v7.02.docx\n",
      "/Users/rmRM/Desktop/Evgenii/DS/Tier 1 - 4/NGP - Retail/Scope_Requirements Management/Requirements Package/Archive/NGP_R-S_MasterRequirementsDocument_V7.00.docx\n",
      "/Users/rmRM/Desktop/Evgenii/DS/Tier 1 - 4/NGP - Retail/Scope_Requirements Management/Requirements Package/Archive/NGP_R-S_MasterRequirementsDocument_V7.01.docx\n",
      "/Users/rmRM/Desktop/Evgenii/DS/Tier 1 - 4/NGP - Retail/Scope_Requirements Management/Requirements Package/Archive/NGP_R-S_MasterRequirementsDocument_V7.02.docx\n",
      "/Users/rmRM/Desktop/Evgenii/DS/Tier 1 - 4/NGP - Retail/Scope_Requirements Management/Requirements Package/Archive/NGP_R-S_MasterRequirementsDocument_V7.03.docx\n",
      "/Users/rmRM/Desktop/Evgenii/DS/Tier 1 - 4/NGP - Retail/Scope_Requirements Management/Requirements Package/Archive/NGP_R-S_OFX_BRD_v1.01.docx\n",
      "/Users/rmRM/Desktop/Evgenii/DS/Tier 1 - 4/NGP - Retail/Scope_Requirements Management/Requirements Package/Archive/NGP_R-S_RM_Admin_BRD_v2.0.docx\n",
      "/Users/rmRM/Desktop/Evgenii/DS/Tier 1 - 4/NGP - Retail/Scope_Requirements Management/Requirements Package/Archive/NGP_R-S_RM_Admin_BRD_v2.04.docx\n",
      "/Users/rmRM/Desktop/Evgenii/DS/Tier 1 - 4/NGP - Retail/Scope_Requirements Management/Requirements Package/Archive/NGP_R-S_RM_Admin_BRD_v2.05.docx\n",
      "/Users/rmRM/Desktop/Evgenii/DS/Tier 1 - 4/NGP - Retail/Scope_Requirements Management/Requirements Package/Archive/NGP_R-S_RM_Admin_BRD_v2.06.docx\n",
      "/Users/rmRM/Desktop/Evgenii/DS/Tier 1 - 4/NGP - Retail/Scope_Requirements Management/Requirements Package/Archive/NGP_R-S_RM_Admin_BRD_v2.07.docx\n",
      "/Users/rmRM/Desktop/Evgenii/DS/Tier 1 - 4/NGP - Retail/Scope_Requirements Management/Requirements Package/Archive/NGP_R-S_RM_Admin_BRD_v2.07a.docx\n",
      "/Users/rmRM/Desktop/Evgenii/DS/Tier 1 - 4/NGP - Retail/Scope_Requirements Management/Requirements Package/Archive/NGP_R-S_RM_Admin_BRD_v2.07b.docx\n",
      "/Users/rmRM/Desktop/Evgenii/DS/Tier 1 - 4/NGP - Retail/Scope_Requirements Management/Requirements Package/Archive/NGP_R-S_RM_Admin_BRD_v2.08.docx\n",
      "/Users/rmRM/Desktop/Evgenii/DS/Tier 1 - 4/NGP - Retail/Scope_Requirements Management/Requirements Package/Archive/NGP_R-S_RM_Admin_BRD_v2.09.docx\n",
      "/Users/rmRM/Desktop/Evgenii/DS/Tier 1 - 4/NGP - Retail/Scope_Requirements Management/Requirements Package/Archive/NGP_R-S_RM_Admin_BRD_v2.10.docx\n",
      "/Users/rmRM/Desktop/Evgenii/DS/Tier 1 - 4/NGP - Retail/Scope_Requirements Management/Requirements Package/Archive/NGP_R-S_RM_Admin_BRD_v2.11.docx\n",
      "/Users/rmRM/Desktop/Evgenii/DS/Tier 1 - 4/NGP - Retail/Scope_Requirements Management/Requirements Package/Archive/NGP_R-S_RM_Admin_BRD_v2.12.docx\n",
      "/Users/rmRM/Desktop/Evgenii/DS/Tier 1 - 4/NGP - Retail/Scope_Requirements Management/Requirements Package/Archive/NGP_R-S_User_Authentication_CRD_v7.08.docx\n",
      "/Users/rmRM/Desktop/Evgenii/DS/Tier 1 - 4/NGP - Retail/Scope_Requirements Management/Requirements Package/Archive/NGP_R-S_User_Authentication_CRD_v7.09.docx\n",
      "/Users/rmRM/Desktop/Evgenii/DS/Tier 1 - 4/NGP - Retail/Scope_Requirements Management/Requirements Package/Archive/NGP_R-S_User_Authentication_CRD_v7.12.docx\n",
      "/Users/rmRM/Desktop/Evgenii/DS/Tier 1 - 4/NGP - Retail/Scope_Requirements Management/Requirements Package/Archive/NGP_R-S_User_Authentication_CRD_v7.13.docx\n",
      "/Users/rmRM/Desktop/Evgenii/DS/Tier 1 - 4/NGP - Retail/Scope_Requirements Management/Requirements Package/Archive/NGP_R-S_User_Authentication_CRD_v7.14.docx\n",
      "/Users/rmRM/Desktop/Evgenii/DS/Tier 1 - 4/NGP - Retail/Scope_Requirements Management/Requirements Package/Archive/NGP_R-S_User_Authentication_CRD_v7.15.docx\n",
      "/Users/rmRM/Desktop/Evgenii/DS/Tier 1 - 4/NGP - Retail/Scope_Requirements Management/Requirements Package/Archive/NGP_R-S_User_Authentication_CRD_v7.16.docx\n",
      "/Users/rmRM/Desktop/Evgenii/DS/Tier 1 - 4/NGP - Retail/Scope_Requirements Management/Requirements Package/Archive/NGP_S_ACH_Wires_BRD_v2.20.docx\n",
      "/Users/rmRM/Desktop/Evgenii/DS/Tier 1 - 4/NGP - Retail/Scope_Requirements Management/Requirements Package/Archive/NGP_S_Entitlements_BRD_v2.11.docx\n",
      "/Users/rmRM/Desktop/Evgenii/DS/Tier 1 - 4/NGP - Retail/Scope_Requirements Management/Requirements Package/IAD_Log_NGP-R_S_BA.xls\n"
     ]
    },
    {
     "name": "stderr",
     "output_type": "stream",
     "text": [
      "  4%|▍         | 346/8058 [00:03<03:05, 41.57it/s] "
     ]
    },
    {
     "name": "stdout",
     "output_type": "stream",
     "text": [
      "/Users/rmRM/Desktop/Evgenii/DS/Tier 1 - 4/NGP - Retail/Scope_Requirements Management/Requirements Package/IAD_Log_NGP-R_S_BA.xlsx\n",
      "/Users/rmRM/Desktop/Evgenii/DS/Tier 1 - 4/NGP - Retail/Scope_Requirements Management/Requirements Package/IT BA Working Folder/NGP_S_Entitlements_BRD_Reviewed_v2.08.docx\n",
      "/Users/rmRM/Desktop/Evgenii/DS/Tier 1 - 4/NGP - Retail/Scope_Requirements Management/Testing Documentation - Retail Launch/CTS_QA_Digital_Closure_NGP RS_PAT_Summary_Report_V0.1.doc\n",
      "/Users/rmRM/Desktop/Evgenii/DS/Tier 1 - 4/NGP - Retail/Scope_Requirements Management/Testing Documentation - Retail Launch/CTS_QA_Digital_Closure_NGP RS_PAT_Summary_Report_V0.1.docx\n",
      "/Users/rmRM/Desktop/Evgenii/DS/Tier 1 - 4/NGP - Retail/Scope_Requirements Management/Testing Documentation - Retail Launch/CTS_QA_Digital_Closure_NGP RS_SIT_Summary_Report_V0.3.doc\n",
      "/Users/rmRM/Desktop/Evgenii/DS/Tier 1 - 4/NGP - Retail/Scope_Requirements Management/Testing Documentation - Retail Launch/CTS_QA_Digital_Closure_NGP RS_SIT_Summary_Report_V0.3.docx\n"
     ]
    },
    {
     "name": "stderr",
     "output_type": "stream",
     "text": [
      "  6%|▌         | 446/8058 [00:04<01:46, 71.80it/s]"
     ]
    },
    {
     "name": "stdout",
     "output_type": "stream",
     "text": [
      "/Users/rmRM/Desktop/Evgenii/DS/Tier 1 - 4/NGP - Retail/Transition Folder for Ken/AppSimulator/NGP App Simulator now updated with US Omni Dial.msg\n",
      "/Users/rmRM/Desktop/Evgenii/DS/Tier 1 - 4/NGP - Retail/Transition Folder for Ken/DCX Req Assessment/Wires Summary_8.17.doc\n",
      "/Users/rmRM/Desktop/Evgenii/DS/Tier 1 - 4/NGP - Retail/Transition Folder for Ken/DCX Req Assessment/Wires Summary_8.17.docx\n",
      "/Users/rmRM/Desktop/Evgenii/DS/Tier 1 - 4/NGP - Retail/Transition Folder for Ken/SolSearcher PCR68/RE  Review of PCR 68 - SolSearcher Business Requirements 1 17.msg\n",
      "/Users/rmRM/Desktop/Evgenii/DS/Tier 1 - 4/NGP - Retail/Transition Folder for Ken/SolSearcher PCR68/RE  Review the Biz Requirements for Multi Segmented Statements.msg\n",
      "/Users/rmRM/Desktop/Evgenii/DS/Tier 1 - 4/TB-14-76_NGP Prgrm_N/1. Prog. Definition/BAT - Program Testing Strategy/1.0 Final and Approvals/NGP_Overall_QA_Strategy_v1 2.doc\n",
      "/Users/rmRM/Desktop/Evgenii/DS/Tier 1 - 4/TB-14-76_NGP Prgrm_N/1. Prog. Definition/BAT - Program Testing Strategy/1.0 Final and Approvals/NGP_Overall_QA_Strategy_v1 2.docx\n",
      "/Users/rmRM/Desktop/Evgenii/DS/Tier 1 - 4/TB-14-76_NGP Prgrm_N/1. Prog. Definition/BAT - Program Testing Strategy/1.0 Final and Approvals/NGP_Project_RS_Test_Plan_V1.1.doc\n"
     ]
    },
    {
     "name": "stderr",
     "output_type": "stream",
     "text": [
      "  7%|▋         | 561/8058 [00:04<01:15, 99.44it/s]"
     ]
    },
    {
     "name": "stdout",
     "output_type": "stream",
     "text": [
      "/Users/rmRM/Desktop/Evgenii/DS/Tier 1 - 4/TB-14-76_NGP Prgrm_N/1. Prog. Definition/BAT - Program Testing Strategy/1.0 Final and Approvals/NGP_Project_RS_Test_Plan_V1.1.docx\n",
      "/Users/rmRM/Desktop/Evgenii/DS/Tier 1 - 4/TB-14-76_NGP Prgrm_N/1. Prog. Definition/BAT - Program Testing Strategy/2.0 WIP/NGP_Overall_QA_Strategy_v1 1.doc\n",
      "/Users/rmRM/Desktop/Evgenii/DS/Tier 1 - 4/TB-14-76_NGP Prgrm_N/1. Prog. Definition/BAT - Program Testing Strategy/2.0 WIP/NGP_Overall_QA_Strategy_v1 1.docx\n",
      "/Users/rmRM/Desktop/Evgenii/DS/Tier 1 - 4/TB-14-76_NGP Prgrm_N/1. Prog. Definition/OCM - Change Strategy/1.0 Final and Approvals/NGP_Chnge Strat_Program docx.docx\n",
      "/Users/rmRM/Desktop/Evgenii/DS/Tier 1 - 4/TB-14-76_NGP Prgrm_N/1. Prog. Definition/OCM - Change Strategy/2.0 WIP/NGP Change_Strategy Sept 3.pptx\n",
      "/Users/rmRM/Desktop/Evgenii/DS/Tier 1 - 4/TB-14-76_NGP Prgrm_N/1. Prog. Definition/OCM - Change Strategy/2.0 WIP/NGP Project 1 ChangeAssessment.docx\n",
      "/Users/rmRM/Desktop/Evgenii/DS/Tier 1 - 4/TB-14-76_NGP Prgrm_N/1. Prog. Definition/OCM - Change Strategy/2.0 WIP/OCM_ChangeStrategy.docx\n",
      "/Users/rmRM/Desktop/Evgenii/DS/Tier 1 - 4/TB-14-76_NGP Prgrm_N/1. Prog. Definition/OCM - Stakeholder and Change Impact Assessment/1.0 Final and Approvals/NGP StakeholderImpactAssessment.xlsx\n",
      "/Users/rmRM/Desktop/Evgenii/DS/Tier 1 - 4/TB-14-76_NGP Prgrm_N/1. Prog. Definition/OCM - Stakeholder and Change Impact Assessment/2.0 WIP/NGP StakeholderImpactAssessment.xlsx\n",
      "/Users/rmRM/Desktop/Evgenii/DS/Tier 1 - 4/TB-14-76_NGP Prgrm_N/1. Prog. Definition/OCM - Stakeholder and Change Impact Assessment/2.0 WIP/TDB - NGP - Release 1 - ChangeAssessment.docx\n",
      "/Users/rmRM/Desktop/Evgenii/DS/Tier 1 - 4/TB-14-76_NGP Prgrm_N/1. Prog. Definition/PMLC - DC Initiative Card/1.0 Final and Approvals/NGP Online Program card.xls\n"
     ]
    },
    {
     "name": "stderr",
     "output_type": "stream",
     "text": [
      "  8%|▊         | 611/8058 [00:05<01:46, 69.80it/s]"
     ]
    },
    {
     "name": "stdout",
     "output_type": "stream",
     "text": [
      "/Users/rmRM/Desktop/Evgenii/DS/Tier 1 - 4/TB-14-76_NGP Prgrm_N/1. Prog. Definition/PMLC - DC Initiative Card/1.0 Final and Approvals/NGP Online Program card.xlsx\n",
      "/Users/rmRM/Desktop/Evgenii/DS/Tier 1 - 4/TB-14-76_NGP Prgrm_N/1. Prog. Definition/PMLC - Governance Chart/1.0 Final and Approvals/NGP Program Delivery Structure.pptx\n",
      "/Users/rmRM/Desktop/Evgenii/DS/Tier 1 - 4/TB-14-76_NGP Prgrm_N/1. Prog. Definition/PMLC - Governance Chart/2.0 WIP/NGP Program Delivery Structure.pptx\n",
      "/Users/rmRM/Desktop/Evgenii/DS/Tier 1 - 4/TB-14-76_NGP Prgrm_N/1. Prog. Definition/PMLC - Governance Chart/2.0 WIP/NGP Program Governance 9_30_2015 v.02AA.pptx\n",
      "/Users/rmRM/Desktop/Evgenii/DS/Tier 1 - 4/TB-14-76_NGP Prgrm_N/1. Prog. Definition/PMLC - Governance Chart/2.0 WIP/NGP Program Governance_6_10_2015.pptx\n",
      "/Users/rmRM/Desktop/Evgenii/DS/Tier 1 - 4/TB-14-76_NGP Prgrm_N/1. Prog. Definition/PMLC - Integrated Program Plan/2.0 WIP/NGP IPP Artifact Exemption Request Form V1.docx\n",
      "/Users/rmRM/Desktop/Evgenii/DS/Tier 1 - 4/TB-14-76_NGP Prgrm_N/1. Prog. Definition/PMLC - Integrated Program Plan/2.0 WIP/NGP Integrated_Program_Plan - DRAFT.docx\n",
      "/Users/rmRM/Desktop/Evgenii/DS/Tier 1 - 4/TB-14-76_NGP Prgrm_N/1. Prog. Definition/PMLC - Integrated Program Plan/2.0 WIP/NGP Integrated_Program_Plan - Jun 24.docx\n",
      "/Users/rmRM/Desktop/Evgenii/DS/Tier 1 - 4/TB-14-76_NGP Prgrm_N/1. Prog. Definition/PMLC - Integrated Program Plan/2.0 WIP/NGP Integrated_Program_Plan_July.docx\n",
      "/Users/rmRM/Desktop/Evgenii/DS/Tier 1 - 4/TB-14-76_NGP Prgrm_N/1. Prog. Definition/PMLC - Integrated Program Plan/2.0 WIP/NGP Program Roadmap 2016_01_14 v02.pptx\n",
      "/Users/rmRM/Desktop/Evgenii/DS/Tier 1 - 4/TB-14-76_NGP Prgrm_N/1. Prog. Definition/PMLC - Scope Definition/1.0 Final and Approvals/US NGP Scope v12.pptx\n",
      "/Users/rmRM/Desktop/Evgenii/DS/Tier 1 - 4/TB-14-76_NGP Prgrm_N/1. Prog. Definition/PMLC - Seed Funding Request/1.0 Final and Approvals/MIR Meeting Minutes Dec 18_v0 2.doc\n",
      "/Users/rmRM/Desktop/Evgenii/DS/Tier 1 - 4/TB-14-76_NGP Prgrm_N/1. Prog. Definition/PMLC - Seed Funding Request/1.0 Final and Approvals/MIR Meeting Minutes Dec 18_v0 2.docx\n",
      "/Users/rmRM/Desktop/Evgenii/DS/Tier 1 - 4/TB-14-76_NGP Prgrm_N/1. Prog. Definition/PMLC - Seed Funding Request/1.0 Final and Approvals/MIR Meeting Minutes_May 6 v3.doc\n",
      "/Users/rmRM/Desktop/Evgenii/DS/Tier 1 - 4/TB-14-76_NGP Prgrm_N/1. Prog. Definition/PMLC - Seed Funding Request/1.0 Final and Approvals/MIR Meeting Minutes_May 6 v3.docx\n",
      "/Users/rmRM/Desktop/Evgenii/DS/Tier 1 - 4/TB-14-76_NGP Prgrm_N/1. Prog. Definition/PMLC - Seed Funding Request/1.0 Final and Approvals/US NGP Online Program Additional Seed Funding Request Mar 18.pptx\n",
      "/Users/rmRM/Desktop/Evgenii/DS/Tier 1 - 4/TB-14-76_NGP Prgrm_N/1. Prog. Definition/PMLC - Seed Funding Request/1.0 Final and Approvals/US NGP Online Program Seed Funding Nov 21 v2.pptx\n",
      "/Users/rmRM/Desktop/Evgenii/DS/Tier 1 - 4/TB-14-76_NGP Prgrm_N/1. Prog. Definition/PMLC - Solutioning Template/1.0 Final and Approvals/NGP Program_Solutioning_5152015 v 03.pptx\n",
      "/Users/rmRM/Desktop/Evgenii/DS/Tier 1 - 4/TB-14-76_NGP Prgrm_N/1. Prog. Definition/PMLC - Steering Committee Charter/1.0 Final and Approvals/Approval - NGP Executive Steering Meeting Minutes - May 28 v 01.doc\n",
      "/Users/rmRM/Desktop/Evgenii/DS/Tier 1 - 4/TB-14-76_NGP Prgrm_N/1. Prog. Definition/PMLC - Steering Committee Charter/1.0 Final and Approvals/Approval - NGP Executive Steering Meeting Minutes - May 28 v 01.docx\n",
      "/Users/rmRM/Desktop/Evgenii/DS/Tier 1 - 4/TB-14-76_NGP Prgrm_N/1. Prog. Definition/PMLC - Steering Committee Charter/1.0 Final and Approvals/TD Bank -NGP - Steering Committee Charter_5212015_v 02.docx\n",
      "/Users/rmRM/Desktop/Evgenii/DS/Tier 1 - 4/TB-14-76_NGP Prgrm_N/1. Prog. Definition/PMLC - Target Operating Model/2.0 WIP/NGP_Target Operating Model_5222015_v 04.pptx\n",
      "/Users/rmRM/Desktop/Evgenii/DS/Tier 1 - 4/TB-14-76_NGP Prgrm_N/1. Prog. Definition/RMLC - High Level Requirements/2.0 WIP/Business Requirements.pptx\n",
      "/Users/rmRM/Desktop/Evgenii/DS/Tier 1 - 4/TB-14-76_NGP Prgrm_N/1. Prog. Definition/RMLC - High Level Requirements/2.0 WIP/NGP Project 1 and Project 2 additional Capabilities pptx Autosaved(2).pptx\n",
      "/Users/rmRM/Desktop/Evgenii/DS/Tier 1 - 4/TB-14-76_NGP Prgrm_N/1. Prog. Definition/RMLC - Requirements Management Plan/1.0 Final and Approvals/NGP Project 1_Program EPMO Exemption Request v2.docx\n",
      "/Users/rmRM/Desktop/Evgenii/DS/Tier 1 - 4/TB-14-76_NGP Prgrm_N/1. Prog. Definition/RMLC - Requirements Management Plan/1.0 Final and Approvals/NGP Requirements_Management_Plan Project 1_September 09 2015.xlsx\n",
      "/Users/rmRM/Desktop/Evgenii/DS/Tier 1 - 4/TB-14-76_NGP Prgrm_N/1. Prog. Definition/RMLC - Requirements Management Plan/1.0 Final and Approvals/P1_Requirement Exception Request_Meeting Minutes - Nov 9 v 01.doc\n",
      "/Users/rmRM/Desktop/Evgenii/DS/Tier 1 - 4/TB-14-76_NGP Prgrm_N/1. Prog. Definition/RMLC - Requirements Management Plan/1.0 Final and Approvals/P1_Requirement Exception Request_Meeting Minutes - Nov 9 v 01.docx\n",
      "/Users/rmRM/Desktop/Evgenii/DS/Tier 1 - 4/TB-14-76_NGP Prgrm_N/1. Prog. Definition/RMLC - Requirements Management Plan/2.0 WIP/NGP Mid-Tier Iteration Plan - Draft v2 1 2015-04-29.pptx\n",
      "/Users/rmRM/Desktop/Evgenii/DS/Tier 1 - 4/TB-14-76_NGP Prgrm_N/1. Prog. Definition/RMLC - Requirements Management Plan/2.0 WIP/NGP Requirements Approach_V3_2.pptx\n",
      "/Users/rmRM/Desktop/Evgenii/DS/Tier 1 - 4/TB-14-76_NGP Prgrm_N/1. Prog. Definition/RMLC - Requirements Management Plan/2.0 WIP/NGP Requirements_Management_Plan Project 1_September 09 2015.xlsx\n",
      "/Users/rmRM/Desktop/Evgenii/DS/Tier 1 - 4/TB-14-76_NGP Prgrm_N/1. Prog. Definition/RMLC - Traceability Matrix/2.0 WIP/NGP Capability Plan 20151027 v04.xlsx\n",
      "/Users/rmRM/Desktop/Evgenii/DS/Tier 1 - 4/TB-14-76_NGP Prgrm_N/1. Prog. Definition/RMLC - Traceability Matrix/2.0 WIP/NGP TraceabilityMatrix_Final.xlsx\n",
      "/Users/rmRM/Desktop/Evgenii/DS/Tier 1 - 4/TB-14-76_NGP Prgrm_N/1. Prog. Definition/RMLC - Traceability Matrix/2.0 WIP/NGP_Capability_Plan_20170303 Post Fiserv Replan v04.xlsx\n",
      "/Users/rmRM/Desktop/Evgenii/DS/Tier 1 - 4/TB-14-76_NGP Prgrm_N/1. Prog. Definition/RMLC - Traceability Matrix/2.0 WIP/NGP_Target_State_Capabilities_20170317_WIP.xlsx\n",
      "/Users/rmRM/Desktop/Evgenii/DS/Tier 1 - 4/TB-14-76_NGP Prgrm_N/1. Prog. Definition/SDLC - GTAC Documentation/1.0 Final and Approvals/GTAC_NGP_Awareness.ppt\n"
     ]
    },
    {
     "name": "stderr",
     "output_type": "stream",
     "text": [
      "  8%|▊         | 648/8058 [00:05<01:33, 79.43it/s]"
     ]
    },
    {
     "name": "stdout",
     "output_type": "stream",
     "text": [
      "/Users/rmRM/Desktop/Evgenii/DS/Tier 1 - 4/TB-14-76_NGP Prgrm_N/1. Prog. Definition/SDLC - GTAC Documentation/1.0 Final and Approvals/GTAC_NGP_Awareness.pptx\n",
      "/Users/rmRM/Desktop/Evgenii/DS/Tier 1 - 4/TB-14-76_NGP Prgrm_N/1. Prog. Definition/SDLC - GTAC Documentation/1.0 Final and Approvals/GTAC_NGP_Awareness_follow_up.ppt\n",
      "/Users/rmRM/Desktop/Evgenii/DS/Tier 1 - 4/TB-14-76_NGP Prgrm_N/1. Prog. Definition/SDLC - GTAC Documentation/1.0 Final and Approvals/GTAC_NGP_Awareness_follow_up.pptx\n",
      "/Users/rmRM/Desktop/Evgenii/DS/Tier 1 - 4/TB-14-76_NGP Prgrm_N/1. Prog. Definition/SDLC - GTAC Documentation/1.0 Final and Approvals/GTAC_NGP_Exception_Project1_V0 2.pptx\n",
      "/Users/rmRM/Desktop/Evgenii/DS/Tier 1 - 4/TB-14-76_NGP Prgrm_N/1. Prog. Definition/SDLC - GTAC Documentation/1.0 Final and Approvals/GTAC_NGP_Exception_Project1_V0 4.pptx\n",
      "/Users/rmRM/Desktop/Evgenii/DS/Tier 1 - 4/TB-14-76_NGP Prgrm_N/1. Prog. Definition/SDLC - GTAC Documentation/1.0 Final and Approvals/IT3.0 Assessment GTAC ver1.2.pptx\n",
      "/Users/rmRM/Desktop/Evgenii/DS/Tier 1 - 4/TB-14-76_NGP Prgrm_N/2. Prog. Delivery/PMLC - BuRP Package/2.0 Wireframes/NGP-Exec-Review-10-17-14.pptx\n",
      "/Users/rmRM/Desktop/Evgenii/DS/Tier 1 - 4/TB-14-76_NGP Prgrm_N/2. Prog. Delivery/PMLC - BuRP Package/2.0 Wireframes/NGP-Exec-Review-10-31-14-FINAL.pptx\n",
      "/Users/rmRM/Desktop/Evgenii/DS/Tier 1 - 4/TB-14-76_NGP Prgrm_N/2. Prog. Delivery/PMLC - BuRP Package/2.0 Wireframes/NGP_UserFlows_v2.docx\n",
      "/Users/rmRM/Desktop/Evgenii/DS/Tier 1 - 4/TB-14-76_NGP Prgrm_N/2. Prog. Delivery/PMLC - BuRP Package/2.0 Wireframes/TD_Wireframe_NGP_08192015.docx\n",
      "/Users/rmRM/Desktop/Evgenii/DS/Tier 1 - 4/TB-14-76_NGP Prgrm_N/2. Prog. Delivery/PMLC - BuRP Package/2.0 Wireframes/Wireframe Links.docx\n",
      "/Users/rmRM/Desktop/Evgenii/DS/Tier 1 - 4/TB-14-76_NGP Prgrm_N/2. Prog. Delivery/PMLC - BuRP Package/8.0 Usability Testing/NGP Tree Test November 2015 (4).pptx\n",
      "/Users/rmRM/Desktop/Evgenii/DS/Tier 1 - 4/TB-14-76_NGP Prgrm_N/2. Prog. Delivery/PMLC - BuRP Package/8.0 Usability Testing/TD Bank NGP Checking and Transfers Screen (Internal Usability) May 2014 (1).pptx\n",
      "/Users/rmRM/Desktop/Evgenii/DS/Tier 1 - 4/TB-14-76_NGP Prgrm_N/2. Prog. Delivery/PMLC - BuRP Package/8.0 Usability Testing/TD Card Sort Report_Secure_V4.pptx\n",
      "/Users/rmRM/Desktop/Evgenii/DS/Tier 1 - 4/TB-14-76_NGP Prgrm_N/2. Prog. Delivery/PMLC - BuRP Package/8.0 Usability Testing/TD NGP - Draft Report - July 27_v2.pptx\n",
      "/Users/rmRM/Desktop/Evgenii/DS/Tier 1 - 4/TB-14-76_NGP Prgrm_N/2. Prog. Delivery/PMLC - BuRP Package/8.0 Usability Testing/TD NGP - Final Report - Jan 15 (1).pptx\n",
      "/Users/rmRM/Desktop/Evgenii/DS/Tier 1 - 4/TB-14-76_NGP Prgrm_N/2. Prog. Delivery/PMLC - BuRP Package/8.0 Usability Testing/TD NGP - Final Report - Oct 30BN.pptx\n",
      "/Users/rmRM/Desktop/Evgenii/DS/Tier 1 - 4/TB-14-76_NGP Prgrm_N/2. Prog. Delivery/PMLC - BuRP Package/8.0 Usability Testing/TD NGP - UTest Report - April 2014_Final.pptx\n",
      "/Users/rmRM/Desktop/Evgenii/DS/Tier 1 - 4/TB-14-76_NGP Prgrm_N/2. Prog. Delivery/PMLC - BuRP Package/8.0 Usability Testing/TDB OTP Findings.pptx\n",
      "/Users/rmRM/Desktop/Evgenii/DS/Tier 1 - 4/TB-14-76_NGP Prgrm_N/2. Prog. Delivery/PMLC - Communication Strategy/1.0 Final and Approvals/TD_NGP_PMO_Delivery_Governance_Overview_12_02_2015_vF.pptx\n",
      "/Users/rmRM/Desktop/Evgenii/DS/Tier 1 - 4/TB-14-76_NGP Prgrm_N/2. Prog. Delivery/PMLC - Conversion/Command Center/NGP_GL Retail Conv CC Playbook_11_08_2017 KL DRAFT.pptx\n",
      "/Users/rmRM/Desktop/Evgenii/DS/Tier 1 - 4/TB-14-76_NGP Prgrm_N/2. Prog. Delivery/PMLC - Conversion/Communication Materials/Conversion Planning Update Minutes 08_18_2016.docx\n",
      "/Users/rmRM/Desktop/Evgenii/DS/Tier 1 - 4/TB-14-76_NGP Prgrm_N/2. Prog. Delivery/PMLC - Conversion/Communication Materials/Conversion onsite 19 July 2016.docx\n",
      "/Users/rmRM/Desktop/Evgenii/DS/Tier 1 - 4/TB-14-76_NGP Prgrm_N/2. Prog. Delivery/PMLC - Conversion/Communication Materials/Fiserv and Conversion Meeting Notes_04_08_2016.pptx\n",
      "/Users/rmRM/Desktop/Evgenii/DS/Tier 1 - 4/TB-14-76_NGP Prgrm_N/2. Prog. Delivery/PMLC - Conversion/Communication Materials/NGP CashEdge and CheckFree Conv Req Minutes 12_6_2016.docx\n",
      "/Users/rmRM/Desktop/Evgenii/DS/Tier 1 - 4/TB-14-76_NGP Prgrm_N/2. Prog. Delivery/PMLC - Conversion/Communication Materials/NGP Inactive Cust Host Flag Minutes 12_14_2016.docx\n",
      "/Users/rmRM/Desktop/Evgenii/DS/Tier 1 - 4/TB-14-76_NGP Prgrm_N/2. Prog. Delivery/PMLC - Conversion/Communication Materials/NGP Inactive Customers Host Flag - Ops 12_16_2016.docx\n",
      "/Users/rmRM/Desktop/Evgenii/DS/Tier 1 - 4/TB-14-76_NGP Prgrm_N/2. Prog. Delivery/PMLC - Conversion/Communication Materials/NGP_Conversion Mobilization_03_08_2016 v4.pptx\n",
      "/Users/rmRM/Desktop/Evgenii/DS/Tier 1 - 4/TB-14-76_NGP Prgrm_N/2. Prog. Delivery/PMLC - Conversion/Communication Materials/NGP_Security Alerts Minutes 11_3_2016.docx\n"
     ]
    },
    {
     "name": "stderr",
     "output_type": "stream",
     "text": [
      "  9%|▉         | 708/8058 [00:05<01:08, 107.22it/s]"
     ]
    },
    {
     "name": "stdout",
     "output_type": "stream",
     "text": [
      "/Users/rmRM/Desktop/Evgenii/DS/Tier 1 - 4/TB-14-76_NGP Prgrm_N/2. Prog. Delivery/PMLC - Conversion/Communication Materials/NGP_Small Business Alerts Minutes 11_15_2016.docx\n",
      "/Users/rmRM/Desktop/Evgenii/DS/Tier 1 - 4/TB-14-76_NGP Prgrm_N/2. Prog. Delivery/PMLC - Conversion/Communication Materials/NGP_Small Business Conversion Discussion Minutes 11_3_2016.docx\n",
      "/Users/rmRM/Desktop/Evgenii/DS/Tier 1 - 4/TB-14-76_NGP Prgrm_N/2. Prog. Delivery/PMLC - Conversion/Communication Materials/NGP_Small Business Queries Minutes 11_17_2016.docx\n",
      "/Users/rmRM/Desktop/Evgenii/DS/Tier 1 - 4/TB-14-76_NGP Prgrm_N/2. Prog. Delivery/PMLC - Conversion/Communication Materials/NGP_Testing Strategy Approach_11_1_2016.docx\n",
      "/Users/rmRM/Desktop/Evgenii/DS/Tier 1 - 4/TB-14-76_NGP Prgrm_N/2. Prog. Delivery/PMLC - Conversion/Communication Materials/Small Business Conversion Follow Up Minutes_10_11_2016.docx\n",
      "/Users/rmRM/Desktop/Evgenii/DS/Tier 1 - 4/TB-14-76_NGP Prgrm_N/2. Prog. Delivery/PMLC - Conversion/Conceptual Customer Exerience/NGP_Customer Experience_06_09_2016 DRAFT.pptx\n",
      "/Users/rmRM/Desktop/Evgenii/DS/Tier 1 - 4/TB-14-76_NGP Prgrm_N/2. Prog. Delivery/PMLC - Conversion/Dress Rehearsal Approvals/NGP Conversion Go-No Go Approval 09.22.2017.docx\n",
      "/Users/rmRM/Desktop/Evgenii/DS/Tier 1 - 4/TB-14-76_NGP Prgrm_N/2. Prog. Delivery/PMLC - Conversion/Dress Rehearsal Approvals/NGP Customer Launch Go-No Go Approval 09.24.2017.vF.docx\n",
      "/Users/rmRM/Desktop/Evgenii/DS/Tier 1 - 4/TB-14-76_NGP Prgrm_N/2. Prog. Delivery/PMLC - Conversion/Governance Model/NGP_Conversion and Business Readiness Team 04142016.pptx\n",
      "/Users/rmRM/Desktop/Evgenii/DS/Tier 1 - 4/TB-14-76_NGP Prgrm_N/2. Prog. Delivery/PMLC - Conversion/Overall SRS - WIP/NGP_Conversion_BRD_v1.3.docx\n",
      "/Users/rmRM/Desktop/Evgenii/DS/Tier 1 - 4/TB-14-76_NGP Prgrm_N/2. Prog. Delivery/PMLC - Conversion/Platform Tracker/NGP Platform Tracker 20160727.xlsx\n",
      "/Users/rmRM/Desktop/Evgenii/DS/Tier 1 - 4/TB-14-76_NGP Prgrm_N/2. Prog. Delivery/PMLC - Conversion/Platform Tracker/NGP Platform Tracker 20160728.xlsx\n",
      "/Users/rmRM/Desktop/Evgenii/DS/Tier 1 - 4/TB-14-76_NGP Prgrm_N/2. Prog. Delivery/PMLC - Conversion/Platform Tracker/NGP Platform Tracker 20160729.xlsx\n",
      "/Users/rmRM/Desktop/Evgenii/DS/Tier 1 - 4/TB-14-76_NGP Prgrm_N/2. Prog. Delivery/PMLC - Conversion/Platform Tracker/NGP Platform Tracker 20160801.xlsx\n",
      "/Users/rmRM/Desktop/Evgenii/DS/Tier 1 - 4/TB-14-76_NGP Prgrm_N/2. Prog. Delivery/PMLC - Conversion/Platform Tracker/NGP Platform Tracker 20160803.xlsx\n",
      "/Users/rmRM/Desktop/Evgenii/DS/Tier 1 - 4/TB-14-76_NGP Prgrm_N/2. Prog. Delivery/PMLC - Conversion/Platform Tracker/NGP Platform Tracker 20160804.xlsx\n",
      "/Users/rmRM/Desktop/Evgenii/DS/Tier 1 - 4/TB-14-76_NGP Prgrm_N/2. Prog. Delivery/PMLC - Conversion/Platform Tracker/NGP Platform Tracker 20160818.xlsx\n",
      "/Users/rmRM/Desktop/Evgenii/DS/Tier 1 - 4/TB-14-76_NGP Prgrm_N/2. Prog. Delivery/PMLC - Conversion/Platform Tracker/NGP Platform Tracker 20160828.xlsx\n",
      "/Users/rmRM/Desktop/Evgenii/DS/Tier 1 - 4/TB-14-76_NGP Prgrm_N/2. Prog. Delivery/PMLC - Conversion/Platform Tracker/NGP Platform Tracker 20160829.xlsx\n",
      "/Users/rmRM/Desktop/Evgenii/DS/Tier 1 - 4/TB-14-76_NGP Prgrm_N/2. Prog. Delivery/PMLC - Conversion/Platform Tracker/NGP Platform Tracker 20160921.xlsx\n",
      "/Users/rmRM/Desktop/Evgenii/DS/Tier 1 - 4/TB-14-76_NGP Prgrm_N/2. Prog. Delivery/PMLC - Conversion/Platform Tracker/NGP Platform Tracker 20170209.xlsx\n",
      "/Users/rmRM/Desktop/Evgenii/DS/Tier 1 - 4/TB-14-76_NGP Prgrm_N/2. Prog. Delivery/PMLC - Conversion/Project Schedule/Conversion PoP 6-30-2016.pptx\n",
      "/Users/rmRM/Desktop/Evgenii/DS/Tier 1 - 4/TB-14-76_NGP Prgrm_N/2. Prog. Delivery/PMLC - Conversion/Strategy/NGP Business Conversion Strategy DRAFT v5.pptx\n",
      "/Users/rmRM/Desktop/Evgenii/DS/Tier 1 - 4/TB-14-76_NGP Prgrm_N/2. Prog. Delivery/PMLC - Conversion/Strategy/NGP_Conversion Strategy_10_31_2016 DRAFT v2.pptx\n",
      "/Users/rmRM/Desktop/Evgenii/DS/Tier 1 - 4/TB-14-76_NGP Prgrm_N/2. Prog. Delivery/PMLC - Conversion/Strategy/NGP_Conversion Strategy_10_31_2016 DRAFT.pptx\n",
      "/Users/rmRM/Desktop/Evgenii/DS/Tier 1 - 4/TB-14-76_NGP Prgrm_N/2. Prog. Delivery/PMLC - EPMO Benefits Management Worksheet/2.0 WIP/ACH_Wires_ForBizCustomersonOnRIB revenue with growth estimates.xlsx\n",
      "/Users/rmRM/Desktop/Evgenii/DS/Tier 1 - 4/TB-14-76_NGP Prgrm_N/2. Prog. Delivery/PMLC - EPMO Benefits Management Worksheet/2.0 WIP/NGP EPMOBenefitsManagementWorksheet.xls\n"
     ]
    },
    {
     "name": "stderr",
     "output_type": "stream",
     "text": [
      " 10%|█         | 844/8058 [00:07<01:54, 62.86it/s] "
     ]
    },
    {
     "name": "stdout",
     "output_type": "stream",
     "text": [
      "/Users/rmRM/Desktop/Evgenii/DS/Tier 1 - 4/TB-14-76_NGP Prgrm_N/2. Prog. Delivery/PMLC - EPMO Benefits Management Worksheet/2.0 WIP/NGP EPMOBenefitsManagementWorksheet.xlsx\n",
      "/Users/rmRM/Desktop/Evgenii/DS/Tier 1 - 4/TB-14-76_NGP Prgrm_N/2. Prog. Delivery/PMLC - EPMO Benefits Management Worksheet/2.0 WIP/NGP Mobile Only Paperless Penetration May 2015.xlsx\n",
      "/Users/rmRM/Desktop/Evgenii/DS/Tier 1 - 4/TB-14-76_NGP Prgrm_N/2. Prog. Delivery/PMLC - Integrated Program Plan/1.0 Final and Approvals/NGP Integrated Program Plan Review Minutes Jun 02 2017.docx\n",
      "/Users/rmRM/Desktop/Evgenii/DS/Tier 1 - 4/TB-14-76_NGP Prgrm_N/2. Prog. Delivery/PMLC - Integrated Program Plan/1.0 Final and Approvals/NGP Integrated_Program_Plan 18Jul2017 v1 w approvals.docx\n",
      "/Users/rmRM/Desktop/Evgenii/DS/Tier 1 - 4/TB-14-76_NGP Prgrm_N/2. Prog. Delivery/PMLC - Integrated Program Plan/2.0 WIP/NGP Integrated_Program_Plan 02Jun2017 v1.docx\n",
      "/Users/rmRM/Desktop/Evgenii/DS/Tier 1 - 4/TB-14-76_NGP Prgrm_N/2. Prog. Delivery/PMLC - Integrated Program Plan/2.0 WIP/NGP Integrated_Program_Plan 25May2017 v1.docx\n",
      "/Users/rmRM/Desktop/Evgenii/DS/Tier 1 - 4/TB-14-76_NGP Prgrm_N/2. Prog. Delivery/PMLC - Integrated Program Plan/2.0 WIP/NGP Integrated_Program_Plan 3Nov2016.docx\n",
      "/Users/rmRM/Desktop/Evgenii/DS/Tier 1 - 4/TB-14-76_NGP Prgrm_N/2. Prog. Delivery/PMLC - Integrated Program Plan/2.0 WIP/NGP Integrated_Program_Plan.docx\n",
      "/Users/rmRM/Desktop/Evgenii/DS/Tier 1 - 4/TB-14-76_NGP Prgrm_N/2. Prog. Delivery/PMLC - Pilot and Readiness/P1 Pilot/1.0 Pilot Plan/Executive Artifact Review_2_11_2016.docx\n",
      "/Users/rmRM/Desktop/Evgenii/DS/Tier 1 - 4/TB-14-76_NGP Prgrm_N/2. Prog. Delivery/PMLC - Pilot and Readiness/P1 Pilot/1.0 Pilot Plan/NGP Project 1_Pilot Plan_1_29_2016v06.docx\n",
      "/Users/rmRM/Desktop/Evgenii/DS/Tier 1 - 4/TB-14-76_NGP Prgrm_N/2. Prog. Delivery/PMLC - Pilot and Readiness/P1 Pilot/1.0 Pilot Plan/NGP_P1_Pilot_Executive Summary.pptx\n",
      "/Users/rmRM/Desktop/Evgenii/DS/Tier 1 - 4/TB-14-76_NGP Prgrm_N/2. Prog. Delivery/PMLC - Pilot and Readiness/P1 Pilot/2.0 RACI/NGP Project 1 Pilot RACI 12_16.xlsx\n",
      "/Users/rmRM/Desktop/Evgenii/DS/Tier 1 - 4/TB-14-76_NGP Prgrm_N/2. Prog. Delivery/PMLC - Pilot and Readiness/P1 Pilot/3.0 Communication Package/Communication Package 12_22_2015.docx\n",
      "/Users/rmRM/Desktop/Evgenii/DS/Tier 1 - 4/TB-14-76_NGP Prgrm_N/2. Prog. Delivery/PMLC - Pilot and Readiness/P1 Pilot/3.0 Communication Package/Pilot Issue Reporting 101.docx\n",
      "/Users/rmRM/Desktop/Evgenii/DS/Tier 1 - 4/TB-14-76_NGP Prgrm_N/2. Prog. Delivery/PMLC - Pilot and Readiness/P1 Pilot/3.0 Communication Package/TeamWOW_Story_Submission_Form - Template.doc\n",
      "/Users/rmRM/Desktop/Evgenii/DS/Tier 1 - 4/TB-14-76_NGP Prgrm_N/2. Prog. Delivery/PMLC - Pilot and Readiness/P1 Pilot/3.0 Communication Package/TeamWOW_Story_Submission_Form - Template.docx\n",
      "/Users/rmRM/Desktop/Evgenii/DS/Tier 1 - 4/TB-14-76_NGP Prgrm_N/2. Prog. Delivery/PMLC - Pilot and Readiness/P1 Pilot/4.0 Test Cases/NGP Phase 1 Test Cases 12.17.2015.xlsx\n",
      "/Users/rmRM/Desktop/Evgenii/DS/Tier 1 - 4/TB-14-76_NGP Prgrm_N/2. Prog. Delivery/PMLC - Pilot and Readiness/P1 Pilot/5.0 Defect Triage/Defect Triage Sheet - NGP Pilot Phase 1.xlsx\n",
      "/Users/rmRM/Desktop/Evgenii/DS/Tier 1 - 4/TB-14-76_NGP Prgrm_N/2. Prog. Delivery/PMLC - Pilot and Readiness/P1 Pilot/5.0 Defect Triage/NGP Phase 1 Pilot - Feedback-Defect Triage Process.docx\n",
      "/Users/rmRM/Desktop/Evgenii/DS/Tier 1 - 4/TB-14-76_NGP Prgrm_N/2. Prog. Delivery/PMLC - Pilot and Readiness/P1 Pilot/7.0 Go_No-Gos/NGP Mobile App Control Pilot Go_NoGo Criteria 20160314 v.F.docx\n",
      "/Users/rmRM/Desktop/Evgenii/DS/Tier 1 - 4/TB-14-76_NGP Prgrm_N/2. Prog. Delivery/PMLC - Pilot and Readiness/P1 Pilot/7.0 Go_No-Gos/NGP Mobile App Go_NoGo Meeting Minutes 20160311.docx\n",
      "/Users/rmRM/Desktop/Evgenii/DS/Tier 1 - 4/TB-14-76_NGP Prgrm_N/2. Prog. Delivery/PMLC - Pilot and Readiness/P1 Pilot/Pilot Activity Planning 12_16_2015 v.01.xlsx\n",
      "/Users/rmRM/Desktop/Evgenii/DS/Tier 1 - 4/TB-14-76_NGP Prgrm_N/2. Prog. Delivery/PMLC - Pilot and Readiness/P1 Readiness/Bi-Weekly Readiness Update Minutes/NGP_Bi-Weekly Readiness Update Minutes 02_08_2016.doc\n",
      "/Users/rmRM/Desktop/Evgenii/DS/Tier 1 - 4/TB-14-76_NGP Prgrm_N/2. Prog. Delivery/PMLC - Pilot and Readiness/P1 Readiness/Bi-Weekly Readiness Update Minutes/NGP_Bi-Weekly Readiness Update Minutes 02_08_2016.docx\n",
      "/Users/rmRM/Desktop/Evgenii/DS/Tier 1 - 4/TB-14-76_NGP Prgrm_N/2. Prog. Delivery/PMLC - Pilot and Readiness/P1 Readiness/Bi-Weekly Readiness Update Minutes/NGP_Readiness and Conversion Status_02_04_2016.pptx\n",
      "/Users/rmRM/Desktop/Evgenii/DS/Tier 1 - 4/TB-14-76_NGP Prgrm_N/2. Prog. Delivery/PMLC - Pilot and Readiness/P1 Readiness/Communication Core Team Minutes/NGP Mobile App CoreCummunications Minutes 20160315.docx\n",
      "/Users/rmRM/Desktop/Evgenii/DS/Tier 1 - 4/TB-14-76_NGP Prgrm_N/2. Prog. Delivery/PMLC - Pilot and Readiness/P1 Readiness/Communication Core Team Minutes/NGP_MobileApp_CoreCommunications 20160314 vF2.pptx\n",
      "/Users/rmRM/Desktop/Evgenii/DS/Tier 1 - 4/TB-14-76_NGP Prgrm_N/2. Prog. Delivery/PMLC - Pilot and Readiness/P1 Readiness/Detailed Communications Plan/Readiness and Communication Tracker 20160316.xlsx\n",
      "/Users/rmRM/Desktop/Evgenii/DS/Tier 1 - 4/TB-14-76_NGP Prgrm_N/2. Prog. Delivery/PMLC - Pilot and Readiness/P1 Readiness/NGP_P1_Pilot_45D_ReadinessVFinal.pptx\n",
      "/Users/rmRM/Desktop/Evgenii/DS/Tier 1 - 4/TB-14-76_NGP Prgrm_N/2. Prog. Delivery/PMLC - Pilot and Readiness/P1 Readiness/NGP_P1_Readiness_Stakeholder_Update 20160201 Final.pptx\n",
      "/Users/rmRM/Desktop/Evgenii/DS/Tier 1 - 4/TB-14-76_NGP Prgrm_N/2. Prog. Delivery/PMLC - Pilot and Readiness/P1 Readiness/Readiness Stakeholder Minutes/90 Day Readiness Meeting Minutes 20160304.docx\n",
      "/Users/rmRM/Desktop/Evgenii/DS/Tier 1 - 4/TB-14-76_NGP Prgrm_N/2. Prog. Delivery/PMLC - Pilot and Readiness/P1 Readiness/Readiness Stakeholder Minutes/NGP Mobile App 60 Day Readiness Minutes 20160407.docx\n",
      "/Users/rmRM/Desktop/Evgenii/DS/Tier 1 - 4/TB-14-76_NGP Prgrm_N/2. Prog. Delivery/PMLC - Pilot and Readiness/P1 Readiness/Readiness Stakeholder Minutes/NGP Mobile App Customer Launch CC - 90D Readiness.pptx\n",
      "/Users/rmRM/Desktop/Evgenii/DS/Tier 1 - 4/TB-14-76_NGP Prgrm_N/2. Prog. Delivery/PMLC - Pilot and Readiness/P1 Readiness/Weekly Readiness and Conversion Status/NGP_Readiness and Conversion Status_10_19_2018.pptx\n",
      "/Users/rmRM/Desktop/Evgenii/DS/Tier 1 - 4/TB-14-76_NGP Prgrm_N/2. Prog. Delivery/PMLC - Pilot and Readiness/RS Readiness/Communications/NGP Communications and Training Contacts.xlsx\n",
      "/Users/rmRM/Desktop/Evgenii/DS/Tier 1 - 4/TB-14-76_NGP Prgrm_N/2. Prog. Delivery/PMLC - Pilot and Readiness/Reference Materials/Awards Reporting Guide.doc"
     ]
    },
    {
     "name": "stderr",
     "output_type": "stream",
     "text": [
      " 12%|█▏        | 969/8058 [00:08<01:21, 86.81it/s]"
     ]
    },
    {
     "name": "stdout",
     "output_type": "stream",
     "text": [
      "\n",
      "/Users/rmRM/Desktop/Evgenii/DS/Tier 1 - 4/TB-14-76_NGP Prgrm_N/2. Prog. Delivery/PMLC - Pilot and Readiness/Reference Materials/Awards Reporting Guide.docx\n",
      "/Users/rmRM/Desktop/Evgenii/DS/Tier 1 - 4/TB-14-76_NGP Prgrm_N/2. Prog. Delivery/PMLC - Pilot and Readiness/Reference Materials/Copy of Award_Reporting_Form.xls\n",
      "/Users/rmRM/Desktop/Evgenii/DS/Tier 1 - 4/TB-14-76_NGP Prgrm_N/2. Prog. Delivery/PMLC - Pilot and Readiness/Reference Materials/Copy of Award_Reporting_Form.xlsx\n",
      "/Users/rmRM/Desktop/Evgenii/DS/Tier 1 - 4/TB-14-76_NGP Prgrm_N/2. Prog. Delivery/PMLC - Pilot and Readiness/Reference Materials/Feedback-Defect Triage Process.docx\n",
      "/Users/rmRM/Desktop/Evgenii/DS/Tier 1 - 4/TB-14-76_NGP Prgrm_N/2. Prog. Delivery/PMLC - Pilot and Readiness/Reference Materials/Google Play (Android) Testing - Process.pptx\n",
      "/Users/rmRM/Desktop/Evgenii/DS/Tier 1 - 4/TB-14-76_NGP Prgrm_N/2. Prog. Delivery/PMLC - Pilot and Readiness/Reference Materials/Pilot Process Responsabilities.pptx\n",
      "/Users/rmRM/Desktop/Evgenii/DS/Tier 1 - 4/TB-14-76_NGP Prgrm_N/2. Prog. Delivery/PMLC - Pilot and Readiness/Reference Materials/Pilot RACI.xls\n",
      "/Users/rmRM/Desktop/Evgenii/DS/Tier 1 - 4/TB-14-76_NGP Prgrm_N/2. Prog. Delivery/PMLC - Pilot and Readiness/Reference Materials/Pilot RACI.xlsx\n",
      "/Users/rmRM/Desktop/Evgenii/DS/Tier 1 - 4/TB-14-76_NGP Prgrm_N/2. Prog. Delivery/PMLC - Pilot and Readiness/Reference Materials/Pilot Reporting - Process.docx\n",
      "/Users/rmRM/Desktop/Evgenii/DS/Tier 1 - 4/TB-14-76_NGP Prgrm_N/2. Prog. Delivery/PMLC - Pilot and Readiness/Reference Materials/Pilot Strategy Document.docx\n",
      "/Users/rmRM/Desktop/Evgenii/DS/Tier 1 - 4/TB-14-76_NGP Prgrm_N/2. Prog. Delivery/PMLC - Pilot and Readiness/Reference Materials/Solicitation Methods - Processes.docx\n",
      "/Users/rmRM/Desktop/Evgenii/DS/Tier 1 - 4/TB-14-76_NGP Prgrm_N/2. Prog. Delivery/PMLC - Pilot and Readiness/Reference Materials/Template - OR_Pilot Plan.docx\n",
      "/Users/rmRM/Desktop/Evgenii/DS/Tier 1 - 4/TB-14-76_NGP Prgrm_N/2. Prog. Delivery/PMLC - Pilot and Readiness/Reference Materials/TestFlight (Apple) - Process.pptx\n",
      "/Users/rmRM/Desktop/Evgenii/DS/Tier 1 - 4/TB-14-76_NGP Prgrm_N/2. Prog. Delivery/PMLC - Target Operating Model/1.0 Final and Approvals/NGP_TOM_final 07_18_2017.pptx\n",
      "/Users/rmRM/Desktop/Evgenii/DS/Tier 1 - 4/TB-14-76_NGP Prgrm_N/2. Prog. Delivery/PMLC - Target Operating Model/2.0 WIP/NGP_Target Operating Model_5222015_v 04.pptx\n",
      "/Users/rmRM/Desktop/Evgenii/DS/Tier 1 - 4/TB-14-76_NGP Prgrm_N/2. Prog. Delivery/PMLC - Vendor_Consultant Engagement Artifacts/Fiserv/NGP_SOW_version0 1_Draft_050614_TDTrack Changes_TAL v1.doc\n",
      "/Users/rmRM/Desktop/Evgenii/DS/Tier 1 - 4/TB-14-76_NGP Prgrm_N/2. Prog. Delivery/PMLC - Vendor_Consultant Engagement Artifacts/Fiserv/NGP_SOW_version0 1_Draft_050614_TDTrack Changes_TAL v1.docx\n",
      "/Users/rmRM/Desktop/Evgenii/DS/Tier 1 - 4/TB-14-76_NGP Prgrm_N/2. Prog. Delivery/PMLC - Vendor_Consultant Engagement Artifacts/Fiserv/Vendor_Engagement_Form_(VEF) - NGP Fiserv SOW v1.xls\n",
      "/Users/rmRM/Desktop/Evgenii/DS/Tier 1 - 4/TB-14-76_NGP Prgrm_N/2. Prog. Delivery/PMLC - Vendor_Consultant Engagement Artifacts/Fiserv/Vendor_Engagement_Form_(VEF) - NGP Fiserv SOW v1.xlsx\n",
      "/Users/rmRM/Desktop/Evgenii/DS/Tier 1 - 4/TB-14-76_NGP Prgrm_N/3. Prog. Control/Audit Review/DAR Review/NGP DAR Findings 20160219.pptx\n",
      "/Users/rmRM/Desktop/Evgenii/DS/Tier 1 - 4/TB-14-76_NGP Prgrm_N/3. Prog. Control/Audit Review/DAR Review/NGP DAR Review 3_9_2016 v01.pptx\n",
      "/Users/rmRM/Desktop/Evgenii/DS/Tier 1 - 4/TB-14-76_NGP Prgrm_N/3. Prog. Control/NGP S - Project Independent Review Documents/E3 - 2.1 PAT Summary Report.doc\n",
      "/Users/rmRM/Desktop/Evgenii/DS/Tier 1 - 4/TB-14-76_NGP Prgrm_N/3. Prog. Control/NGP S - Project Independent Review Documents/E3 - 2.1 PAT Summary Report.docx\n",
      "/Users/rmRM/Desktop/Evgenii/DS/Tier 1 - 4/TB-14-76_NGP Prgrm_N/3. Prog. Control/NGP S - Project Independent Review Documents/E6 - PAT Plan NGP Project R+S -  NGP SBIB_OFX Release 2.0 v1.0.doc\n"
     ]
    },
    {
     "name": "stderr",
     "output_type": "stream",
     "text": [
      " 13%|█▎        | 1027/8058 [00:10<02:14, 52.44it/s]"
     ]
    },
    {
     "name": "stdout",
     "output_type": "stream",
     "text": [
      "/Users/rmRM/Desktop/Evgenii/DS/Tier 1 - 4/TB-14-76_NGP Prgrm_N/3. Prog. Control/NGP S - Project Independent Review Documents/E6 - PAT Plan NGP Project R+S -  NGP SBIB_OFX Release 2.0 v1.0.docx\n",
      "/Users/rmRM/Desktop/Evgenii/DS/Tier 1 - 4/TB-14-76_NGP Prgrm_N/3. Prog. Control/PMLC - Additional Risk Documentation/TRMIS_-_BTRM_-_DCTS__NGP_OB_Platform_Upgrade_Engagement_Request_Questionnaire.xls\n",
      "/Users/rmRM/Desktop/Evgenii/DS/Tier 1 - 4/TB-14-76_NGP Prgrm_N/3. Prog. Control/PMLC - Additional Risk Documentation/TRMIS_-_BTRM_-_DCTS__NGP_OB_Platform_Upgrade_Engagement_Request_Questionnaire.xlsx\n",
      "/Users/rmRM/Desktop/Evgenii/DS/Tier 1 - 4/TB-14-76_NGP Prgrm_N/3. Prog. Control/PMLC - Artifact Checklist/Archive/NGP - Program Gating Checklist - 08June2017.xlsx\n",
      "/Users/rmRM/Desktop/Evgenii/DS/Tier 1 - 4/TB-14-76_NGP Prgrm_N/3. Prog. Control/PMLC - Artifact Checklist/Archive/NGP - Program Gating Checklist - 2Nov2016.xlsx\n",
      "/Users/rmRM/Desktop/Evgenii/DS/Tier 1 - 4/TB-14-76_NGP Prgrm_N/3. Prog. Control/PMLC - Artifact Checklist/Archive/NGP - Program Gating Checklist new format.xlsx\n",
      "/Users/rmRM/Desktop/Evgenii/DS/Tier 1 - 4/TB-14-76_NGP Prgrm_N/3. Prog. Control/PMLC - Artifact Checklist/Archive/NGP_Program_Artifact_Checklist old format.xlsx\n",
      "/Users/rmRM/Desktop/Evgenii/DS/Tier 1 - 4/TB-14-76_NGP Prgrm_N/3. Prog. Control/PMLC - Change Control Log/Prioritization of PCRs/NGP Prioritization 06072017.xlsx\n",
      "/Users/rmRM/Desktop/Evgenii/DS/Tier 1 - 4/TB-14-76_NGP Prgrm_N/3. Prog. Control/PMLC - Change Control Log/Prioritization of PCRs/NGP Prioritization 06272017.xlsx\n",
      "/Users/rmRM/Desktop/Evgenii/DS/Tier 1 - 4/TB-14-76_NGP Prgrm_N/3. Prog. Control/PMLC - Change Control Log/Prioritization of PCRs/NGP Prioritization 06302017.xlsx\n",
      "/Users/rmRM/Desktop/Evgenii/DS/Tier 1 - 4/TB-14-76_NGP Prgrm_N/3. Prog. Control/PMLC - Change Control Log/Prioritization of PCRs/NGP Prioritization 07172017.xlsx\n",
      "/Users/rmRM/Desktop/Evgenii/DS/Tier 1 - 4/TB-14-76_NGP Prgrm_N/3. Prog. Control/PMLC - Change Control Log/Prioritization of PCRs/NGP Prioritization 07212017 vF.xlsx\n",
      "/Users/rmRM/Desktop/Evgenii/DS/Tier 1 - 4/TB-14-76_NGP Prgrm_N/3. Prog. Control/PMLC - Change Control Log/Prioritization of PCRs/NGP Prioritization 08162017_vF.xlsx\n",
      "/Users/rmRM/Desktop/Evgenii/DS/Tier 1 - 4/TB-14-76_NGP Prgrm_N/3. Prog. Control/PMLC - Change Control Log/Prioritization of PCRs/NGP Prioritization 08232017_v01.xlsx\n",
      "/Users/rmRM/Desktop/Evgenii/DS/Tier 1 - 4/TB-14-76_NGP Prgrm_N/3. Prog. Control/PMLC - Change Control Log/Prioritization of PCRs/NGP Prioritization 08302017 vF.xlsx\n",
      "/Users/rmRM/Desktop/Evgenii/DS/Tier 1 - 4/TB-14-76_NGP Prgrm_N/3. Prog. Control/PMLC - Change Control Log/Prioritization of PCRs/NGP Prioritization 09012017 vF.xlsx\n",
      "/Users/rmRM/Desktop/Evgenii/DS/Tier 1 - 4/TB-14-76_NGP Prgrm_N/3. Prog. Control/PMLC - Change Control Log/Prioritization of PCRs/NGP Prioritization 09132017 vF.xlsx\n",
      "/Users/rmRM/Desktop/Evgenii/DS/Tier 1 - 4/TB-14-76_NGP Prgrm_N/3. Prog. Control/PMLC - Change Control Log/Prioritization of PCRs/NGP Prioritization 09152017 vF.xlsx\n",
      "/Users/rmRM/Desktop/Evgenii/DS/Tier 1 - 4/TB-14-76_NGP Prgrm_N/3. Prog. Control/PMLC - Change Control Log/Prioritization of PCRs/NGP Prioritization 09272017 vF.xlsx\n",
      "/Users/rmRM/Desktop/Evgenii/DS/Tier 1 - 4/TB-14-76_NGP Prgrm_N/3. Prog. Control/PMLC - Change Control Log/Prioritization of PCRs/NGP Prioritization 10052017 vF.xlsx\n",
      "/Users/rmRM/Desktop/Evgenii/DS/Tier 1 - 4/TB-14-76_NGP Prgrm_N/3. Prog. Control/PMLC - Change Control Log/Prioritization of PCRs/NGP Prioritization 10112017 vF.xlsx\n",
      "/Users/rmRM/Desktop/Evgenii/DS/Tier 1 - 4/TB-14-76_NGP Prgrm_N/3. Prog. Control/PMLC - Change Control Log/Prioritization of PCRs/NGP Prioritization 11172017 v01.xlsx\n",
      "/Users/rmRM/Desktop/Evgenii/DS/Tier 1 - 4/TB-14-76_NGP Prgrm_N/3. Prog. Control/PMLC - Change Control Log/Prioritization of PCRs/Prioritization of PCRs 05222017.xlsx\n",
      "/Users/rmRM/Desktop/Evgenii/DS/Tier 1 - 4/TB-14-76_NGP Prgrm_N/3. Prog. Control/PMLC - Change Request Form/Old Versions/PCR Template V2.2 - DO NOT USE.xlsx\n",
      "/Users/rmRM/Desktop/Evgenii/DS/Tier 1 - 4/TB-14-76_NGP Prgrm_N/3. Prog. Control/PMLC - Change Request Form/Old Versions/Project Change Request Template v1.0_OLD.xlsx\n",
      "/Users/rmRM/Desktop/Evgenii/DS/Tier 1 - 4/TB-14-76_NGP Prgrm_N/3. Prog. Control/PMLC - Change Request Form/Old Versions/ProjectChangeRequest - DO NOT USE.doc\n",
      "/Users/rmRM/Desktop/Evgenii/DS/Tier 1 - 4/TB-14-76_NGP Prgrm_N/3. Prog. Control/PMLC - Change Request Form/Old Versions/ProjectChangeRequest - DO NOT USE.docx\n",
      "/Users/rmRM/Desktop/Evgenii/DS/Tier 1 - 4/TB-14-76_NGP Prgrm_N/3. Prog. Control/PMLC - Financial Tracking/FY16 NGP Financial Deck/15 11 Nov NGP FY16 v5.ppt\n"
     ]
    },
    {
     "name": "stderr",
     "output_type": "stream",
     "text": [
      " 14%|█▎        | 1091/8058 [00:10<01:37, 71.64it/s]"
     ]
    },
    {
     "name": "stdout",
     "output_type": "stream",
     "text": [
      "/Users/rmRM/Desktop/Evgenii/DS/Tier 1 - 4/TB-14-76_NGP Prgrm_N/3. Prog. Control/PMLC - Financial Tracking/FY16 NGP Financial Deck/15 11 Nov NGP FY16 v5.pptx\n",
      "/Users/rmRM/Desktop/Evgenii/DS/Tier 1 - 4/TB-14-76_NGP Prgrm_N/3. Prog. Control/PMLC - Financial Tracking/FY16 NGP Financial Deck/15 12 Dec NGP FY16 v2.ppt\n",
      "/Users/rmRM/Desktop/Evgenii/DS/Tier 1 - 4/TB-14-76_NGP Prgrm_N/3. Prog. Control/PMLC - Financial Tracking/FY16 NGP Financial Deck/15 12 Dec NGP FY16 v2.pptx\n",
      "/Users/rmRM/Desktop/Evgenii/DS/Tier 1 - 4/TB-14-76_NGP Prgrm_N/3. Prog. Control/PMLC - Financial Tracking/FY16 NGP Financial Deck/16 01 Jan NGP FY16.ppt\n",
      "/Users/rmRM/Desktop/Evgenii/DS/Tier 1 - 4/TB-14-76_NGP Prgrm_N/3. Prog. Control/PMLC - Financial Tracking/FY16 NGP Financial Deck/16 01 Jan NGP FY16.pptx\n",
      "/Users/rmRM/Desktop/Evgenii/DS/Tier 1 - 4/TB-14-76_NGP Prgrm_N/3. Prog. Control/PMLC - Financial Tracking/FY16 NGP Financial Deck/16 02 Feb NGP FY16.ppt\n",
      "/Users/rmRM/Desktop/Evgenii/DS/Tier 1 - 4/TB-14-76_NGP Prgrm_N/3. Prog. Control/PMLC - Financial Tracking/FY16 NGP Financial Deck/16 02 Feb NGP FY16.pptx\n",
      "/Users/rmRM/Desktop/Evgenii/DS/Tier 1 - 4/TB-14-76_NGP Prgrm_N/3. Prog. Control/PMLC - Financial Tracking/FY16 NGP Financial Deck/16 03 Mar NGP FY16.ppt\n",
      "/Users/rmRM/Desktop/Evgenii/DS/Tier 1 - 4/TB-14-76_NGP Prgrm_N/3. Prog. Control/PMLC - Financial Tracking/FY16 NGP Financial Deck/16 03 Mar NGP FY16.pptx\n",
      "/Users/rmRM/Desktop/Evgenii/DS/Tier 1 - 4/TB-14-76_NGP Prgrm_N/3. Prog. Control/PMLC - Financial Tracking/FY16 NGP Financial Deck/16 04 Apr NGP FY16.ppt\n",
      "/Users/rmRM/Desktop/Evgenii/DS/Tier 1 - 4/TB-14-76_NGP Prgrm_N/3. Prog. Control/PMLC - Financial Tracking/FY16 NGP Financial Deck/16 04 Apr NGP FY16.pptx\n",
      "/Users/rmRM/Desktop/Evgenii/DS/Tier 1 - 4/TB-14-76_NGP Prgrm_N/3. Prog. Control/PMLC - Financial Tracking/FY16 NGP Financial Deck/16 05 May NGP FY16.ppt\n",
      "/Users/rmRM/Desktop/Evgenii/DS/Tier 1 - 4/TB-14-76_NGP Prgrm_N/3. Prog. Control/PMLC - Financial Tracking/FY16 NGP Financial Deck/16 05 May NGP FY16.pptx\n",
      "/Users/rmRM/Desktop/Evgenii/DS/Tier 1 - 4/TB-14-76_NGP Prgrm_N/3. Prog. Control/PMLC - Financial Tracking/FY16 NGP Financial Deck/16 06 Jun NGP FY16 SCOPE.ppt\n",
      "/Users/rmRM/Desktop/Evgenii/DS/Tier 1 - 4/TB-14-76_NGP Prgrm_N/3. Prog. Control/PMLC - Financial Tracking/FY16 NGP Financial Deck/16 06 Jun NGP FY16 SCOPE.pptx\n",
      "/Users/rmRM/Desktop/Evgenii/DS/Tier 1 - 4/TB-14-76_NGP Prgrm_N/3. Prog. Control/PMLC - Financial Tracking/FY16 NGP Financial Deck/16 06 Jun NGP FY16.ppt\n",
      "/Users/rmRM/Desktop/Evgenii/DS/Tier 1 - 4/TB-14-76_NGP Prgrm_N/3. Prog. Control/PMLC - Financial Tracking/FY16 NGP Financial Deck/16 06 Jun NGP FY16.pptx\n",
      "/Users/rmRM/Desktop/Evgenii/DS/Tier 1 - 4/TB-14-76_NGP Prgrm_N/3. Prog. Control/PMLC - Financial Tracking/FY16 NGP Financial Deck/16 07 Jul NGP FY16.ppt\n",
      "/Users/rmRM/Desktop/Evgenii/DS/Tier 1 - 4/TB-14-76_NGP Prgrm_N/3. Prog. Control/PMLC - Financial Tracking/FY16 NGP Financial Deck/16 07 Jul NGP FY16.pptx\n",
      "/Users/rmRM/Desktop/Evgenii/DS/Tier 1 - 4/TB-14-76_NGP Prgrm_N/3. Prog. Control/PMLC - Financial Tracking/FY16 NGP Financial Deck/16 08 Aug NGP FY16.ppt\n",
      "/Users/rmRM/Desktop/Evgenii/DS/Tier 1 - 4/TB-14-76_NGP Prgrm_N/3. Prog. Control/PMLC - Financial Tracking/FY16 NGP Financial Deck/16 08 Aug NGP FY16.pptx\n",
      "/Users/rmRM/Desktop/Evgenii/DS/Tier 1 - 4/TB-14-76_NGP Prgrm_N/3. Prog. Control/PMLC - Financial Tracking/FY16 NGP Financial Deck/16 09 Sep NGP FY16.ppt\n",
      "/Users/rmRM/Desktop/Evgenii/DS/Tier 1 - 4/TB-14-76_NGP Prgrm_N/3. Prog. Control/PMLC - Financial Tracking/FY16 NGP Financial Deck/16 09 Sep NGP FY16.pptx\n",
      "/Users/rmRM/Desktop/Evgenii/DS/Tier 1 - 4/TB-14-76_NGP Prgrm_N/3. Prog. Control/PMLC - Financial Tracking/FY16 NGP Financial Deck/16 10 Oct NGP FY16.ppt\n",
      "/Users/rmRM/Desktop/Evgenii/DS/Tier 1 - 4/TB-14-76_NGP Prgrm_N/3. Prog. Control/PMLC - Financial Tracking/FY16 NGP Financial Deck/16 10 Oct NGP FY16.pptx\n",
      "/Users/rmRM/Desktop/Evgenii/DS/Tier 1 - 4/TB-14-76_NGP Prgrm_N/3. Prog. Control/PMLC - Financial Tracking/FY17 NGP Financial Deck/16 11 Nov NGP FY17.ppt\n",
      "/Users/rmRM/Desktop/Evgenii/DS/Tier 1 - 4/TB-14-76_NGP Prgrm_N/3. Prog. Control/PMLC - Financial Tracking/FY17 NGP Financial Deck/16 11 Nov NGP FY17.pptx\n",
      "/Users/rmRM/Desktop/Evgenii/DS/Tier 1 - 4/TB-14-76_NGP Prgrm_N/3. Prog. Control/PMLC - Financial Tracking/FY17 NGP Financial Deck/16 12 Dec NGP FY17.ppt\n",
      "/Users/rmRM/Desktop/Evgenii/DS/Tier 1 - 4/TB-14-76_NGP Prgrm_N/3. Prog. Control/PMLC - Financial Tracking/FY17 NGP Financial Deck/16 12 Dec NGP FY17.pptx\n",
      "/Users/rmRM/Desktop/Evgenii/DS/Tier 1 - 4/TB-14-76_NGP Prgrm_N/3. Prog. Control/PMLC - Financial Tracking/FY17 NGP Financial Deck/17 01 Jan NGP FY17.ppt\n",
      "/Users/rmRM/Desktop/Evgenii/DS/Tier 1 - 4/TB-14-76_NGP Prgrm_N/3. Prog. Control/PMLC - Financial Tracking/FY17 NGP Financial Deck/17 01 Jan NGP FY17.pptx\n",
      "/Users/rmRM/Desktop/Evgenii/DS/Tier 1 - 4/TB-14-76_NGP Prgrm_N/3. Prog. Control/PMLC - Financial Tracking/FY17 NGP Financial Deck/17 02 Feb NGP FY17.ppt\n",
      "/Users/rmRM/Desktop/Evgenii/DS/Tier 1 - 4/TB-14-76_NGP Prgrm_N/3. Prog. Control/PMLC - Financial Tracking/FY17 NGP Financial Deck/17 02 Feb NGP FY17.pptx\n",
      "/Users/rmRM/Desktop/Evgenii/DS/Tier 1 - 4/TB-14-76_NGP Prgrm_N/3. Prog. Control/PMLC - Financial Tracking/FY17 NGP Financial Deck/17 03 Mar NGP FY17.ppt\n",
      "/Users/rmRM/Desktop/Evgenii/DS/Tier 1 - 4/TB-14-76_NGP Prgrm_N/3. Prog. Control/PMLC - Financial Tracking/FY17 NGP Financial Deck/17 03 Mar NGP FY17.pptx\n",
      "/Users/rmRM/Desktop/Evgenii/DS/Tier 1 - 4/TB-14-76_NGP Prgrm_N/3. Prog. Control/PMLC - Financial Tracking/FY17 NGP Financial Deck/17 04 Apr NGP FY17.ppt\n",
      "/Users/rmRM/Desktop/Evgenii/DS/Tier 1 - 4/TB-14-76_NGP Prgrm_N/3. Prog. Control/PMLC - Financial Tracking/FY17 NGP Financial Deck/17 04 Apr NGP FY17.pptx\n",
      "/Users/rmRM/Desktop/Evgenii/DS/Tier 1 - 4/TB-14-76_NGP Prgrm_N/3. Prog. Control/PMLC - Financial Tracking/FY17 NGP Financial Deck/17 05 May NGP FY17.ppt\n",
      "/Users/rmRM/Desktop/Evgenii/DS/Tier 1 - 4/TB-14-76_NGP Prgrm_N/3. Prog. Control/PMLC - Financial Tracking/FY17 NGP Financial Deck/17 05 May NGP FY17.pptx\n",
      "/Users/rmRM/Desktop/Evgenii/DS/Tier 1 - 4/TB-14-76_NGP Prgrm_N/3. Prog. Control/PMLC - Financial Tracking/FY17 NGP Financial Deck/17 06 Jun NGP FY17.ppt\n",
      "/Users/rmRM/Desktop/Evgenii/DS/Tier 1 - 4/TB-14-76_NGP Prgrm_N/3. Prog. Control/PMLC - Financial Tracking/FY17 NGP Financial Deck/17 06 Jun NGP FY17.pptx\n",
      "/Users/rmRM/Desktop/Evgenii/DS/Tier 1 - 4/TB-14-76_NGP Prgrm_N/3. Prog. Control/PMLC - Financial Tracking/FY17 NGP Financial Deck/17 07 Jul NGP FY17.ppt\n"
     ]
    },
    {
     "name": "stderr",
     "output_type": "stream",
     "text": [
      " 14%|█▍        | 1135/8058 [00:12<02:46, 41.68it/s]"
     ]
    },
    {
     "name": "stdout",
     "output_type": "stream",
     "text": [
      "/Users/rmRM/Desktop/Evgenii/DS/Tier 1 - 4/TB-14-76_NGP Prgrm_N/3. Prog. Control/PMLC - Financial Tracking/FY17 NGP Financial Deck/17 07 Jul NGP FY17.pptx\n",
      "/Users/rmRM/Desktop/Evgenii/DS/Tier 1 - 4/TB-14-76_NGP Prgrm_N/3. Prog. Control/PMLC - Financial Tracking/FY17 NGP Financial Deck/17 08 Aug NGP FY17.ppt\n",
      "/Users/rmRM/Desktop/Evgenii/DS/Tier 1 - 4/TB-14-76_NGP Prgrm_N/3. Prog. Control/PMLC - Financial Tracking/FY17 NGP Financial Deck/17 08 Aug NGP FY17.pptx\n",
      "/Users/rmRM/Desktop/Evgenii/DS/Tier 1 - 4/TB-14-76_NGP Prgrm_N/3. Prog. Control/PMLC - Financial Tracking/FY17 NGP Financial Deck/17 09 Sep NGP FY17.ppt\n",
      "/Users/rmRM/Desktop/Evgenii/DS/Tier 1 - 4/TB-14-76_NGP Prgrm_N/3. Prog. Control/PMLC - Financial Tracking/FY17 NGP Financial Deck/17 09 Sep NGP FY17.pptx\n",
      "/Users/rmRM/Desktop/Evgenii/DS/Tier 1 - 4/TB-14-76_NGP Prgrm_N/3. Prog. Control/PMLC - Financial Tracking/FY17 NGP Financial Deck/17 10 Oct NGP FY17 v2.ppt\n",
      "/Users/rmRM/Desktop/Evgenii/DS/Tier 1 - 4/TB-14-76_NGP Prgrm_N/3. Prog. Control/PMLC - Financial Tracking/FY17 NGP Financial Deck/17 10 Oct NGP FY17 v2.pptx\n",
      "/Users/rmRM/Desktop/Evgenii/DS/Tier 1 - 4/TB-14-76_NGP Prgrm_N/3. Prog. Control/PMLC - Financial Tracking/FY18 NGP Financial Deck/17 11 Nov NGP FY18.ppt\n",
      "/Users/rmRM/Desktop/Evgenii/DS/Tier 1 - 4/TB-14-76_NGP Prgrm_N/3. Prog. Control/PMLC - Financial Tracking/FY18 NGP Financial Deck/17 11 Nov NGP FY18.pptx\n",
      "/Users/rmRM/Desktop/Evgenii/DS/Tier 1 - 4/TB-14-76_NGP Prgrm_N/3. Prog. Control/PMLC - Financial Tracking/FY18 NGP Financial Deck/17 12 Dec NGP FY18.ppt\n",
      "/Users/rmRM/Desktop/Evgenii/DS/Tier 1 - 4/TB-14-76_NGP Prgrm_N/3. Prog. Control/PMLC - Financial Tracking/FY18 NGP Financial Deck/17 12 Dec NGP FY18.pptx\n",
      "/Users/rmRM/Desktop/Evgenii/DS/Tier 1 - 4/TB-14-76_NGP Prgrm_N/3. Prog. Control/PMLC - Financial Tracking/FY18 NGP Financial Deck/18 01 Jan NGP FY18.ppt\n",
      "/Users/rmRM/Desktop/Evgenii/DS/Tier 1 - 4/TB-14-76_NGP Prgrm_N/3. Prog. Control/PMLC - Financial Tracking/FY18 NGP Financial Deck/18 01 Jan NGP FY18.pptx\n",
      "/Users/rmRM/Desktop/Evgenii/DS/Tier 1 - 4/TB-14-76_NGP Prgrm_N/3. Prog. Control/PMLC - Financial Tracking/FY18 NGP Financial Deck/18 02 Feb NGP FY18.ppt\n",
      "/Users/rmRM/Desktop/Evgenii/DS/Tier 1 - 4/TB-14-76_NGP Prgrm_N/3. Prog. Control/PMLC - Financial Tracking/FY18 NGP Financial Deck/18 02 Feb NGP FY18.pptx\n",
      "/Users/rmRM/Desktop/Evgenii/DS/Tier 1 - 4/TB-14-76_NGP Prgrm_N/3. Prog. Control/PMLC - Financial Tracking/FY18 NGP Financial Deck/18 03 Mar NGP FY18.ppt\n",
      "/Users/rmRM/Desktop/Evgenii/DS/Tier 1 - 4/TB-14-76_NGP Prgrm_N/3. Prog. Control/PMLC - Financial Tracking/FY18 NGP Financial Deck/18 03 Mar NGP FY18.pptx\n",
      "/Users/rmRM/Desktop/Evgenii/DS/Tier 1 - 4/TB-14-76_NGP Prgrm_N/3. Prog. Control/PMLC - Financial Tracking/FY18 NGP Financial Deck/18 04 Apr NGP FY18.ppt\n",
      "/Users/rmRM/Desktop/Evgenii/DS/Tier 1 - 4/TB-14-76_NGP Prgrm_N/3. Prog. Control/PMLC - Financial Tracking/FY18 NGP Financial Deck/18 04 Apr NGP FY18.pptx\n",
      "/Users/rmRM/Desktop/Evgenii/DS/Tier 1 - 4/TB-14-76_NGP Prgrm_N/3. Prog. Control/PMLC - Financial Tracking/FY18 NGP Financial Deck/18 05 May NGP FY18.ppt\n",
      "/Users/rmRM/Desktop/Evgenii/DS/Tier 1 - 4/TB-14-76_NGP Prgrm_N/3. Prog. Control/PMLC - Financial Tracking/FY18 NGP Financial Deck/18 05 May NGP FY18.pptx\n",
      "/Users/rmRM/Desktop/Evgenii/DS/Tier 1 - 4/TB-14-76_NGP Prgrm_N/3. Prog. Control/PMLC - Financial Tracking/FY18 NGP Financial Deck/18 06 Jun NGP FY18.ppt\n"
     ]
    },
    {
     "name": "stderr",
     "output_type": "stream",
     "text": [
      " 15%|█▍        | 1189/8058 [00:13<02:10, 52.80it/s]"
     ]
    },
    {
     "name": "stdout",
     "output_type": "stream",
     "text": [
      "/Users/rmRM/Desktop/Evgenii/DS/Tier 1 - 4/TB-14-76_NGP Prgrm_N/3. Prog. Control/PMLC - Financial Tracking/FY18 NGP Financial Deck/18 06 Jun NGP FY18.pptx\n",
      "/Users/rmRM/Desktop/Evgenii/DS/Tier 1 - 4/TB-14-76_NGP Prgrm_N/3. Prog. Control/PMLC - MIR/MIR Meeting Minutes May 06 2015 v0 2.doc\n",
      "/Users/rmRM/Desktop/Evgenii/DS/Tier 1 - 4/TB-14-76_NGP Prgrm_N/3. Prog. Control/PMLC - MIR/MIR Meeting Minutes May 06 2015 v0 2.docx\n",
      "/Users/rmRM/Desktop/Evgenii/DS/Tier 1 - 4/TB-14-76_NGP Prgrm_N/3. Prog. Control/PMLC - MPR/1.0 NGP Program/Program_OCIO MPR US NGP - Initiation - 05_12_2015.pptx\n",
      "/Users/rmRM/Desktop/Evgenii/DS/Tier 1 - 4/TB-14-76_NGP Prgrm_N/3. Prog. Control/PMLC - MPR/1.1 NGP Project 1/Project 1_OCIO MPR US NGP - Planning- 05_13_2015.pptx\n",
      "/Users/rmRM/Desktop/Evgenii/DS/Tier 1 - 4/TB-14-76_NGP Prgrm_N/3. Prog. Control/PMLC - Meeting Minutes/1.0 Program Meeting/NGP Program Leadership Meeting Minutes - April 26 2017.docx\n",
      "/Users/rmRM/Desktop/Evgenii/DS/Tier 1 - 4/TB-14-76_NGP Prgrm_N/3. Prog. Control/PMLC - Meeting Minutes/1.0 Program Meeting/NGP Program Leadership Meeting Minutes - Aug 9 2017.docx\n",
      "/Users/rmRM/Desktop/Evgenii/DS/Tier 1 - 4/TB-14-76_NGP Prgrm_N/3. Prog. Control/PMLC - Meeting Minutes/1.0 Program Meeting/NGP Program Leadership Meeting Minutes - Feb 01 2017.docx\n",
      "/Users/rmRM/Desktop/Evgenii/DS/Tier 1 - 4/TB-14-76_NGP Prgrm_N/3. Prog. Control/PMLC - Meeting Minutes/1.0 Program Meeting/NGP Program Leadership Meeting Minutes - Feb 15 2017 vF.docx\n",
      "/Users/rmRM/Desktop/Evgenii/DS/Tier 1 - 4/TB-14-76_NGP Prgrm_N/3. Prog. Control/PMLC - Meeting Minutes/1.0 Program Meeting/NGP Program Leadership Meeting Minutes - July 12 2017.docx\n",
      "/Users/rmRM/Desktop/Evgenii/DS/Tier 1 - 4/TB-14-76_NGP Prgrm_N/3. Prog. Control/PMLC - Meeting Minutes/1.0 Program Meeting/NGP Program Leadership Meeting Minutes - June 14 2017.docx\n",
      "/Users/rmRM/Desktop/Evgenii/DS/Tier 1 - 4/TB-14-76_NGP Prgrm_N/3. Prog. Control/PMLC - Meeting Minutes/1.0 Program Meeting/NGP Program Leadership Meeting Minutes - Mar 01 2017.docx\n",
      "/Users/rmRM/Desktop/Evgenii/DS/Tier 1 - 4/TB-14-76_NGP Prgrm_N/3. Prog. Control/PMLC - Meeting Minutes/1.0 Program Meeting/NGP Program Leadership Meeting Minutes - Mar 15 2017.docx\n",
      "/Users/rmRM/Desktop/Evgenii/DS/Tier 1 - 4/TB-14-76_NGP Prgrm_N/3. Prog. Control/PMLC - Meeting Minutes/1.0 Program Meeting/NGP Program Leadership Meeting Minutes - Sep 20 2017.docx\n",
      "/Users/rmRM/Desktop/Evgenii/DS/Tier 1 - 4/TB-14-76_NGP Prgrm_N/3. Prog. Control/PMLC - Meeting Minutes/1.0 Program Meeting/NGP Program Touchpoint Meeting Minutes - Sept 10 v 01.doc\n",
      "/Users/rmRM/Desktop/Evgenii/DS/Tier 1 - 4/TB-14-76_NGP Prgrm_N/3. Prog. Control/PMLC - Meeting Minutes/1.0 Program Meeting/NGP Program Touchpoint Meeting Minutes - Sept 10 v 01.docx\n",
      "/Users/rmRM/Desktop/Evgenii/DS/Tier 1 - 4/TB-14-76_NGP Prgrm_N/3. Prog. Control/PMLC - Meeting Minutes/1.0 Program Meeting/NGP Touchbase Team Meeting Minutes - August 17 2016.docx\n",
      "/Users/rmRM/Desktop/Evgenii/DS/Tier 1 - 4/TB-14-76_NGP Prgrm_N/3. Prog. Control/PMLC - Meeting Minutes/1.0 Program Meeting/NGP Touchbase Team Meeting Minutes - August 31 2016.docx\n",
      "/Users/rmRM/Desktop/Evgenii/DS/Tier 1 - 4/TB-14-76_NGP Prgrm_N/3. Prog. Control/PMLC - Meeting Minutes/1.0 Program Meeting/NGP Touchbase Team Meeting Minutes - Dec 7.doc\n",
      "/Users/rmRM/Desktop/Evgenii/DS/Tier 1 - 4/TB-14-76_NGP Prgrm_N/3. Prog. Control/PMLC - Meeting Minutes/1.0 Program Meeting/NGP Touchbase Team Meeting Minutes - Dec 7.docx\n",
      "/Users/rmRM/Desktop/Evgenii/DS/Tier 1 - 4/TB-14-76_NGP Prgrm_N/3. Prog. Control/PMLC - Meeting Minutes/1.0 Program Meeting/NGP Touchbase Team Meeting Minutes - Feb 17_2016.docx\n",
      "/Users/rmRM/Desktop/Evgenii/DS/Tier 1 - 4/TB-14-76_NGP Prgrm_N/3. Prog. Control/PMLC - Meeting Minutes/1.0 Program Meeting/NGP Touchbase Team Meeting Minutes - Feb 3_2016.doc\n",
      "/Users/rmRM/Desktop/Evgenii/DS/Tier 1 - 4/TB-14-76_NGP Prgrm_N/3. Prog. Control/PMLC - Meeting Minutes/1.0 Program Meeting/NGP Touchbase Team Meeting Minutes - Feb 3_2016.docx\n",
      "/Users/rmRM/Desktop/Evgenii/DS/Tier 1 - 4/TB-14-76_NGP Prgrm_N/3. Prog. Control/PMLC - Meeting Minutes/1.0 Program Meeting/NGP Touchbase Team Meeting Minutes - Jan 20_2016.doc\n",
      "/Users/rmRM/Desktop/Evgenii/DS/Tier 1 - 4/TB-14-76_NGP Prgrm_N/3. Prog. Control/PMLC - Meeting Minutes/1.0 Program Meeting/NGP Touchbase Team Meeting Minutes - Jan 20_2016.docx\n",
      "/Users/rmRM/Desktop/Evgenii/DS/Tier 1 - 4/TB-14-76_NGP Prgrm_N/3. Prog. Control/PMLC - Meeting Minutes/1.0 Program Meeting/NGP Touchbase Team Meeting Minutes - June 08 2016.docx\n",
      "/Users/rmRM/Desktop/Evgenii/DS/Tier 1 - 4/TB-14-76_NGP Prgrm_N/3. Prog. Control/PMLC - Meeting Minutes/1.0 Program Meeting/NGP Touchbase Team Meeting Minutes - June 22 2016.docx\n",
      "/Users/rmRM/Desktop/Evgenii/DS/Tier 1 - 4/TB-14-76_NGP Prgrm_N/3. Prog. Control/PMLC - Meeting Minutes/1.0 Program Meeting/NGP Touchbase Team Meeting Minutes - Mar 16_2016.docx\n",
      "/Users/rmRM/Desktop/Evgenii/DS/Tier 1 - 4/TB-14-76_NGP Prgrm_N/3. Prog. Control/PMLC - Meeting Minutes/1.0 Program Meeting/NGP Touchbase Team Meeting Minutes - May 11_2016.docx\n",
      "/Users/rmRM/Desktop/Evgenii/DS/Tier 1 - 4/TB-14-76_NGP Prgrm_N/3. Prog. Control/PMLC - Meeting Minutes/1.0 Program Meeting/NGP Touchbase Team Meeting Minutes - Oct 14.doc\n",
      "/Users/rmRM/Desktop/Evgenii/DS/Tier 1 - 4/TB-14-76_NGP Prgrm_N/3. Prog. Control/PMLC - Meeting Minutes/1.0 Program Meeting/NGP Touchbase Team Meeting Minutes - Oct 14.docx\n",
      "/Users/rmRM/Desktop/Evgenii/DS/Tier 1 - 4/TB-14-76_NGP Prgrm_N/3. Prog. Control/PMLC - Meeting Minutes/1.0 Program Meeting/NGP Touchbase Team Meeting Minutes - October 13 2016.docx\n",
      "/Users/rmRM/Desktop/Evgenii/DS/Tier 1 - 4/TB-14-76_NGP Prgrm_N/3. Prog. Control/PMLC - Meeting Minutes/1.0 Program Meeting/NGP Touchbase Team Meeting Minutes - October 26 2016.docx\n",
      "/Users/rmRM/Desktop/Evgenii/DS/Tier 1 - 4/TB-14-76_NGP Prgrm_N/3. Prog. Control/PMLC - Meeting Minutes/1.0 Program Meeting/NGP-S Checkpoint Minutes July 11, 2018.docx\n",
      "/Users/rmRM/Desktop/Evgenii/DS/Tier 1 - 4/TB-14-76_NGP Prgrm_N/3. Prog. Control/PMLC - Meeting Minutes/1.0 Program Meeting/NGP-S Checkpoint Minutes July 13, 2018.docx\n",
      "/Users/rmRM/Desktop/Evgenii/DS/Tier 1 - 4/TB-14-76_NGP Prgrm_N/3. Prog. Control/PMLC - Meeting Minutes/1.0 Program Meeting/NGP-S Checkpoint Minutes July 16, 2018.docx\n",
      "/Users/rmRM/Desktop/Evgenii/DS/Tier 1 - 4/TB-14-76_NGP Prgrm_N/3. Prog. Control/PMLC - Meeting Minutes/1.0 Program Meeting/NGP-S Checkpoint Minutes July 20, 2018.docx\n",
      "/Users/rmRM/Desktop/Evgenii/DS/Tier 1 - 4/TB-14-76_NGP Prgrm_N/3. Prog. Control/PMLC - Meeting Minutes/1.0 Program Meeting/NGP-S Checkpoint Minutes July 23, 2018.docx\n",
      "/Users/rmRM/Desktop/Evgenii/DS/Tier 1 - 4/TB-14-76_NGP Prgrm_N/3. Prog. Control/PMLC - Meeting Minutes/1.0 Program Meeting/NGP-S Checkpoint Minutes July 5, 2018.docx\n",
      "/Users/rmRM/Desktop/Evgenii/DS/Tier 1 - 4/TB-14-76_NGP Prgrm_N/3. Prog. Control/PMLC - Meeting Minutes/1.0 Program Meeting/NGP-S Checkpoint Minutes July 6, 2018.docx\n",
      "/Users/rmRM/Desktop/Evgenii/DS/Tier 1 - 4/TB-14-76_NGP Prgrm_N/3. Prog. Control/PMLC - Meeting Minutes/1.0 Program Meeting/NGP-S Checkpoint Minutes July 9, 2018.docx\n",
      "/Users/rmRM/Desktop/Evgenii/DS/Tier 1 - 4/TB-14-76_NGP Prgrm_N/3. Prog. Control/PMLC - Meeting Minutes/1.0 Program Meeting/NGP-S Checkpoint Minutes June 27, 2018.docx\n",
      "/Users/rmRM/Desktop/Evgenii/DS/Tier 1 - 4/TB-14-76_NGP Prgrm_N/3. Prog. Control/PMLC - Meeting Minutes/1.1 Staff Meeting/Digital Delivery and NGP Team Meeting Minutes - Aug 29 2017.docx\n",
      "/Users/rmRM/Desktop/Evgenii/DS/Tier 1 - 4/TB-14-76_NGP Prgrm_N/3. Prog. Control/PMLC - Meeting Minutes/1.1 Staff Meeting/Digital Delivery and NGP Team Meeting Minutes - Aug 9 2017.docx\n",
      "/Users/rmRM/Desktop/Evgenii/DS/Tier 1 - 4/TB-14-76_NGP Prgrm_N/3. Prog. Control/PMLC - Meeting Minutes/1.1 Staff Meeting/Digital Delivery and NGP Team Meeting Minutes - June 20 2017.docx\n",
      "/Users/rmRM/Desktop/Evgenii/DS/Tier 1 - 4/TB-14-76_NGP Prgrm_N/3. Prog. Control/PMLC - Meeting Minutes/1.1 Staff Meeting/Digital Delivery and NGP Team Meeting Minutes - Sep 15 2017.docx\n",
      "/Users/rmRM/Desktop/Evgenii/DS/Tier 1 - 4/TB-14-76_NGP Prgrm_N/3. Prog. Control/PMLC - Meeting Minutes/1.1 Staff Meeting/NGP Staff Interaction Meeting Minutes - Dec 01.doc\n",
      "/Users/rmRM/Desktop/Evgenii/DS/Tier 1 - 4/TB-14-76_NGP Prgrm_N/3. Prog. Control/PMLC - Meeting Minutes/1.1 Staff Meeting/NGP Staff Interaction Meeting Minutes - Dec 01.docx\n"
     ]
    },
    {
     "name": "stderr",
     "output_type": "stream",
     "text": [
      " 15%|█▌        | 1243/8058 [00:13<01:16, 88.56it/s]"
     ]
    },
    {
     "name": "stdout",
     "output_type": "stream",
     "text": [
      "/Users/rmRM/Desktop/Evgenii/DS/Tier 1 - 4/TB-14-76_NGP Prgrm_N/3. Prog. Control/PMLC - Meeting Minutes/1.1 Staff Meeting/NGP Staff Interaction Meeting Minutes - Jan 12.doc\n",
      "/Users/rmRM/Desktop/Evgenii/DS/Tier 1 - 4/TB-14-76_NGP Prgrm_N/3. Prog. Control/PMLC - Meeting Minutes/1.1 Staff Meeting/NGP Staff Interaction Meeting Minutes - Jan 12.docx\n",
      "/Users/rmRM/Desktop/Evgenii/DS/Tier 1 - 4/TB-14-76_NGP Prgrm_N/3. Prog. Control/PMLC - Meeting Minutes/1.1 Staff Meeting/NGP Staff Interaction Meeting Minutes - Jan 28.doc\n",
      "/Users/rmRM/Desktop/Evgenii/DS/Tier 1 - 4/TB-14-76_NGP Prgrm_N/3. Prog. Control/PMLC - Meeting Minutes/1.1 Staff Meeting/NGP Staff Interaction Meeting Minutes - Jan 28.docx\n",
      "/Users/rmRM/Desktop/Evgenii/DS/Tier 1 - 4/TB-14-76_NGP Prgrm_N/3. Prog. Control/PMLC - Meeting Minutes/1.1 Staff Meeting/NGP Staff Interaction Meeting Minutes - Nov 03.doc\n",
      "/Users/rmRM/Desktop/Evgenii/DS/Tier 1 - 4/TB-14-76_NGP Prgrm_N/3. Prog. Control/PMLC - Meeting Minutes/1.1 Staff Meeting/NGP Staff Interaction Meeting Minutes - Nov 03.docx\n",
      "/Users/rmRM/Desktop/Evgenii/DS/Tier 1 - 4/TB-14-76_NGP Prgrm_N/3. Prog. Control/PMLC - Meeting Minutes/1.1 Staff Meeting/NGP Staff Interaction Meeting Minutes - Nov 18.doc\n",
      "/Users/rmRM/Desktop/Evgenii/DS/Tier 1 - 4/TB-14-76_NGP Prgrm_N/3. Prog. Control/PMLC - Meeting Minutes/1.1 Staff Meeting/NGP Staff Interaction Meeting Minutes - Nov 18.docx\n",
      "/Users/rmRM/Desktop/Evgenii/DS/Tier 1 - 4/TB-14-76_NGP Prgrm_N/3. Prog. Control/PMLC - Meeting Minutes/1.1 Staff Meeting/NGP Staff Interaction Minutes August 09 2016.docx\n",
      "/Users/rmRM/Desktop/Evgenii/DS/Tier 1 - 4/TB-14-76_NGP Prgrm_N/3. Prog. Control/PMLC - Meeting Minutes/1.1 Staff Meeting/NGP Staff Interaction Minutes February 7 2017.docx\n",
      "/Users/rmRM/Desktop/Evgenii/DS/Tier 1 - 4/TB-14-76_NGP Prgrm_N/3. Prog. Control/PMLC - Meeting Minutes/1.1 Staff Meeting/NGP Staff Interaction Minutes January 10 2017.docx\n",
      "/Users/rmRM/Desktop/Evgenii/DS/Tier 1 - 4/TB-14-76_NGP Prgrm_N/3. Prog. Control/PMLC - Meeting Minutes/1.1 Staff Meeting/NGP Staff Interaction Minutes July 26 2016.docx\n",
      "/Users/rmRM/Desktop/Evgenii/DS/Tier 1 - 4/TB-14-76_NGP Prgrm_N/3. Prog. Control/PMLC - Meeting Minutes/1.1 Staff Meeting/NGP Staff Interaction Minutes June 28 2016.docx\n",
      "/Users/rmRM/Desktop/Evgenii/DS/Tier 1 - 4/TB-14-76_NGP Prgrm_N/3. Prog. Control/PMLC - Meeting Minutes/1.1 Staff Meeting/NGP Staff Interaction Minutes May 16 2017.docx\n",
      "/Users/rmRM/Desktop/Evgenii/DS/Tier 1 - 4/TB-14-76_NGP Prgrm_N/3. Prog. Control/PMLC - Meeting Minutes/1.1 Staff Meeting/NGP Staff Interaction Minutes October 04 2016.docx\n",
      "/Users/rmRM/Desktop/Evgenii/DS/Tier 1 - 4/TB-14-76_NGP Prgrm_N/3. Prog. Control/PMLC - Meeting Minutes/1.1 Staff Meeting/Staff Interation Meeting Minutes - Feb 23_2016.docx\n",
      "/Users/rmRM/Desktop/Evgenii/DS/Tier 1 - 4/TB-14-76_NGP Prgrm_N/3. Prog. Control/PMLC - Meeting Minutes/1.1 Staff Meeting/Staff Interation Meeting Minutes - May 17_2016.docx\n",
      "/Users/rmRM/Desktop/Evgenii/DS/Tier 1 - 4/TB-14-76_NGP Prgrm_N/3. Prog. Control/PMLC - Meeting Minutes/1.2 Stakeholder Committee Meetings/NGP Executive Stakeholder Meeting Minutes Apr 27 2017.docx\n",
      "/Users/rmRM/Desktop/Evgenii/DS/Tier 1 - 4/TB-14-76_NGP Prgrm_N/3. Prog. Control/PMLC - Meeting Minutes/1.2 Stakeholder Committee Meetings/NGP Executive Stakeholder Meeting Minutes Aug 16 2016.docx\n",
      "/Users/rmRM/Desktop/Evgenii/DS/Tier 1 - 4/TB-14-76_NGP Prgrm_N/3. Prog. Control/PMLC - Meeting Minutes/1.2 Stakeholder Committee Meetings/NGP Executive Stakeholder Meeting Minutes Aug 28 2017.docx\n",
      "/Users/rmRM/Desktop/Evgenii/DS/Tier 1 - 4/TB-14-76_NGP Prgrm_N/3. Prog. Control/PMLC - Meeting Minutes/1.2 Stakeholder Committee Meetings/NGP Executive Stakeholder Meeting Minutes Feb 21 2017.docx\n",
      "/Users/rmRM/Desktop/Evgenii/DS/Tier 1 - 4/TB-14-76_NGP Prgrm_N/3. Prog. Control/PMLC - Meeting Minutes/1.2 Stakeholder Committee Meetings/NGP Executive Stakeholder Meeting Minutes Jan 17 2017.docx\n",
      "/Users/rmRM/Desktop/Evgenii/DS/Tier 1 - 4/TB-14-76_NGP Prgrm_N/3. Prog. Control/PMLC - Meeting Minutes/1.2 Stakeholder Committee Meetings/NGP Executive Stakeholder Meeting Minutes July 31 2017.docx\n",
      "/Users/rmRM/Desktop/Evgenii/DS/Tier 1 - 4/TB-14-76_NGP Prgrm_N/3. Prog. Control/PMLC - Meeting Minutes/1.2 Stakeholder Committee Meetings/NGP Executive Stakeholder Meeting Minutes Mar 27 2017.docx\n",
      "/Users/rmRM/Desktop/Evgenii/DS/Tier 1 - 4/TB-14-76_NGP Prgrm_N/3. Prog. Control/PMLC - Meeting Minutes/1.2 Stakeholder Committee Meetings/NGP Executive Stakeholder Meeting Minutes May 25 2017.docx\n",
      "/Users/rmRM/Desktop/Evgenii/DS/Tier 1 - 4/TB-14-76_NGP Prgrm_N/3. Prog. Control/PMLC - Meeting Minutes/1.2 Stakeholder Committee Meetings/NGP Executive Stakeholder Meeting Minutes Nov 06 2017.docx\n",
      "/Users/rmRM/Desktop/Evgenii/DS/Tier 1 - 4/TB-14-76_NGP Prgrm_N/3. Prog. Control/PMLC - Meeting Minutes/1.2 Stakeholder Committee Meetings/NGP Executive Stakeholder Meeting Minutes Oct 02 2017.docx\n",
      "/Users/rmRM/Desktop/Evgenii/DS/Tier 1 - 4/TB-14-76_NGP Prgrm_N/3. Prog. Control/PMLC - Meeting Minutes/1.2 Stakeholder Committee Meetings/NGP Executive Stakeholder Meeting Minutes Oct 17 2016.docx\n",
      "/Users/rmRM/Desktop/Evgenii/DS/Tier 1 - 4/TB-14-76_NGP Prgrm_N/3. Prog. Control/PMLC - Meeting Minutes/1.2 Stakeholder Committee Meetings/NGP Executive Stakeholder Meeting Minutes Oct 18 2017.docx\n",
      "/Users/rmRM/Desktop/Evgenii/DS/Tier 1 - 4/TB-14-76_NGP Prgrm_N/3. Prog. Control/PMLC - Meeting Minutes/1.2 Stakeholder Committee Meetings/NGP Executive Stakeholder Meeting Minutes Sep 19 2016.docx\n",
      "/Users/rmRM/Desktop/Evgenii/DS/Tier 1 - 4/TB-14-76_NGP Prgrm_N/3. Prog. Control/PMLC - Meeting Minutes/1.2 Stakeholder Committee Meetings/NGP Executive Stakeholder Meeting Minutes Sep 20 2017.docx\n",
      "/Users/rmRM/Desktop/Evgenii/DS/Tier 1 - 4/TB-14-76_NGP Prgrm_N/3. Prog. Control/PMLC - Meeting Minutes/1.2 Stakeholder Committee Meetings/NGP Stakeholder Meeting Minutes - 07_18_2016 v 01.docx\n",
      "/Users/rmRM/Desktop/Evgenii/DS/Tier 1 - 4/TB-14-76_NGP Prgrm_N/3. Prog. Control/PMLC - Meeting Minutes/1.2 Stakeholder Committee Meetings/NGP Stakeholder Meeting Minutes - Apr 25 v 01.docx\n",
      "/Users/rmRM/Desktop/Evgenii/DS/Tier 1 - 4/TB-14-76_NGP Prgrm_N/3. Prog. Control/PMLC - Meeting Minutes/1.2 Stakeholder Committee Meetings/NGP Stakeholder Meeting Minutes - Dec 7 v 01.doc\n",
      "/Users/rmRM/Desktop/Evgenii/DS/Tier 1 - 4/TB-14-76_NGP Prgrm_N/3. Prog. Control/PMLC - Meeting Minutes/1.2 Stakeholder Committee Meetings/NGP Stakeholder Meeting Minutes - Dec 7 v 01.docx\n",
      "/Users/rmRM/Desktop/Evgenii/DS/Tier 1 - 4/TB-14-76_NGP Prgrm_N/3. Prog. Control/PMLC - Meeting Minutes/1.2 Stakeholder Committee Meetings/NGP Stakeholder Meeting Minutes - Feb 18 v 01.docx\n",
      "/Users/rmRM/Desktop/Evgenii/DS/Tier 1 - 4/TB-14-76_NGP Prgrm_N/3. Prog. Control/PMLC - Meeting Minutes/1.2 Stakeholder Committee Meetings/NGP Stakeholder Meeting Minutes - Jan 18 v 01.doc\n",
      "/Users/rmRM/Desktop/Evgenii/DS/Tier 1 - 4/TB-14-76_NGP Prgrm_N/3. Prog. Control/PMLC - Meeting Minutes/1.2 Stakeholder Committee Meetings/NGP Stakeholder Meeting Minutes - Jan 18 v 01.docx\n",
      "/Users/rmRM/Desktop/Evgenii/DS/Tier 1 - 4/TB-14-76_NGP Prgrm_N/3. Prog. Control/PMLC - Meeting Minutes/1.2 Stakeholder Committee Meetings/NGP Stakeholder Meeting Minutes - July 17 v 01.doc\n",
      "/Users/rmRM/Desktop/Evgenii/DS/Tier 1 - 4/TB-14-76_NGP Prgrm_N/3. Prog. Control/PMLC - Meeting Minutes/1.2 Stakeholder Committee Meetings/NGP Stakeholder Meeting Minutes - July 17 v 01.docx\n",
      "/Users/rmRM/Desktop/Evgenii/DS/Tier 1 - 4/TB-14-76_NGP Prgrm_N/3. Prog. Control/PMLC - Meeting Minutes/1.2 Stakeholder Committee Meetings/NGP Stakeholder Meeting Minutes - May 19 v 01.docx\n",
      "/Users/rmRM/Desktop/Evgenii/DS/Tier 1 - 4/TB-14-76_NGP Prgrm_N/3. Prog. Control/PMLC - Meeting Minutes/1.2 Stakeholder Committee Meetings/NGP Stakeholder Meeting Minutes - Nov 16 v 01.doc\n",
      "/Users/rmRM/Desktop/Evgenii/DS/Tier 1 - 4/TB-14-76_NGP Prgrm_N/3. Prog. Control/PMLC - Meeting Minutes/1.2 Stakeholder Committee Meetings/NGP Stakeholder Meeting Minutes - Nov 16 v 01.docx\n",
      "/Users/rmRM/Desktop/Evgenii/DS/Tier 1 - 4/TB-14-76_NGP Prgrm_N/3. Prog. Control/PMLC - Meeting Minutes/1.2 Stakeholder Committee Meetings/NGP Stakeholder Meeting Minutes - Oct 14 v 01.doc\n"
     ]
    },
    {
     "name": "stderr",
     "output_type": "stream",
     "text": [
      " 16%|█▌        | 1268/8058 [00:13<01:03, 107.31it/s]"
     ]
    },
    {
     "name": "stdout",
     "output_type": "stream",
     "text": [
      "/Users/rmRM/Desktop/Evgenii/DS/Tier 1 - 4/TB-14-76_NGP Prgrm_N/3. Prog. Control/PMLC - Meeting Minutes/1.2 Stakeholder Committee Meetings/NGP Stakeholder Meeting Minutes - Oct 14 v 01.docx\n",
      "/Users/rmRM/Desktop/Evgenii/DS/Tier 1 - 4/TB-14-76_NGP Prgrm_N/3. Prog. Control/PMLC - Meeting Minutes/1.2 Stakeholder Committee Meetings/NGP Stakeholder Meeting Minutes - Sept 16 v 01.doc\n",
      "/Users/rmRM/Desktop/Evgenii/DS/Tier 1 - 4/TB-14-76_NGP Prgrm_N/3. Prog. Control/PMLC - Meeting Minutes/1.2 Stakeholder Committee Meetings/NGP Stakeholder Meeting Minutes - Sept 16 v 01.docx\n",
      "/Users/rmRM/Desktop/Evgenii/DS/Tier 1 - 4/TB-14-76_NGP Prgrm_N/3. Prog. Control/PMLC - Meeting Minutes/1.2 Stakeholder Committee Meetings/NGP Stakeholder Meeting Minutes June 20 2016.docx\n",
      "/Users/rmRM/Desktop/Evgenii/DS/Tier 1 - 4/TB-14-76_NGP Prgrm_N/3. Prog. Control/PMLC - Meeting Minutes/1.2 Stakeholder Committee Meetings/NGP Stakeholder Meeting Minutes_Feb 23 v 01.doc\n",
      "/Users/rmRM/Desktop/Evgenii/DS/Tier 1 - 4/TB-14-76_NGP Prgrm_N/3. Prog. Control/PMLC - Meeting Minutes/1.2 Stakeholder Committee Meetings/NGP Stakeholder Meeting Minutes_Feb 23 v 01.docx\n",
      "/Users/rmRM/Desktop/Evgenii/DS/Tier 1 - 4/TB-14-76_NGP Prgrm_N/3. Prog. Control/PMLC - Meeting Minutes/1.3 Steering Committee Meetings/NGP Executive Steering Committee Minutes - Jun 14_2016.docx\n",
      "/Users/rmRM/Desktop/Evgenii/DS/Tier 1 - 4/TB-14-76_NGP Prgrm_N/3. Prog. Control/PMLC - Meeting Minutes/1.3 Steering Committee Meetings/NGP Executive Steering Committee Minutes - Jun 28_2016.docx\n",
      "/Users/rmRM/Desktop/Evgenii/DS/Tier 1 - 4/TB-14-76_NGP Prgrm_N/3. Prog. Control/PMLC - Meeting Minutes/1.3 Steering Committee Meetings/NGP Executive Steering Committee Minutes 01_16_2018 vF.docx\n",
      "/Users/rmRM/Desktop/Evgenii/DS/Tier 1 - 4/TB-14-76_NGP Prgrm_N/3. Prog. Control/PMLC - Meeting Minutes/1.3 Steering Committee Meetings/NGP Executive Steering Committee Minutes 01_24_2017 vF.docx\n",
      "/Users/rmRM/Desktop/Evgenii/DS/Tier 1 - 4/TB-14-76_NGP Prgrm_N/3. Prog. Control/PMLC - Meeting Minutes/1.3 Steering Committee Meetings/NGP Executive Steering Committee Minutes 02_28_2017 vF.docx\n",
      "/Users/rmRM/Desktop/Evgenii/DS/Tier 1 - 4/TB-14-76_NGP Prgrm_N/3. Prog. Control/PMLC - Meeting Minutes/1.3 Steering Committee Meetings/NGP Executive Steering Committee Minutes 03_23_2017 vF.docx\n",
      "/Users/rmRM/Desktop/Evgenii/DS/Tier 1 - 4/TB-14-76_NGP Prgrm_N/3. Prog. Control/PMLC - Meeting Minutes/1.3 Steering Committee Meetings/NGP Executive Steering Committee Minutes 04_17_2018.docx\n",
      "/Users/rmRM/Desktop/Evgenii/DS/Tier 1 - 4/TB-14-76_NGP Prgrm_N/3. Prog. Control/PMLC - Meeting Minutes/1.3 Steering Committee Meetings/NGP Executive Steering Committee Minutes 04_25_2017.docx\n",
      "/Users/rmRM/Desktop/Evgenii/DS/Tier 1 - 4/TB-14-76_NGP Prgrm_N/3. Prog. Control/PMLC - Meeting Minutes/1.3 Steering Committee Meetings/NGP Executive Steering Committee Minutes 05_15_2018.docx\n",
      "/Users/rmRM/Desktop/Evgenii/DS/Tier 1 - 4/TB-14-76_NGP Prgrm_N/3. Prog. Control/PMLC - Meeting Minutes/1.3 Steering Committee Meetings/NGP Executive Steering Committee Minutes 06_19_2018.docx\n",
      "/Users/rmRM/Desktop/Evgenii/DS/Tier 1 - 4/TB-14-76_NGP Prgrm_N/3. Prog. Control/PMLC - Meeting Minutes/1.3 Steering Committee Meetings/NGP Executive Steering Committee Minutes 06_27_2017 vF.docx\n",
      "/Users/rmRM/Desktop/Evgenii/DS/Tier 1 - 4/TB-14-76_NGP Prgrm_N/3. Prog. Control/PMLC - Meeting Minutes/1.3 Steering Committee Meetings/NGP Executive Steering Committee Minutes 07_25_2017 vF.docx\n",
      "/Users/rmRM/Desktop/Evgenii/DS/Tier 1 - 4/TB-14-76_NGP Prgrm_N/3. Prog. Control/PMLC - Meeting Minutes/1.3 Steering Committee Meetings/NGP Executive Steering Committee Minutes 08_22_2017 vF.docx\n",
      "/Users/rmRM/Desktop/Evgenii/DS/Tier 1 - 4/TB-14-76_NGP Prgrm_N/3. Prog. Control/PMLC - Meeting Minutes/1.3 Steering Committee Meetings/NGP Executive Steering Committee Minutes 09_14_2017 vF.docx\n",
      "/Users/rmRM/Desktop/Evgenii/DS/Tier 1 - 4/TB-14-76_NGP Prgrm_N/3. Prog. Control/PMLC - Meeting Minutes/1.3 Steering Committee Meetings/NGP Executive Steering Committee Minutes 09_26_2017 vF.docx\n",
      "/Users/rmRM/Desktop/Evgenii/DS/Tier 1 - 4/TB-14-76_NGP Prgrm_N/3. Prog. Control/PMLC - Meeting Minutes/1.3 Steering Committee Meetings/NGP Executive Steering Committee Minutes 10_13_2017 vF.docx\n",
      "/Users/rmRM/Desktop/Evgenii/DS/Tier 1 - 4/TB-14-76_NGP Prgrm_N/3. Prog. Control/PMLC - Meeting Minutes/1.3 Steering Committee Meetings/NGP Executive Steering Committee Minutes 11_03_2017 vF.docx\n",
      "/Users/rmRM/Desktop/Evgenii/DS/Tier 1 - 4/TB-14-76_NGP Prgrm_N/3. Prog. Control/PMLC - Meeting Minutes/1.3 Steering Committee Meetings/NGP Executive Steering Committee Minutes 11_21_2016.docx\n",
      "/Users/rmRM/Desktop/Evgenii/DS/Tier 1 - 4/TB-14-76_NGP Prgrm_N/3. Prog. Control/PMLC - Meeting Minutes/1.3 Steering Committee Meetings/NGP Executive Steering Committee Minutes 12_06_2017 vF.docx\n",
      "/Users/rmRM/Desktop/Evgenii/DS/Tier 1 - 4/TB-14-76_NGP Prgrm_N/3. Prog. Control/PMLC - Meeting Minutes/1.3 Steering Committee Meetings/NGP Executive Steering Committee Minutes 12_16_2016.docx\n",
      "/Users/rmRM/Desktop/Evgenii/DS/Tier 1 - 4/TB-14-76_NGP Prgrm_N/3. Prog. Control/PMLC - Meeting Minutes/1.3 Steering Committee Meetings/NGP Executive Steering Meeting Minutes - Apr 24 v 01.doc\n",
      "/Users/rmRM/Desktop/Evgenii/DS/Tier 1 - 4/TB-14-76_NGP Prgrm_N/3. Prog. Control/PMLC - Meeting Minutes/1.3 Steering Committee Meetings/NGP Executive Steering Meeting Minutes - Apr 24 v 01.docx\n",
      "/Users/rmRM/Desktop/Evgenii/DS/Tier 1 - 4/TB-14-76_NGP Prgrm_N/3. Prog. Control/PMLC - Meeting Minutes/1.3 Steering Committee Meetings/NGP Executive Steering Meeting Minutes - Aug 20 v.01.doc\n",
      "/Users/rmRM/Desktop/Evgenii/DS/Tier 1 - 4/TB-14-76_NGP Prgrm_N/3. Prog. Control/PMLC - Meeting Minutes/1.3 Steering Committee Meetings/NGP Executive Steering Meeting Minutes - Aug 20 v.01.docx\n",
      "/Users/rmRM/Desktop/Evgenii/DS/Tier 1 - 4/TB-14-76_NGP Prgrm_N/3. Prog. Control/PMLC - Meeting Minutes/1.3 Steering Committee Meetings/NGP Executive Steering Meeting Minutes - Dec 14 v.01.doc\n",
      "/Users/rmRM/Desktop/Evgenii/DS/Tier 1 - 4/TB-14-76_NGP Prgrm_N/3. Prog. Control/PMLC - Meeting Minutes/1.3 Steering Committee Meetings/NGP Executive Steering Meeting Minutes - Dec 14 v.01.docx\n",
      "/Users/rmRM/Desktop/Evgenii/DS/Tier 1 - 4/TB-14-76_NGP Prgrm_N/3. Prog. Control/PMLC - Meeting Minutes/1.3 Steering Committee Meetings/NGP Executive Steering Meeting Minutes - July 20 vF.doc\n",
      "/Users/rmRM/Desktop/Evgenii/DS/Tier 1 - 4/TB-14-76_NGP Prgrm_N/3. Prog. Control/PMLC - Meeting Minutes/1.3 Steering Committee Meetings/NGP Executive Steering Meeting Minutes - July 20 vF.docx\n",
      "/Users/rmRM/Desktop/Evgenii/DS/Tier 1 - 4/TB-14-76_NGP Prgrm_N/3. Prog. Control/PMLC - Meeting Minutes/1.3 Steering Committee Meetings/NGP Executive Steering Meeting Minutes - June 26 v 01.doc\n",
      "/Users/rmRM/Desktop/Evgenii/DS/Tier 1 - 4/TB-14-76_NGP Prgrm_N/3. Prog. Control/PMLC - Meeting Minutes/1.3 Steering Committee Meetings/NGP Executive Steering Meeting Minutes - June 26 v 01.docx\n",
      "/Users/rmRM/Desktop/Evgenii/DS/Tier 1 - 4/TB-14-76_NGP Prgrm_N/3. Prog. Control/PMLC - Meeting Minutes/1.3 Steering Committee Meetings/NGP Executive Steering Meeting Minutes - May 28 v 01.doc\n",
      "/Users/rmRM/Desktop/Evgenii/DS/Tier 1 - 4/TB-14-76_NGP Prgrm_N/3. Prog. Control/PMLC - Meeting Minutes/1.3 Steering Committee Meetings/NGP Executive Steering Meeting Minutes - May 28 v 01.docx\n",
      "/Users/rmRM/Desktop/Evgenii/DS/Tier 1 - 4/TB-14-76_NGP Prgrm_N/3. Prog. Control/PMLC - Meeting Minutes/1.3 Steering Committee Meetings/NGP Executive Steering Meeting Minutes - Nov 19 v.01.doc\n",
      "/Users/rmRM/Desktop/Evgenii/DS/Tier 1 - 4/TB-14-76_NGP Prgrm_N/3. Prog. Control/PMLC - Meeting Minutes/1.3 Steering Committee Meetings/NGP Executive Steering Meeting Minutes - Nov 19 v.01.docx\n",
      "/Users/rmRM/Desktop/Evgenii/DS/Tier 1 - 4/TB-14-76_NGP Prgrm_N/3. Prog. Control/PMLC - Meeting Minutes/1.3 Steering Committee Meetings/NGP Executive Steering Meeting Minutes - Oct 16 v.01.doc\n"
     ]
    },
    {
     "name": "stderr",
     "output_type": "stream",
     "text": [
      " 16%|█▋        | 1320/8058 [00:13<00:46, 146.03it/s]ERROR:extract_msg.msg:incomplete OLE sector\n"
     ]
    },
    {
     "name": "stdout",
     "output_type": "stream",
     "text": [
      "/Users/rmRM/Desktop/Evgenii/DS/Tier 1 - 4/TB-14-76_NGP Prgrm_N/3. Prog. Control/PMLC - Meeting Minutes/1.3 Steering Committee Meetings/NGP Executive Steering Meeting Minutes - Oct 16 v.01.docx\n",
      "/Users/rmRM/Desktop/Evgenii/DS/Tier 1 - 4/TB-14-76_NGP Prgrm_N/3. Prog. Control/PMLC - Meeting Minutes/1.3 Steering Committee Meetings/NGP Executive Steering Meeting Minutes - Sept 17 v.01.doc\n",
      "/Users/rmRM/Desktop/Evgenii/DS/Tier 1 - 4/TB-14-76_NGP Prgrm_N/3. Prog. Control/PMLC - Meeting Minutes/1.3 Steering Committee Meetings/NGP Executive Steering Meeting Minutes - Sept 17 v.01.docx\n",
      "/Users/rmRM/Desktop/Evgenii/DS/Tier 1 - 4/TB-14-76_NGP Prgrm_N/3. Prog. Control/PMLC - Meeting Minutes/1.3 Steering Committee Meetings/NGP-S Executive Steering Committee Minutes 07_10_2018.docx\n",
      "/Users/rmRM/Desktop/Evgenii/DS/Tier 1 - 4/TB-14-76_NGP Prgrm_N/3. Prog. Control/PMLC - Meeting Minutes/1.3 Steering Committee Meetings/NGP-S Executive Steering Committee Minutes 07_24_2018_.docx\n",
      "/Users/rmRM/Desktop/Evgenii/DS/Tier 1 - 4/TB-14-76_NGP Prgrm_N/3. Prog. Control/PMLC - Meeting Minutes/1.3 Steering Committee Meetings/NGP-S Executive Steering Committee Minutes 08_07_2018.docx\n",
      "/Users/rmRM/Desktop/Evgenii/DS/Tier 1 - 4/TB-14-76_NGP Prgrm_N/3. Prog. Control/PMLC - Meeting Minutes/1.3 Steering Committee Meetings/NGP-S Executive Steering Committee Minutes 08_21_2018_.docx\n",
      "/Users/rmRM/Desktop/Evgenii/DS/Tier 1 - 4/TB-14-76_NGP Prgrm_N/3. Prog. Control/PMLC - Meeting Minutes/1.3 Steering Committee Meetings/NGP-S Executive Steering Committee Minutes 09_06_2018_.docx\n",
      "/Users/rmRM/Desktop/Evgenii/DS/Tier 1 - 4/TB-14-76_NGP Prgrm_N/3. Prog. Control/PMLC - Meeting Minutes/1.3 Steering Committee Meetings/NGP-S Executive Steering Committee Minutes 09_18_2018_.docx\n",
      "/Users/rmRM/Desktop/Evgenii/DS/Tier 1 - 4/TB-14-76_NGP Prgrm_N/3. Prog. Control/PMLC - Meeting Minutes/1.3 Steering Committee Meetings/NGP-S Executive Steering Committee Minutes 10_02_2018_.docx\n",
      "/Users/rmRM/Desktop/Evgenii/DS/Tier 1 - 4/TB-14-76_NGP Prgrm_N/3. Prog. Control/PMLC - Meeting Minutes/1.3 Steering Committee Meetings/NGP_Executive Steering Committee Minutes 10_14_2016.docx\n",
      "/Users/rmRM/Desktop/Evgenii/DS/Tier 1 - 4/TB-14-76_NGP Prgrm_N/3. Prog. Control/PMLC - Meeting Minutes/1.3 Steering Committee Meetings/NGP_Executive Steering Committee Minutes 2_19_2016 v1.docx\n",
      "/Users/rmRM/Desktop/Evgenii/DS/Tier 1 - 4/TB-14-76_NGP Prgrm_N/3. Prog. Control/PMLC - Meeting Minutes/1.3 Steering Committee Meetings/NGP_Executive Steering Committee Minutes 3_02_2016 v1.docx\n",
      "/Users/rmRM/Desktop/Evgenii/DS/Tier 1 - 4/TB-14-76_NGP Prgrm_N/3. Prog. Control/PMLC - Meeting Minutes/1.3 Steering Committee Meetings/NGP_Executive Steering Committee Minutes 3_22_2016 v1.docx\n",
      "/Users/rmRM/Desktop/Evgenii/DS/Tier 1 - 4/TB-14-76_NGP Prgrm_N/3. Prog. Control/PMLC - Meeting Minutes/1.3 Steering Committee Meetings/NGP_Executive Steering Committee Minutes 4_11_2016 v1.docx\n",
      "/Users/rmRM/Desktop/Evgenii/DS/Tier 1 - 4/TB-14-76_NGP Prgrm_N/3. Prog. Control/PMLC - Meeting Minutes/1.3 Steering Committee Meetings/NGP_Executive Steering Committee Minutes 5_9_2016 v1.docx\n",
      "/Users/rmRM/Desktop/Evgenii/DS/Tier 1 - 4/TB-14-76_NGP Prgrm_N/3. Prog. Control/PMLC - Meeting Minutes/1.3 Steering Committee Meetings/NGP_Executive Steering Committee Minutes 7_14_2016 v1.docx\n",
      "/Users/rmRM/Desktop/Evgenii/DS/Tier 1 - 4/TB-14-76_NGP Prgrm_N/3. Prog. Control/PMLC - Meeting Minutes/1.3 Steering Committee Meetings/NGP_Executive Steering Committee Minutes 8_23_2016.docx\n",
      "/Users/rmRM/Desktop/Evgenii/DS/Tier 1 - 4/TB-14-76_NGP Prgrm_N/3. Prog. Control/PMLC - Meeting Minutes/1.4 Executive Touchpoint/NGP Exec Touchpoint Meeting Minutes - Sept 10 v 01.doc\n",
      "/Users/rmRM/Desktop/Evgenii/DS/Tier 1 - 4/TB-14-76_NGP Prgrm_N/3. Prog. Control/PMLC - Meeting Minutes/1.4 Executive Touchpoint/NGP Exec Touchpoint Meeting Minutes - Sept 10 v 01.docx\n",
      "/Users/rmRM/Desktop/Evgenii/DS/Tier 1 - 4/TB-14-76_NGP Prgrm_N/3. Prog. Control/PMLC - Meeting Minutes/1.4 Executive Touchpoint/NGP Exec Touchpoint Meeting Minutes - Sept 25 v 01.doc\n",
      "/Users/rmRM/Desktop/Evgenii/DS/Tier 1 - 4/TB-14-76_NGP Prgrm_N/3. Prog. Control/PMLC - Meeting Minutes/1.4 Executive Touchpoint/NGP Exec Touchpoint Meeting Minutes - Sept 25 v 01.docx\n",
      "/Users/rmRM/Desktop/Evgenii/DS/Tier 1 - 4/TB-14-76_NGP Prgrm_N/3. Prog. Control/PMLC - Meeting Minutes/1.4 Executive Touchpoint/NGP Executive Touchpoint Meeting Minutes - Feb 18 2016 v01.docx\n",
      "/Users/rmRM/Desktop/Evgenii/DS/Tier 1 - 4/TB-14-76_NGP Prgrm_N/3. Prog. Control/PMLC - Meeting Minutes/1.4 Executive Touchpoint/NGP Executive Touchpoint Meeting Minutes - Feb 4 2016 v01.docx\n",
      "/Users/rmRM/Desktop/Evgenii/DS/Tier 1 - 4/TB-14-76_NGP Prgrm_N/3. Prog. Control/PMLC - Meeting Minutes/1.4 Executive Touchpoint/NGP Executive Touchpoint Meeting Minutes - Nov 12 v01.doc\n",
      "/Users/rmRM/Desktop/Evgenii/DS/Tier 1 - 4/TB-14-76_NGP Prgrm_N/3. Prog. Control/PMLC - Meeting Minutes/1.4 Executive Touchpoint/NGP Executive Touchpoint Meeting Minutes - Nov 12 v01.docx\n",
      "/Users/rmRM/Desktop/Evgenii/DS/Tier 1 - 4/TB-14-76_NGP Prgrm_N/3. Prog. Control/PMLC - Meeting Minutes/1.6 Executive Artifact Review/NGP Artifact Review Minutes August 16 2016.docx\n",
      "/Users/rmRM/Desktop/Evgenii/DS/Tier 1 - 4/TB-14-76_NGP Prgrm_N/3. Prog. Control/PMLC - Meeting Minutes/1.6 Executive Artifact Review/NGP Artifact Review Minutes August 22 2017.docx\n",
      "/Users/rmRM/Desktop/Evgenii/DS/Tier 1 - 4/TB-14-76_NGP Prgrm_N/3. Prog. Control/PMLC - Meeting Minutes/1.6 Executive Artifact Review/NGP Artifact Review Minutes July 25 2016.docx\n",
      "/Users/rmRM/Desktop/Evgenii/DS/Tier 1 - 4/TB-14-76_NGP Prgrm_N/3. Prog. Control/PMLC - Meeting Minutes/1.6 Executive Artifact Review/NGP Artifact Review Minutes July 25 2017.docx\n",
      "/Users/rmRM/Desktop/Evgenii/DS/Tier 1 - 4/TB-14-76_NGP Prgrm_N/3. Prog. Control/PMLC - Meeting Minutes/1.6 Executive Artifact Review/NGP Artifact Review Minutes June 14 2017.docx\n",
      "/Users/rmRM/Desktop/Evgenii/DS/Tier 1 - 4/TB-14-76_NGP Prgrm_N/3. Prog. Control/PMLC - Meeting Minutes/1.6 Executive Artifact Review/NGP Artifact Review Minutes October 17 2017.docx\n",
      "/Users/rmRM/Desktop/Evgenii/DS/Tier 1 - 4/TB-14-76_NGP Prgrm_N/3. Prog. Control/PMLC - Meeting Minutes/1.6 Executive Artifact Review/NGP Artifact Review Minutes October 3 2017.docx\n",
      "/Users/rmRM/Desktop/Evgenii/DS/Tier 1 - 4/TB-14-76_NGP Prgrm_N/3. Prog. Control/PMLC - Meeting Minutes/1.7 NGP and Business Program Review/NGP and Business Program Review Minutes - Apr 12 2017.docx\n",
      "/Users/rmRM/Desktop/Evgenii/DS/Tier 1 - 4/TB-14-76_NGP Prgrm_N/3. Prog. Control/PMLC - Meeting Minutes/1.7 NGP and Business Program Review/NGP and Business Program Review Minutes - Aug 9 2017.docx\n",
      "/Users/rmRM/Desktop/Evgenii/DS/Tier 1 - 4/TB-14-76_NGP Prgrm_N/3. Prog. Control/PMLC - Meeting Minutes/1.7 NGP and Business Program Review/NGP and Business Program Review Minutes - Feb 08 2017.docx\n",
      "/Users/rmRM/Desktop/Evgenii/DS/Tier 1 - 4/TB-14-76_NGP Prgrm_N/3. Prog. Control/PMLC - Meeting Minutes/1.7 NGP and Business Program Review/NGP and Business Program Review Minutes - Jan 11 2017.docx\n",
      "/Users/rmRM/Desktop/Evgenii/DS/Tier 1 - 4/TB-14-76_NGP Prgrm_N/3. Prog. Control/PMLC - Meeting Minutes/1.7 NGP and Business Program Review/NGP and Business Program Review Minutes - July 12 2017.docx\n",
      "/Users/rmRM/Desktop/Evgenii/DS/Tier 1 - 4/TB-14-76_NGP Prgrm_N/3. Prog. Control/PMLC - Meeting Minutes/1.7 NGP and Business Program Review/NGP and Business Program Review Minutes - June 14 2017.docx\n",
      "/Users/rmRM/Desktop/Evgenii/DS/Tier 1 - 4/TB-14-76_NGP Prgrm_N/3. Prog. Control/PMLC - Meeting Minutes/1.7 NGP and Business Program Review/NGP and Business Program Review Minutes - Mar 08 2017.docx\n",
      "/Users/rmRM/Desktop/Evgenii/DS/Tier 1 - 4/TB-14-76_NGP Prgrm_N/3. Prog. Control/PMLC - Meeting Minutes/1.7 NGP and Business Program Review/NGP and Business Program Review Minutes - Oct 11 2017.docx\n",
      "/Users/rmRM/Desktop/Evgenii/DS/Tier 1 - 4/TB-14-76_NGP Prgrm_N/3. Prog. Control/PMLC - Meeting Minutes/1.7 NGP and Business Program Review/NGP and Business Program Review Minutes - Oct 19 2016.docx\n",
      "/Users/rmRM/Desktop/Evgenii/DS/Tier 1 - 4/TB-14-76_NGP Prgrm_N/3. Prog. Control/PMLC - Meeting Minutes/1.7 NGP and Business Program Review/NGP and Business Program Review Minutes - Sep 14 2016.docx\n",
      "/Users/rmRM/Desktop/Evgenii/DS/Tier 1 - 4/TB-14-76_NGP Prgrm_N/3. Prog. Control/PMLC - Meeting Minutes/1.7 NGP and Business Program Review/NGP and Business Program Review Minutes - Sep 15 2017.docx\n",
      "/Users/rmRM/Desktop/Evgenii/DS/Tier 1 - 4/TB-14-76_NGP Prgrm_N/3. Prog. Control/PMLC - Meeting Minutes/1.9 Change Control Review/NGP Change Control Review - 04122017 Minutes.msg\n",
      "/Users/rmRM/Desktop/Evgenii/DS/Tier 1 - 4/TB-14-76_NGP Prgrm_N/3. Prog. Control/PMLC - Program Budget Sheet/1.0 Final and Approvals/NGP Program - Budget sheet calculator 05Oct2015 - BD3.xls\n"
     ]
    },
    {
     "name": "stderr",
     "output_type": "stream",
     "text": [
      " 17%|█▋        | 1376/8058 [00:15<01:38, 67.98it/s] "
     ]
    },
    {
     "name": "stdout",
     "output_type": "stream",
     "text": [
      "/Users/rmRM/Desktop/Evgenii/DS/Tier 1 - 4/TB-14-76_NGP Prgrm_N/3. Prog. Control/PMLC - Program Budget Sheet/1.0 Final and Approvals/NGP Program - Budget sheet calculator 05Oct2015 - BD3.xlsx\n",
      "/Users/rmRM/Desktop/Evgenii/DS/Tier 1 - 4/TB-14-76_NGP Prgrm_N/3. Prog. Control/PMLC - Program Budget Sheet/2.0 WIP/Copy of NGP Planning TB-14-19-2  Budget Sheet 07Apr2015.xls\n"
     ]
    },
    {
     "name": "stderr",
     "output_type": "stream",
     "text": [
      "/Users/rmRM/opt/anaconda3/lib/python3.8/site-packages/openpyxl/reader/drawings.py:59: UserWarning: wmf image format is not supported so the image is being dropped\n",
      "  warn(msg)\n"
     ]
    },
    {
     "name": "stdout",
     "output_type": "stream",
     "text": [
      "/Users/rmRM/Desktop/Evgenii/DS/Tier 1 - 4/TB-14-76_NGP Prgrm_N/3. Prog. Control/PMLC - Program Budget Sheet/2.0 WIP/Copy of NGP Planning TB-14-19-2  Budget Sheet 07Apr2015.xlsx\n",
      "/Users/rmRM/Desktop/Evgenii/DS/Tier 1 - 4/TB-14-76_NGP Prgrm_N/3. Prog. Control/PMLC - Program Budget Sheet/2.0 WIP/MIR Meeting Minutes Dec 18_v0 2.doc\n",
      "/Users/rmRM/Desktop/Evgenii/DS/Tier 1 - 4/TB-14-76_NGP Prgrm_N/3. Prog. Control/PMLC - Program Budget Sheet/2.0 WIP/MIR Meeting Minutes Dec 18_v0 2.docx\n",
      "/Users/rmRM/Desktop/Evgenii/DS/Tier 1 - 4/TB-14-76_NGP Prgrm_N/3. Prog. Control/PMLC - Program Budget Sheet/2.0 WIP/NGP Planning TB-14-19-2  Budget Sheet 03Jun2015 BD3.xls\n",
      "/Users/rmRM/Desktop/Evgenii/DS/Tier 1 - 4/TB-14-76_NGP Prgrm_N/3. Prog. Control/PMLC - Program Budget Sheet/2.0 WIP/NGP Planning TB-14-19-2  Budget Sheet 03Jun2015 BD3.xlsx\n",
      "/Users/rmRM/Desktop/Evgenii/DS/Tier 1 - 4/TB-14-76_NGP Prgrm_N/3. Prog. Control/PMLC - Program Budget Sheet/2.0 WIP/NGP Planning TB-14-19-2  Budget Sheet 05May2015 BD10.xls\n",
      "/Users/rmRM/Desktop/Evgenii/DS/Tier 1 - 4/TB-14-76_NGP Prgrm_N/3. Prog. Control/PMLC - Program Budget Sheet/2.0 WIP/NGP Planning TB-14-19-2  Budget Sheet 05May2015 BD10.xlsx\n",
      "/Users/rmRM/Desktop/Evgenii/DS/Tier 1 - 4/TB-14-76_NGP Prgrm_N/3. Prog. Control/PMLC - Program Budget Sheet/2.0 WIP/NGP Planning TB-14-19-2  Budget Sheet 05May2015 BD3.xls\n",
      "/Users/rmRM/Desktop/Evgenii/DS/Tier 1 - 4/TB-14-76_NGP Prgrm_N/3. Prog. Control/PMLC - Program Budget Sheet/2.0 WIP/NGP Planning TB-14-19-2  Budget Sheet 05May2015 BD3.xlsx\n",
      "/Users/rmRM/Desktop/Evgenii/DS/Tier 1 - 4/TB-14-76_NGP Prgrm_N/3. Prog. Control/PMLC - Program Budget Sheet/2.0 WIP/NGP Planning TB-14-19-2  Budget Sheet 07Apr2015.xls\n",
      "/Users/rmRM/Desktop/Evgenii/DS/Tier 1 - 4/TB-14-76_NGP Prgrm_N/3. Prog. Control/PMLC - Program Budget Sheet/2.0 WIP/NGP Planning TB-14-19-2  Budget Sheet 07Apr2015.xlsx\n",
      "/Users/rmRM/Desktop/Evgenii/DS/Tier 1 - 4/TB-14-76_NGP Prgrm_N/3. Prog. Control/PMLC - Program Budget Sheet/2.0 WIP/TB-14-19 US NGP Online Program_Initation Funding - 22Jul2014 v4.pptx\n",
      "/Users/rmRM/Desktop/Evgenii/DS/Tier 1 - 4/TB-14-76_NGP Prgrm_N/3. Prog. Control/PMLC - Program Budget Sheet/2.0 WIP/TB-14-19-2 OLC NGP US Online Budget Sheet 03Apr2014.xls\n",
      "/Users/rmRM/Desktop/Evgenii/DS/Tier 1 - 4/TB-14-76_NGP Prgrm_N/3. Prog. Control/PMLC - Program Budget Sheet/2.0 WIP/TB-14-19-2 OLC NGP US Online Budget Sheet 03Apr2014.xlsx\n",
      "/Users/rmRM/Desktop/Evgenii/DS/Tier 1 - 4/TB-14-76_NGP Prgrm_N/3. Prog. Control/PMLC - Program Budget Sheet/2.0 WIP/TB-14-19-2 OLC NGP US Online Budget Sheet 03Dec2014 - BD3.xls\n"
     ]
    },
    {
     "name": "stderr",
     "output_type": "stream",
     "text": [
      " 17%|█▋        | 1394/8058 [00:22<12:43,  8.72it/s]"
     ]
    },
    {
     "name": "stdout",
     "output_type": "stream",
     "text": [
      "/Users/rmRM/Desktop/Evgenii/DS/Tier 1 - 4/TB-14-76_NGP Prgrm_N/3. Prog. Control/PMLC - Program Budget Sheet/2.0 WIP/TB-14-19-2 OLC NGP US Online Budget Sheet 03Dec2014 - BD3.xlsx\n",
      "/Users/rmRM/Desktop/Evgenii/DS/Tier 1 - 4/TB-14-76_NGP Prgrm_N/3. Prog. Control/PMLC - Program Budget Sheet/2.0 WIP/TB-14-19-2 OLC NGP US Online Budget Sheet 03Mar2014.xls\n",
      "/Users/rmRM/Desktop/Evgenii/DS/Tier 1 - 4/TB-14-76_NGP Prgrm_N/3. Prog. Control/PMLC - Program Budget Sheet/2.0 WIP/TB-14-19-2 OLC NGP US Online Budget Sheet 03Mar2014.xlsx\n",
      "/Users/rmRM/Desktop/Evgenii/DS/Tier 1 - 4/TB-14-76_NGP Prgrm_N/3. Prog. Control/PMLC - Program Budget Sheet/2.0 WIP/TB-14-19-2 OLC NGP US Online Budget Sheet 03Oct2014 final B3.xls\n",
      "/Users/rmRM/Desktop/Evgenii/DS/Tier 1 - 4/TB-14-76_NGP Prgrm_N/3. Prog. Control/PMLC - Program Budget Sheet/2.0 WIP/TB-14-19-2 OLC NGP US Online Budget Sheet 03Oct2014 final B3.xlsx\n",
      "/Users/rmRM/Desktop/Evgenii/DS/Tier 1 - 4/TB-14-76_NGP Prgrm_N/3. Prog. Control/PMLC - Program Budget Sheet/2.0 WIP/TB-14-19-2 OLC NGP US Online Budget Sheet 04Feb2015 BD3.xls\n",
      "/Users/rmRM/Desktop/Evgenii/DS/Tier 1 - 4/TB-14-76_NGP Prgrm_N/3. Prog. Control/PMLC - Program Budget Sheet/2.0 WIP/TB-14-19-2 OLC NGP US Online Budget Sheet 04Feb2015 BD3.xlsx\n",
      "/Users/rmRM/Desktop/Evgenii/DS/Tier 1 - 4/TB-14-76_NGP Prgrm_N/3. Prog. Control/PMLC - Program Budget Sheet/2.0 WIP/TB-14-19-2 OLC NGP US Online Budget Sheet 04Jun2014.xls\n",
      "/Users/rmRM/Desktop/Evgenii/DS/Tier 1 - 4/TB-14-76_NGP Prgrm_N/3. Prog. Control/PMLC - Program Budget Sheet/2.0 WIP/TB-14-19-2 OLC NGP US Online Budget Sheet 04Jun2014.xlsx\n",
      "/Users/rmRM/Desktop/Evgenii/DS/Tier 1 - 4/TB-14-76_NGP Prgrm_N/3. Prog. Control/PMLC - Program Budget Sheet/2.0 WIP/TB-14-19-2 OLC NGP US Online Budget Sheet 04Mar2015 BD3 v2.xls\n",
      "/Users/rmRM/Desktop/Evgenii/DS/Tier 1 - 4/TB-14-76_NGP Prgrm_N/3. Prog. Control/PMLC - Program Budget Sheet/2.0 WIP/TB-14-19-2 OLC NGP US Online Budget Sheet 04Mar2015 BD3 v2.xlsx\n",
      "/Users/rmRM/Desktop/Evgenii/DS/Tier 1 - 4/TB-14-76_NGP Prgrm_N/3. Prog. Control/PMLC - Program Budget Sheet/2.0 WIP/TB-14-19-2 OLC NGP US Online Budget Sheet 05May2014 v2.xls\n"
     ]
    },
    {
     "name": "stderr",
     "output_type": "stream",
     "text": [
      " 17%|█▋        | 1407/8058 [00:26<20:17,  5.46it/s]"
     ]
    },
    {
     "name": "stdout",
     "output_type": "stream",
     "text": [
      "/Users/rmRM/Desktop/Evgenii/DS/Tier 1 - 4/TB-14-76_NGP Prgrm_N/3. Prog. Control/PMLC - Program Budget Sheet/2.0 WIP/TB-14-19-2 OLC NGP US Online Budget Sheet 05May2014 v2.xlsx\n",
      "/Users/rmRM/Desktop/Evgenii/DS/Tier 1 - 4/TB-14-76_NGP Prgrm_N/3. Prog. Control/PMLC - Program Budget Sheet/2.0 WIP/TB-14-19-2 OLC NGP US Online Budget Sheet 05Nov2014 BD3.xls\n",
      "/Users/rmRM/Desktop/Evgenii/DS/Tier 1 - 4/TB-14-76_NGP Prgrm_N/3. Prog. Control/PMLC - Program Budget Sheet/2.0 WIP/TB-14-19-2 OLC NGP US Online Budget Sheet 05Nov2014 BD3.xlsx\n",
      "/Users/rmRM/Desktop/Evgenii/DS/Tier 1 - 4/TB-14-76_NGP Prgrm_N/3. Prog. Control/PMLC - Program Budget Sheet/2.0 WIP/TB-14-19-2 OLC NGP US Online Budget Sheet 06Aug2014.xls\n",
      "/Users/rmRM/Desktop/Evgenii/DS/Tier 1 - 4/TB-14-76_NGP Prgrm_N/3. Prog. Control/PMLC - Program Budget Sheet/2.0 WIP/TB-14-19-2 OLC NGP US Online Budget Sheet 06Aug2014.xlsx\n",
      "/Users/rmRM/Desktop/Evgenii/DS/Tier 1 - 4/TB-14-76_NGP Prgrm_N/3. Prog. Control/PMLC - Program Budget Sheet/2.0 WIP/TB-14-19-2 OLC NGP US Online Budget Sheet 06Feb2015 BD5 v3.xls\n",
      "/Users/rmRM/Desktop/Evgenii/DS/Tier 1 - 4/TB-14-76_NGP Prgrm_N/3. Prog. Control/PMLC - Program Budget Sheet/2.0 WIP/TB-14-19-2 OLC NGP US Online Budget Sheet 06Feb2015 BD5 v3.xlsx\n",
      "/Users/rmRM/Desktop/Evgenii/DS/Tier 1 - 4/TB-14-76_NGP Prgrm_N/3. Prog. Control/PMLC - Program Budget Sheet/2.0 WIP/TB-14-19-2 OLC NGP US Online Budget Sheet 07Oct2014 BD5.xls\n",
      "/Users/rmRM/Desktop/Evgenii/DS/Tier 1 - 4/TB-14-76_NGP Prgrm_N/3. Prog. Control/PMLC - Program Budget Sheet/2.0 WIP/TB-14-19-2 OLC NGP US Online Budget Sheet 07Oct2014 BD5.xlsx\n",
      "/Users/rmRM/Desktop/Evgenii/DS/Tier 1 - 4/TB-14-76_NGP Prgrm_N/3. Prog. Control/PMLC - Program Budget Sheet/2.0 WIP/TB-14-19-2 OLC NGP US Online Budget Sheet 7Jul2014.xls\n"
     ]
    },
    {
     "name": "stderr",
     "output_type": "stream",
     "text": [
      " 18%|█▊        | 1416/8058 [00:29<26:10,  4.23it/s]"
     ]
    },
    {
     "name": "stdout",
     "output_type": "stream",
     "text": [
      "/Users/rmRM/Desktop/Evgenii/DS/Tier 1 - 4/TB-14-76_NGP Prgrm_N/3. Prog. Control/PMLC - Program Budget Sheet/2.0 WIP/TB-14-19-2 OLC NGP US Online Budget Sheet 7Jul2014.xlsx\n",
      "/Users/rmRM/Desktop/Evgenii/DS/Tier 1 - 4/TB-14-76_NGP Prgrm_N/3. Prog. Control/PMLC - Program Budget Sheet/2.0 WIP/TB-14-19-2 OLC NGP US Online Budget Sheet 9Sept2014 v2.xls\n",
      "/Users/rmRM/Desktop/Evgenii/DS/Tier 1 - 4/TB-14-76_NGP Prgrm_N/3. Prog. Control/PMLC - Program Budget Sheet/2.0 WIP/TB-14-19-2 OLC NGP US Online Budget Sheet 9Sept2014 v2.xlsx\n",
      "/Users/rmRM/Desktop/Evgenii/DS/Tier 1 - 4/TB-14-76_NGP Prgrm_N/3. Prog. Control/PMLC - Program Budget Sheet/2.0 WIP/Tie out to SCOPE NGP Program - Budget sheet calculator 23Sept2015 - v1 - SCOPE.xls\n"
     ]
    },
    {
     "name": "stderr",
     "output_type": "stream",
     "text": [
      " 18%|█▊        | 1468/8058 [00:32<20:49,  5.28it/s]"
     ]
    },
    {
     "name": "stdout",
     "output_type": "stream",
     "text": [
      "/Users/rmRM/Desktop/Evgenii/DS/Tier 1 - 4/TB-14-76_NGP Prgrm_N/3. Prog. Control/PMLC - Program Budget Sheet/2.0 WIP/Tie out to SCOPE NGP Program - Budget sheet calculator 23Sept2015 - v1 - SCOPE.xlsx\n",
      "/Users/rmRM/Desktop/Evgenii/DS/Tier 1 - 4/TB-14-76_NGP Prgrm_N/3. Prog. Control/PMLC - Program Budget Sheet/2.0 WIP/US NGP Online Program Initialtion Funding 6May2014 v2.pptx\n",
      "/Users/rmRM/Desktop/Evgenii/DS/Tier 1 - 4/TB-14-76_NGP Prgrm_N/3. Prog. Control/PMLC - Program Governance Guidelines/1.0 Final and Approvals/TD_NGP_PMO_Delivery_Governance_Overview_Aug2016_vF.pptx\n",
      "/Users/rmRM/Desktop/Evgenii/DS/Tier 1 - 4/TB-14-76_NGP Prgrm_N/3. Prog. Control/PMLC - Program Governance Guidelines/1.0 Final and Approvals/TD_NGP_PMO_Delivery_Governance_Overview_Feb_2016_vFinal3.pptx\n",
      "/Users/rmRM/Desktop/Evgenii/DS/Tier 1 - 4/TB-14-76_NGP Prgrm_N/3. Prog. Control/PMLC - Program Governance Guidelines/1.0 Final and Approvals/TD_NGP_PMO_Delivery_Governance_Overview_Q2_2017_vF.pptx\n",
      "/Users/rmRM/Desktop/Evgenii/DS/Tier 1 - 4/TB-14-76_NGP Prgrm_N/3. Prog. Control/PMLC - Program Governance Guidelines/2.0 WIP/NGP Program Commuication Plan.xls\n",
      "/Users/rmRM/Desktop/Evgenii/DS/Tier 1 - 4/TB-14-76_NGP Prgrm_N/3. Prog. Control/PMLC - Program Governance Guidelines/2.0 WIP/NGP Program Commuication Plan.xlsx\n",
      "/Users/rmRM/Desktop/Evgenii/DS/Tier 1 - 4/TB-14-76_NGP Prgrm_N/3. Prog. Control/PMLC - Program Governance Guidelines/2.0 WIP/NGP Program Governance 8_20_2015.pptx\n",
      "/Users/rmRM/Desktop/Evgenii/DS/Tier 1 - 4/TB-14-76_NGP Prgrm_N/3. Prog. Control/PMLC - Program Governance Guidelines/2.0 WIP/NGP Project One UI Workstream Dashboard Current-2015-08-19v3.xlsx\n",
      "/Users/rmRM/Desktop/Evgenii/DS/Tier 1 - 4/TB-14-76_NGP Prgrm_N/3. Prog. Control/PMLC - Program Governance Guidelines/2.0 WIP/TD_NGP_PMO_Delivery_Governance_10_01_2015_v01_AA.pptx\n",
      "/Users/rmRM/Desktop/Evgenii/DS/Tier 1 - 4/TB-14-76_NGP Prgrm_N/3. Prog. Control/PMLC - Program Governance Guidelines/2.0 WIP/TD_NGP_PMO_Delivery_Governance_Overview_12_02_2015_vF.pptx\n",
      "/Users/rmRM/Desktop/Evgenii/DS/Tier 1 - 4/TB-14-76_NGP Prgrm_N/3. Prog. Control/PMLC - Program Governance Guidelines/2.0 WIP/TD_NGP_PMO_Delivery_Governance_Overview_Q1_2017_v06.pptx\n",
      "/Users/rmRM/Desktop/Evgenii/DS/Tier 1 - 4/TB-14-76_NGP Prgrm_N/3. Prog. Control/PMLC - Program Governance Guidelines/2.0 WIP/TD_NGP_PMO_Delivery_Governance_Overview_Q2_2017_v10.pptx\n",
      "/Users/rmRM/Desktop/Evgenii/DS/Tier 1 - 4/TB-14-76_NGP Prgrm_N/3. Prog. Control/PMLC - Program Governance Guidelines/2.0 WIP/TD_NGP_PMO_Delivery_Governance_Overview_Q3_2017_v03.pptx\n",
      "/Users/rmRM/Desktop/Evgenii/DS/Tier 1 - 4/TB-14-76_NGP Prgrm_N/3. Prog. Control/PMLC - Program Schedule/MPP IAD Log/NGP RS_MPP_IAD_Log_80416.xlsx\n",
      "/Users/rmRM/Desktop/Evgenii/DS/Tier 1 - 4/TB-14-76_NGP Prgrm_N/3. Prog. Control/PMLC - Program Schedule/NGP Archive/TD NGP Integrated Program Plan Status 20150803 v1 - Plan Status.pptx\n",
      "/Users/rmRM/Desktop/Evgenii/DS/Tier 1 - 4/TB-14-76_NGP Prgrm_N/3. Prog. Control/PMLC - Program Schedule/NGP Archive/TD NGP Integrated Program Plan Status 20150824 v1 - Plan Status.pptx\n",
      "/Users/rmRM/Desktop/Evgenii/DS/Tier 1 - 4/TB-14-76_NGP Prgrm_N/3. Prog. Control/PMLC - Program Schedule/NGP Archive/TD NGP Integrated Program Plan Status 20150831 v1 - Plan Status.pptx\n",
      "/Users/rmRM/Desktop/Evgenii/DS/Tier 1 - 4/TB-14-76_NGP Prgrm_N/3. Prog. Control/PMLC - Program Schedule/NGP Archive/TD US NGP Integrated Plan Governance v06.pptx\n",
      "/Users/rmRM/Desktop/Evgenii/DS/Tier 1 - 4/TB-14-76_NGP Prgrm_N/3. Prog. Control/PMLC - Program Status Report/1.0 Program Status/NGP Program Status Report_01_13_2017.pptx\n",
      "/Users/rmRM/Desktop/Evgenii/DS/Tier 1 - 4/TB-14-76_NGP Prgrm_N/3. Prog. Control/PMLC - Program Status Report/1.0 Program Status/NGP Program Status Report_01_20_2017.pptx\n",
      "/Users/rmRM/Desktop/Evgenii/DS/Tier 1 - 4/TB-14-76_NGP Prgrm_N/3. Prog. Control/PMLC - Program Status Report/1.0 Program Status/NGP Program Status Report_02_17_2017.pptx\n",
      "/Users/rmRM/Desktop/Evgenii/DS/Tier 1 - 4/TB-14-76_NGP Prgrm_N/3. Prog. Control/PMLC - Program Status Report/1.0 Program Status/NGP Program Status Report_03_03_2017.pptx\n",
      "/Users/rmRM/Desktop/Evgenii/DS/Tier 1 - 4/TB-14-76_NGP Prgrm_N/3. Prog. Control/PMLC - Program Status Report/1.0 Program Status/NGP Program Status Report_03_17_2017.pptx\n",
      "/Users/rmRM/Desktop/Evgenii/DS/Tier 1 - 4/TB-14-76_NGP Prgrm_N/3. Prog. Control/PMLC - Program Status Report/1.0 Program Status/NGP Program Status Report_03_24_2017.pptx\n",
      "/Users/rmRM/Desktop/Evgenii/DS/Tier 1 - 4/TB-14-76_NGP Prgrm_N/3. Prog. Control/PMLC - Program Status Report/1.0 Program Status/NGP Program Status Report_03_31_2017.pptx\n",
      "/Users/rmRM/Desktop/Evgenii/DS/Tier 1 - 4/TB-14-76_NGP Prgrm_N/3. Prog. Control/PMLC - Program Status Report/1.0 Program Status/NGP Program Status Report_04_14_2017.pptx\n",
      "/Users/rmRM/Desktop/Evgenii/DS/Tier 1 - 4/TB-14-76_NGP Prgrm_N/3. Prog. Control/PMLC - Program Status Report/1.0 Program Status/NGP Program Status Report_04_28_2017.pptx\n",
      "/Users/rmRM/Desktop/Evgenii/DS/Tier 1 - 4/TB-14-76_NGP Prgrm_N/3. Prog. Control/PMLC - Program Status Report/1.0 Program Status/NGP Program Status Report_05_05_2017.pptx\n",
      "/Users/rmRM/Desktop/Evgenii/DS/Tier 1 - 4/TB-14-76_NGP Prgrm_N/3. Prog. Control/PMLC - Program Status Report/1.0 Program Status/NGP Program Status Report_05_19_2017.pptx\n",
      "/Users/rmRM/Desktop/Evgenii/DS/Tier 1 - 4/TB-14-76_NGP Prgrm_N/3. Prog. Control/PMLC - Program Status Report/1.0 Program Status/NGP Program Status Report_05_26_2017.pptx\n",
      "/Users/rmRM/Desktop/Evgenii/DS/Tier 1 - 4/TB-14-76_NGP Prgrm_N/3. Prog. Control/PMLC - Program Status Report/1.0 Program Status/NGP Program Status Report_06_02_2017.pptx\n",
      "/Users/rmRM/Desktop/Evgenii/DS/Tier 1 - 4/TB-14-76_NGP Prgrm_N/3. Prog. Control/PMLC - Program Status Report/1.0 Program Status/NGP Program Status Report_06_16_2017.pptx\n",
      "/Users/rmRM/Desktop/Evgenii/DS/Tier 1 - 4/TB-14-76_NGP Prgrm_N/3. Prog. Control/PMLC - Program Status Report/1.0 Program Status/NGP Program Status Report_06_23_2017.pptx\n",
      "/Users/rmRM/Desktop/Evgenii/DS/Tier 1 - 4/TB-14-76_NGP Prgrm_N/3. Prog. Control/PMLC - Program Status Report/1.0 Program Status/NGP Program Status Report_06_30_2017.pptx\n",
      "/Users/rmRM/Desktop/Evgenii/DS/Tier 1 - 4/TB-14-76_NGP Prgrm_N/3. Prog. Control/PMLC - Program Status Report/1.0 Program Status/NGP Program Status Report_07_14_2017.pptx\n",
      "/Users/rmRM/Desktop/Evgenii/DS/Tier 1 - 4/TB-14-76_NGP Prgrm_N/3. Prog. Control/PMLC - Program Status Report/1.0 Program Status/NGP Program Status Report_07_21_2017.pptx\n",
      "/Users/rmRM/Desktop/Evgenii/DS/Tier 1 - 4/TB-14-76_NGP Prgrm_N/3. Prog. Control/PMLC - Program Status Report/1.0 Program Status/NGP Program Status Report_07_28_2017.pptx\n",
      "/Users/rmRM/Desktop/Evgenii/DS/Tier 1 - 4/TB-14-76_NGP Prgrm_N/3. Prog. Control/PMLC - Program Status Report/1.0 Program Status/NGP Program Status Report_08_11_2017.pptx\n",
      "/Users/rmRM/Desktop/Evgenii/DS/Tier 1 - 4/TB-14-76_NGP Prgrm_N/3. Prog. Control/PMLC - Program Status Report/1.0 Program Status/NGP Program Status Report_08_18_2017.pptx\n",
      "/Users/rmRM/Desktop/Evgenii/DS/Tier 1 - 4/TB-14-76_NGP Prgrm_N/3. Prog. Control/PMLC - Program Status Report/1.0 Program Status/NGP Program Status Report_08_25_2017.pptx\n",
      "/Users/rmRM/Desktop/Evgenii/DS/Tier 1 - 4/TB-14-76_NGP Prgrm_N/3. Prog. Control/PMLC - Program Status Report/1.0 Program Status/NGP Program Status Report_09_01_2017.pptx\n",
      "/Users/rmRM/Desktop/Evgenii/DS/Tier 1 - 4/TB-14-76_NGP Prgrm_N/3. Prog. Control/PMLC - Program Status Report/1.0 Program Status/NGP Program Status Report_09_08_2017.pptx\n",
      "/Users/rmRM/Desktop/Evgenii/DS/Tier 1 - 4/TB-14-76_NGP Prgrm_N/3. Prog. Control/PMLC - Program Status Report/1.0 Program Status/NGP Program Status Report_09_22_2017.pptx\n",
      "/Users/rmRM/Desktop/Evgenii/DS/Tier 1 - 4/TB-14-76_NGP Prgrm_N/3. Prog. Control/PMLC - Program Status Report/1.0 Program Status/NGP Program Status Report_09_29_2017.pptx\n",
      "/Users/rmRM/Desktop/Evgenii/DS/Tier 1 - 4/TB-14-76_NGP Prgrm_N/3. Prog. Control/PMLC - Program Status Report/1.0 Program Status/NGP Program Status Report_10_06_2017.pptx\n",
      "/Users/rmRM/Desktop/Evgenii/DS/Tier 1 - 4/TB-14-76_NGP Prgrm_N/3. Prog. Control/PMLC - Program Status Report/1.0 Program Status/NGP Program Status Report_10_12_2018F.pptx\n",
      "/Users/rmRM/Desktop/Evgenii/DS/Tier 1 - 4/TB-14-76_NGP Prgrm_N/3. Prog. Control/PMLC - Program Status Report/1.0 Program Status/NGP Program Status Report_10_13_2017.pptx\n",
      "/Users/rmRM/Desktop/Evgenii/DS/Tier 1 - 4/TB-14-76_NGP Prgrm_N/3. Prog. Control/PMLC - Program Status Report/1.0 Program Status/NGP Program Status Report_10_14_2016.pptx\n"
     ]
    },
    {
     "name": "stderr",
     "output_type": "stream",
     "text": [
      " 19%|█▉        | 1557/8058 [00:32<10:11, 10.63it/s]"
     ]
    },
    {
     "name": "stdout",
     "output_type": "stream",
     "text": [
      "/Users/rmRM/Desktop/Evgenii/DS/Tier 1 - 4/TB-14-76_NGP Prgrm_N/3. Prog. Control/PMLC - Program Status Report/1.0 Program Status/NGP Program Status Report_10_19_2018F.pptx\n",
      "/Users/rmRM/Desktop/Evgenii/DS/Tier 1 - 4/TB-14-76_NGP Prgrm_N/3. Prog. Control/PMLC - Program Status Report/1.0 Program Status/NGP Program Status Report_10_20_2017.pptx\n",
      "/Users/rmRM/Desktop/Evgenii/DS/Tier 1 - 4/TB-14-76_NGP Prgrm_N/3. Prog. Control/PMLC - Program Status Report/1.0 Program Status/NGP Program Status Report_10_27_2017.pptx\n",
      "/Users/rmRM/Desktop/Evgenii/DS/Tier 1 - 4/TB-14-76_NGP Prgrm_N/3. Prog. Control/PMLC - Program Status Report/1.0 Program Status/NGP Program Status Report_11_03_2017.pptx\n",
      "/Users/rmRM/Desktop/Evgenii/DS/Tier 1 - 4/TB-14-76_NGP Prgrm_N/3. Prog. Control/PMLC - Program Status Report/1.0 Program Status/NGP Program Status Report_11_04_2016.pptx\n",
      "/Users/rmRM/Desktop/Evgenii/DS/Tier 1 - 4/TB-14-76_NGP Prgrm_N/3. Prog. Control/PMLC - Program Status Report/1.0 Program Status/NGP Program Status Report_11_10_2017.pptx\n",
      "/Users/rmRM/Desktop/Evgenii/DS/Tier 1 - 4/TB-14-76_NGP Prgrm_N/3. Prog. Control/PMLC - Program Status Report/1.0 Program Status/NGP Program Status Report_11_11_2016.pptx\n",
      "/Users/rmRM/Desktop/Evgenii/DS/Tier 1 - 4/TB-14-76_NGP Prgrm_N/3. Prog. Control/PMLC - Program Status Report/1.0 Program Status/NGP Program Status Report_11_17_2017.pptx\n",
      "/Users/rmRM/Desktop/Evgenii/DS/Tier 1 - 4/TB-14-76_NGP Prgrm_N/3. Prog. Control/PMLC - Program Status Report/1.0 Program Status/NGP Program Status Report_11_20_2015.pptx\n",
      "/Users/rmRM/Desktop/Evgenii/DS/Tier 1 - 4/TB-14-76_NGP Prgrm_N/3. Prog. Control/PMLC - Program Status Report/1.0 Program Status/NGP Program Status Report_11_24_2017.pptx\n",
      "/Users/rmRM/Desktop/Evgenii/DS/Tier 1 - 4/TB-14-76_NGP Prgrm_N/3. Prog. Control/PMLC - Program Status Report/1.0 Program Status/NGP Program Status Report_11_25_2016.pptx\n",
      "/Users/rmRM/Desktop/Evgenii/DS/Tier 1 - 4/TB-14-76_NGP Prgrm_N/3. Prog. Control/PMLC - Program Status Report/1.0 Program Status/NGP Program Status Report_12_04_2015.pptx\n",
      "/Users/rmRM/Desktop/Evgenii/DS/Tier 1 - 4/TB-14-76_NGP Prgrm_N/3. Prog. Control/PMLC - Program Status Report/1.0 Program Status/NGP Program Status Report_12_09_2016.pptx\n",
      "/Users/rmRM/Desktop/Evgenii/DS/Tier 1 - 4/TB-14-76_NGP Prgrm_N/3. Prog. Control/PMLC - Program Status Report/1.0 Program Status/NGP Program Status Report_12_11_2015.pptx\n",
      "/Users/rmRM/Desktop/Evgenii/DS/Tier 1 - 4/TB-14-76_NGP Prgrm_N/3. Prog. Control/PMLC - Program Status Report/1.0 Program Status/NGP Program Status Report_12_18_2015.pptx\n",
      "/Users/rmRM/Desktop/Evgenii/DS/Tier 1 - 4/TB-14-76_NGP Prgrm_N/3. Prog. Control/PMLC - Program Status Report/1.0 Program Status/NGP Program Status Report_12_1_2017.pptx\n",
      "/Users/rmRM/Desktop/Evgenii/DS/Tier 1 - 4/TB-14-76_NGP Prgrm_N/3. Prog. Control/PMLC - Program Status Report/1.0 Program Status/NGP Program Status Report_12_29_2017.pptx\n",
      "/Users/rmRM/Desktop/Evgenii/DS/Tier 1 - 4/TB-14-76_NGP Prgrm_N/3. Prog. Control/PMLC - Program Status Report/1.0 Program Status/NGP Program Status Report_12_8_2017.pptx\n",
      "/Users/rmRM/Desktop/Evgenii/DS/Tier 1 - 4/TB-14-76_NGP Prgrm_N/3. Prog. Control/PMLC - Program Status Report/1.0 Program Status/NGP Program Status Report_1_08_2016.pptx\n",
      "/Users/rmRM/Desktop/Evgenii/DS/Tier 1 - 4/TB-14-76_NGP Prgrm_N/3. Prog. Control/PMLC - Program Status Report/1.0 Program Status/NGP Program Status Report_1_12_2018.pptx\n",
      "/Users/rmRM/Desktop/Evgenii/DS/Tier 1 - 4/TB-14-76_NGP Prgrm_N/3. Prog. Control/PMLC - Program Status Report/1.0 Program Status/NGP Program Status Report_1_19_2018.pptx\n",
      "/Users/rmRM/Desktop/Evgenii/DS/Tier 1 - 4/TB-14-76_NGP Prgrm_N/3. Prog. Control/PMLC - Program Status Report/1.0 Program Status/NGP Program Status Report_1_22_2016.pptx\n",
      "/Users/rmRM/Desktop/Evgenii/DS/Tier 1 - 4/TB-14-76_NGP Prgrm_N/3. Prog. Control/PMLC - Program Status Report/1.0 Program Status/NGP Program Status Report_1_26_2018.pptx\n",
      "/Users/rmRM/Desktop/Evgenii/DS/Tier 1 - 4/TB-14-76_NGP Prgrm_N/3. Prog. Control/PMLC - Program Status Report/1.0 Program Status/NGP Program Status Report_2_05_2016.pptx\n",
      "/Users/rmRM/Desktop/Evgenii/DS/Tier 1 - 4/TB-14-76_NGP Prgrm_N/3. Prog. Control/PMLC - Program Status Report/1.0 Program Status/NGP Program Status Report_2_16_2018.pptx\n",
      "/Users/rmRM/Desktop/Evgenii/DS/Tier 1 - 4/TB-14-76_NGP Prgrm_N/3. Prog. Control/PMLC - Program Status Report/1.0 Program Status/NGP Program Status Report_2_19_2016.pptx\n",
      "/Users/rmRM/Desktop/Evgenii/DS/Tier 1 - 4/TB-14-76_NGP Prgrm_N/3. Prog. Control/PMLC - Program Status Report/1.0 Program Status/NGP Program Status Report_2_23_2018.pptx\n",
      "/Users/rmRM/Desktop/Evgenii/DS/Tier 1 - 4/TB-14-76_NGP Prgrm_N/3. Prog. Control/PMLC - Program Status Report/1.0 Program Status/NGP Program Status Report_2_2_2018.pptx\n",
      "/Users/rmRM/Desktop/Evgenii/DS/Tier 1 - 4/TB-14-76_NGP Prgrm_N/3. Prog. Control/PMLC - Program Status Report/1.0 Program Status/NGP Program Status Report_3_04_2016.pptx\n",
      "/Users/rmRM/Desktop/Evgenii/DS/Tier 1 - 4/TB-14-76_NGP Prgrm_N/3. Prog. Control/PMLC - Program Status Report/1.0 Program Status/NGP Program Status Report_3_16_2018.pptx\n",
      "/Users/rmRM/Desktop/Evgenii/DS/Tier 1 - 4/TB-14-76_NGP Prgrm_N/3. Prog. Control/PMLC - Program Status Report/1.0 Program Status/NGP Program Status Report_3_18_2016.pptx\n",
      "/Users/rmRM/Desktop/Evgenii/DS/Tier 1 - 4/TB-14-76_NGP Prgrm_N/3. Prog. Control/PMLC - Program Status Report/1.0 Program Status/NGP Program Status Report_3_23_2018.pptx\n",
      "/Users/rmRM/Desktop/Evgenii/DS/Tier 1 - 4/TB-14-76_NGP Prgrm_N/3. Prog. Control/PMLC - Program Status Report/1.0 Program Status/NGP Program Status Report_3_25_2016.pptx\n",
      "/Users/rmRM/Desktop/Evgenii/DS/Tier 1 - 4/TB-14-76_NGP Prgrm_N/3. Prog. Control/PMLC - Program Status Report/1.0 Program Status/NGP Program Status Report_3_30_2018.pptx\n",
      "/Users/rmRM/Desktop/Evgenii/DS/Tier 1 - 4/TB-14-76_NGP Prgrm_N/3. Prog. Control/PMLC - Program Status Report/1.0 Program Status/NGP Program Status Report_3_9_2018.pptx\n",
      "/Users/rmRM/Desktop/Evgenii/DS/Tier 1 - 4/TB-14-76_NGP Prgrm_N/3. Prog. Control/PMLC - Program Status Report/1.0 Program Status/NGP Program Status Report_4_01_2016.pptx\n",
      "/Users/rmRM/Desktop/Evgenii/DS/Tier 1 - 4/TB-14-76_NGP Prgrm_N/3. Prog. Control/PMLC - Program Status Report/1.0 Program Status/NGP Program Status Report_4_13_2018.pptx\n",
      "/Users/rmRM/Desktop/Evgenii/DS/Tier 1 - 4/TB-14-76_NGP Prgrm_N/3. Prog. Control/PMLC - Program Status Report/1.0 Program Status/NGP Program Status Report_4_15_2016.pptx\n",
      "/Users/rmRM/Desktop/Evgenii/DS/Tier 1 - 4/TB-14-76_NGP Prgrm_N/3. Prog. Control/PMLC - Program Status Report/1.0 Program Status/NGP Program Status Report_4_20_2018.pptx\n",
      "/Users/rmRM/Desktop/Evgenii/DS/Tier 1 - 4/TB-14-76_NGP Prgrm_N/3. Prog. Control/PMLC - Program Status Report/1.0 Program Status/NGP Program Status Report_4_27_2018.pptx\n",
      "/Users/rmRM/Desktop/Evgenii/DS/Tier 1 - 4/TB-14-76_NGP Prgrm_N/3. Prog. Control/PMLC - Program Status Report/1.0 Program Status/NGP Program Status Report_4_29_2016.pptx\n",
      "/Users/rmRM/Desktop/Evgenii/DS/Tier 1 - 4/TB-14-76_NGP Prgrm_N/3. Prog. Control/PMLC - Program Status Report/1.0 Program Status/NGP Program Status Report_5_11_2018.pptx\n",
      "/Users/rmRM/Desktop/Evgenii/DS/Tier 1 - 4/TB-14-76_NGP Prgrm_N/3. Prog. Control/PMLC - Program Status Report/1.0 Program Status/NGP Program Status Report_5_13_2016.pptx\n",
      "/Users/rmRM/Desktop/Evgenii/DS/Tier 1 - 4/TB-14-76_NGP Prgrm_N/3. Prog. Control/PMLC - Program Status Report/1.0 Program Status/NGP Program Status Report_5_18_2018.pptx\n",
      "/Users/rmRM/Desktop/Evgenii/DS/Tier 1 - 4/TB-14-76_NGP Prgrm_N/3. Prog. Control/PMLC - Program Status Report/1.0 Program Status/NGP Program Status Report_5_20_2016.pptx\n",
      "/Users/rmRM/Desktop/Evgenii/DS/Tier 1 - 4/TB-14-76_NGP Prgrm_N/3. Prog. Control/PMLC - Program Status Report/1.0 Program Status/NGP Program Status Report_5_25_2018.pptx\n",
      "/Users/rmRM/Desktop/Evgenii/DS/Tier 1 - 4/TB-14-76_NGP Prgrm_N/3. Prog. Control/PMLC - Program Status Report/1.0 Program Status/NGP Program Status Report_6_10_2016.pptx\n",
      "/Users/rmRM/Desktop/Evgenii/DS/Tier 1 - 4/TB-14-76_NGP Prgrm_N/3. Prog. Control/PMLC - Program Status Report/1.0 Program Status/NGP Program Status Report_6_15_2018.pptx\n",
      "/Users/rmRM/Desktop/Evgenii/DS/Tier 1 - 4/TB-14-76_NGP Prgrm_N/3. Prog. Control/PMLC - Program Status Report/1.0 Program Status/NGP Program Status Report_6_1_2018.pptx\n",
      "/Users/rmRM/Desktop/Evgenii/DS/Tier 1 - 4/TB-14-76_NGP Prgrm_N/3. Prog. Control/PMLC - Program Status Report/1.0 Program Status/NGP Program Status Report_6_22_2018.pptx\n",
      "/Users/rmRM/Desktop/Evgenii/DS/Tier 1 - 4/TB-14-76_NGP Prgrm_N/3. Prog. Control/PMLC - Program Status Report/1.0 Program Status/NGP Program Status Report_6_24_2016.pptx\n",
      "/Users/rmRM/Desktop/Evgenii/DS/Tier 1 - 4/TB-14-76_NGP Prgrm_N/3. Prog. Control/PMLC - Program Status Report/1.0 Program Status/NGP Program Status Report_6_29_2018.pptx\n",
      "/Users/rmRM/Desktop/Evgenii/DS/Tier 1 - 4/TB-14-76_NGP Prgrm_N/3. Prog. Control/PMLC - Program Status Report/1.0 Program Status/NGP Program Status Report_6_8_2018.pptx\n",
      "/Users/rmRM/Desktop/Evgenii/DS/Tier 1 - 4/TB-14-76_NGP Prgrm_N/3. Prog. Control/PMLC - Program Status Report/1.0 Program Status/NGP Program Status Report_7_08_2016.pptx\n",
      "/Users/rmRM/Desktop/Evgenii/DS/Tier 1 - 4/TB-14-76_NGP Prgrm_N/3. Prog. Control/PMLC - Program Status Report/1.0 Program Status/NGP Program Status Report_7_13_2018F.pptx\n",
      "/Users/rmRM/Desktop/Evgenii/DS/Tier 1 - 4/TB-14-76_NGP Prgrm_N/3. Prog. Control/PMLC - Program Status Report/1.0 Program Status/NGP Program Status Report_7_20_2018F.pptx\n",
      "/Users/rmRM/Desktop/Evgenii/DS/Tier 1 - 4/TB-14-76_NGP Prgrm_N/3. Prog. Control/PMLC - Program Status Report/1.0 Program Status/NGP Program Status Report_7_22_2016.pptx\n",
      "/Users/rmRM/Desktop/Evgenii/DS/Tier 1 - 4/TB-14-76_NGP Prgrm_N/3. Prog. Control/PMLC - Program Status Report/1.0 Program Status/NGP Program Status Report_7_29_2016.pptx\n",
      "/Users/rmRM/Desktop/Evgenii/DS/Tier 1 - 4/TB-14-76_NGP Prgrm_N/3. Prog. Control/PMLC - Program Status Report/1.0 Program Status/NGP Program Status Report_8_03_2018.pptx\n",
      "/Users/rmRM/Desktop/Evgenii/DS/Tier 1 - 4/TB-14-76_NGP Prgrm_N/3. Prog. Control/PMLC - Program Status Report/1.0 Program Status/NGP Program Status Report_8_10_2018F.pptx\n",
      "/Users/rmRM/Desktop/Evgenii/DS/Tier 1 - 4/TB-14-76_NGP Prgrm_N/3. Prog. Control/PMLC - Program Status Report/1.0 Program Status/NGP Program Status Report_8_17_2018F.pptx\n",
      "/Users/rmRM/Desktop/Evgenii/DS/Tier 1 - 4/TB-14-76_NGP Prgrm_N/3. Prog. Control/PMLC - Program Status Report/1.0 Program Status/NGP Program Status Report_8_19_2016.pptx\n",
      "/Users/rmRM/Desktop/Evgenii/DS/Tier 1 - 4/TB-14-76_NGP Prgrm_N/3. Prog. Control/PMLC - Program Status Report/1.0 Program Status/NGP Program Status Report_8_24_2018F.pptx\n",
      "/Users/rmRM/Desktop/Evgenii/DS/Tier 1 - 4/TB-14-76_NGP Prgrm_N/3. Prog. Control/PMLC - Program Status Report/1.0 Program Status/NGP Program Status Report_8_31_2018F.pptx\n",
      "/Users/rmRM/Desktop/Evgenii/DS/Tier 1 - 4/TB-14-76_NGP Prgrm_N/3. Prog. Control/PMLC - Program Status Report/1.0 Program Status/NGP Program Status Report_8_5_2016.pptx\n",
      "/Users/rmRM/Desktop/Evgenii/DS/Tier 1 - 4/TB-14-76_NGP Prgrm_N/3. Prog. Control/PMLC - Program Status Report/1.0 Program Status/NGP Program Status Report_9_07_2018F.pptx\n",
      "/Users/rmRM/Desktop/Evgenii/DS/Tier 1 - 4/TB-14-76_NGP Prgrm_N/3. Prog. Control/PMLC - Program Status Report/1.0 Program Status/NGP Program Status Report_9_14_2018F.pptx\n",
      "/Users/rmRM/Desktop/Evgenii/DS/Tier 1 - 4/TB-14-76_NGP Prgrm_N/3. Prog. Control/PMLC - Program Status Report/1.0 Program Status/NGP Program Status Report_9_16_2016.pptx\n",
      "/Users/rmRM/Desktop/Evgenii/DS/Tier 1 - 4/TB-14-76_NGP Prgrm_N/3. Prog. Control/PMLC - Program Status Report/1.0 Program Status/NGP Program Status Report_9_21_2018F.pptx\n"
     ]
    },
    {
     "name": "stderr",
     "output_type": "stream",
     "text": [
      " 20%|█▉        | 1594/8058 [00:32<07:10, 15.00it/s]"
     ]
    },
    {
     "name": "stdout",
     "output_type": "stream",
     "text": [
      "/Users/rmRM/Desktop/Evgenii/DS/Tier 1 - 4/TB-14-76_NGP Prgrm_N/3. Prog. Control/PMLC - Program Status Report/1.0 Program Status/NGP Program Status Report_9_23_2016.pptx\n",
      "/Users/rmRM/Desktop/Evgenii/DS/Tier 1 - 4/TB-14-76_NGP Prgrm_N/3. Prog. Control/PMLC - Program Status Report/1.0 Program Status/NGP Program Status Report_9_2_2016.pptx\n",
      "/Users/rmRM/Desktop/Evgenii/DS/Tier 1 - 4/TB-14-76_NGP Prgrm_N/3. Prog. Control/PMLC - Program Status Report/1.0 Program Status/NGP Program Status Report_9_30_2016.pptx\n",
      "/Users/rmRM/Desktop/Evgenii/DS/Tier 1 - 4/TB-14-76_NGP Prgrm_N/3. Prog. Control/PMLC - Program Status Report/1.0 Program Status/NGP Program Status Report_9_9_2016.pptx\n",
      "/Users/rmRM/Desktop/Evgenii/DS/Tier 1 - 4/TB-14-76_NGP Prgrm_N/3. Prog. Control/PMLC - Program Status Report/2.0 Program Meeting/NGP Program Leadership Meeting_20170201.pptx\n",
      "/Users/rmRM/Desktop/Evgenii/DS/Tier 1 - 4/TB-14-76_NGP Prgrm_N/3. Prog. Control/PMLC - Program Status Report/2.0 Program Meeting/NGP Program Leadership Meeting_20170215 vF.pptx\n",
      "/Users/rmRM/Desktop/Evgenii/DS/Tier 1 - 4/TB-14-76_NGP Prgrm_N/3. Prog. Control/PMLC - Program Status Report/2.0 Program Meeting/NGP Program Leadership Meeting_20170301 vF.pptx\n",
      "/Users/rmRM/Desktop/Evgenii/DS/Tier 1 - 4/TB-14-76_NGP Prgrm_N/3. Prog. Control/PMLC - Program Status Report/2.0 Program Meeting/NGP Program Leadership Meeting_20170315 vF.pptx\n",
      "/Users/rmRM/Desktop/Evgenii/DS/Tier 1 - 4/TB-14-76_NGP Prgrm_N/3. Prog. Control/PMLC - Program Status Report/2.0 Program Meeting/NGP Program Leadership Meeting_20170426 vF.pptx\n",
      "/Users/rmRM/Desktop/Evgenii/DS/Tier 1 - 4/TB-14-76_NGP Prgrm_N/3. Prog. Control/PMLC - Program Status Report/2.0 Program Meeting/NGP Program Leadership Meeting_20170517 vF.pptx\n",
      "/Users/rmRM/Desktop/Evgenii/DS/Tier 1 - 4/TB-14-76_NGP Prgrm_N/3. Prog. Control/PMLC - Program Status Report/2.0 Program Meeting/NGP Program Leadership Meeting_20170614 vF.pptx\n",
      "/Users/rmRM/Desktop/Evgenii/DS/Tier 1 - 4/TB-14-76_NGP Prgrm_N/3. Prog. Control/PMLC - Program Status Report/2.0 Program Meeting/NGP Program Leadership Meeting_20170712 vF.pptx\n",
      "/Users/rmRM/Desktop/Evgenii/DS/Tier 1 - 4/TB-14-76_NGP Prgrm_N/3. Prog. Control/PMLC - Program Status Report/2.0 Program Meeting/NGP Program Leadership Meeting_20170809 vF.pptx\n",
      "/Users/rmRM/Desktop/Evgenii/DS/Tier 1 - 4/TB-14-76_NGP Prgrm_N/3. Prog. Control/PMLC - Program Status Report/2.0 Program Meeting/NGP Program Leadership Meeting_20170920 vF.pptx\n",
      "/Users/rmRM/Desktop/Evgenii/DS/Tier 1 - 4/TB-14-76_NGP Prgrm_N/3. Prog. Control/PMLC - Program Status Report/2.0 Program Meeting/NGP Touchbase_April 13 v03.pptx\n",
      "/Users/rmRM/Desktop/Evgenii/DS/Tier 1 - 4/TB-14-76_NGP Prgrm_N/3. Prog. Control/PMLC - Program Status Report/2.0 Program Meeting/NGP Touchbase_April 27 vF.pptx\n",
      "/Users/rmRM/Desktop/Evgenii/DS/Tier 1 - 4/TB-14-76_NGP Prgrm_N/3. Prog. Control/PMLC - Program Status Report/2.0 Program Meeting/NGP Touchbase_August 17_Final.pptx\n",
      "/Users/rmRM/Desktop/Evgenii/DS/Tier 1 - 4/TB-14-76_NGP Prgrm_N/3. Prog. Control/PMLC - Program Status Report/2.0 Program Meeting/NGP Touchbase_August 31_Final.pptx\n",
      "/Users/rmRM/Desktop/Evgenii/DS/Tier 1 - 4/TB-14-76_NGP Prgrm_N/3. Prog. Control/PMLC - Program Status Report/2.0 Program Meeting/NGP Touchbase_Dec 7 v0.1 AA.pptx\n",
      "/Users/rmRM/Desktop/Evgenii/DS/Tier 1 - 4/TB-14-76_NGP Prgrm_N/3. Prog. Control/PMLC - Program Status Report/2.0 Program Meeting/NGP Touchbase_December 07_v03.pptx\n",
      "/Users/rmRM/Desktop/Evgenii/DS/Tier 1 - 4/TB-14-76_NGP Prgrm_N/3. Prog. Control/PMLC - Program Status Report/2.0 Program Meeting/NGP Touchbase_Feb 17 vF.pptx\n",
      "/Users/rmRM/Desktop/Evgenii/DS/Tier 1 - 4/TB-14-76_NGP Prgrm_N/3. Prog. Control/PMLC - Program Status Report/2.0 Program Meeting/NGP Touchbase_Feb 3 vFinal.pptx\n",
      "/Users/rmRM/Desktop/Evgenii/DS/Tier 1 - 4/TB-14-76_NGP Prgrm_N/3. Prog. Control/PMLC - Program Status Report/2.0 Program Meeting/NGP Touchbase_Jan 20 vFinal.pptx\n",
      "/Users/rmRM/Desktop/Evgenii/DS/Tier 1 - 4/TB-14-76_NGP Prgrm_N/3. Prog. Control/PMLC - Program Status Report/2.0 Program Meeting/NGP Touchbase_Jan 5 vF AA.pptx\n",
      "/Users/rmRM/Desktop/Evgenii/DS/Tier 1 - 4/TB-14-76_NGP Prgrm_N/3. Prog. Control/PMLC - Program Status Report/2.0 Program Meeting/NGP Touchbase_July06_v1.pptx\n",
      "/Users/rmRM/Desktop/Evgenii/DS/Tier 1 - 4/TB-14-76_NGP Prgrm_N/3. Prog. Control/PMLC - Program Status Report/2.0 Program Meeting/NGP Touchbase_July20_v1.pptx\n",
      "/Users/rmRM/Desktop/Evgenii/DS/Tier 1 - 4/TB-14-76_NGP Prgrm_N/3. Prog. Control/PMLC - Program Status Report/2.0 Program Meeting/NGP Touchbase_June08 Final.pptx\n",
      "/Users/rmRM/Desktop/Evgenii/DS/Tier 1 - 4/TB-14-76_NGP Prgrm_N/3. Prog. Control/PMLC - Program Status Report/2.0 Program Meeting/NGP Touchbase_June22_Final.pptx\n",
      "/Users/rmRM/Desktop/Evgenii/DS/Tier 1 - 4/TB-14-76_NGP Prgrm_N/3. Prog. Control/PMLC - Program Status Report/2.0 Program Meeting/NGP Touchbase_March 16 v03.pptx\n",
      "/Users/rmRM/Desktop/Evgenii/DS/Tier 1 - 4/TB-14-76_NGP Prgrm_N/3. Prog. Control/PMLC - Program Status Report/2.0 Program Meeting/NGP Touchbase_March 2 vF.pptx\n",
      "/Users/rmRM/Desktop/Evgenii/DS/Tier 1 - 4/TB-14-76_NGP Prgrm_N/3. Prog. Control/PMLC - Program Status Report/2.0 Program Meeting/NGP Touchbase_May 11 vFinal.pptx\n",
      "/Users/rmRM/Desktop/Evgenii/DS/Tier 1 - 4/TB-14-76_NGP Prgrm_N/3. Prog. Control/PMLC - Program Status Report/2.0 Program Meeting/NGP Touchbase_Nov 18 vF AA.pptx\n",
      "/Users/rmRM/Desktop/Evgenii/DS/Tier 1 - 4/TB-14-76_NGP Prgrm_N/3. Prog. Control/PMLC - Program Status Report/2.0 Program Meeting/NGP Touchbase_Nov 9 vF AA.pptx\n",
      "/Users/rmRM/Desktop/Evgenii/DS/Tier 1 - 4/TB-14-76_NGP Prgrm_N/3. Prog. Control/PMLC - Program Status Report/2.0 Program Meeting/NGP Touchbase_Oct 28 v F AA.pptx\n",
      "/Users/rmRM/Desktop/Evgenii/DS/Tier 1 - 4/TB-14-76_NGP Prgrm_N/3. Prog. Control/PMLC - Program Status Report/2.0 Program Meeting/NGP Touchbase_October 13_Final.pptx\n",
      "/Users/rmRM/Desktop/Evgenii/DS/Tier 1 - 4/TB-14-76_NGP Prgrm_N/3. Prog. Control/PMLC - Program Status Report/2.0 Program Meeting/NGP Touchbase_October 26_vF.pptx\n",
      "/Users/rmRM/Desktop/Evgenii/DS/Tier 1 - 4/TB-14-76_NGP Prgrm_N/3. Prog. Control/PMLC - Program Status Report/5.0 NGP and Business Review/Monthly NGP Program and Business Review 08112016 vF.pptx\n",
      "/Users/rmRM/Desktop/Evgenii/DS/Tier 1 - 4/TB-14-76_NGP Prgrm_N/3. Prog. Control/PMLC - Program Status Report/5.0 NGP and Business Review/Monthly NGP and Business Program Review 01112017 vF.pptx\n"
     ]
    },
    {
     "name": "stderr",
     "output_type": "stream",
     "text": [
      " 21%|██        | 1679/8058 [00:32<03:38, 29.18it/s]"
     ]
    },
    {
     "name": "stdout",
     "output_type": "stream",
     "text": [
      "/Users/rmRM/Desktop/Evgenii/DS/Tier 1 - 4/TB-14-76_NGP Prgrm_N/3. Prog. Control/PMLC - Program Status Report/5.0 NGP and Business Review/Monthly NGP and Business Program Review 02082017 vF.pptx\n",
      "/Users/rmRM/Desktop/Evgenii/DS/Tier 1 - 4/TB-14-76_NGP Prgrm_N/3. Prog. Control/PMLC - Program Status Report/5.0 NGP and Business Review/Monthly NGP and Business Program Review 03082017 vF.pptx\n",
      "/Users/rmRM/Desktop/Evgenii/DS/Tier 1 - 4/TB-14-76_NGP Prgrm_N/3. Prog. Control/PMLC - Program Status Report/5.0 NGP and Business Review/Monthly NGP and Business Program Review 04122017 vF.pptx\n",
      "/Users/rmRM/Desktop/Evgenii/DS/Tier 1 - 4/TB-14-76_NGP Prgrm_N/3. Prog. Control/PMLC - Program Status Report/5.0 NGP and Business Review/Monthly NGP and Business Program Review 05152017 vF.pptx\n",
      "/Users/rmRM/Desktop/Evgenii/DS/Tier 1 - 4/TB-14-76_NGP Prgrm_N/3. Prog. Control/PMLC - Program Status Report/5.0 NGP and Business Review/Monthly NGP and Business Program Review 09142016 vF.pptx\n",
      "/Users/rmRM/Desktop/Evgenii/DS/Tier 1 - 4/TB-14-76_NGP Prgrm_N/3. Prog. Control/PMLC - Program Status Report/5.0 NGP and Business Review/Monthly NGP and Business Program Review 10192016 vF.pptx\n",
      "/Users/rmRM/Desktop/Evgenii/DS/Tier 1 - 4/TB-14-76_NGP Prgrm_N/3. Prog. Control/PMLC - Program Status Report/5.0 NGP and Business Review/NGP and Business Program Review 06142017 vF.pptx\n",
      "/Users/rmRM/Desktop/Evgenii/DS/Tier 1 - 4/TB-14-76_NGP Prgrm_N/3. Prog. Control/PMLC - Program Status Report/5.0 NGP and Business Review/NGP and Business Program Review 07122017 vF.pptx\n",
      "/Users/rmRM/Desktop/Evgenii/DS/Tier 1 - 4/TB-14-76_NGP Prgrm_N/3. Prog. Control/PMLC - Program Status Report/5.0 NGP and Business Review/NGP and Business Program Review 08092017 vF.pptx\n",
      "/Users/rmRM/Desktop/Evgenii/DS/Tier 1 - 4/TB-14-76_NGP Prgrm_N/3. Prog. Control/PMLC - Program Status Report/5.0 NGP and Business Review/NGP and Business Program Review 09152017 vF.pptx\n",
      "/Users/rmRM/Desktop/Evgenii/DS/Tier 1 - 4/TB-14-76_NGP Prgrm_N/3. Prog. Control/PMLC - Program Status Report/5.0 NGP and Business Review/NGP and Business Program Review 10112017 vF.pptx\n",
      "/Users/rmRM/Desktop/Evgenii/DS/Tier 1 - 4/TB-14-76_NGP Prgrm_N/3. Prog. Control/PMLC - Program Status Report/Z-Archive/NGP Core Team Meeting_2_10_2015v.8.pptx\n",
      "/Users/rmRM/Desktop/Evgenii/DS/Tier 1 - 4/TB-14-76_NGP Prgrm_N/3. Prog. Control/PMLC - Program Status Report/Z-Archive/NGP Core Team Meeting_2_3_2015v.2.pptx\n",
      "/Users/rmRM/Desktop/Evgenii/DS/Tier 1 - 4/TB-14-76_NGP Prgrm_N/3. Prog. Control/PMLC - Program Status Report/Z-Archive/NGP Touchbase_Oct 28 v F AA.pptx\n",
      "/Users/rmRM/Desktop/Evgenii/DS/Tier 1 - 4/TB-14-76_NGP Prgrm_N/3. Prog. Control/PMLC - Program Status Report/Z-Archive/NGPCoreTeamMeeting_1_27_2015v 07.pptx\n",
      "/Users/rmRM/Desktop/Evgenii/DS/Tier 1 - 4/TB-14-76_NGP Prgrm_N/3. Prog. Control/PMLC - Program Status Report/Z-Archive/NGP_Core_Team_Meeting_10_06_2015 v02.pptx\n",
      "/Users/rmRM/Desktop/Evgenii/DS/Tier 1 - 4/TB-14-76_NGP Prgrm_N/3. Prog. Control/PMLC - Program Status Report/Z-Archive/NGP_Core_Team_Meeting_10_14_2015 v03 AA.pptx\n",
      "/Users/rmRM/Desktop/Evgenii/DS/Tier 1 - 4/TB-14-76_NGP Prgrm_N/3. Prog. Control/PMLC - Program Status Report/Z-Archive/NGP_Core_Team_Meeting_2_17_2015vFinal.pptx\n",
      "/Users/rmRM/Desktop/Evgenii/DS/Tier 1 - 4/TB-14-76_NGP Prgrm_N/3. Prog. Control/PMLC - Program Status Report/Z-Archive/NGP_Core_Team_Meeting_2_24_2015 v.Final.pptx\n",
      "/Users/rmRM/Desktop/Evgenii/DS/Tier 1 - 4/TB-14-76_NGP Prgrm_N/3. Prog. Control/PMLC - Program Status Report/Z-Archive/NGP_Core_Team_Meeting_3_03_2015 v Final.pptx\n",
      "/Users/rmRM/Desktop/Evgenii/DS/Tier 1 - 4/TB-14-76_NGP Prgrm_N/3. Prog. Control/PMLC - Program Status Report/Z-Archive/NGP_Core_Team_Meeting_3_10_2015 v Final.pptx\n",
      "/Users/rmRM/Desktop/Evgenii/DS/Tier 1 - 4/TB-14-76_NGP Prgrm_N/3. Prog. Control/PMLC - Program Status Report/Z-Archive/NGP_Core_Team_Meeting_3_17_2015 vFinal.pptx\n",
      "/Users/rmRM/Desktop/Evgenii/DS/Tier 1 - 4/TB-14-76_NGP Prgrm_N/3. Prog. Control/PMLC - Program Status Report/Z-Archive/NGP_Core_Team_Meeting_3_24_2015 v Final.pptx\n",
      "/Users/rmRM/Desktop/Evgenii/DS/Tier 1 - 4/TB-14-76_NGP Prgrm_N/3. Prog. Control/PMLC - Program Status Report/Z-Archive/NGP_Core_Team_Meeting_3_31_2015 v Final.pptx\n",
      "/Users/rmRM/Desktop/Evgenii/DS/Tier 1 - 4/TB-14-76_NGP Prgrm_N/3. Prog. Control/PMLC - Program Status Report/Z-Archive/NGP_Core_Team_Meeting_4_14_2015 v Final.pptx\n",
      "/Users/rmRM/Desktop/Evgenii/DS/Tier 1 - 4/TB-14-76_NGP Prgrm_N/3. Prog. Control/PMLC - Program Status Report/Z-Archive/NGP_Core_Team_Meeting_4_21_2015 v Final.pptx\n",
      "/Users/rmRM/Desktop/Evgenii/DS/Tier 1 - 4/TB-14-76_NGP Prgrm_N/3. Prog. Control/PMLC - Program Status Report/Z-Archive/NGP_Core_Team_Meeting_4_28_2015 v 03.pptx\n",
      "/Users/rmRM/Desktop/Evgenii/DS/Tier 1 - 4/TB-14-76_NGP Prgrm_N/3. Prog. Control/PMLC - Program Status Report/Z-Archive/NGP_Core_Team_Meeting_5_12_2015 v 02.pptx\n",
      "/Users/rmRM/Desktop/Evgenii/DS/Tier 1 - 4/TB-14-76_NGP Prgrm_N/3. Prog. Control/PMLC - Program Status Report/Z-Archive/NGP_Core_Team_Meeting_5_19_2015 v 02.pptx\n",
      "/Users/rmRM/Desktop/Evgenii/DS/Tier 1 - 4/TB-14-76_NGP Prgrm_N/3. Prog. Control/PMLC - Program Status Report/Z-Archive/NGP_Core_Team_Meeting_5_26_2015 vFinal.pptx\n",
      "/Users/rmRM/Desktop/Evgenii/DS/Tier 1 - 4/TB-14-76_NGP Prgrm_N/3. Prog. Control/PMLC - Program Status Report/Z-Archive/NGP_Core_Team_Meeting_5_5_2015 v Final.pptx\n",
      "/Users/rmRM/Desktop/Evgenii/DS/Tier 1 - 4/TB-14-76_NGP Prgrm_N/3. Prog. Control/PMLC - Program Status Report/Z-Archive/NGP_Core_Team_Meeting_6_16_2015 vFinal.pptx\n",
      "/Users/rmRM/Desktop/Evgenii/DS/Tier 1 - 4/TB-14-76_NGP Prgrm_N/3. Prog. Control/PMLC - Program Status Report/Z-Archive/NGP_Core_Team_Meeting_6_23_2015 vFinal.pptx\n",
      "/Users/rmRM/Desktop/Evgenii/DS/Tier 1 - 4/TB-14-76_NGP Prgrm_N/3. Prog. Control/PMLC - Program Status Report/Z-Archive/NGP_Core_Team_Meeting_6_29_2015 vFinal.pptx\n",
      "/Users/rmRM/Desktop/Evgenii/DS/Tier 1 - 4/TB-14-76_NGP Prgrm_N/3. Prog. Control/PMLC - Program Status Report/Z-Archive/NGP_Core_Team_Meeting_6_2_2015 vFinal.pptx\n",
      "/Users/rmRM/Desktop/Evgenii/DS/Tier 1 - 4/TB-14-76_NGP Prgrm_N/3. Prog. Control/PMLC - Program Status Report/Z-Archive/NGP_Core_Team_Meeting_6_9_2015 vFinal.pptx\n",
      "/Users/rmRM/Desktop/Evgenii/DS/Tier 1 - 4/TB-14-76_NGP Prgrm_N/3. Prog. Control/PMLC - Program Status Report/Z-Archive/NGP_Core_Team_Meeting_7_14_2015 vFinal.pptx\n",
      "/Users/rmRM/Desktop/Evgenii/DS/Tier 1 - 4/TB-14-76_NGP Prgrm_N/3. Prog. Control/PMLC - Program Status Report/Z-Archive/NGP_Core_Team_Meeting_7_21_2015 v01.pptx\n",
      "/Users/rmRM/Desktop/Evgenii/DS/Tier 1 - 4/TB-14-76_NGP Prgrm_N/3. Prog. Control/PMLC - Program Status Report/Z-Archive/NGP_Core_Team_Meeting_7_28_2015 v01.pptx\n",
      "/Users/rmRM/Desktop/Evgenii/DS/Tier 1 - 4/TB-14-76_NGP Prgrm_N/3. Prog. Control/PMLC - Program Status Report/Z-Archive/NGP_Core_Team_Meeting_7_7_2015 vFinal.pptx\n",
      "/Users/rmRM/Desktop/Evgenii/DS/Tier 1 - 4/TB-14-76_NGP Prgrm_N/3. Prog. Control/PMLC - Program Status Report/Z-Archive/NGP_Core_Team_Meeting_8_18_2015 v01.pptx\n",
      "/Users/rmRM/Desktop/Evgenii/DS/Tier 1 - 4/TB-14-76_NGP Prgrm_N/3. Prog. Control/PMLC - Program Status Report/Z-Archive/NGP_Core_Team_Meeting_8_25_2015 v01.pptx\n",
      "/Users/rmRM/Desktop/Evgenii/DS/Tier 1 - 4/TB-14-76_NGP Prgrm_N/3. Prog. Control/PMLC - Program Status Report/Z-Archive/NGP_Core_Team_Meeting_8_4_2015 v04.pptx\n",
      "/Users/rmRM/Desktop/Evgenii/DS/Tier 1 - 4/TB-14-76_NGP Prgrm_N/3. Prog. Control/PMLC - Program Status Report/Z-Archive/NGP_Core_Team_Meeting_9_08_2015 v02.pptx\n",
      "/Users/rmRM/Desktop/Evgenii/DS/Tier 1 - 4/TB-14-76_NGP Prgrm_N/3. Prog. Control/PMLC - Program Status Report/Z-Archive/NGP_Core_Team_Meeting_9_15_2015 v02.pptx\n",
      "/Users/rmRM/Desktop/Evgenii/DS/Tier 1 - 4/TB-14-76_NGP Prgrm_N/3. Prog. Control/PMLC - Program Status Report/Z-Archive/NGP_Core_Team_Meeting_9_22_2015 v02.pptx\n",
      "/Users/rmRM/Desktop/Evgenii/DS/Tier 1 - 4/TB-14-76_NGP Prgrm_N/3. Prog. Control/PMLC - Program Status Report/Z-Archive/NGP_Core_Team_Meeting_9_29_2015 v02.pptx\n",
      "/Users/rmRM/Desktop/Evgenii/DS/Tier 1 - 4/TB-14-76_NGP Prgrm_N/3. Prog. Control/PMLC - RACI/1.0 Final and Approvals/NGP Program RACI_10012015_VFinal.xlsx\n",
      "/Users/rmRM/Desktop/Evgenii/DS/Tier 1 - 4/TB-14-76_NGP Prgrm_N/3. Prog. Control/PMLC - RACI/1.0 Final and Approvals/NGP Program RACI_12312017_VFinal.xlsx\n",
      "/Users/rmRM/Desktop/Evgenii/DS/Tier 1 - 4/TB-14-76_NGP Prgrm_N/3. Prog. Control/PMLC - RACI/2.0 WIP/NGP Program RACI_06022015_VFinal.xlsx\n",
      "/Users/rmRM/Desktop/Evgenii/DS/Tier 1 - 4/TB-14-76_NGP Prgrm_N/3. Prog. Control/PMLC - RAID/Archive/RIB_SBIB_Upgrade_DCTS_IAD_Log.xls\n"
     ]
    },
    {
     "name": "stderr",
     "output_type": "stream",
     "text": [
      " 21%|██        | 1712/8058 [00:33<02:43, 38.81it/s]"
     ]
    },
    {
     "name": "stdout",
     "output_type": "stream",
     "text": [
      "/Users/rmRM/Desktop/Evgenii/DS/Tier 1 - 4/TB-14-76_NGP Prgrm_N/3. Prog. Control/PMLC - RAID/Archive/RIB_SBIB_Upgrade_DCTS_IAD_Log.xlsx\n",
      "/Users/rmRM/Desktop/Evgenii/DS/Tier 1 - 4/TB-14-76_NGP Prgrm_N/3. Prog. Control/PMLC - Steering Committee Charter/1.0 Final and Approvals/Approval - NGP Executive Steering Meeting Minutes - May 28 v 01.doc\n",
      "/Users/rmRM/Desktop/Evgenii/DS/Tier 1 - 4/TB-14-76_NGP Prgrm_N/3. Prog. Control/PMLC - Steering Committee Charter/1.0 Final and Approvals/Approval - NGP Executive Steering Meeting Minutes - May 28 v 01.docx\n",
      "/Users/rmRM/Desktop/Evgenii/DS/Tier 1 - 4/TB-14-76_NGP Prgrm_N/3. Prog. Control/PMLC - Steering Committee Charter/2.0 WIP/TD Bank -NGP - Steering Committee Charter_5212015_v 02.docx\n",
      "/Users/rmRM/Desktop/Evgenii/DS/Tier 1 - 4/TB-14-76_NGP Prgrm_N/3. Prog. Control/Z - Tier Classification/1.9.1 Initiation/NGP Tier Classification Initiation 14Apr14 draft.xls\n"
     ]
    },
    {
     "name": "stderr",
     "output_type": "stream",
     "text": [
      "/Users/rmRM/opt/anaconda3/lib/python3.8/site-packages/openpyxl/reader/drawings.py:55: UserWarning: The image xl/media/image166.wmf will be removed because it cannot be read\n",
      "  warn(msg)\n",
      " 23%|██▎       | 1817/8058 [00:33<01:58, 52.60it/s]"
     ]
    },
    {
     "name": "stdout",
     "output_type": "stream",
     "text": [
      "/Users/rmRM/Desktop/Evgenii/DS/Tier 1 - 4/TB-14-76_NGP Prgrm_N/3. Prog. Control/Z - Tier Classification/1.9.1 Initiation/NGP Tier Classification Initiation 14Apr14 draft.xlsx\n",
      "/Users/rmRM/Desktop/Evgenii/DS/Tier 1 - 4/TB-14-76_NGP Prgrm_N/3. Prog. Control/Z - Tier Classification/1.9.1 Initiation/NGP Tier Classification Initiation 20Nov14 draft.xlsx\n",
      "/Users/rmRM/Desktop/Evgenii/DS/Tier 1 - 4/TB-14-76_NGP Prgrm_N/Add. Prog Info/12_15_2015 Exec Artifact Review/Project 1 IPP/IPP NGP P1 Mobile v 5.docx\n",
      "/Users/rmRM/Desktop/Evgenii/DS/Tier 1 - 4/TB-14-76_NGP Prgrm_N/Add. Prog Info/12_15_2015 Exec Artifact Review/Project 3 Scope Document/NGP - Scope Definition - Project 3 - v 12_110315.ppt\n"
     ]
    },
    {
     "name": "stderr",
     "output_type": "stream",
     "text": [
      " 23%|██▎       | 1846/8058 [00:34<02:09, 47.88it/s]"
     ]
    },
    {
     "name": "stdout",
     "output_type": "stream",
     "text": [
      "/Users/rmRM/Desktop/Evgenii/DS/Tier 1 - 4/TB-14-76_NGP Prgrm_N/Add. Prog Info/12_15_2015 Exec Artifact Review/Project 3 Scope Document/NGP - Scope Definition - Project 3 - v 12_110315.pptx\n",
      "/Users/rmRM/Desktop/Evgenii/DS/Tier 1 - 4/TB-14-76_NGP Prgrm_N/Add. Prog Info/12_15_2015 Exec Artifact Review/Project Charters/NGP - Project 3 - Project Charter v3.pptx\n",
      "/Users/rmRM/Desktop/Evgenii/DS/Tier 1 - 4/TB-14-76_NGP Prgrm_N/Add. Prog Info/12_15_2015 Exec Artifact Review/Project Charters/NGP - Project 4 - Project Charter v3.pptx\n",
      "/Users/rmRM/Desktop/Evgenii/DS/Tier 1 - 4/TB-14-76_NGP Prgrm_N/Add. Prog Info/Additional DC Documentation/TD US NGP Online Upgrade 07May2014.ppt\n",
      "/Users/rmRM/Desktop/Evgenii/DS/Tier 1 - 4/TB-14-76_NGP Prgrm_N/Add. Prog Info/Additional DC Documentation/TD US NGP Online Upgrade 07May2014.pptx\n",
      "/Users/rmRM/Desktop/Evgenii/DS/Tier 1 - 4/TB-14-76_NGP Prgrm_N/Add. Prog Info/Additional DC Documentation/TD US NGP Online Upgrade 16May2014_v3.ppt\n"
     ]
    },
    {
     "name": "stderr",
     "output_type": "stream",
     "text": [
      "/Users/rmRM/opt/anaconda3/lib/python3.8/site-packages/openpyxl/worksheet/_reader.py:300: UserWarning: Conditional Formatting extension is not supported and will be removed\n",
      "  warn(msg)\n"
     ]
    },
    {
     "name": "stdout",
     "output_type": "stream",
     "text": [
      "/Users/rmRM/Desktop/Evgenii/DS/Tier 1 - 4/TB-14-76_NGP Prgrm_N/Add. Prog Info/Additional DC Documentation/TD US NGP Online Upgrade 16May2014_v3.pptx\n",
      "/Users/rmRM/Desktop/Evgenii/DS/Tier 1 - 4/TB-14-76_NGP Prgrm_N/Add. Prog Info/Archive/NGP_Program_Artifact_Checklist_20150825.xlsx\n",
      "/Users/rmRM/Desktop/Evgenii/DS/Tier 1 - 4/TB-14-76_NGP Prgrm_N/Add. Prog Info/Archive/NGP_Program_Artifact_Checklist_20150923.xlsx\n",
      "/Users/rmRM/Desktop/Evgenii/DS/Tier 1 - 4/TB-14-76_NGP Prgrm_N/Add. Prog Info/Share Working SCOPE Docs/Fix Assets Impairment/BD Store Enrollment Business Case document final 4 11 14.pptx\n",
      "/Users/rmRM/Desktop/Evgenii/DS/Tier 1 - 4/TB-14-76_NGP Prgrm_N/Add. Prog Info/Share Working SCOPE Docs/Fix Assets Impairment/Business_Case_EDID_US_Ver2  1 Approved.pptx\n",
      "/Users/rmRM/Desktop/Evgenii/DS/Tier 1 - 4/TB-14-76_NGP Prgrm_N/Add. Prog Info/Share Working SCOPE Docs/Fix Assets Impairment/Digital Channel Base Depreciation as of June F16 v2.xlsx\n",
      "/Users/rmRM/Desktop/Evgenii/DS/Tier 1 - 4/TB-14-76_NGP Prgrm_N/Add. Prog Info/Share Working SCOPE Docs/Fix Assets Impairment/Digital Channel Base Depreciation as of June F16 v3.xlsx\n",
      "/Users/rmRM/Desktop/Evgenii/DS/Tier 1 - 4/TB-14-76_NGP Prgrm_N/Add. Prog Info/Share Working SCOPE Docs/Fix Assets Impairment/Digital Channel Base Depreciation as of June F16.xlsx\n",
      "/Users/rmRM/Desktop/Evgenii/DS/Tier 1 - 4/TB-14-76_NGP Prgrm_N/Add. Prog Info/Share Working SCOPE Docs/Fix Assets Impairment/EDID  US Software Development Capital Eligibility Form Jan 2014.xlsx\n",
      "/Users/rmRM/Desktop/Evgenii/DS/Tier 1 - 4/TB-14-76_NGP Prgrm_N/Add. Prog Info/Share Working SCOPE Docs/Fix Assets Impairment/Impairment Review Checklist.doc\n",
      "/Users/rmRM/Desktop/Evgenii/DS/Tier 1 - 4/TB-14-76_NGP Prgrm_N/Add. Prog Info/Share Working SCOPE Docs/Fix Assets Impairment/Impairment Review Checklist.docx\n",
      "/Users/rmRM/Desktop/Evgenii/DS/Tier 1 - 4/TB-14-76_NGP Prgrm_N/Add. Prog Info/Share Working SCOPE Docs/Fix Assets Impairment/MRDC Business Case.doc\n",
      "/Users/rmRM/Desktop/Evgenii/DS/Tier 1 - 4/TB-14-76_NGP Prgrm_N/Add. Prog Info/Share Working SCOPE Docs/Fix Assets Impairment/MRDC Business Case.docx\n",
      "/Users/rmRM/Desktop/Evgenii/DS/Tier 1 - 4/TB-14-76_NGP Prgrm_N/Add. Prog Info/Share Working SCOPE Docs/Fix Assets Impairment/MRDC FPT.xls\n"
     ]
    },
    {
     "name": "stderr",
     "output_type": "stream",
     "text": [
      " 23%|██▎       | 1868/8058 [00:35<03:46, 27.34it/s]"
     ]
    },
    {
     "name": "stdout",
     "output_type": "stream",
     "text": [
      "/Users/rmRM/Desktop/Evgenii/DS/Tier 1 - 4/TB-14-76_NGP Prgrm_N/Add. Prog Info/Share Working SCOPE Docs/Fix Assets Impairment/MRDC FPT.xlsx\n",
      "/Users/rmRM/Desktop/Evgenii/DS/Tier 1 - 4/TB-14-76_NGP Prgrm_N/Add. Prog Info/Share Working SCOPE Docs/Fix Assets Impairment/MRDC PDD (for approval) 2013-01-08.ppt\n",
      "/Users/rmRM/Desktop/Evgenii/DS/Tier 1 - 4/TB-14-76_NGP Prgrm_N/Add. Prog Info/Share Working SCOPE Docs/Fix Assets Impairment/MRDC PDD (for approval) 2013-01-08.pptx\n",
      "/Users/rmRM/Desktop/Evgenii/DS/Tier 1 - 4/TB-14-76_NGP Prgrm_N/Add. Prog Info/Share Working SCOPE Docs/Fix Assets Impairment/RIB Store Enrollment Application SW Cap Rev.xls\n",
      "/Users/rmRM/Desktop/Evgenii/DS/Tier 1 - 4/TB-14-76_NGP Prgrm_N/Add. Prog Info/Share Working SCOPE Docs/Fix Assets Impairment/RIB Store Enrollment Application SW Cap Rev.xlsx\n",
      "/Users/rmRM/Desktop/Evgenii/DS/Tier 1 - 4/TB-14-76_NGP Prgrm_N/Add. Prog Info/Share Working SCOPE Docs/Fix Assets Impairment/RIB Store Enrollment Business Case FOR APPROVAL - Final.pptx\n",
      "/Users/rmRM/Desktop/Evgenii/DS/Tier 1 - 4/TB-14-76_NGP Prgrm_N/Add. Prog Info/Share Working SCOPE Docs/Fix Assets Impairment/RemoteDepositCapture-577-BudgetTracker010614.xls\n",
      "/Users/rmRM/Desktop/Evgenii/DS/Tier 1 - 4/TB-14-76_NGP Prgrm_N/Add. Prog Info/Share Working SCOPE Docs/Fix Assets Impairment/RemoteDepositCapture-577-BudgetTracker010614.xlsx\n",
      "/Users/rmRM/Desktop/Evgenii/DS/Tier 1 - 4/TB-14-76_NGP Prgrm_N/Add. Prog Info/Share Working SCOPE Docs/Fix Assets Impairment/Rib FinancialProjectionTemplate_v2.xls\n",
      "/Users/rmRM/Desktop/Evgenii/DS/Tier 1 - 4/TB-14-76_NGP Prgrm_N/Add. Prog Info/Share Working SCOPE Docs/Fix Assets Impairment/Rib FinancialProjectionTemplate_v2.xlsx\n",
      "/Users/rmRM/Desktop/Evgenii/DS/Tier 1 - 4/TB-14-76_NGP Prgrm_N/Add. Prog Info/Share Working SCOPE Docs/Fix Assets Impairment/SBB+MRDC FPT 2 4 Depreciation.xls\n",
      "/Users/rmRM/Desktop/Evgenii/DS/Tier 1 - 4/TB-14-76_NGP Prgrm_N/Add. Prog Info/Share Working SCOPE Docs/Fix Assets Impairment/SBB+MRDC FPT 2 4 Depreciation.xlsx\n",
      "/Users/rmRM/Desktop/Evgenii/DS/Tier 1 - 4/TB-14-76_NGP Prgrm_N/Add. Prog Info/Share Working SCOPE Docs/Fix Assets Impairment/SB_Direct_Enrollment_FPT_V04.xls\n"
     ]
    },
    {
     "name": "stderr",
     "output_type": "stream",
     "text": [
      " 23%|██▎       | 1884/8058 [00:42<16:29,  6.24it/s]"
     ]
    },
    {
     "name": "stdout",
     "output_type": "stream",
     "text": [
      "/Users/rmRM/Desktop/Evgenii/DS/Tier 1 - 4/TB-14-76_NGP Prgrm_N/Add. Prog Info/Share Working SCOPE Docs/Fix Assets Impairment/SB_Direct_Enrollment_FPT_V04.xlsx\n",
      "/Users/rmRM/Desktop/Evgenii/DS/Tier 1 - 4/TB-14-76_NGP Prgrm_N/Add. Prog Info/Share Working SCOPE Docs/Fix Assets Impairment/Software Development Capital Eligibility Form - Remote Deposit Capture.xls\n",
      "/Users/rmRM/Desktop/Evgenii/DS/Tier 1 - 4/TB-14-76_NGP Prgrm_N/Add. Prog Info/Share Working SCOPE Docs/Fix Assets Impairment/Software Development Capital Eligibility Form - Remote Deposit Capture.xlsx\n",
      "/Users/rmRM/Desktop/Evgenii/DS/Tier 1 - 4/TB-14-76_NGP Prgrm_N/Add. Prog Info/Share Working SCOPE Docs/Fix Assets Impairment/Software Development Capital Eligibility-PswdReset.xlsx\n",
      "/Users/rmRM/Desktop/Evgenii/DS/Tier 1 - 4/TB-14-76_NGP Prgrm_N/Add. Prog Info/Share Working SCOPE Docs/Fix Assets Impairment/TD Bank JHA Schedule 3 Mobile (11 30 12 clean) doc.doc\n",
      "/Users/rmRM/Desktop/Evgenii/DS/Tier 1 - 4/TB-14-76_NGP Prgrm_N/Add. Prog Info/Share Working SCOPE Docs/Fix Assets Impairment/TD Bank JHA Schedule 3 Mobile (11 30 12 clean) doc.docx\n",
      "/Users/rmRM/Desktop/Evgenii/DS/Tier 1 - 4/TB-14-76_NGP Prgrm_N/Add. Prog Info/Share Working SCOPE Docs/Fix Assets Impairment/TDB SB Mobile Application SW Cap Rev.xls\n",
      "/Users/rmRM/Desktop/Evgenii/DS/Tier 1 - 4/TB-14-76_NGP Prgrm_N/Add. Prog Info/Share Working SCOPE Docs/Fix Assets Impairment/TDB SB Mobile Application SW Cap Rev.xlsx\n",
      "/Users/rmRM/Desktop/Evgenii/DS/Tier 1 - 4/TB-14-76_NGP Prgrm_N/Add. Prog Info/Share Working SCOPE Docs/Fix Assets Impairment/UPDATE SB Mobile Business Case Jan 31 2014.pptx\n",
      "/Users/rmRM/Desktop/Evgenii/DS/Tier 1 - 4/TB-14-76_NGP Prgrm_N/Add. Prog Info/Share Working SCOPE Docs/Fix Assets Impairment/mRDC 577 ProjectClosure doc Dec 6, 2013.ppt\n",
      "/Users/rmRM/Desktop/Evgenii/DS/Tier 1 - 4/TB-14-76_NGP Prgrm_N/Add. Prog Info/Share Working SCOPE Docs/Fix Assets Impairment/mRDC 577 ProjectClosure doc Dec 6, 2013.pptx\n",
      "/Users/rmRM/Desktop/Evgenii/DS/Tier 1 - 4/TB-14-76_NGP Prgrm_N/Add. Prog Info/Share Working SCOPE Docs/Fix Assets Impairment/mRDC Potential Cap-Eligible F13 GL Detail.xlsx\n",
      "/Users/rmRM/Desktop/Evgenii/DS/Tier 1 - 4/TB-14-76_NGP Prgrm_N/Add. Prog Info/Share Working SCOPE Docs/Fix Assets Impairment/mRDC_FPT PDD Level updated Jan 8, 2013.xls\n",
      "/Users/rmRM/Desktop/Evgenii/DS/Tier 1 - 4/TB-14-76_NGP Prgrm_N/Add. Prog Info/Share Working SCOPE Docs/Fix Assets Impairment/mRDC_FPT PDD Level updated Jan 8, 2013.xlsx\n",
      "/Users/rmRM/Desktop/Evgenii/DS/Tier 1 - 4/TB-14-76_NGP Prgrm_N/Add. Prog Info/Share Working SCOPE Docs/Mar 24 2016 Presentation/DC Senior Executive Approval Request February 9 2016 v0 2 TAL .pptx\n",
      "/Users/rmRM/Desktop/Evgenii/DS/Tier 1 - 4/TB-14-76_NGP Prgrm_N/Add. Prog Info/Share Working SCOPE Docs/Mar 24 2016 Presentation/NGP - Program Cost template_Mar 2016 v1.xls\n",
      "/Users/rmRM/Desktop/Evgenii/DS/Tier 1 - 4/TB-14-76_NGP Prgrm_N/Add. Prog Info/Share Working SCOPE Docs/Mar 24 2016 Presentation/NGP - Program Cost template_Mar 2016 v1.xlsx\n",
      "/Users/rmRM/Desktop/Evgenii/DS/Tier 1 - 4/TB-14-76_NGP Prgrm_N/Add. Prog Info/Share Working SCOPE Docs/Mar 24 2016 Presentation/NGP - Project 1 Costs _ Mar 2016_v1.xls\n"
     ]
    },
    {
     "name": "stderr",
     "output_type": "stream",
     "text": [
      " 24%|██▎       | 1895/8058 [00:45<18:58,  5.41it/s]"
     ]
    },
    {
     "name": "stdout",
     "output_type": "stream",
     "text": [
      "/Users/rmRM/Desktop/Evgenii/DS/Tier 1 - 4/TB-14-76_NGP Prgrm_N/Add. Prog Info/Share Working SCOPE Docs/Mar 24 2016 Presentation/NGP - Project 1 Costs _ Mar 2016_v1.xlsx\n",
      "/Users/rmRM/Desktop/Evgenii/DS/Tier 1 - 4/TB-14-76_NGP Prgrm_N/Add. Prog Info/Share Working SCOPE Docs/Mar 24 2016 Presentation/NGP - Project 3 Costs _ Mar 2016_v1.xls\n"
     ]
    },
    {
     "name": "stderr",
     "output_type": "stream",
     "text": [
      " 24%|██▎       | 1903/8058 [00:46<15:25,  6.65it/s]"
     ]
    },
    {
     "name": "stdout",
     "output_type": "stream",
     "text": [
      "/Users/rmRM/Desktop/Evgenii/DS/Tier 1 - 4/TB-14-76_NGP Prgrm_N/Add. Prog Info/Share Working SCOPE Docs/Mar 24 2016 Presentation/NGP - Project 3 Costs _ Mar 2016_v1.xlsx\n",
      "/Users/rmRM/Desktop/Evgenii/DS/Tier 1 - 4/TB-14-76_NGP Prgrm_N/Add. Prog Info/Share Working SCOPE Docs/Mar 24 2016 Presentation/NGP Program - March 2016 EPMO_SCOPE_Checklist - v1.docx\n",
      "/Users/rmRM/Desktop/Evgenii/DS/Tier 1 - 4/TB-14-76_NGP Prgrm_N/Add. Prog Info/Share Working SCOPE Docs/Mar 24 2016 Presentation/NGP Project 1- March 2016 EPMO_SCOPE_Checklist - v1.docx\n",
      "/Users/rmRM/Desktop/Evgenii/DS/Tier 1 - 4/TB-14-76_NGP Prgrm_N/Add. Prog Info/Share Working SCOPE Docs/Mar 24 2016 Presentation/TD Bank - NGP - MIR Presentations - 09Feb2016 final v6.pptx\n",
      "/Users/rmRM/Desktop/Evgenii/DS/Tier 1 - 4/TB-14-76_NGP Prgrm_N/Add. Prog Info/Share Working SCOPE Docs/Mar 24 2016 Presentation/TD NGP - SCOPE Presentation 24Mar2016 v34 w approvals.pptx\n",
      "/Users/rmRM/Desktop/Evgenii/DS/Tier 1 - 4/TB-14-76_NGP Prgrm_N/Add. Prog Info/Share Working SCOPE Docs/Mar 24 2016 Presentation/TDB Digital Amortization Forecast_Upd072015.xlsx\n",
      "/Users/rmRM/Desktop/Evgenii/DS/Tier 1 - 4/TB-14-76_NGP Prgrm_N/Add. Prog Info/Share Working SCOPE Docs/Sept 8 2016 Presentation/2016_07_08_NGP-R Project_Gating_and_QA_Checklist_v 08.xlsx\n",
      "/Users/rmRM/Desktop/Evgenii/DS/Tier 1 - 4/TB-14-76_NGP Prgrm_N/Add. Prog Info/Share Working SCOPE Docs/Sept 8 2016 Presentation/NGP - Program Cost - Jul 2016 v2.xls\n",
      "/Users/rmRM/Desktop/Evgenii/DS/Tier 1 - 4/TB-14-76_NGP Prgrm_N/Add. Prog Info/Share Working SCOPE Docs/Sept 8 2016 Presentation/NGP - Program Cost - Jul 2016 v2.xlsx\n",
      "/Users/rmRM/Desktop/Evgenii/DS/Tier 1 - 4/TB-14-76_NGP Prgrm_N/Add. Prog Info/Share Working SCOPE Docs/Sept 8 2016 Presentation/NGP - Program Gating Checklist new format.xlsx\n",
      "/Users/rmRM/Desktop/Evgenii/DS/Tier 1 - 4/TB-14-76_NGP Prgrm_N/Add. Prog Info/Share Working SCOPE Docs/Sept 8 2016 Presentation/NGP - Project 1 Costs _ Jul 2016_v1.xls\n"
     ]
    },
    {
     "name": "stderr",
     "output_type": "stream",
     "text": [
      " 24%|██▎       | 1909/8058 [00:47<16:11,  6.33it/s]"
     ]
    },
    {
     "name": "stdout",
     "output_type": "stream",
     "text": [
      "/Users/rmRM/Desktop/Evgenii/DS/Tier 1 - 4/TB-14-76_NGP Prgrm_N/Add. Prog Info/Share Working SCOPE Docs/Sept 8 2016 Presentation/NGP - Project 1 Costs _ Jul 2016_v1.xlsx\n",
      "/Users/rmRM/Desktop/Evgenii/DS/Tier 1 - 4/TB-14-76_NGP Prgrm_N/Add. Prog Info/Share Working SCOPE Docs/Sept 8 2016 Presentation/NGP - Project 3 Costs _ Jul 2016_v1.xls\n"
     ]
    },
    {
     "name": "stderr",
     "output_type": "stream",
     "text": [
      " 24%|██▍       | 1914/8058 [00:48<17:19,  5.91it/s]"
     ]
    },
    {
     "name": "stdout",
     "output_type": "stream",
     "text": [
      "/Users/rmRM/Desktop/Evgenii/DS/Tier 1 - 4/TB-14-76_NGP Prgrm_N/Add. Prog Info/Share Working SCOPE Docs/Sept 8 2016 Presentation/NGP - Project 3 Costs _ Jul 2016_v1.xlsx\n",
      "/Users/rmRM/Desktop/Evgenii/DS/Tier 1 - 4/TB-14-76_NGP Prgrm_N/Add. Prog Info/Share Working SCOPE Docs/Sept 8 2016 Presentation/NGP - SCOPE Working Timeline.pptx\n",
      "/Users/rmRM/Desktop/Evgenii/DS/Tier 1 - 4/TB-14-76_NGP Prgrm_N/Add. Prog Info/Share Working SCOPE Docs/Sept 8 2016 Presentation/NGP Program - Aug 2016 EPMO_SCOPE_Checklist - v2.docx\n",
      "/Users/rmRM/Desktop/Evgenii/DS/Tier 1 - 4/TB-14-76_NGP Prgrm_N/Add. Prog Info/Share Working SCOPE Docs/Sept 8 2016 Presentation/NGP Project 1 - Aug 2016 EPMO_SCOPE_Checklist - v2.docx\n",
      "/Users/rmRM/Desktop/Evgenii/DS/Tier 1 - 4/TB-14-76_NGP Prgrm_N/Add. Prog Info/Share Working SCOPE Docs/Sept 8 2016 Presentation/NGP Project 3 - Aug 2016 EPMO_SCOPE_Checklist - v2.docx\n",
      "/Users/rmRM/Desktop/Evgenii/DS/Tier 1 - 4/TB-14-76_NGP Prgrm_N/Add. Prog Info/Share Working SCOPE Docs/Sept 8 2016 Presentation/NGP_Project1_Gating_Checklist_PMLC .xlsx\n",
      "/Users/rmRM/Desktop/Evgenii/DS/Tier 1 - 4/TB-14-76_NGP Prgrm_N/Add. Prog Info/Share Working SCOPE Docs/Sept 8 2016 Presentation/TD Bank - NGP - MIR Presentations - 19Jul2016 v8.pptx\n",
      "/Users/rmRM/Desktop/Evgenii/DS/Tier 1 - 4/TB-14-76_NGP Prgrm_N/Add. Prog Info/Share Working SCOPE Docs/Sept 8 2016 Presentation/TD NGP - SCOPE Presentation 08Sept2016 v16 w approvals.pptx\n",
      "/Users/rmRM/Desktop/Evgenii/DS/Tier 1 - 4/TB-14-76_NGP Prgrm_N/Add. Prog Info/Share Working SCOPE Docs/Sept 8 2016 Presentation/TD NGP - SCOPE Presentation 08Sept2016 v17 w approvals.pptx\n",
      "/Users/rmRM/Desktop/Evgenii/DS/Tier 1 - 4/TB-14-76_NGP Program/TB-15-703 NGP Project 3/1.0 Ideation/Project Gating and Quality Assessment Checklist/1.0 WIP/Project_Gating_and_QA_Checklist_OCIO(template).xlsx\n",
      "/Users/rmRM/Desktop/Evgenii/DS/Tier 1 - 4/TB-14-76_NGP Program/TB-15-703 NGP Project 3/1.0 Ideation/Project Gating and Quality Assessment Checklist/2.0 Final and Approvals/NGP P3_Gating_and_QA_Checklist_.xlsx\n",
      "/Users/rmRM/Desktop/Evgenii/DS/Tier 1 - 4/TB-14-76_NGP Program/TB-15-703 NGP Project 3/4.0 Execution/Implementation Plan/1.0 WIP/NGP Project 1_Pilot Plan_1_8_2016v04 (2).docx\n",
      "/Users/rmRM/Desktop/Evgenii/DS/Tier 1 - 4/TB-14-76_NGP Program/TB-15-703 NGP Project 3/4.0 Execution/Implementation Plan/1.0 WIP/P3 Implementation Plan 20160429 v0.2.docx\n",
      "/Users/rmRM/Desktop/Evgenii/DS/Tier 1 - 4/TB-14-76_NGP Program/Z-REF-TB-14-76 NGP - Release 1 - Tablet App/2.0 Initiation/2.1 Project Card/TDB - NGP - Release 1 - Initiative Card 28Oct2014 final.xlsx\n",
      "/Users/rmRM/Desktop/Evgenii/DS/Tier 1 - 4/TB-14-76_NGP Program/Z-REF-TB-14-76 NGP - Release 1 - Tablet App/2.0 Initiation/2.2 Scope Definition/US NGP Scope Release 1 - 18Sep2014 v1.pptx\n",
      "/Users/rmRM/Desktop/Evgenii/DS/Tier 1 - 4/TB-14-76_NGP Program/Z-REF-TB-14-76 NGP - Release 1 - Tablet App/2.0 Initiation/2.3 Project ROM/2.3.1 Estimates/NGP ROM - Release 1 - Cost Breakdown 18Nov2014.xlsx\n",
      "/Users/rmRM/Desktop/Evgenii/DS/Tier 1 - 4/TB-14-76_NGP Program/Z-REF-TB-14-76 NGP - Release 1 - Tablet App/3.0 Planning/3.1 BuRP Package/3.1.2 Wireframes/NGP-Exec-Review-10-17-14.pptx\n",
      "/Users/rmRM/Desktop/Evgenii/DS/Tier 1 - 4/TB-14-76_NGP Program/Z-REF-TB-14-76 NGP - Release 1 - Tablet App/3.0 Planning/3.1 BuRP Package/3.1.2 Wireframes/NGP-Exec-Review-10-31-14-FINAL.pptx\n",
      "/Users/rmRM/Desktop/Evgenii/DS/Tier 1 - 4/TB-14-76_NGP Program/Z-REF-TB-14-76 NGP - Release 1 - Tablet App/3.0 Planning/3.1 BuRP Package/3.1.2 Wireframes/Wireframe Links.docx\n",
      "/Users/rmRM/Desktop/Evgenii/DS/Tier 1 - 4/TB-15-704 NGP Project 4/1.0 Ideation/Project Charter/1.0 WIP/NGP - Project 4 - Project Charter v3.pptx\n",
      "/Users/rmRM/Desktop/Evgenii/DS/Tier 1 - 4/TB-15-704 NGP Project 4/1.0 Ideation/Project Charter/2.0 Final and Approvals/NGP - Project 4 - Project Charter v3.pptx\n",
      "/Users/rmRM/Desktop/Evgenii/DS/Tier 1 - 4/TB-15-704 NGP Project 4/1.0 Ideation/SIA/Copy of NGP Program StakeholderImpactAssessment.xlsx\n"
     ]
    },
    {
     "name": "stderr",
     "output_type": "stream",
     "text": [
      " 24%|██▍       | 1952/8058 [00:48<12:11,  8.34it/s]"
     ]
    },
    {
     "name": "stdout",
     "output_type": "stream",
     "text": [
      "/Users/rmRM/Desktop/Evgenii/DS/Tier 1 - 4/TB-15-704 NGP Project 4/2.0 Initiation/Inherent Risk Assessment (IRA)/2.0 Final and Approvals/DgC MIR RiskForum 10 08 2015.pptx\n",
      "/Users/rmRM/Desktop/Evgenii/DS/Tier 1 - 4/TB-15-704 NGP Project 4/2.0 Initiation/Inherent Risk Assessment (IRA)/2.0 Final and Approvals/PIA_ NGP Project 4.xlsx\n",
      "/Users/rmRM/Desktop/Evgenii/DS/Tier 1 - 4/TB-15-704 NGP Project 4/2.0 Initiation/New Business and Product Risk Assessment (NBPRA)/2.0 Final and Approvals/NGP IRA project 4 FINAL_Approved.xlsx\n",
      "/Users/rmRM/Desktop/Evgenii/DS/Tier 1 - 4/TB-15-704 NGP Project 4/2.0 Initiation/Privacy Impact Assessment (PIA)/2.0 Final and Approvals/DgC MIR RiskForum 10 08 2015.pptx\n",
      "/Users/rmRM/Desktop/Evgenii/DS/Tier 1 - 4/TB-15-704 NGP Project 4/2.0 Initiation/Privacy Impact Assessment (PIA)/2.0 Final and Approvals/NGP IRA project 4 FINAL_Approved.xlsx\n",
      "/Users/rmRM/Desktop/Evgenii/DS/Tier 1 - 4/TB-15-704 NGP Project 4/2.0 Initiation/Privacy Impact Assessment (PIA)/2.0 Final and Approvals/PIA_ NGP Project 4.xlsx\n",
      "/Users/rmRM/Desktop/Evgenii/DS/Tier 1 - 4/TB-15-704 NGP Project 4/2.0 Initiation/Requirements Package/IAD/IAD_Log_P4_BA DO NOT USE.xls\n"
     ]
    },
    {
     "name": "stderr",
     "output_type": "stream",
     "text": [
      " 24%|██▍       | 1973/8058 [00:50<09:42, 10.45it/s]"
     ]
    },
    {
     "name": "stdout",
     "output_type": "stream",
     "text": [
      "/Users/rmRM/Desktop/Evgenii/DS/Tier 1 - 4/TB-15-704 NGP Project 4/2.0 Initiation/Requirements Package/IAD/IAD_Log_P4_BA DO NOT USE.xlsx\n",
      "/Users/rmRM/Desktop/Evgenii/DS/Tier 1 - 4/TB-15-704 NGP Project 4/2.0 Initiation/Requirements Package/IT BA Working Folder/NGP_P4_Alerts_BRD_v0.10_ITBAComments.docx\n",
      "/Users/rmRM/Desktop/Evgenii/DS/Tier 1 - 4/TB-15-704 NGP Project 4/2.0 Initiation/Requirements Package/IT BA Working Folder/NGP_P4_Secure_Messaging_BRD_ITBAcommentsv0.9.docx\n",
      "/Users/rmRM/Desktop/Evgenii/DS/Tier 1 - 4/TB-15-704 NGP Project 4/2.0 Initiation/Requirements Package/IT BA Working Folder/P4 Scope - Subcomponents.xlsx\n",
      "/Users/rmRM/Desktop/Evgenii/DS/Tier 1 - 4/TB-15-704 NGP Project 4/Meetings_Communications/Project Workbook/History/2016_04_05_NGP_P4_Workbook.xlsx\n",
      "/Users/rmRM/Desktop/Evgenii/DS/Tier 1 - 4/TB-15-704 NGP Project 4/Meetings_Communications/Project Workbook/History/2016_04_12_NGP_P4_Workbook.xlsx\n",
      "/Users/rmRM/Desktop/Evgenii/DS/Tier 1 - 4/TB-15-704 NGP Project 4/Meetings_Communications/Project Workbook/History/2016_04_19_NGP_P4_Workbook (Autosaved).xlsx\n",
      "/Users/rmRM/Desktop/Evgenii/DS/Tier 1 - 4/TB-15-704 NGP Project 4/Meetings_Communications/Project Workbook/History/2016_04_26_NGP_P4_Workbook (Autosaved).xlsx\n",
      "/Users/rmRM/Desktop/Evgenii/DS/Tier 1 - 4/TB-15-704 NGP Project 4/Project Control Artifacts/Meeting Minutes/Authentication/2015_12_02_Authentication Meeting Agenda and Minutes F.doc\n",
      "/Users/rmRM/Desktop/Evgenii/DS/Tier 1 - 4/TB-15-704 NGP Project 4/Project Control Artifacts/Meeting Minutes/Authentication/2015_12_02_Authentication Meeting Agenda and Minutes F.docx\n",
      "/Users/rmRM/Desktop/Evgenii/DS/Tier 1 - 4/TB-15-704 NGP Project 4/Project Control Artifacts/Meeting Minutes/Authentication/2015_12_02_Authentication Meeting Agenda.doc\n",
      "/Users/rmRM/Desktop/Evgenii/DS/Tier 1 - 4/TB-15-704 NGP Project 4/Project Control Artifacts/Meeting Minutes/Authentication/2015_12_02_Authentication Meeting Agenda.docx\n",
      "/Users/rmRM/Desktop/Evgenii/DS/Tier 1 - 4/TB-15-704 NGP Project 4/Project Control Artifacts/Meeting Minutes/Authentication/2015_12_11_NGP_P4_Authentication Scope Review Meeting Agenda.doc\n",
      "/Users/rmRM/Desktop/Evgenii/DS/Tier 1 - 4/TB-15-704 NGP Project 4/Project Control Artifacts/Meeting Minutes/Authentication/2015_12_11_NGP_P4_Authentication Scope Review Meeting Agenda.docx\n",
      "/Users/rmRM/Desktop/Evgenii/DS/Tier 1 - 4/TB-15-704 NGP Project 4/Project Control Artifacts/Meeting Minutes/Authentication/2015_12_11_NGP_P4_Authentication Scope Review Meeting Minutes.doc\n",
      "/Users/rmRM/Desktop/Evgenii/DS/Tier 1 - 4/TB-15-704 NGP Project 4/Project Control Artifacts/Meeting Minutes/Authentication/2015_12_11_NGP_P4_Authentication Scope Review Meeting Minutes.docx\n",
      "/Users/rmRM/Desktop/Evgenii/DS/Tier 1 - 4/TB-15-704 NGP Project 4/Project Control Artifacts/Meeting Minutes/Authentication/2015_12_18_NGP_P4_Authentication Scope Review Meeting Agenda.doc\n",
      "/Users/rmRM/Desktop/Evgenii/DS/Tier 1 - 4/TB-15-704 NGP Project 4/Project Control Artifacts/Meeting Minutes/Authentication/2015_12_18_NGP_P4_Authentication Scope Review Meeting Agenda.docx\n",
      "/Users/rmRM/Desktop/Evgenii/DS/Tier 1 - 4/TB-15-704 NGP Project 4/Project Control Artifacts/Meeting Minutes/Authentication/2015_12_18_NGP_P4_Authentication Scope Review Meeting Minutes.doc\n",
      "/Users/rmRM/Desktop/Evgenii/DS/Tier 1 - 4/TB-15-704 NGP Project 4/Project Control Artifacts/Meeting Minutes/Authentication/2015_12_18_NGP_P4_Authentication Scope Review Meeting Minutes.docx\n",
      "/Users/rmRM/Desktop/Evgenii/DS/Tier 1 - 4/TB-15-704 NGP Project 4/Project Control Artifacts/Project Risk Documentation/IRA/NGP IRA project 4 FINAL_Approved.xlsx\n",
      "/Users/rmRM/Desktop/Evgenii/DS/Tier 1 - 4/TB-15-704 NGP Project 4/Project Control Artifacts/Project Risk Documentation/PIA/PIA_ NGP Project 4.xlsx\n",
      "/Users/rmRM/Desktop/Evgenii/DS/Tier 1 - 4/TB-15-704 NGP Project 4/Project Control Artifacts/RACI/Team Roster/NGP P4 Team Roster.xlsx\n"
     ]
    },
    {
     "name": "stderr",
     "output_type": "stream",
     "text": [
      " 25%|██▌       | 2018/8058 [00:50<06:48, 14.79it/s]"
     ]
    },
    {
     "name": "stdout",
     "output_type": "stream",
     "text": [
      "/Users/rmRM/Desktop/Evgenii/DS/Tier 1 - 4/TB-15-704 NGP Project 4/Project Control Artifacts/WBS_Project Schedule/High Level Plan/Project 4 POP - Planning 20160129 v4.pptx\n",
      "/Users/rmRM/Desktop/Evgenii/DS/Tier 1 - 4/TB-15-706 NGP Small Business Conversion_Decommission/Project Control Artifacts/PPT_RACI/Supporting RACIs docs/EPMO RACIs.xlsx\n",
      "/Users/rmRM/Desktop/Evgenii/DS/Tier 1 - 4/TB-15-706 NGP Small Business Conversion_Decommission/Project Control Artifacts/Project Risk Documentation/PIA_IRA/Copy of NGP Small Business PRA_FINAL.xlsx\n",
      "/Users/rmRM/Desktop/Evgenii/DS/Tier 1 - 4/TB-15-706 NGP Small Business Conversion_Decommission/Project Control Artifacts/Project Risk Documentation/PIA_IRA/DgC MIR RiskForum (updated for NGPS from 10 08 2015).pptx\n",
      "/Users/rmRM/Desktop/Evgenii/DS/Tier 1 - 4/TB-15-706 NGP Small Business Conversion_Decommission/Project Control Artifacts/Project Risk Documentation/PIA_IRA/NGP Program IRA-FINAL.xlsx\n",
      "/Users/rmRM/Desktop/Evgenii/DS/Tier 1 - 4/TB-15-706 NGP Small Business Conversion_Decommission/Project Control Artifacts/Project Risk Documentation/PIA_IRA/NGP Small Business IRA_updated.xlsx\n",
      "/Users/rmRM/Desktop/Evgenii/DS/Tier 1 - 4/TB-15-706 NGP Small Business Conversion_Decommission/Project Control Artifacts/Project Risk Documentation/PIA_IRA/PIA_ NGP Small Business.xlsx\n",
      "/Users/rmRM/Desktop/Evgenii/DS/Tier 1 - 4/TB-15-706 NGP Small Business Conversion_Decommission/Project Gating_Financials/Gate 2 Deck _Approvals/Archived/NGP-Small  Business_Business_Case.pptx\n",
      "/Users/rmRM/Desktop/Evgenii/DS/Tier 1 - 4/TB-15-706 NGP Small Business Conversion_Decommission/Project Gating_Financials/Gate 2 Deck _Approvals/Archived/NGP-Small  Business_Business_Case_62216.pptx\n",
      "/Users/rmRM/Desktop/Evgenii/DS/Tier 1 - 4/TB-15-706 NGP Small Business Conversion_Decommission/Project Gating_Financials/Project Financial Tools/Budget Calculator/NGP SB Budget Sheet Calculator_15Jun2016 v1.xls\n",
      "/Users/rmRM/Desktop/Evgenii/DS/Tier 1 - 4/TB-15-706 NGP Small Business Conversion_Decommission/Project Gating_Financials/Project Financial Tools/Budget Calculator/NGP SB Budget Sheet Calculator_15Jun2016 v1.xlsx\n",
      "/Users/rmRM/Desktop/Evgenii/DS/Tier 1 - 4/TB-15-706 NGP Small Business Conversion_Decommission/Project Gating_Financials/Project Financial Tools/Budget Calculator/NGPSB Budget Sheet Calculator_21Jun2016.xls\n"
     ]
    },
    {
     "name": "stderr",
     "output_type": "stream",
     "text": [
      " 25%|██▌       | 2037/8058 [00:51<06:10, 16.24it/s]"
     ]
    },
    {
     "name": "stdout",
     "output_type": "stream",
     "text": [
      "/Users/rmRM/Desktop/Evgenii/DS/Tier 1 - 4/TB-15-706 NGP Small Business Conversion_Decommission/Project Gating_Financials/Project Financial Tools/Budget Calculator/NGPSB Budget Sheet Calculator_21Jun2016.xlsx\n",
      "/Users/rmRM/Desktop/Evgenii/DS/Tier 1 - 4/TB-15-706 NGP Small Business Conversion_Decommission/Project Gating_Financials/Project Financial Tools/Budget Calculator/NGPSmall Business Budget Sheet Calculator_52416.xls\n",
      "/Users/rmRM/Desktop/Evgenii/DS/Tier 1 - 4/TB-15-706 NGP Small Business Conversion_Decommission/Project Gating_Financials/Project Financial Tools/Budget Calculator/NGPSmall Business Budget Sheet Calculator_52416.xlsx\n",
      "/Users/rmRM/Desktop/Evgenii/DS/Tier 1 - 4/TB-15-706 NGP Small Business Conversion_Decommission/Project Gating_Financials/ROM Estimates_Approvals/NGPSB Budget Sheet Calculator_21Jun2016.xls\n"
     ]
    },
    {
     "name": "stderr",
     "output_type": "stream",
     "text": [
      " 25%|██▌       | 2051/8058 [00:52<06:00, 16.67it/s]"
     ]
    },
    {
     "name": "stdout",
     "output_type": "stream",
     "text": [
      "/Users/rmRM/Desktop/Evgenii/DS/Tier 1 - 4/TB-15-706 NGP Small Business Conversion_Decommission/Project Gating_Financials/ROM Estimates_Approvals/NGPSB Budget Sheet Calculator_21Jun2016.xlsx\n",
      "/Users/rmRM/Desktop/Evgenii/DS/Tier 1 - 4/TB-15-706 NGP Small Business Conversion_Decommission/Project Gating_Financials/ROM Estimates_Approvals/WIP_ROM/BA_Team_NGP-S ROM_03June2016_July-Jan.xlsx\n",
      "/Users/rmRM/Desktop/Evgenii/DS/Tier 1 - 4/TB-15-706 NGP Small Business Conversion_Decommission/Project Gating_Financials/ROM Estimates_Approvals/WIP_ROM/Combined_NGP-S ROM_06June2016_July-Jan.xlsx\n",
      "/Users/rmRM/Desktop/Evgenii/DS/Tier 1 - 4/TB-15-706 NGP Small Business Conversion_Decommission/Project Gating_Financials/ROM Estimates_Approvals/WIP_ROM/Combined_NGP-S ROM_FullProject.xlsx\n",
      "/Users/rmRM/Desktop/Evgenii/DS/Tier 1 - 4/TB-15-706 NGP Small Business Conversion_Decommission/Project Gating_Financials/ROM Estimates_Approvals/WIP_ROM/Combined_NGP-S ROM_July_Nov.xlsx\n",
      "/Users/rmRM/Desktop/Evgenii/DS/Tier 1 - 4/TB-15-706 NGP Small Business Conversion_Decommission/Project Gating_Financials/SCOPE_GTAC_MPR/SCOPE/TD NGP SCOPE Presentation 24Mar2016 v34.pptx\n",
      "/Users/rmRM/Desktop/Evgenii/DS/Tier 1 - 4/TB-15-706 NGP Small Business Conversion_Decommission/Scope_Requirements Management/Requirements Package/Archive/NGP_S_ACH_Wires_BRD_v2.08.docx\n",
      "/Users/rmRM/Desktop/Evgenii/DS/Tier 1 - 4/TB-15-706 NGP Small Business Conversion_Decommission/Scope_Requirements Management/Requirements Package/Archive/NGP_S_ACH_Wires_BRD_v2.12_.docx\n",
      "/Users/rmRM/Desktop/Evgenii/DS/Tier 1 - 4/TB-15-706 NGP Small Business Conversion_Decommission/Scope_Requirements Management/Requirements Package/Archive/NGP_S_ACH_Wires_BRD_v2.18.docx\n",
      "/Users/rmRM/Desktop/Evgenii/DS/Tier 1 - 4/TB-15-706 NGP Small Business Conversion_Decommission/Scope_Requirements Management/Requirements Package/Archive/NGP_S_ACH_Wires_BRD_v2.19.docx\n",
      "/Users/rmRM/Desktop/Evgenii/DS/Tier 1 - 4/TB-15-706 NGP Small Business Conversion_Decommission/Scope_Requirements Management/Requirements Package/Archive/NGP_S_Entitlements_BRD_v2.05.docx\n",
      "/Users/rmRM/Desktop/Evgenii/DS/Tier 1 - 4/TB-15-706 NGP Small Business Conversion_Decommission/Scope_Requirements Management/Requirements Package/Archive/NGP_S_Entitlements_BRD_v2.06.docx\n",
      "/Users/rmRM/Desktop/Evgenii/DS/Tier 1 - 4/TB-15-706 NGP Small Business Conversion_Decommission/Scope_Requirements Management/Requirements Package/Archive/NGP_S_Entitlements_BRD_v2.07.docx\n",
      "/Users/rmRM/Desktop/Evgenii/DS/Tier 1 - 4/TB-15-706 NGP Small Business Conversion_Decommission/Scope_Requirements Management/Requirements Package/Archive/NGP_S_Entitlements_BRD_v2.08.docx\n",
      "/Users/rmRM/Desktop/Evgenii/DS/Tier 1 - 4/TB-15-706 NGP Small Business Conversion_Decommission/Scope_Requirements Management/Requirements Package/Archive/NGP_S_Entitlements_BRD_v2.09.docx\n",
      "/Users/rmRM/Desktop/Evgenii/DS/Tier 1 - 4/TB-15-706 NGP Small Business Conversion_Decommission/Scope_Requirements Management/Requirements Package/Archive/NGP_S_Entitlements_BRD_v2.10.docx\n",
      "/Users/rmRM/Desktop/Evgenii/DS/Tier 1 - 4/TB-15-706 NGP Small Business Conversion_Decommission/Scope_Requirements Management/Scope Deck/Alerts/NGP - Scope Definition - Project 4 Alerts  v 2_121815.ppt\n"
     ]
    },
    {
     "name": "stderr",
     "output_type": "stream",
     "text": [
      " 26%|██▌       | 2062/8058 [00:52<05:28, 18.27it/s]"
     ]
    },
    {
     "name": "stdout",
     "output_type": "stream",
     "text": [
      "/Users/rmRM/Desktop/Evgenii/DS/Tier 1 - 4/TB-15-706 NGP Small Business Conversion_Decommission/Scope_Requirements Management/Scope Deck/Alerts/NGP - Scope Definition - Project 4 Alerts  v 2_121815.pptx\n",
      "/Users/rmRM/Desktop/Evgenii/DS/Tier 1 - 4/TB-15-706 NGP Small Business Conversion_Decommission/Scope_Requirements Management/Scope Deck/Authentication and Challenge Questions/NGP_Auth_Conversion_Scope_vfinal.pptx\n",
      "/Users/rmRM/Desktop/Evgenii/DS/Tier 1 - 4/TB-15-706 NGP Small Business Conversion_Decommission/Scope_Requirements Management/Scope Deck/CAST_RM Admin Tool/Copy of NGP RM Reports.xlsx\n",
      "/Users/rmRM/Desktop/Evgenii/DS/Tier 1 - 4/TB-15-706 NGP Small Business Conversion_Decommission/Scope_Requirements Management/Scope Deck/End State User Experience/NGP_P4_ESUE_v 1 2_2016_02_26.ppt\n"
     ]
    },
    {
     "name": "stderr",
     "output_type": "stream",
     "text": [
      " 26%|██▌       | 2070/8058 [00:53<05:11, 19.21it/s]"
     ]
    },
    {
     "name": "stdout",
     "output_type": "stream",
     "text": [
      "/Users/rmRM/Desktop/Evgenii/DS/Tier 1 - 4/TB-15-706 NGP Small Business Conversion_Decommission/Scope_Requirements Management/Scope Deck/End State User Experience/NGP_P4_ESUE_v 1 2_2016_02_26.pptx\n",
      "/Users/rmRM/Desktop/Evgenii/DS/Tier 1 - 4/TB-15-706 NGP Small Business Conversion_Decommission/Scope_Requirements Management/Scope Deck/Entitlements/NGP - Scope Definition - Project 4 Entitlements v4 (4).pptx\n",
      "/Users/rmRM/Desktop/Evgenii/DS/Tier 1 - 4/TB-15-706 NGP Small Business Conversion_Decommission/Scope_Requirements Management/Scope Deck/OFX/2015_12_22_NGP - Scope Definition - OFX v3_FINAL.pptx\n",
      "/Users/rmRM/Desktop/Evgenii/DS/Tier 1 - 4/TB-15-706 NGP Small Business Conversion_Decommission/Scope_Requirements Management/Scope Deck/Secure Messaging/NGP4_Scope_Secure Messaging  v 3 012016.ppt\n"
     ]
    },
    {
     "name": "stderr",
     "output_type": "stream",
     "text": [
      " 26%|██▋       | 2129/8058 [00:53<03:53, 25.37it/s]"
     ]
    },
    {
     "name": "stdout",
     "output_type": "stream",
     "text": [
      "/Users/rmRM/Desktop/Evgenii/DS/Tier 1 - 4/TB-15-706 NGP Small Business Conversion_Decommission/Scope_Requirements Management/Scope Deck/Secure Messaging/NGP4_Scope_Secure Messaging  v 3 012016.pptx\n",
      "/Users/rmRM/Desktop/Evgenii/DS/Tier 1 - 4/TB-15-78 mRDC Eligibility/Project Control Artifacts/PCR/mRDC_Eligibility_High_Level_Scope_v0_4.ppt\n",
      "/Users/rmRM/Desktop/Evgenii/DS/Tier 1 - 4/TB-15-78 mRDC Eligibility/Project Control Artifacts/PCR/mRDC_Eligibility_High_Level_Scope_v0_4.pptx\n",
      "/Users/rmRM/Desktop/Evgenii/DS/Tier 1 - 4/TB-15-78 mRDC Eligibility/Project Gating_Financials/Pipeline Approval/MIR Meeting Minutes May 19 2015 v0 2.doc\n",
      "/Users/rmRM/Desktop/Evgenii/DS/Tier 1 - 4/TB-15-78 mRDC Eligibility/Project Gating_Financials/Pipeline Approval/MIR Meeting Minutes May 19 2015 v0 2.docx\n",
      "/Users/rmRM/Desktop/Evgenii/DS/Tier 1 - 4/TB-15-78 mRDC Eligibility/Scope_Requirements Management/Scope Deck/mRDC Eligibility High Level Scope v0.6.ppt\n",
      "/Users/rmRM/Desktop/Evgenii/DS/Tier 1 - 4/TB-15-78 mRDC Eligibility/Scope_Requirements Management/Scope Deck/mRDC Eligibility High Level Scope v0.6.pptx\n",
      "/Users/rmRM/Desktop/Evgenii/DS/Tier 1 - 4/TB-15-78 mRDC Eligibility/Supporting-ABP_Docs/MRDC_Eligibility/MRDC DynaTrace Monitoring.xls\n",
      "/Users/rmRM/Desktop/Evgenii/DS/Tier 1 - 4/TB-15-78 mRDC Eligibility/Supporting-ABP_Docs/MRDC_Eligibility/MRDC DynaTrace Monitoring.xlsx\n",
      "/Users/rmRM/Desktop/Evgenii/DS/Tier 1 - 4/TB-15-78 mRDC Eligibility/Supporting-ABP_Docs/MRDC_Eligibility/MRDC-SB Mobile SRS-Common Services-Current-Draft version 0.4.doc\n"
     ]
    },
    {
     "name": "stderr",
     "output_type": "stream",
     "text": [
      " 27%|██▋       | 2155/8058 [00:53<02:52, 34.23it/s]"
     ]
    },
    {
     "name": "stdout",
     "output_type": "stream",
     "text": [
      "/Users/rmRM/Desktop/Evgenii/DS/Tier 1 - 4/TB-15-78 mRDC Eligibility/Supporting-ABP_Docs/MRDC_Eligibility/MRDC-SB Mobile SRS-Common Services-Current-Draft version 0.4.docx\n",
      "/Users/rmRM/Desktop/Evgenii/DS/Tier 1 - 4/TB-15-78 mRDC Eligibility/Supporting-ABP_Docs/MRDC_Eligibility/mRDC Eligibility High Level Scope v0 4.ppt\n",
      "/Users/rmRM/Desktop/Evgenii/DS/Tier 1 - 4/TB-15-78 mRDC Eligibility/Supporting-ABP_Docs/MRDC_Eligibility/mRDC Eligibility High Level Scope v0 4.pptx\n",
      "/Users/rmRM/Desktop/Evgenii/DS/Tier 1 - 4/TB-16-22-1 SBB Digital Account Opening/Project Gating_Financials/Project Financial Tools/Budget Calculator/Budget Sheet Calculator_SBB Digital Account Opening_0901.xlsx\n",
      "/Users/rmRM/Desktop/Evgenii/DS/Tier 1 - 4/TB-16-22-1 SBB Digital Account Opening/Project Gating_Financials/Project Financial Tools/Budget Calculator/Budget Sheet Calculator_SBB Digital Account Opening_1003.xlsx\n",
      "/Users/rmRM/Desktop/Evgenii/DS/Tier 1 - 4/TB-16-22-1 SBB Digital Account Opening/Project Gating_Financials/ROM Estimates_Approvals/Core Bank - Fidelity EAC Form V5.4.xls\n"
     ]
    },
    {
     "name": "stderr",
     "output_type": "stream",
     "text": [
      " 27%|██▋       | 2175/8058 [00:54<02:33, 38.33it/s]"
     ]
    },
    {
     "name": "stdout",
     "output_type": "stream",
     "text": [
      "/Users/rmRM/Desktop/Evgenii/DS/Tier 1 - 4/TB-16-22-1 SBB Digital Account Opening/Project Gating_Financials/ROM Estimates_Approvals/Core Bank - Fidelity EAC Form V5.4.xlsx\n",
      "/Users/rmRM/Desktop/Evgenii/DS/Tier 1 - 4/TB-16-22-1 SBB Digital Account Opening/Project Gating_Financials/ROM Estimates_Approvals/Core Bank - Fidelity EAC Form V5.4_1017.xls\n",
      "/Users/rmRM/Desktop/Evgenii/DS/Tier 1 - 4/TB-16-22-1 SBB Digital Account Opening/Project Gating_Financials/ROM Estimates_Approvals/Core Bank - Fidelity EAC Form V5.4_1017.xlsx\n",
      "/Users/rmRM/Desktop/Evgenii/DS/Tier 1 - 4/TB-16-22-1 SBB Digital Account Opening/Project Gating_Financials/ROM Estimates_Approvals/IEAC - 2321 CTS DC TDB SBB Digital Account Opening.xls\n",
      "/Users/rmRM/Desktop/Evgenii/DS/Tier 1 - 4/TB-16-22-1 SBB Digital Account Opening/Project Gating_Financials/ROM Estimates_Approvals/IEAC - 2321 CTS DC TDB SBB Digital Account Opening.xlsx\n",
      "/Users/rmRM/Desktop/Evgenii/DS/Tier 1 - 4/TB-16-22-1 SBB Digital Account Opening/Project Gating_Financials/ROM Estimates_Approvals/PIF_CTS SBB Digital Account Opening_Farr.xls\n"
     ]
    },
    {
     "name": "stderr",
     "output_type": "stream",
     "text": [
      " 28%|██▊       | 2236/8058 [00:55<02:49, 34.44it/s]"
     ]
    },
    {
     "name": "stdout",
     "output_type": "stream",
     "text": [
      "/Users/rmRM/Desktop/Evgenii/DS/Tier 1 - 4/TB-16-22-1 SBB Digital Account Opening/Project Gating_Financials/ROM Estimates_Approvals/PIF_CTS SBB Digital Account Opening_Farr.xlsx\n",
      "/Users/rmRM/Desktop/Evgenii/DS/Tier 1 - 4/TB-16-55 - Project Endeavor/Meetings_Communications/Advisory_SteerCom Meeting Minutes/Agenda and Meeting Minutes - Project Endeavor Advisory - January 17 2017.doc\n",
      "/Users/rmRM/Desktop/Evgenii/DS/Tier 1 - 4/TB-16-55 - Project Endeavor/Meetings_Communications/Advisory_SteerCom Meeting Minutes/Agenda and Meeting Minutes - Project Endeavor Advisory - January 17 2017.docx\n",
      "/Users/rmRM/Desktop/Evgenii/DS/Tier 1 - 4/TB-16-55 - Project Endeavor/Meetings_Communications/Project Status Meeting Minutes/Agenda and Meeting Minutes - Project Endeavor - FAQ Followup - December 13 2016.doc\n",
      "/Users/rmRM/Desktop/Evgenii/DS/Tier 1 - 4/TB-16-55 - Project Endeavor/Meetings_Communications/Project Status Meeting Minutes/Agenda and Meeting Minutes - Project Endeavor - FAQ Followup - December 13 2016.docx\n",
      "/Users/rmRM/Desktop/Evgenii/DS/Tier 1 - 4/TB-16-55 - Project Endeavor/Meetings_Communications/Project Status Meeting Minutes/Agenda and Meeting Minutes - Project Endeavor - Home Equity - February 15 2016.doc\n",
      "/Users/rmRM/Desktop/Evgenii/DS/Tier 1 - 4/TB-16-55 - Project Endeavor/Meetings_Communications/Project Status Meeting Minutes/Agenda and Meeting Minutes - Project Endeavor - Home Equity - February 15 2016.docx\n",
      "/Users/rmRM/Desktop/Evgenii/DS/Tier 1 - 4/TB-16-55 - Project Endeavor/Meetings_Communications/Project Status Meeting Minutes/Agenda and Meeting Minutes - Project Endeavor - Kickoff - September 20 2016.doc\n",
      "/Users/rmRM/Desktop/Evgenii/DS/Tier 1 - 4/TB-16-55 - Project Endeavor/Meetings_Communications/Project Status Meeting Minutes/Agenda and Meeting Minutes - Project Endeavor - Kickoff - September 20 2016.docx\n",
      "/Users/rmRM/Desktop/Evgenii/DS/Tier 1 - 4/TB-16-55 - Project Endeavor/Meetings_Communications/Project Status Meeting Minutes/Agenda and Meeting Minutes - Project Endeavor - Status - April 18 2017.doc\n",
      "/Users/rmRM/Desktop/Evgenii/DS/Tier 1 - 4/TB-16-55 - Project Endeavor/Meetings_Communications/Project Status Meeting Minutes/Agenda and Meeting Minutes - Project Endeavor - Status - April 18 2017.docx\n",
      "/Users/rmRM/Desktop/Evgenii/DS/Tier 1 - 4/TB-16-55 - Project Endeavor/Meetings_Communications/Project Status Meeting Minutes/Agenda and Meeting Minutes - Project Endeavor - Status - April 4 2017.doc\n",
      "/Users/rmRM/Desktop/Evgenii/DS/Tier 1 - 4/TB-16-55 - Project Endeavor/Meetings_Communications/Project Status Meeting Minutes/Agenda and Meeting Minutes - Project Endeavor - Status - April 4 2017.docx\n",
      "/Users/rmRM/Desktop/Evgenii/DS/Tier 1 - 4/TB-16-55 - Project Endeavor/Meetings_Communications/Project Status Meeting Minutes/Agenda and Meeting Minutes - Project Endeavor - Status - August 8 2017.doc\n",
      "/Users/rmRM/Desktop/Evgenii/DS/Tier 1 - 4/TB-16-55 - Project Endeavor/Meetings_Communications/Project Status Meeting Minutes/Agenda and Meeting Minutes - Project Endeavor - Status - August 8 2017.docx\n",
      "/Users/rmRM/Desktop/Evgenii/DS/Tier 1 - 4/TB-16-55 - Project Endeavor/Meetings_Communications/Project Status Meeting Minutes/Agenda and Meeting Minutes - Project Endeavor - Status - Dec 13 2016.doc\n",
      "/Users/rmRM/Desktop/Evgenii/DS/Tier 1 - 4/TB-16-55 - Project Endeavor/Meetings_Communications/Project Status Meeting Minutes/Agenda and Meeting Minutes - Project Endeavor - Status - Dec 13 2016.docx\n",
      "/Users/rmRM/Desktop/Evgenii/DS/Tier 1 - 4/TB-16-55 - Project Endeavor/Meetings_Communications/Project Status Meeting Minutes/Agenda and Meeting Minutes - Project Endeavor - Status - Feb 10 2017.doc\n",
      "/Users/rmRM/Desktop/Evgenii/DS/Tier 1 - 4/TB-16-55 - Project Endeavor/Meetings_Communications/Project Status Meeting Minutes/Agenda and Meeting Minutes - Project Endeavor - Status - Feb 10 2017.docx\n",
      "/Users/rmRM/Desktop/Evgenii/DS/Tier 1 - 4/TB-16-55 - Project Endeavor/Meetings_Communications/Project Status Meeting Minutes/Agenda and Meeting Minutes - Project Endeavor - Status - Feb 21 2017.doc\n",
      "/Users/rmRM/Desktop/Evgenii/DS/Tier 1 - 4/TB-16-55 - Project Endeavor/Meetings_Communications/Project Status Meeting Minutes/Agenda and Meeting Minutes - Project Endeavor - Status - Feb 21 2017.docx\n",
      "/Users/rmRM/Desktop/Evgenii/DS/Tier 1 - 4/TB-16-55 - Project Endeavor/Meetings_Communications/Project Status Meeting Minutes/Agenda and Meeting Minutes - Project Endeavor - Status - Jan 10 2017.doc\n",
      "/Users/rmRM/Desktop/Evgenii/DS/Tier 1 - 4/TB-16-55 - Project Endeavor/Meetings_Communications/Project Status Meeting Minutes/Agenda and Meeting Minutes - Project Endeavor - Status - Jan 10 2017.docx\n",
      "/Users/rmRM/Desktop/Evgenii/DS/Tier 1 - 4/TB-16-55 - Project Endeavor/Meetings_Communications/Project Status Meeting Minutes/Agenda and Meeting Minutes - Project Endeavor - Status - January 23, 2018.doc\n",
      "/Users/rmRM/Desktop/Evgenii/DS/Tier 1 - 4/TB-16-55 - Project Endeavor/Meetings_Communications/Project Status Meeting Minutes/Agenda and Meeting Minutes - Project Endeavor - Status - January 23, 2018.docx\n",
      "/Users/rmRM/Desktop/Evgenii/DS/Tier 1 - 4/TB-16-55 - Project Endeavor/Meetings_Communications/Project Status Meeting Minutes/Agenda and Meeting Minutes - Project Endeavor - Status - January 9, 2018.doc\n",
      "/Users/rmRM/Desktop/Evgenii/DS/Tier 1 - 4/TB-16-55 - Project Endeavor/Meetings_Communications/Project Status Meeting Minutes/Agenda and Meeting Minutes - Project Endeavor - Status - January 9, 2018.docx\n",
      "/Users/rmRM/Desktop/Evgenii/DS/Tier 1 - 4/TB-16-55 - Project Endeavor/Meetings_Communications/Project Status Meeting Minutes/Agenda and Meeting Minutes - Project Endeavor - Status - June 2 2017.doc\n",
      "/Users/rmRM/Desktop/Evgenii/DS/Tier 1 - 4/TB-16-55 - Project Endeavor/Meetings_Communications/Project Status Meeting Minutes/Agenda and Meeting Minutes - Project Endeavor - Status - June 2 2017.docx\n"
     ]
    },
    {
     "name": "stderr",
     "output_type": "stream",
     "text": [
      " 28%|██▊       | 2276/8058 [00:55<01:40, 57.79it/s]"
     ]
    },
    {
     "name": "stdout",
     "output_type": "stream",
     "text": [
      "/Users/rmRM/Desktop/Evgenii/DS/Tier 1 - 4/TB-16-55 - Project Endeavor/Meetings_Communications/Project Status Meeting Minutes/Agenda and Meeting Minutes - Project Endeavor - Status - June 27 2017.doc\n",
      "/Users/rmRM/Desktop/Evgenii/DS/Tier 1 - 4/TB-16-55 - Project Endeavor/Meetings_Communications/Project Status Meeting Minutes/Agenda and Meeting Minutes - Project Endeavor - Status - June 27 2017.docx\n",
      "/Users/rmRM/Desktop/Evgenii/DS/Tier 1 - 4/TB-16-55 - Project Endeavor/Meetings_Communications/Project Status Meeting Minutes/Agenda and Meeting Minutes - Project Endeavor - Status - March 7 2017.doc\n",
      "/Users/rmRM/Desktop/Evgenii/DS/Tier 1 - 4/TB-16-55 - Project Endeavor/Meetings_Communications/Project Status Meeting Minutes/Agenda and Meeting Minutes - Project Endeavor - Status - March 7 2017.docx\n",
      "/Users/rmRM/Desktop/Evgenii/DS/Tier 1 - 4/TB-16-55 - Project Endeavor/Meetings_Communications/Project Status Meeting Minutes/Agenda and Meeting Minutes - Project Endeavor - Status - May 2 2017.doc\n",
      "/Users/rmRM/Desktop/Evgenii/DS/Tier 1 - 4/TB-16-55 - Project Endeavor/Meetings_Communications/Project Status Meeting Minutes/Agenda and Meeting Minutes - Project Endeavor - Status - May 2 2017.docx\n",
      "/Users/rmRM/Desktop/Evgenii/DS/Tier 1 - 4/TB-16-55 - Project Endeavor/Meetings_Communications/Project Status Meeting Minutes/Agenda and Meeting Minutes - Project Endeavor - Status - Nov 1 2016.doc\n",
      "/Users/rmRM/Desktop/Evgenii/DS/Tier 1 - 4/TB-16-55 - Project Endeavor/Meetings_Communications/Project Status Meeting Minutes/Agenda and Meeting Minutes - Project Endeavor - Status - Nov 1 2016.docx\n",
      "/Users/rmRM/Desktop/Evgenii/DS/Tier 1 - 4/TB-16-55 - Project Endeavor/Meetings_Communications/Project Status Meeting Minutes/Agenda and Meeting Minutes - Project Endeavor - Status - Nov 15 2016.doc\n",
      "/Users/rmRM/Desktop/Evgenii/DS/Tier 1 - 4/TB-16-55 - Project Endeavor/Meetings_Communications/Project Status Meeting Minutes/Agenda and Meeting Minutes - Project Endeavor - Status - Nov 15 2016.docx\n",
      "/Users/rmRM/Desktop/Evgenii/DS/Tier 1 - 4/TB-16-55 - Project Endeavor/Meetings_Communications/Project Status Meeting Minutes/Agenda and Meeting Minutes - Project Endeavor - Status - November 29 2017.doc\n",
      "/Users/rmRM/Desktop/Evgenii/DS/Tier 1 - 4/TB-16-55 - Project Endeavor/Meetings_Communications/Project Status Meeting Minutes/Agenda and Meeting Minutes - Project Endeavor - Status - November 29 2017.docx\n",
      "/Users/rmRM/Desktop/Evgenii/DS/Tier 1 - 4/TB-16-55 - Project Endeavor/Meetings_Communications/Project Status Meeting Minutes/Agenda and Meeting Minutes - Project Endeavor - Status - October 19 2017.doc\n",
      "/Users/rmRM/Desktop/Evgenii/DS/Tier 1 - 4/TB-16-55 - Project Endeavor/Meetings_Communications/Project Status Meeting Minutes/Agenda and Meeting Minutes - Project Endeavor - Status - October 19 2017.docx\n",
      "/Users/rmRM/Desktop/Evgenii/DS/Tier 1 - 4/TB-16-55 - Project Endeavor/Meetings_Communications/Project Status Meeting Minutes/Agenda and Meeting Minutes - Project Endeavor - Status - September 21 2017.doc\n",
      "/Users/rmRM/Desktop/Evgenii/DS/Tier 1 - 4/TB-16-55 - Project Endeavor/Meetings_Communications/Project Status Meeting Minutes/Agenda and Meeting Minutes - Project Endeavor - Status - September 21 2017.docx\n",
      "/Users/rmRM/Desktop/Evgenii/DS/Tier 1 - 4/TB-16-55 - Project Endeavor/Meetings_Communications/Project Status Meeting Minutes/Project Endeavor - Design TimelineNext Steps - Meeting Minutes for December 2 .msg\n",
      "/Users/rmRM/Desktop/Evgenii/DS/Tier 1 - 4/TB-16-55 - Project Endeavor/Meetings_Communications/Project Status Meeting Minutes/Project Endeavor - FAQ and MLO Strategy - Meeting Minutes - November 21.msg\n",
      "/Users/rmRM/Desktop/Evgenii/DS/Tier 1 - 4/TB-16-55 - Project Endeavor/Meetings_Communications/Project Status Meeting Minutes/Project Endeavor - Review Home Equity Expectations - Meeting Minutes - November 1 2016.msg\n",
      "/Users/rmRM/Desktop/Evgenii/DS/Tier 1 - 4/TB-16-55 - Project Endeavor/Project Control Artifacts/Project Risk Documentation/PIA_IRA/Project Endeavor - PRIV_PIA_Privacy_Impact_Assessment - TG - Nov 7.xlsx\n",
      "/Users/rmRM/Desktop/Evgenii/DS/Tier 1 - 4/TB-16-55 - Project Endeavor/Scope_Requirements Management/Requirements Package/Endeavor HLRs/Endeavor HLRs_102016.docx\n",
      "/Users/rmRM/Desktop/Evgenii/DS/Tier 1 - 4/TB-16-61 P2P DGC US - Fiserv EWS Approach/Fiserv Docs/P2P Terms of Service draft 8Oct2016.doc\n",
      "/Users/rmRM/Desktop/Evgenii/DS/Tier 1 - 4/TB-16-61 P2P DGC US - Fiserv EWS Approach/Fiserv Docs/P2P Terms of Service draft 8Oct2016.docx\n",
      "/Users/rmRM/Desktop/Evgenii/DS/Tier 1 - 4/TB-16-61 P2P DGC US - Fiserv EWS Approach/Fiserv Docs/TD P2P Terms of Service draft (17Feb2017 Fiserv edits).doc\n"
     ]
    },
    {
     "name": "stderr",
     "output_type": "stream",
     "text": [
      " 30%|██▉       | 2388/8058 [00:55<01:11, 79.37it/s]"
     ]
    },
    {
     "name": "stdout",
     "output_type": "stream",
     "text": [
      "/Users/rmRM/Desktop/Evgenii/DS/Tier 1 - 4/TB-16-61 P2P DGC US - Fiserv EWS Approach/Fiserv Docs/TD P2P Terms of Service draft (17Feb2017 Fiserv edits).docx\n",
      "/Users/rmRM/Desktop/Evgenii/DS/Tier 1 - 4/TB-16-61 P2P DGC US - Fiserv EWS Approach/Ideation/cXc IAD 08-03-16.xls\n",
      "/Users/rmRM/Desktop/Evgenii/DS/Tier 1 - 4/TB-16-61 P2P DGC US - Fiserv EWS Approach/Ideation/cXc IAD 08-03-16.xlsx\n",
      "/Users/rmRM/Desktop/Evgenii/DS/Tier 1 - 4/TB-16-61 P2P DGC US - Fiserv EWS Approach/Meetings_Communications/Advisory_SteerCom Meeting Minutes/1-6-17 steering deck _Final v1.0_01062017.ppt\n",
      "/Users/rmRM/Desktop/Evgenii/DS/Tier 1 - 4/TB-16-61 P2P DGC US - Fiserv EWS Approach/Meetings_Communications/Advisory_SteerCom Meeting Minutes/1-6-17 steering deck _Final v1.0_01062017.pptx\n",
      "/Users/rmRM/Desktop/Evgenii/DS/Tier 1 - 4/TB-16-61 P2P DGC US - Fiserv EWS Approach/Meetings_Communications/Advisory_SteerCom Meeting Minutes/P2P Fiserv-Zelle AdvisoryComm 01122017.ppt\n",
      "/Users/rmRM/Desktop/Evgenii/DS/Tier 1 - 4/TB-16-61 P2P DGC US - Fiserv EWS Approach/Meetings_Communications/Advisory_SteerCom Meeting Minutes/P2P Fiserv-Zelle AdvisoryComm 01122017.pptx\n",
      "/Users/rmRM/Desktop/Evgenii/DS/Tier 1 - 4/TB-16-61 P2P DGC US - Fiserv EWS Approach/Meetings_Communications/Advisory_SteerCom Meeting Minutes/P2P Fiserv-Zelle AdvisoryComm 02092017.ppt\n",
      "/Users/rmRM/Desktop/Evgenii/DS/Tier 1 - 4/TB-16-61 P2P DGC US - Fiserv EWS Approach/Meetings_Communications/Advisory_SteerCom Meeting Minutes/P2P Fiserv-Zelle AdvisoryComm 02092017.pptx\n",
      "/Users/rmRM/Desktop/Evgenii/DS/Tier 1 - 4/TB-16-61 P2P DGC US - Fiserv EWS Approach/Meetings_Communications/Advisory_SteerCom Meeting Minutes/P2P Fiserv-Zelle AdvisoryComm 09-22-16 v2.ppt\n",
      "/Users/rmRM/Desktop/Evgenii/DS/Tier 1 - 4/TB-16-61 P2P DGC US - Fiserv EWS Approach/Meetings_Communications/Advisory_SteerCom Meeting Minutes/P2P Fiserv-Zelle AdvisoryComm 09-22-16 v2.pptx\n",
      "/Users/rmRM/Desktop/Evgenii/DS/Tier 1 - 4/TB-16-61 P2P DGC US - Fiserv EWS Approach/Meetings_Communications/Advisory_SteerCom Meeting Minutes/P2P Fiserv-Zelle AdvisoryComm 09-22-16.ppt\n",
      "/Users/rmRM/Desktop/Evgenii/DS/Tier 1 - 4/TB-16-61 P2P DGC US - Fiserv EWS Approach/Meetings_Communications/Advisory_SteerCom Meeting Minutes/P2P Fiserv-Zelle AdvisoryComm 09-22-16.pptx\n",
      "/Users/rmRM/Desktop/Evgenii/DS/Tier 1 - 4/TB-16-61 P2P DGC US - Fiserv EWS Approach/Meetings_Communications/Advisory_SteerCom Meeting Minutes/P2P Fiserv-Zelle AdvisoryComm 1-26-17.ppt\n",
      "/Users/rmRM/Desktop/Evgenii/DS/Tier 1 - 4/TB-16-61 P2P DGC US - Fiserv EWS Approach/Meetings_Communications/Advisory_SteerCom Meeting Minutes/P2P Fiserv-Zelle AdvisoryComm 1-26-17.pptx\n",
      "/Users/rmRM/Desktop/Evgenii/DS/Tier 1 - 4/TB-16-61 P2P DGC US - Fiserv EWS Approach/Meetings_Communications/Advisory_SteerCom Meeting Minutes/P2P Fiserv-Zelle AdvisoryComm 10-06-16.ppt\n",
      "/Users/rmRM/Desktop/Evgenii/DS/Tier 1 - 4/TB-16-61 P2P DGC US - Fiserv EWS Approach/Meetings_Communications/Advisory_SteerCom Meeting Minutes/P2P Fiserv-Zelle AdvisoryComm 10-06-16.pptx\n",
      "/Users/rmRM/Desktop/Evgenii/DS/Tier 1 - 4/TB-16-61 P2P DGC US - Fiserv EWS Approach/Meetings_Communications/Advisory_SteerCom Meeting Minutes/P2P Fiserv-Zelle AdvisoryComm 10-20-16.ppt\n",
      "/Users/rmRM/Desktop/Evgenii/DS/Tier 1 - 4/TB-16-61 P2P DGC US - Fiserv EWS Approach/Meetings_Communications/Advisory_SteerCom Meeting Minutes/P2P Fiserv-Zelle AdvisoryComm 10-20-16.pptx\n",
      "/Users/rmRM/Desktop/Evgenii/DS/Tier 1 - 4/TB-16-61 P2P DGC US - Fiserv EWS Approach/Meetings_Communications/Advisory_SteerCom Meeting Minutes/P2P Fiserv-Zelle AdvisoryComm 11-03-16.ppt\n",
      "/Users/rmRM/Desktop/Evgenii/DS/Tier 1 - 4/TB-16-61 P2P DGC US - Fiserv EWS Approach/Meetings_Communications/Advisory_SteerCom Meeting Minutes/P2P Fiserv-Zelle AdvisoryComm 11-03-16.pptx\n",
      "/Users/rmRM/Desktop/Evgenii/DS/Tier 1 - 4/TB-16-61 P2P DGC US - Fiserv EWS Approach/Meetings_Communications/Advisory_SteerCom Meeting Minutes/P2P Fiserv-Zelle AdvisoryComm 11-17-16.ppt\n",
      "/Users/rmRM/Desktop/Evgenii/DS/Tier 1 - 4/TB-16-61 P2P DGC US - Fiserv EWS Approach/Meetings_Communications/Advisory_SteerCom Meeting Minutes/P2P Fiserv-Zelle AdvisoryComm 11-17-16.pptx\n",
      "/Users/rmRM/Desktop/Evgenii/DS/Tier 1 - 4/TB-16-61 P2P DGC US - Fiserv EWS Approach/Meetings_Communications/Advisory_SteerCom Meeting Minutes/P2P Fiserv-Zelle AdvisoryComm 12-01-16.ppt\n",
      "/Users/rmRM/Desktop/Evgenii/DS/Tier 1 - 4/TB-16-61 P2P DGC US - Fiserv EWS Approach/Meetings_Communications/Advisory_SteerCom Meeting Minutes/P2P Fiserv-Zelle AdvisoryComm 12-01-16.pptx\n",
      "/Users/rmRM/Desktop/Evgenii/DS/Tier 1 - 4/TB-16-61 P2P DGC US - Fiserv EWS Approach/Meetings_Communications/Advisory_SteerCom Meeting Minutes/P2P Fiserv-Zelle AdvisoryComm 12-15-16.ppt\n",
      "/Users/rmRM/Desktop/Evgenii/DS/Tier 1 - 4/TB-16-61 P2P DGC US - Fiserv EWS Approach/Meetings_Communications/Advisory_SteerCom Meeting Minutes/P2P Fiserv-Zelle AdvisoryComm 12-15-16.pptx\n",
      "/Users/rmRM/Desktop/Evgenii/DS/Tier 1 - 4/TB-16-61 P2P DGC US - Fiserv EWS Approach/Meetings_Communications/Advisory_SteerCom Meeting Minutes/P2P Fiserv-Zelle Steer Comm 09-16-16.ppt\n",
      "/Users/rmRM/Desktop/Evgenii/DS/Tier 1 - 4/TB-16-61 P2P DGC US - Fiserv EWS Approach/Meetings_Communications/Advisory_SteerCom Meeting Minutes/P2P Fiserv-Zelle Steer Comm 09-16-16.pptx\n",
      "/Users/rmRM/Desktop/Evgenii/DS/Tier 1 - 4/TB-16-61 P2P DGC US - Fiserv EWS Approach/Meetings_Communications/Advisory_SteerCom Meeting Minutes/P2P Fiserv-Zelle Steer Comm 09-30-16.ppt\n"
     ]
    },
    {
     "name": "stderr",
     "output_type": "stream",
     "text": [
      " 30%|███       | 2420/8058 [00:58<03:33, 26.42it/s]"
     ]
    },
    {
     "name": "stdout",
     "output_type": "stream",
     "text": [
      "/Users/rmRM/Desktop/Evgenii/DS/Tier 1 - 4/TB-16-61 P2P DGC US - Fiserv EWS Approach/Meetings_Communications/Advisory_SteerCom Meeting Minutes/P2P Fiserv-Zelle Steer Comm 09-30-16.pptx\n",
      "/Users/rmRM/Desktop/Evgenii/DS/Tier 1 - 4/TB-16-61 P2P DGC US - Fiserv EWS Approach/Meetings_Communications/Advisory_SteerCom Meeting Minutes/P2P Fiserv-Zelle Steer Comm 1-20-17 FINAL v1.0.ppt\n",
      "/Users/rmRM/Desktop/Evgenii/DS/Tier 1 - 4/TB-16-61 P2P DGC US - Fiserv EWS Approach/Meetings_Communications/Advisory_SteerCom Meeting Minutes/P2P Fiserv-Zelle Steer Comm 1-20-17 FINAL v1.0.pptx\n",
      "/Users/rmRM/Desktop/Evgenii/DS/Tier 1 - 4/TB-16-61 P2P DGC US - Fiserv EWS Approach/Meetings_Communications/Advisory_SteerCom Meeting Minutes/P2P Fiserv-Zelle Steer Comm 1-20-17.ppt\n",
      "/Users/rmRM/Desktop/Evgenii/DS/Tier 1 - 4/TB-16-61 P2P DGC US - Fiserv EWS Approach/Meetings_Communications/Advisory_SteerCom Meeting Minutes/P2P Fiserv-Zelle Steer Comm 1-20-17.pptx\n",
      "/Users/rmRM/Desktop/Evgenii/DS/Tier 1 - 4/TB-16-61 P2P DGC US - Fiserv EWS Approach/Meetings_Communications/Advisory_SteerCom Meeting Minutes/P2P Fiserv-Zelle Steer Comm 10-14-16 (updated).ppt\n",
      "/Users/rmRM/Desktop/Evgenii/DS/Tier 1 - 4/TB-16-61 P2P DGC US - Fiserv EWS Approach/Meetings_Communications/Advisory_SteerCom Meeting Minutes/P2P Fiserv-Zelle Steer Comm 10-14-16 (updated).pptx\n",
      "/Users/rmRM/Desktop/Evgenii/DS/Tier 1 - 4/TB-16-61 P2P DGC US - Fiserv EWS Approach/Meetings_Communications/Advisory_SteerCom Meeting Minutes/P2P Fiserv-Zelle Steer Comm 10-14-16 [Autosaved].ppt\n",
      "/Users/rmRM/Desktop/Evgenii/DS/Tier 1 - 4/TB-16-61 P2P DGC US - Fiserv EWS Approach/Meetings_Communications/Advisory_SteerCom Meeting Minutes/P2P Fiserv-Zelle Steer Comm 10-14-16 [Autosaved].pptx\n",
      "/Users/rmRM/Desktop/Evgenii/DS/Tier 1 - 4/TB-16-61 P2P DGC US - Fiserv EWS Approach/Meetings_Communications/Advisory_SteerCom Meeting Minutes/P2P Fiserv-Zelle Steer Comm 10-14-16.ppt\n",
      "/Users/rmRM/Desktop/Evgenii/DS/Tier 1 - 4/TB-16-61 P2P DGC US - Fiserv EWS Approach/Meetings_Communications/Advisory_SteerCom Meeting Minutes/P2P Fiserv-Zelle Steer Comm 10-14-16.pptx\n",
      "/Users/rmRM/Desktop/Evgenii/DS/Tier 1 - 4/TB-16-61 P2P DGC US - Fiserv EWS Approach/Meetings_Communications/Advisory_SteerCom Meeting Minutes/P2P Fiserv-Zelle Steer Comm 10-31-16.ppt\n",
      "/Users/rmRM/Desktop/Evgenii/DS/Tier 1 - 4/TB-16-61 P2P DGC US - Fiserv EWS Approach/Meetings_Communications/Advisory_SteerCom Meeting Minutes/P2P Fiserv-Zelle Steer Comm 10-31-16.pptx\n",
      "/Users/rmRM/Desktop/Evgenii/DS/Tier 1 - 4/TB-16-61 P2P DGC US - Fiserv EWS Approach/Meetings_Communications/Advisory_SteerCom Meeting Minutes/P2P Fiserv-Zelle Steer Comm 11-14-16.ppt\n",
      "/Users/rmRM/Desktop/Evgenii/DS/Tier 1 - 4/TB-16-61 P2P DGC US - Fiserv EWS Approach/Meetings_Communications/Advisory_SteerCom Meeting Minutes/P2P Fiserv-Zelle Steer Comm 11-14-16.pptx\n",
      "/Users/rmRM/Desktop/Evgenii/DS/Tier 1 - 4/TB-16-61 P2P DGC US - Fiserv EWS Approach/Meetings_Communications/Advisory_SteerCom Meeting Minutes/P2P Fiserv-Zelle Steer Comm 11-14-16_v0.2 Final.ppt\n",
      "/Users/rmRM/Desktop/Evgenii/DS/Tier 1 - 4/TB-16-61 P2P DGC US - Fiserv EWS Approach/Meetings_Communications/Advisory_SteerCom Meeting Minutes/P2P Fiserv-Zelle Steer Comm 11-14-16_v0.2 Final.pptx\n",
      "/Users/rmRM/Desktop/Evgenii/DS/Tier 1 - 4/TB-16-61 P2P DGC US - Fiserv EWS Approach/Meetings_Communications/Advisory_SteerCom Meeting Minutes/P2P Fiserv-Zelle Steer Comm 11-28-16_v0.1.ppt\n",
      "/Users/rmRM/Desktop/Evgenii/DS/Tier 1 - 4/TB-16-61 P2P DGC US - Fiserv EWS Approach/Meetings_Communications/Advisory_SteerCom Meeting Minutes/P2P Fiserv-Zelle Steer Comm 11-28-16_v0.1.pptx\n",
      "/Users/rmRM/Desktop/Evgenii/DS/Tier 1 - 4/TB-16-61 P2P DGC US - Fiserv EWS Approach/Meetings_Communications/Advisory_SteerCom Meeting Minutes/P2P Fiserv-Zelle Steer Comm 12-13-16_v0.1.ppt\n",
      "/Users/rmRM/Desktop/Evgenii/DS/Tier 1 - 4/TB-16-61 P2P DGC US - Fiserv EWS Approach/Meetings_Communications/Advisory_SteerCom Meeting Minutes/P2P Fiserv-Zelle Steer Comm 12-13-16_v0.1.pptx\n",
      "/Users/rmRM/Desktop/Evgenii/DS/Tier 1 - 4/TB-16-61 P2P DGC US - Fiserv EWS Approach/Meetings_Communications/Advisory_SteerCom Meeting Minutes/P2P Fiserv-Zelle Steer Comm 12-13-16_v0.ppt\n",
      "/Users/rmRM/Desktop/Evgenii/DS/Tier 1 - 4/TB-16-61 P2P DGC US - Fiserv EWS Approach/Meetings_Communications/Advisory_SteerCom Meeting Minutes/P2P Fiserv-Zelle Steer Comm 12-13-16_v0.pptx\n",
      "/Users/rmRM/Desktop/Evgenii/DS/Tier 1 - 4/TB-16-61 P2P DGC US - Fiserv EWS Approach/Meetings_Communications/Advisory_SteerCom Meeting Minutes/P2P Fiserv-Zelle Steer Comm 2-03-17  v1.0.ppt\n"
     ]
    },
    {
     "name": "stderr",
     "output_type": "stream",
     "text": [
      " 30%|███       | 2443/8058 [01:01<06:14, 15.00it/s]"
     ]
    },
    {
     "name": "stdout",
     "output_type": "stream",
     "text": [
      "/Users/rmRM/Desktop/Evgenii/DS/Tier 1 - 4/TB-16-61 P2P DGC US - Fiserv EWS Approach/Meetings_Communications/Advisory_SteerCom Meeting Minutes/P2P Fiserv-Zelle Steer Comm 2-03-17  v1.0.pptx\n",
      "/Users/rmRM/Desktop/Evgenii/DS/Tier 1 - 4/TB-16-61 P2P DGC US - Fiserv EWS Approach/Meetings_Communications/Advisory_SteerCom Meeting Minutes/P2P Fiserv-Zelle Steer Comm 2-03-17 Final v1.0.ppt\n",
      "/Users/rmRM/Desktop/Evgenii/DS/Tier 1 - 4/TB-16-61 P2P DGC US - Fiserv EWS Approach/Meetings_Communications/Advisory_SteerCom Meeting Minutes/P2P Fiserv-Zelle Steer Comm 2-03-17 Final v1.0.pptx\n",
      "/Users/rmRM/Desktop/Evgenii/DS/Tier 1 - 4/TB-16-61 P2P DGC US - Fiserv EWS Approach/Meetings_Communications/Advisory_SteerCom Meeting Minutes/P2P Fiserv-Zelle Steer Comm 2-03-17 draft.ppt\n"
     ]
    },
    {
     "name": "stderr",
     "output_type": "stream",
     "text": [
      " 31%|███       | 2474/8058 [01:02<03:56, 23.58it/s]"
     ]
    },
    {
     "name": "stdout",
     "output_type": "stream",
     "text": [
      "/Users/rmRM/Desktop/Evgenii/DS/Tier 1 - 4/TB-16-61 P2P DGC US - Fiserv EWS Approach/Meetings_Communications/Advisory_SteerCom Meeting Minutes/P2P Fiserv-Zelle Steer Comm 2-03-17 draft.pptx\n",
      "/Users/rmRM/Desktop/Evgenii/DS/Tier 1 - 4/TB-16-61 P2P DGC US - Fiserv EWS Approach/Meetings_Communications/Project Status Meeting Minutes/P2P DGC Weekly Status 01-05-17.doc\n",
      "/Users/rmRM/Desktop/Evgenii/DS/Tier 1 - 4/TB-16-61 P2P DGC US - Fiserv EWS Approach/Meetings_Communications/Project Status Meeting Minutes/P2P DGC Weekly Status 01-05-17.docx\n",
      "/Users/rmRM/Desktop/Evgenii/DS/Tier 1 - 4/TB-16-61 P2P DGC US - Fiserv EWS Approach/Meetings_Communications/Project Status Meeting Minutes/P2P DGC Weekly Status 01-12-17.doc\n",
      "/Users/rmRM/Desktop/Evgenii/DS/Tier 1 - 4/TB-16-61 P2P DGC US - Fiserv EWS Approach/Meetings_Communications/Project Status Meeting Minutes/P2P DGC Weekly Status 01-12-17.docx\n",
      "/Users/rmRM/Desktop/Evgenii/DS/Tier 1 - 4/TB-16-61 P2P DGC US - Fiserv EWS Approach/Meetings_Communications/Project Status Meeting Minutes/P2P DGC Weekly Status 01-19-17.doc\n",
      "/Users/rmRM/Desktop/Evgenii/DS/Tier 1 - 4/TB-16-61 P2P DGC US - Fiserv EWS Approach/Meetings_Communications/Project Status Meeting Minutes/P2P DGC Weekly Status 01-19-17.docx\n",
      "/Users/rmRM/Desktop/Evgenii/DS/Tier 1 - 4/TB-16-61 P2P DGC US - Fiserv EWS Approach/Meetings_Communications/Project Status Meeting Minutes/P2P DGC Weekly Status 01-26-17.doc\n",
      "/Users/rmRM/Desktop/Evgenii/DS/Tier 1 - 4/TB-16-61 P2P DGC US - Fiserv EWS Approach/Meetings_Communications/Project Status Meeting Minutes/P2P DGC Weekly Status 01-26-17.docx\n",
      "/Users/rmRM/Desktop/Evgenii/DS/Tier 1 - 4/TB-16-61 P2P DGC US - Fiserv EWS Approach/Meetings_Communications/Project Status Meeting Minutes/P2P DGC Weekly Status 02-16-17.doc\n",
      "/Users/rmRM/Desktop/Evgenii/DS/Tier 1 - 4/TB-16-61 P2P DGC US - Fiserv EWS Approach/Meetings_Communications/Project Status Meeting Minutes/P2P DGC Weekly Status 02-16-17.docx\n",
      "/Users/rmRM/Desktop/Evgenii/DS/Tier 1 - 4/TB-16-61 P2P DGC US - Fiserv EWS Approach/Meetings_Communications/Project Status Meeting Minutes/P2P DGC Weekly Status 02-2-17.doc\n",
      "/Users/rmRM/Desktop/Evgenii/DS/Tier 1 - 4/TB-16-61 P2P DGC US - Fiserv EWS Approach/Meetings_Communications/Project Status Meeting Minutes/P2P DGC Weekly Status 02-2-17.docx\n",
      "/Users/rmRM/Desktop/Evgenii/DS/Tier 1 - 4/TB-16-61 P2P DGC US - Fiserv EWS Approach/Meetings_Communications/Project Status Meeting Minutes/P2P DGC Weekly Status 02-23-17.doc\n",
      "/Users/rmRM/Desktop/Evgenii/DS/Tier 1 - 4/TB-16-61 P2P DGC US - Fiserv EWS Approach/Meetings_Communications/Project Status Meeting Minutes/P2P DGC Weekly Status 02-23-17.docx\n",
      "/Users/rmRM/Desktop/Evgenii/DS/Tier 1 - 4/TB-16-61 P2P DGC US - Fiserv EWS Approach/Meetings_Communications/Project Status Meeting Minutes/P2P DGC Weekly Status 02-9-17.doc\n",
      "/Users/rmRM/Desktop/Evgenii/DS/Tier 1 - 4/TB-16-61 P2P DGC US - Fiserv EWS Approach/Meetings_Communications/Project Status Meeting Minutes/P2P DGC Weekly Status 02-9-17.docx\n",
      "/Users/rmRM/Desktop/Evgenii/DS/Tier 1 - 4/TB-16-61 P2P DGC US - Fiserv EWS Approach/Meetings_Communications/Project Status Meeting Minutes/P2P DGC Weekly Status 03-02-17.doc\n",
      "/Users/rmRM/Desktop/Evgenii/DS/Tier 1 - 4/TB-16-61 P2P DGC US - Fiserv EWS Approach/Meetings_Communications/Project Status Meeting Minutes/P2P DGC Weekly Status 03-02-17.docx\n",
      "/Users/rmRM/Desktop/Evgenii/DS/Tier 1 - 4/TB-16-61 P2P DGC US - Fiserv EWS Approach/Meetings_Communications/Project Status Meeting Minutes/P2P DGC Weekly Status 03-09-17.doc\n",
      "/Users/rmRM/Desktop/Evgenii/DS/Tier 1 - 4/TB-16-61 P2P DGC US - Fiserv EWS Approach/Meetings_Communications/Project Status Meeting Minutes/P2P DGC Weekly Status 03-09-17.docx\n",
      "/Users/rmRM/Desktop/Evgenii/DS/Tier 1 - 4/TB-16-61 P2P DGC US - Fiserv EWS Approach/Meetings_Communications/Project Status Meeting Minutes/P2P DGC Weekly Status 03-16-17.doc\n",
      "/Users/rmRM/Desktop/Evgenii/DS/Tier 1 - 4/TB-16-61 P2P DGC US - Fiserv EWS Approach/Meetings_Communications/Project Status Meeting Minutes/P2P DGC Weekly Status 03-16-17.docx\n",
      "/Users/rmRM/Desktop/Evgenii/DS/Tier 1 - 4/TB-16-61 P2P DGC US - Fiserv EWS Approach/Meetings_Communications/Project Status Meeting Minutes/P2P DGC Weekly Status 09-22-16.doc\n",
      "/Users/rmRM/Desktop/Evgenii/DS/Tier 1 - 4/TB-16-61 P2P DGC US - Fiserv EWS Approach/Meetings_Communications/Project Status Meeting Minutes/P2P DGC Weekly Status 09-22-16.docx\n",
      "/Users/rmRM/Desktop/Evgenii/DS/Tier 1 - 4/TB-16-61 P2P DGC US - Fiserv EWS Approach/Meetings_Communications/Project Status Meeting Minutes/P2P DGC Weekly Status 09-29-16.doc\n",
      "/Users/rmRM/Desktop/Evgenii/DS/Tier 1 - 4/TB-16-61 P2P DGC US - Fiserv EWS Approach/Meetings_Communications/Project Status Meeting Minutes/P2P DGC Weekly Status 09-29-16.docx\n",
      "/Users/rmRM/Desktop/Evgenii/DS/Tier 1 - 4/TB-16-61 P2P DGC US - Fiserv EWS Approach/Meetings_Communications/Project Status Meeting Minutes/P2P DGC Weekly Status 10-06-16.doc\n",
      "/Users/rmRM/Desktop/Evgenii/DS/Tier 1 - 4/TB-16-61 P2P DGC US - Fiserv EWS Approach/Meetings_Communications/Project Status Meeting Minutes/P2P DGC Weekly Status 10-06-16.docx\n"
     ]
    },
    {
     "name": "stderr",
     "output_type": "stream",
     "text": [
      " 31%|███       | 2502/8058 [01:02<02:18, 40.06it/s]"
     ]
    },
    {
     "name": "stdout",
     "output_type": "stream",
     "text": [
      "/Users/rmRM/Desktop/Evgenii/DS/Tier 1 - 4/TB-16-61 P2P DGC US - Fiserv EWS Approach/Meetings_Communications/Project Status Meeting Minutes/P2P DGC Weekly Status 10-13-16.doc\n",
      "/Users/rmRM/Desktop/Evgenii/DS/Tier 1 - 4/TB-16-61 P2P DGC US - Fiserv EWS Approach/Meetings_Communications/Project Status Meeting Minutes/P2P DGC Weekly Status 10-13-16.docx\n",
      "/Users/rmRM/Desktop/Evgenii/DS/Tier 1 - 4/TB-16-61 P2P DGC US - Fiserv EWS Approach/Meetings_Communications/Project Status Meeting Minutes/P2P DGC Weekly Status 10-20-16.doc\n",
      "/Users/rmRM/Desktop/Evgenii/DS/Tier 1 - 4/TB-16-61 P2P DGC US - Fiserv EWS Approach/Meetings_Communications/Project Status Meeting Minutes/P2P DGC Weekly Status 10-20-16.docx\n",
      "/Users/rmRM/Desktop/Evgenii/DS/Tier 1 - 4/TB-16-61 P2P DGC US - Fiserv EWS Approach/Meetings_Communications/Project Status Meeting Minutes/P2P DGC Weekly Status 10-27-16 (2).doc\n",
      "/Users/rmRM/Desktop/Evgenii/DS/Tier 1 - 4/TB-16-61 P2P DGC US - Fiserv EWS Approach/Meetings_Communications/Project Status Meeting Minutes/P2P DGC Weekly Status 10-27-16 (2).docx\n",
      "/Users/rmRM/Desktop/Evgenii/DS/Tier 1 - 4/TB-16-61 P2P DGC US - Fiserv EWS Approach/Meetings_Communications/Project Status Meeting Minutes/P2P DGC Weekly Status 10-27-16.doc\n",
      "/Users/rmRM/Desktop/Evgenii/DS/Tier 1 - 4/TB-16-61 P2P DGC US - Fiserv EWS Approach/Meetings_Communications/Project Status Meeting Minutes/P2P DGC Weekly Status 10-27-16.docx\n",
      "/Users/rmRM/Desktop/Evgenii/DS/Tier 1 - 4/TB-16-61 P2P DGC US - Fiserv EWS Approach/Meetings_Communications/Project Status Meeting Minutes/P2P DGC Weekly Status 11-03-16 (2).doc\n",
      "/Users/rmRM/Desktop/Evgenii/DS/Tier 1 - 4/TB-16-61 P2P DGC US - Fiserv EWS Approach/Meetings_Communications/Project Status Meeting Minutes/P2P DGC Weekly Status 11-03-16 (2).docx\n",
      "/Users/rmRM/Desktop/Evgenii/DS/Tier 1 - 4/TB-16-61 P2P DGC US - Fiserv EWS Approach/Meetings_Communications/Project Status Meeting Minutes/P2P DGC Weekly Status 11-17-16 (2).doc\n",
      "/Users/rmRM/Desktop/Evgenii/DS/Tier 1 - 4/TB-16-61 P2P DGC US - Fiserv EWS Approach/Meetings_Communications/Project Status Meeting Minutes/P2P DGC Weekly Status 11-17-16 (2).docx\n",
      "/Users/rmRM/Desktop/Evgenii/DS/Tier 1 - 4/TB-16-61 P2P DGC US - Fiserv EWS Approach/Meetings_Communications/Project Status Meeting Minutes/P2P DGC Weekly Status 12-1-16 (2).doc\n",
      "/Users/rmRM/Desktop/Evgenii/DS/Tier 1 - 4/TB-16-61 P2P DGC US - Fiserv EWS Approach/Meetings_Communications/Project Status Meeting Minutes/P2P DGC Weekly Status 12-1-16 (2).docx\n",
      "/Users/rmRM/Desktop/Evgenii/DS/Tier 1 - 4/TB-16-61 P2P DGC US - Fiserv EWS Approach/Meetings_Communications/Project Status Meeting Minutes/P2P DGC Weekly Status 12-15-16.doc\n",
      "/Users/rmRM/Desktop/Evgenii/DS/Tier 1 - 4/TB-16-61 P2P DGC US - Fiserv EWS Approach/Meetings_Communications/Project Status Meeting Minutes/P2P DGC Weekly Status 12-15-16.docx\n",
      "/Users/rmRM/Desktop/Evgenii/DS/Tier 1 - 4/TB-16-61 P2P DGC US - Fiserv EWS Approach/Meetings_Communications/Project Status Meeting Minutes/P2P DGC Weekly Status 12-22-16.doc\n",
      "/Users/rmRM/Desktop/Evgenii/DS/Tier 1 - 4/TB-16-61 P2P DGC US - Fiserv EWS Approach/Meetings_Communications/Project Status Meeting Minutes/P2P DGC Weekly Status 12-22-16.docx\n",
      "/Users/rmRM/Desktop/Evgenii/DS/Tier 1 - 4/TB-16-61 P2P DGC US - Fiserv EWS Approach/Meetings_Communications/Project Status Meeting Minutes/P2P DGC Weekly Status 12-8-16.doc\n",
      "/Users/rmRM/Desktop/Evgenii/DS/Tier 1 - 4/TB-16-61 P2P DGC US - Fiserv EWS Approach/Meetings_Communications/Project Status Meeting Minutes/P2P DGC Weekly Status 12-8-16.docx\n",
      "/Users/rmRM/Desktop/Evgenii/DS/Tier 1 - 4/TB-16-61 P2P DGC US - Fiserv EWS Approach/Meetings_Communications/Project Status Meeting Minutes/P2P Project Kick Off 09-06-16.doc\n",
      "/Users/rmRM/Desktop/Evgenii/DS/Tier 1 - 4/TB-16-61 P2P DGC US - Fiserv EWS Approach/Meetings_Communications/Project Status Meeting Minutes/P2P Project Kick Off 09-06-16.docx\n",
      "/Users/rmRM/Desktop/Evgenii/DS/Tier 1 - 4/TB-16-61 P2P DGC US - Fiserv EWS Approach/Pilot/RIB Pilot/screenshots/Compass 'Declined' 3.msg\n",
      "/Users/rmRM/Desktop/Evgenii/DS/Tier 1 - 4/TB-16-61 P2P DGC US - Fiserv EWS Approach/Project Control Artifacts/IAD/P2P IAD 09-07-16.xls\n"
     ]
    },
    {
     "name": "stderr",
     "output_type": "stream",
     "text": [
      " 32%|███▏      | 2570/8058 [01:03<01:46, 51.67it/s]"
     ]
    },
    {
     "name": "stdout",
     "output_type": "stream",
     "text": [
      "/Users/rmRM/Desktop/Evgenii/DS/Tier 1 - 4/TB-16-61 P2P DGC US - Fiserv EWS Approach/Project Control Artifacts/IAD/P2P IAD 09-07-16.xlsx\n",
      "/Users/rmRM/Desktop/Evgenii/DS/Tier 1 - 4/TB-16-61 P2P DGC US - Fiserv EWS Approach/Project Control Artifacts/IAD/P2P IAD 09-15-16.xls\n",
      "/Users/rmRM/Desktop/Evgenii/DS/Tier 1 - 4/TB-16-61 P2P DGC US - Fiserv EWS Approach/Project Control Artifacts/IAD/P2P IAD 09-15-16.xlsx\n",
      "/Users/rmRM/Desktop/Evgenii/DS/Tier 1 - 4/TB-16-61 P2P DGC US - Fiserv EWS Approach/Project Control Artifacts/IAD/P2P IAD 09-26-16.xls\n",
      "/Users/rmRM/Desktop/Evgenii/DS/Tier 1 - 4/TB-16-61 P2P DGC US - Fiserv EWS Approach/Project Control Artifacts/IAD/P2P IAD 09-26-16.xlsx\n",
      "/Users/rmRM/Desktop/Evgenii/DS/Tier 1 - 4/TB-16-61 P2P DGC US - Fiserv EWS Approach/Project Control Artifacts/IAD/P2P IAD 09-29-16 - ManojEdits.xls\n",
      "/Users/rmRM/Desktop/Evgenii/DS/Tier 1 - 4/TB-16-61 P2P DGC US - Fiserv EWS Approach/Project Control Artifacts/IAD/P2P IAD 09-29-16 - ManojEdits.xlsx\n",
      "/Users/rmRM/Desktop/Evgenii/DS/Tier 1 - 4/TB-16-61 P2P DGC US - Fiserv EWS Approach/Project Control Artifacts/IAD/P2P IAD 09-29-16.xls\n"
     ]
    },
    {
     "name": "stderr",
     "output_type": "stream",
     "text": [
      " 32%|███▏      | 2584/8058 [01:03<02:29, 36.57it/s]"
     ]
    },
    {
     "name": "stdout",
     "output_type": "stream",
     "text": [
      "/Users/rmRM/Desktop/Evgenii/DS/Tier 1 - 4/TB-16-61 P2P DGC US - Fiserv EWS Approach/Project Control Artifacts/IAD/P2P IAD 09-29-16.xlsx\n",
      "/Users/rmRM/Desktop/Evgenii/DS/Tier 1 - 4/TB-16-61 P2P DGC US - Fiserv EWS Approach/Project Control Artifacts/IAD/cXc IAD 08-03-16.xls\n"
     ]
    },
    {
     "name": "stderr",
     "output_type": "stream",
     "text": [
      " 32%|███▏      | 2595/8058 [01:04<02:36, 34.99it/s]"
     ]
    },
    {
     "name": "stdout",
     "output_type": "stream",
     "text": [
      "/Users/rmRM/Desktop/Evgenii/DS/Tier 1 - 4/TB-16-61 P2P DGC US - Fiserv EWS Approach/Project Control Artifacts/IAD/cXc IAD 08-03-16.xlsx\n",
      "/Users/rmRM/Desktop/Evgenii/DS/Tier 1 - 4/TB-16-61 P2P DGC US - Fiserv EWS Approach/Project Control Artifacts/IAD/cXc IAD 09-07-16.xls\n",
      "/Users/rmRM/Desktop/Evgenii/DS/Tier 1 - 4/TB-16-61 P2P DGC US - Fiserv EWS Approach/Project Control Artifacts/IAD/cXc IAD 09-07-16.xlsx\n",
      "/Users/rmRM/Desktop/Evgenii/DS/Tier 1 - 4/TB-16-61 P2P DGC US - Fiserv EWS Approach/Project Control Artifacts/Solution Implementation Plan/TD Bank NGP Project 1 R5 SDP_v1.1-Brian-N.doc\n",
      "/Users/rmRM/Desktop/Evgenii/DS/Tier 1 - 4/TB-16-61 P2P DGC US - Fiserv EWS Approach/Project Control Artifacts/Solution Implementation Plan/TD Bank NGP Project 1 R5 SDP_v1.1-Brian-N.docx\n"
     ]
    },
    {
     "name": "stderr",
     "output_type": "stream",
     "text": [
      " 33%|███▎      | 2622/8058 [01:04<02:02, 44.44it/s]"
     ]
    },
    {
     "name": "stdout",
     "output_type": "stream",
     "text": [
      "/Users/rmRM/Desktop/Evgenii/DS/Tier 1 - 4/TB-16-61 P2P DGC US - Fiserv EWS Approach/Project Gating_Financials/Monthly Budget/Budget Sheet Calculator_FY16_New Starts_v0.5.xls\n",
      "/Users/rmRM/Desktop/Evgenii/DS/Tier 1 - 4/TB-16-61 P2P DGC US - Fiserv EWS Approach/Project Gating_Financials/Monthly Budget/Budget Sheet Calculator_FY16_New Starts_v0.5.xlsx\n"
     ]
    },
    {
     "name": "stderr",
     "output_type": "stream",
     "text": [
      " 33%|███▎      | 2622/8058 [01:19<02:02, 44.44it/s]/Users/rmRM/opt/anaconda3/lib/python3.8/site-packages/openpyxl/worksheet/_reader.py:300: UserWarning: Data Validation extension is not supported and will be removed\n",
      "  warn(msg)\n"
     ]
    },
    {
     "name": "stdout",
     "output_type": "stream",
     "text": [
      "/Users/rmRM/Desktop/Evgenii/DS/Tier 1 - 4/TB-16-61 P2P DGC US - Fiserv EWS Approach/Project Gating_Financials/Monthly Budget/CK Copy of TDB Milestone Data to Verify - Copy of Oct 21 MilestoneToolJ19v2.xlsx\n"
     ]
    },
    {
     "name": "stderr",
     "output_type": "stream",
     "text": [
      " 33%|███▎      | 2625/8058 [1:38:12<923:39:05, 612.03s/it] "
     ]
    },
    {
     "name": "stdout",
     "output_type": "stream",
     "text": [
      "/Users/rmRM/Desktop/Evgenii/DS/Tier 1 - 4/TB-16-61 P2P DGC US - Fiserv EWS Approach/Project Gating_Financials/Monthly Budget/ClearXchange Budget 06-16.xls\n"
     ]
    },
    {
     "name": "stderr",
     "output_type": "stream",
     "text": [
      " 33%|███▎      | 2626/8058 [1:38:13<646:53:28, 428.72s/it]"
     ]
    },
    {
     "name": "stdout",
     "output_type": "stream",
     "text": [
      "/Users/rmRM/Desktop/Evgenii/DS/Tier 1 - 4/TB-16-61 P2P DGC US - Fiserv EWS Approach/Project Gating_Financials/Monthly Budget/ClearXchange Budget 06-16.xlsx\n",
      "/Users/rmRM/Desktop/Evgenii/DS/Tier 1 - 4/TB-16-61 P2P DGC US - Fiserv EWS Approach/Project Gating_Financials/Monthly Budget/P2P Fiserv Budget 01-17.xls\n"
     ]
    },
    {
     "name": "stderr",
     "output_type": "stream",
     "text": [
      " 33%|███▎      | 2629/8058 [1:38:13<452:36:42, 300.13s/it]"
     ]
    },
    {
     "name": "stdout",
     "output_type": "stream",
     "text": [
      "/Users/rmRM/Desktop/Evgenii/DS/Tier 1 - 4/TB-16-61 P2P DGC US - Fiserv EWS Approach/Project Gating_Financials/Monthly Budget/P2P Fiserv Budget 01-17.xlsx\n",
      "/Users/rmRM/Desktop/Evgenii/DS/Tier 1 - 4/TB-16-61 P2P DGC US - Fiserv EWS Approach/Project Gating_Financials/Monthly Budget/P2P Fiserv Budget 08-16.xls\n"
     ]
    },
    {
     "name": "stderr",
     "output_type": "stream",
     "text": [
      " 33%|███▎      | 2631/8058 [1:38:14<316:46:07, 210.13s/it]"
     ]
    },
    {
     "name": "stdout",
     "output_type": "stream",
     "text": [
      "/Users/rmRM/Desktop/Evgenii/DS/Tier 1 - 4/TB-16-61 P2P DGC US - Fiserv EWS Approach/Project Gating_Financials/Monthly Budget/P2P Fiserv Budget 08-16.xlsx\n",
      "/Users/rmRM/Desktop/Evgenii/DS/Tier 1 - 4/TB-16-61 P2P DGC US - Fiserv EWS Approach/Project Gating_Financials/Monthly Budget/P2P Fiserv Budget 09-16 New.xls\n"
     ]
    },
    {
     "name": "stderr",
     "output_type": "stream",
     "text": [
      " 33%|███▎      | 2633/8058 [1:38:14<221:42:45, 147.13s/it]"
     ]
    },
    {
     "name": "stdout",
     "output_type": "stream",
     "text": [
      "/Users/rmRM/Desktop/Evgenii/DS/Tier 1 - 4/TB-16-61 P2P DGC US - Fiserv EWS Approach/Project Gating_Financials/Monthly Budget/P2P Fiserv Budget 09-16 New.xlsx\n",
      "/Users/rmRM/Desktop/Evgenii/DS/Tier 1 - 4/TB-16-61 P2P DGC US - Fiserv EWS Approach/Project Gating_Financials/Monthly Budget/P2P Fiserv Budget 09-16 Updated Oct.xls\n"
     ]
    },
    {
     "name": "stderr",
     "output_type": "stream",
     "text": [
      " 33%|███▎      | 2637/8058 [1:38:14<108:37:59, 72.14s/it] "
     ]
    },
    {
     "name": "stdout",
     "output_type": "stream",
     "text": [
      "/Users/rmRM/Desktop/Evgenii/DS/Tier 1 - 4/TB-16-61 P2P DGC US - Fiserv EWS Approach/Project Gating_Financials/Monthly Budget/P2P Fiserv Budget 09-16 Updated Oct.xlsx\n",
      "/Users/rmRM/Desktop/Evgenii/DS/Tier 1 - 4/TB-16-61 P2P DGC US - Fiserv EWS Approach/Project Gating_Financials/Monthly Budget/P2P Fiserv Budget 09-16.xls\n",
      "/Users/rmRM/Desktop/Evgenii/DS/Tier 1 - 4/TB-16-61 P2P DGC US - Fiserv EWS Approach/Project Gating_Financials/Monthly Budget/P2P Fiserv Budget 09-16.xlsx\n",
      "/Users/rmRM/Desktop/Evgenii/DS/Tier 1 - 4/TB-16-61 P2P DGC US - Fiserv EWS Approach/Project Gating_Financials/Monthly Budget/P2P Fiserv Budget 10-16 Updated Nov.xls\n"
     ]
    },
    {
     "name": "stderr",
     "output_type": "stream",
     "text": [
      " 33%|███▎      | 2639/8058 [1:38:15<76:04:46, 50.54s/it] "
     ]
    },
    {
     "name": "stdout",
     "output_type": "stream",
     "text": [
      "/Users/rmRM/Desktop/Evgenii/DS/Tier 1 - 4/TB-16-61 P2P DGC US - Fiserv EWS Approach/Project Gating_Financials/Monthly Budget/P2P Fiserv Budget 10-16 Updated Nov.xlsx\n",
      "/Users/rmRM/Desktop/Evgenii/DS/Tier 1 - 4/TB-16-61 P2P DGC US - Fiserv EWS Approach/Project Gating_Financials/Monthly Budget/P2P Fiserv Budget 10-16 Updated Oct.xls\n",
      "/Users/rmRM/Desktop/Evgenii/DS/Tier 1 - 4/TB-16-61 P2P DGC US - Fiserv EWS Approach/Project Gating_Financials/Monthly Budget/P2P Fiserv Budget 10-16 Updated Oct.xlsx\n"
     ]
    },
    {
     "name": "stderr",
     "output_type": "stream",
     "text": [
      " 33%|███▎      | 2643/8058 [1:38:15<37:18:59, 24.81s/it]"
     ]
    },
    {
     "name": "stdout",
     "output_type": "stream",
     "text": [
      "/Users/rmRM/Desktop/Evgenii/DS/Tier 1 - 4/TB-16-61 P2P DGC US - Fiserv EWS Approach/Project Gating_Financials/Monthly Budget/P2P Fiserv Budget 12-16.xls\n",
      "/Users/rmRM/Desktop/Evgenii/DS/Tier 1 - 4/TB-16-61 P2P DGC US - Fiserv EWS Approach/Project Gating_Financials/Monthly Budget/P2P Fiserv Budget 12-16.xlsx\n",
      "/Users/rmRM/Desktop/Evgenii/DS/Tier 1 - 4/TB-16-61 P2P DGC US - Fiserv EWS Approach/Project Gating_Financials/Monthly Budget/P2P Fiserv Budget New Rates Nov Update.xls\n"
     ]
    },
    {
     "name": "stderr",
     "output_type": "stream",
     "text": [
      " 33%|███▎      | 2645/8058 [1:38:15<26:08:48, 17.39s/it]"
     ]
    },
    {
     "name": "stdout",
     "output_type": "stream",
     "text": [
      "/Users/rmRM/Desktop/Evgenii/DS/Tier 1 - 4/TB-16-61 P2P DGC US - Fiserv EWS Approach/Project Gating_Financials/Monthly Budget/P2P Fiserv Budget New Rates Nov Update.xlsx\n",
      "/Users/rmRM/Desktop/Evgenii/DS/Tier 1 - 4/TB-16-61 P2P DGC US - Fiserv EWS Approach/Project QA/P2P Test Cases.xls\n"
     ]
    },
    {
     "name": "stderr",
     "output_type": "stream",
     "text": [
      " 33%|███▎      | 2653/8058 [1:38:16<18:20:26, 12.22s/it]"
     ]
    },
    {
     "name": "stdout",
     "output_type": "stream",
     "text": [
      "/Users/rmRM/Desktop/Evgenii/DS/Tier 1 - 4/TB-16-61 P2P DGC US - Fiserv EWS Approach/Project QA/P2P Test Cases.xlsx\n",
      "/Users/rmRM/Desktop/Evgenii/DS/Tier 1 - 4/TB-16-61 P2P DGC US - Fiserv EWS Approach/Project QA/Test Traceability Matrix for CoreBanking P2P CXC Phase I.xls\n"
     ]
    },
    {
     "name": "stderr",
     "output_type": "stream",
     "text": [
      " 33%|███▎      | 2684/8058 [1:38:18<9:03:08,  6.06s/it] "
     ]
    },
    {
     "name": "stdout",
     "output_type": "stream",
     "text": [
      "/Users/rmRM/Desktop/Evgenii/DS/Tier 1 - 4/TB-16-61 P2P DGC US - Fiserv EWS Approach/Project QA/Test Traceability Matrix for CoreBanking P2P CXC Phase I.xlsx\n"
     ]
    },
    {
     "name": "stderr",
     "output_type": "stream",
     "text": [
      " 34%|███▍      | 2732/8058 [1:38:18<4:24:14,  2.98s/it]"
     ]
    },
    {
     "name": "stdout",
     "output_type": "stream",
     "text": [
      "/Users/rmRM/Desktop/Evgenii/DS/Tier 1 - 4/TB-16-61 P2P DGC US - Fiserv EWS Approach/Scope_Requirements Management/Test Plan/US P2P CXC_CTS QA_Test Strategy_V0.1_DRAFT.docx\n",
      "/Users/rmRM/Desktop/Evgenii/DS/Tier 1 - 4/TB-17-22 - SBB Lending App Digitization/Meetings_Communications/Project Communications/10 24 2017 - meeting minutes   SBB App - clarify updates to output PDF.msg\n",
      "/Users/rmRM/Desktop/Evgenii/DS/Tier 1 - 4/TB-17-22 - SBB Lending App Digitization/Meetings_Communications/Project Status Meeting Minutes/SBB Lending App Digitization Status Meeting Agenda 10-05-17 (Autosaved).doc\n",
      "/Users/rmRM/Desktop/Evgenii/DS/Tier 1 - 4/TB-17-22 - SBB Lending App Digitization/Meetings_Communications/Project Status Meeting Minutes/SBB Lending App Digitization Status Meeting Agenda 10-05-17 (Autosaved).docx\n",
      "/Users/rmRM/Desktop/Evgenii/DS/Tier 1 - 4/TB-17-22 - SBB Lending App Digitization/Meetings_Communications/Project Status Meeting Minutes/SBB Lending App Digitization Status Meeting Agenda 10-12-17.doc\n",
      "/Users/rmRM/Desktop/Evgenii/DS/Tier 1 - 4/TB-17-22 - SBB Lending App Digitization/Meetings_Communications/Project Status Meeting Minutes/SBB Lending App Digitization Status Meeting Agenda 10-12-17.docx\n",
      "/Users/rmRM/Desktop/Evgenii/DS/Tier 1 - 4/TB-17-22 - SBB Lending App Digitization/Meetings_Communications/Project Status Meeting Minutes/SBB Lending App Digitization Status Meeting Agenda 10-26-17.doc\n",
      "/Users/rmRM/Desktop/Evgenii/DS/Tier 1 - 4/TB-17-22 - SBB Lending App Digitization/Meetings_Communications/Project Status Meeting Minutes/SBB Lending App Digitization Status Meeting Agenda 10-26-17.docx\n",
      "/Users/rmRM/Desktop/Evgenii/DS/Tier 1 - 4/TB-17-22 - SBB Lending App Digitization/Meetings_Communications/Project Status Meeting Minutes/SBB Lending App Digitization Status Meeting Agenda 11-2-17.doc\n",
      "/Users/rmRM/Desktop/Evgenii/DS/Tier 1 - 4/TB-17-22 - SBB Lending App Digitization/Meetings_Communications/Project Status Meeting Minutes/SBB Lending App Digitization Status Meeting Agenda 11-2-17.docx\n",
      "/Users/rmRM/Desktop/Evgenii/DS/Tier 1 - 4/TB-17-22 - SBB Lending App Digitization/Meetings_Communications/Project Status Meeting Minutes/SBB Lending App Digitization Status Meeting Agenda 12-14-17 (4).doc\n",
      "/Users/rmRM/Desktop/Evgenii/DS/Tier 1 - 4/TB-17-22 - SBB Lending App Digitization/Meetings_Communications/Project Status Meeting Minutes/SBB Lending App Digitization Status Meeting Agenda 12-14-17 (4).docx\n",
      "/Users/rmRM/Desktop/Evgenii/DS/Tier 1 - 4/TB-17-22 - SBB Lending App Digitization/Meetings_Communications/Project Status Meeting Minutes/SBB Lending App Digitization Status Meeting Agenda 1_11_2018.doc\n",
      "/Users/rmRM/Desktop/Evgenii/DS/Tier 1 - 4/TB-17-22 - SBB Lending App Digitization/Meetings_Communications/Project Status Meeting Minutes/SBB Lending App Digitization Status Meeting Agenda 1_11_2018.docx\n",
      "/Users/rmRM/Desktop/Evgenii/DS/Tier 1 - 4/TB-17-22 - SBB Lending App Digitization/Meetings_Communications/Project Status Meeting Minutes/SBB Lending App Digitization Status Meeting Agenda 1_25_2018.doc\n",
      "/Users/rmRM/Desktop/Evgenii/DS/Tier 1 - 4/TB-17-22 - SBB Lending App Digitization/Meetings_Communications/Project Status Meeting Minutes/SBB Lending App Digitization Status Meeting Agenda 1_25_2018.docx\n",
      "/Users/rmRM/Desktop/Evgenii/DS/Tier 1 - 4/TB-17-22 - SBB Lending App Digitization/Meetings_Communications/Project Status Meeting Minutes/SBB Lending App Digitization Status Meeting Agenda 1_4_2018.doc\n"
     ]
    },
    {
     "name": "stderr",
     "output_type": "stream",
     "text": [
      " 34%|███▍      | 2763/8058 [1:38:18<2:09:04,  1.46s/it]"
     ]
    },
    {
     "name": "stdout",
     "output_type": "stream",
     "text": [
      "/Users/rmRM/Desktop/Evgenii/DS/Tier 1 - 4/TB-17-22 - SBB Lending App Digitization/Meetings_Communications/Project Status Meeting Minutes/SBB Lending App Digitization Status Meeting Agenda 1_4_2018.docx\n",
      "/Users/rmRM/Desktop/Evgenii/DS/Tier 1 - 4/TB-17-22 - SBB Lending App Digitization/Meetings_Communications/Project Status Meeting Minutes/SBB Lending App Digitization Status Meeting Agenda 2_1_2018.doc\n",
      "/Users/rmRM/Desktop/Evgenii/DS/Tier 1 - 4/TB-17-22 - SBB Lending App Digitization/Meetings_Communications/Project Status Meeting Minutes/SBB Lending App Digitization Status Meeting Agenda 2_1_2018.docx\n",
      "/Users/rmRM/Desktop/Evgenii/DS/Tier 1 - 4/TB-17-22 - SBB Lending App Digitization/Meetings_Communications/Project Status Meeting Minutes/SBB Lending App Digitization Status Meeting Agenda 2_22_2018.doc\n",
      "/Users/rmRM/Desktop/Evgenii/DS/Tier 1 - 4/TB-17-22 - SBB Lending App Digitization/Meetings_Communications/Project Status Meeting Minutes/SBB Lending App Digitization Status Meeting Agenda 2_22_2018.docx\n",
      "/Users/rmRM/Desktop/Evgenii/DS/Tier 1 - 4/TB-17-22 - SBB Lending App Digitization/Meetings_Communications/Project Status Meeting Minutes/SBB Lending App Digitization Status Meeting Agenda 3_1_2018.doc\n",
      "/Users/rmRM/Desktop/Evgenii/DS/Tier 1 - 4/TB-17-22 - SBB Lending App Digitization/Meetings_Communications/Project Status Meeting Minutes/SBB Lending App Digitization Status Meeting Agenda 3_1_2018.docx\n",
      "/Users/rmRM/Desktop/Evgenii/DS/Tier 1 - 4/TB-17-22 - SBB Lending App Digitization/Meetings_Communications/Project Status Meeting Minutes/SBB Lending App Digitization Status Meeting Agenda 3_26_2018.doc\n",
      "/Users/rmRM/Desktop/Evgenii/DS/Tier 1 - 4/TB-17-22 - SBB Lending App Digitization/Meetings_Communications/Project Status Meeting Minutes/SBB Lending App Digitization Status Meeting Agenda 3_26_2018.docx\n",
      "/Users/rmRM/Desktop/Evgenii/DS/Tier 1 - 4/TB-17-22 - SBB Lending App Digitization/Meetings_Communications/Project Status Meeting Minutes/SBB Lending App Digitization Status Meeting Agenda 3_8_2018.doc\n",
      "/Users/rmRM/Desktop/Evgenii/DS/Tier 1 - 4/TB-17-22 - SBB Lending App Digitization/Meetings_Communications/Project Status Meeting Minutes/SBB Lending App Digitization Status Meeting Agenda 3_8_2018.docx\n",
      "/Users/rmRM/Desktop/Evgenii/DS/Tier 1 - 4/TB-17-22 - SBB Lending App Digitization/Meetings_Communications/Project Status Meeting Minutes/SBB Lending App Digitization Status Meeting Agenda 4_12_2018.doc\n",
      "/Users/rmRM/Desktop/Evgenii/DS/Tier 1 - 4/TB-17-22 - SBB Lending App Digitization/Meetings_Communications/Project Status Meeting Minutes/SBB Lending App Digitization Status Meeting Agenda 4_12_2018.docx\n",
      "/Users/rmRM/Desktop/Evgenii/DS/Tier 1 - 4/TB-17-22 - SBB Lending App Digitization/Meetings_Communications/Project Status Meeting Minutes/SBB Lending App Digitization Status Meeting Agenda 4_19_2018.doc\n",
      "/Users/rmRM/Desktop/Evgenii/DS/Tier 1 - 4/TB-17-22 - SBB Lending App Digitization/Meetings_Communications/Project Status Meeting Minutes/SBB Lending App Digitization Status Meeting Agenda 4_19_2018.docx\n",
      "/Users/rmRM/Desktop/Evgenii/DS/Tier 1 - 4/TB-17-22 - SBB Lending App Digitization/Meetings_Communications/Project Status Meeting Minutes/SBB Lending App Digitization Status Meeting Agenda 8-17-17.doc\n",
      "/Users/rmRM/Desktop/Evgenii/DS/Tier 1 - 4/TB-17-22 - SBB Lending App Digitization/Meetings_Communications/Project Status Meeting Minutes/SBB Lending App Digitization Status Meeting Agenda 8-17-17.docx\n",
      "/Users/rmRM/Desktop/Evgenii/DS/Tier 1 - 4/TB-17-22 - SBB Lending App Digitization/Meetings_Communications/Project Status Meeting Minutes/SBB Lending App Digitization Status Meeting Agenda 8-24-17.doc\n",
      "/Users/rmRM/Desktop/Evgenii/DS/Tier 1 - 4/TB-17-22 - SBB Lending App Digitization/Meetings_Communications/Project Status Meeting Minutes/SBB Lending App Digitization Status Meeting Agenda 8-24-17.docx\n",
      "/Users/rmRM/Desktop/Evgenii/DS/Tier 1 - 4/TB-17-22 - SBB Lending App Digitization/Meetings_Communications/Project Status Meeting Minutes/SBB Lending App Digitization Status Meeting Agenda 8-31-17.doc\n",
      "/Users/rmRM/Desktop/Evgenii/DS/Tier 1 - 4/TB-17-22 - SBB Lending App Digitization/Meetings_Communications/Project Status Meeting Minutes/SBB Lending App Digitization Status Meeting Agenda 8-31-17.docx\n",
      "/Users/rmRM/Desktop/Evgenii/DS/Tier 1 - 4/TB-17-22 - SBB Lending App Digitization/Meetings_Communications/Project Status Meeting Minutes/SBB Lending App Digitization Status Meeting Agenda 9-14-17.doc\n",
      "/Users/rmRM/Desktop/Evgenii/DS/Tier 1 - 4/TB-17-22 - SBB Lending App Digitization/Meetings_Communications/Project Status Meeting Minutes/SBB Lending App Digitization Status Meeting Agenda 9-14-17.docx\n",
      "/Users/rmRM/Desktop/Evgenii/DS/Tier 1 - 4/TB-17-22 - SBB Lending App Digitization/Meetings_Communications/Project Status Meeting Minutes/SBB Lending App Digitization Status Meeting Agenda 9-21-17.doc\n",
      "/Users/rmRM/Desktop/Evgenii/DS/Tier 1 - 4/TB-17-22 - SBB Lending App Digitization/Meetings_Communications/Project Status Meeting Minutes/SBB Lending App Digitization Status Meeting Agenda 9-21-17.docx\n",
      "/Users/rmRM/Desktop/Evgenii/DS/Tier 1 - 4/TB-17-22 - SBB Lending App Digitization/Meetings_Communications/Project Status Meeting Minutes/SBB Lending App Digitization Status Meeting Agenda 9-28-17 (Autosaved).doc\n",
      "/Users/rmRM/Desktop/Evgenii/DS/Tier 1 - 4/TB-17-22 - SBB Lending App Digitization/Meetings_Communications/Project Status Meeting Minutes/SBB Lending App Digitization Status Meeting Agenda 9-28-17 (Autosaved).docx\n",
      "/Users/rmRM/Desktop/Evgenii/DS/Tier 1 - 4/TB-17-22 - SBB Lending App Digitization/Meetings_Communications/Project Status Meeting Minutes/SBB Lending App Digitization Status Meeting Agenda 9-7-17.doc\n"
     ]
    },
    {
     "name": "stderr",
     "output_type": "stream",
     "text": [
      " 34%|███▍      | 2778/8058 [1:38:18<1:30:17,  1.03s/it]"
     ]
    },
    {
     "name": "stdout",
     "output_type": "stream",
     "text": [
      "/Users/rmRM/Desktop/Evgenii/DS/Tier 1 - 4/TB-17-22 - SBB Lending App Digitization/Meetings_Communications/Project Status Meeting Minutes/SBB Lending App Digitization Status Meeting Agenda 9-7-17.docx\n",
      "/Users/rmRM/Desktop/Evgenii/DS/Tier 1 - 4/TB-17-22 - SBB Lending App Digitization/Meetings_Communications/Project Status Meeting Minutes/SBB Lending App Digitization Status Meeting Minutes 8-24-17.doc\n",
      "/Users/rmRM/Desktop/Evgenii/DS/Tier 1 - 4/TB-17-22 - SBB Lending App Digitization/Meetings_Communications/Project Status Meeting Minutes/SBB Lending App Digitization Status Meeting Minutes 8-24-17.docx\n",
      "/Users/rmRM/Desktop/Evgenii/DS/Tier 1 - 4/TB-17-22 - SBB Lending App Digitization/Meetings_Communications/Project Status Meeting Minutes/SBB Lending App Digitization Status Meeting Notes 10-26-17.doc\n",
      "/Users/rmRM/Desktop/Evgenii/DS/Tier 1 - 4/TB-17-22 - SBB Lending App Digitization/Meetings_Communications/Project Status Meeting Minutes/SBB Lending App Digitization Status Meeting Notes 10-26-17.docx\n",
      "/Users/rmRM/Desktop/Evgenii/DS/Tier 1 - 4/TB-17-22 - SBB Lending App Digitization/Meetings_Communications/Project Status Meeting Minutes/SBB Lending Digitization Requirement Session 5_Agenda 082517.doc\n",
      "/Users/rmRM/Desktop/Evgenii/DS/Tier 1 - 4/TB-17-22 - SBB Lending App Digitization/Meetings_Communications/Project Status Meeting Minutes/SBB Lending Digitization Requirement Session 5_Agenda 082517.docx\n",
      "/Users/rmRM/Desktop/Evgenii/DS/Tier 1 - 4/TB-17-22 - SBB Lending App Digitization/Project Connect Release 18.5 Artifacts/SRS - System Requirements/Use Cases/UC002 - Select Beneficial owner_ UC v 0.09.docx\n",
      "/Users/rmRM/Desktop/Evgenii/DS/Tier 1 - 4/TB-17-22 - SBB Lending App Digitization/Project Control Artifacts/Project Risk Documentation/PIA_IRA/PRIV_PIA_Privacy_Impact_Assessment (3).xlsx\n",
      "/Users/rmRM/Desktop/Evgenii/DS/Tier 1 - 4/TB-17-22 - SBB Lending App Digitization/Project Control Artifacts/Project Risk Documentation/PIA_IRA/SBB Lending App Digitization_Project_Risk_Assessment.xlsx\n",
      "/Users/rmRM/Desktop/Evgenii/DS/Tier 1 - 4/TB-17-22 - SBB Lending App Digitization/Project Gating_Financials/Project Financial Tools/Budget Calculator/SBB Lending App Digitization Expense Detail- Aug Actuals.xlsx\n",
      "/Users/rmRM/Desktop/Evgenii/DS/Tier 1 - 4/TB-17-22 - SBB Lending App Digitization/Project Gating_Financials/Project Financial Tools/Budget Calculator/SBB Lending App Digitization Expense Detail- Dec Forecast.xlsx\n",
      "/Users/rmRM/Desktop/Evgenii/DS/Tier 1 - 4/TB-17-22 - SBB Lending App Digitization/Project Gating_Financials/Project Financial Tools/Budget Calculator/SBB Lending App Digitization Expense Detail- Nov Forecast.xlsx\n",
      "/Users/rmRM/Desktop/Evgenii/DS/Tier 1 - 4/TB-17-22 - SBB Lending App Digitization/Project Gating_Financials/Project Financial Tools/Budget Calculator/SBB Lending App Digitization Expense Detail- Oct Forecast.xlsx\n",
      "/Users/rmRM/Desktop/Evgenii/DS/Tier 1 - 4/TB-17-22 - SBB Lending App Digitization/Project Gating_Financials/Project Financial Tools/Budget Calculator/SBB Lending App Digitization Expense Detail- Sept Actuals.xlsx\n",
      "/Users/rmRM/Desktop/Evgenii/DS/Tier 1 - 4/TB-17-22 - SBB Lending App Digitization/Project Gating_Financials/Project Financial Tools/Budget Calculator/SBB Lending App Digitization Expense Detail.xlsx\n",
      "/Users/rmRM/Desktop/Evgenii/DS/Tier 1 - 4/TB-17-22 - SBB Lending App Digitization/Project Gating_Financials/ROM Estimates_Approvals/Digital ROM Estimate Template v2.0.xls\n"
     ]
    },
    {
     "name": "stderr",
     "output_type": "stream",
     "text": [
      " 36%|███▋      | 2922/8058 [1:38:19<43:09,  1.98it/s]  "
     ]
    },
    {
     "name": "stdout",
     "output_type": "stream",
     "text": [
      "/Users/rmRM/Desktop/Evgenii/DS/Tier 1 - 4/TB-17-22 - SBB Lending App Digitization/Project Gating_Financials/ROM Estimates_Approvals/Digital ROM Estimate Template v2.0.xlsx\n",
      "/Users/rmRM/Desktop/Evgenii/DS/Tier 1 - 4/TB-17-22 - SBB Lending App Digitization/Scope_Requirements Management/Design Document(MCD_Visual)/MCD/SB Loan Error Matrix Rev1.docx\n",
      "/Users/rmRM/Desktop/Evgenii/DS/Tier 1 - 4/TB-17-22 - SBB Lending App Digitization/Scope_Requirements Management/Design Document(MCD_Visual)/MCD/SB Loan Review Card MCD rev0.3.docx\n",
      "/Users/rmRM/Desktop/Evgenii/DS/Tier 1 - 4/TB-17-22 - SBB Lending App Digitization/Scope_Requirements Management/Design Document(MCD_Visual)/MCD/SBB Digital Loan application Step 1 MCD v0.1.docx\n",
      "/Users/rmRM/Desktop/Evgenii/DS/Tier 1 - 4/TB-17-22 - SBB Lending App Digitization/Scope_Requirements Management/Design Document(MCD_Visual)/MCD/Small Business Digital Loan MCD v0.2.docx\n",
      "/Users/rmRM/Desktop/Evgenii/DS/Tier 1 - 4/TB-17-22 - SBB Lending App Digitization/Scope_Requirements Management/Design Document(MCD_Visual)/MCD/Small Business Digital Loan MCD v0.5.docx\n",
      "/Users/rmRM/Desktop/Evgenii/DS/Tier 1 - 4/TB-17-22 - SBB Lending App Digitization/Scope_Requirements Management/Design Document(MCD_Visual)/MCD/Small Business Digital Loan MCD v0.6a.docx\n",
      "/Users/rmRM/Desktop/Evgenii/DS/Tier 1 - 4/TB-17-22 - SBB Lending App Digitization/Scope_Requirements Management/Design Document(MCD_Visual)/MCD/Small Business Digital Loan MCD v0.7.docx\n",
      "/Users/rmRM/Desktop/Evgenii/DS/Tier 1 - 4/TB-17-22 - SBB Lending App Digitization/Scope_Requirements Management/Design Document(MCD_Visual)/MCD/Small Business Digital Loan MCD v0.8(clean).docx\n",
      "/Users/rmRM/Desktop/Evgenii/DS/Tier 1 - 4/TB-17-22 - SBB Lending App Digitization/Scope_Requirements Management/Requirements Package/IAD Log/SBB App - IAD log.xlsx\n"
     ]
    },
    {
     "name": "stderr",
     "output_type": "stream",
     "text": [
      " 38%|███▊      | 3037/8058 [1:38:19<20:48,  4.02it/s]"
     ]
    },
    {
     "name": "stdout",
     "output_type": "stream",
     "text": [
      "/Users/rmRM/Desktop/Evgenii/DS/Tier 1 - 4/TB-18-05 DgC Aggregation Out - US/MASTER LIST OF DOCS  (Refer to folder for most docs posted by Dinesh)/Actuals Report/Agg Out_Actuals_Apr.xlsx\n",
      "/Users/rmRM/Desktop/Evgenii/DS/Tier 1 - 4/TB-18-05 DgC Aggregation Out - US/MASTER LIST OF DOCS  (Refer to folder for most docs posted by Dinesh)/Actuals Report/Agg Out_Actuals_Dec.xls\n",
      "/Users/rmRM/Desktop/Evgenii/DS/Tier 1 - 4/TB-18-05 DgC Aggregation Out - US/MASTER LIST OF DOCS  (Refer to folder for most docs posted by Dinesh)/Actuals Report/Agg Out_Actuals_Dec.xlsx\n",
      "/Users/rmRM/Desktop/Evgenii/DS/Tier 1 - 4/TB-18-05 DgC Aggregation Out - US/MASTER LIST OF DOCS  (Refer to folder for most docs posted by Dinesh)/Actuals Report/Agg Out_Actuals_Dec_v2.xls\n",
      "/Users/rmRM/Desktop/Evgenii/DS/Tier 1 - 4/TB-18-05 DgC Aggregation Out - US/MASTER LIST OF DOCS  (Refer to folder for most docs posted by Dinesh)/Actuals Report/Agg Out_Actuals_Dec_v2.xlsx\n",
      "/Users/rmRM/Desktop/Evgenii/DS/Tier 1 - 4/TB-18-05 DgC Aggregation Out - US/MASTER LIST OF DOCS  (Refer to folder for most docs posted by Dinesh)/Actuals Report/Agg Out_Actuals_Feb 6.xls\n",
      "/Users/rmRM/Desktop/Evgenii/DS/Tier 1 - 4/TB-18-05 DgC Aggregation Out - US/MASTER LIST OF DOCS  (Refer to folder for most docs posted by Dinesh)/Actuals Report/Agg Out_Actuals_Feb 6.xlsx\n",
      "/Users/rmRM/Desktop/Evgenii/DS/Tier 1 - 4/TB-18-05 DgC Aggregation Out - US/MASTER LIST OF DOCS  (Refer to folder for most docs posted by Dinesh)/Actuals Report/Agg Out_Actuals_Feb.xls\n",
      "/Users/rmRM/Desktop/Evgenii/DS/Tier 1 - 4/TB-18-05 DgC Aggregation Out - US/MASTER LIST OF DOCS  (Refer to folder for most docs posted by Dinesh)/Actuals Report/Agg Out_Actuals_Feb.xlsx\n",
      "/Users/rmRM/Desktop/Evgenii/DS/Tier 1 - 4/TB-18-05 DgC Aggregation Out - US/MASTER LIST OF DOCS  (Refer to folder for most docs posted by Dinesh)/Actuals Report/Agg Out_Actuals_Feb1.xls\n",
      "/Users/rmRM/Desktop/Evgenii/DS/Tier 1 - 4/TB-18-05 DgC Aggregation Out - US/MASTER LIST OF DOCS  (Refer to folder for most docs posted by Dinesh)/Actuals Report/Agg Out_Actuals_Feb1.xlsx\n",
      "/Users/rmRM/Desktop/Evgenii/DS/Tier 1 - 4/TB-18-05 DgC Aggregation Out - US/MASTER LIST OF DOCS  (Refer to folder for most docs posted by Dinesh)/Actuals Report/Agg Out_Actuals_Feb_new.xls\n",
      "/Users/rmRM/Desktop/Evgenii/DS/Tier 1 - 4/TB-18-05 DgC Aggregation Out - US/MASTER LIST OF DOCS  (Refer to folder for most docs posted by Dinesh)/Actuals Report/Agg Out_Actuals_Feb_new.xlsx\n",
      "/Users/rmRM/Desktop/Evgenii/DS/Tier 1 - 4/TB-18-05 DgC Aggregation Out - US/MASTER LIST OF DOCS  (Refer to folder for most docs posted by Dinesh)/Actuals Report/Agg Out_Actuals_Jan 23.xls\n",
      "/Users/rmRM/Desktop/Evgenii/DS/Tier 1 - 4/TB-18-05 DgC Aggregation Out - US/MASTER LIST OF DOCS  (Refer to folder for most docs posted by Dinesh)/Actuals Report/Agg Out_Actuals_Jan 23.xlsx\n",
      "/Users/rmRM/Desktop/Evgenii/DS/Tier 1 - 4/TB-18-05 DgC Aggregation Out - US/MASTER LIST OF DOCS  (Refer to folder for most docs posted by Dinesh)/Actuals Report/Agg Out_Actuals_Jan Full Month.xls\n",
      "/Users/rmRM/Desktop/Evgenii/DS/Tier 1 - 4/TB-18-05 DgC Aggregation Out - US/MASTER LIST OF DOCS  (Refer to folder for most docs posted by Dinesh)/Actuals Report/Agg Out_Actuals_Jan Full Month.xlsx\n",
      "/Users/rmRM/Desktop/Evgenii/DS/Tier 1 - 4/TB-18-05 DgC Aggregation Out - US/MASTER LIST OF DOCS  (Refer to folder for most docs posted by Dinesh)/Actuals Report/Agg Out_Actuals_Mar.xls\n",
      "/Users/rmRM/Desktop/Evgenii/DS/Tier 1 - 4/TB-18-05 DgC Aggregation Out - US/MASTER LIST OF DOCS  (Refer to folder for most docs posted by Dinesh)/Actuals Report/Agg Out_Actuals_Mar.xlsx\n",
      "/Users/rmRM/Desktop/Evgenii/DS/Tier 1 - 4/TB-18-05 DgC Aggregation Out - US/MASTER LIST OF DOCS  (Refer to folder for most docs posted by Dinesh)/Actuals Report/Agg Out_Actuals_May 8xls.xls\n",
      "/Users/rmRM/Desktop/Evgenii/DS/Tier 1 - 4/TB-18-05 DgC Aggregation Out - US/MASTER LIST OF DOCS  (Refer to folder for most docs posted by Dinesh)/Actuals Report/Agg Out_Actuals_May 8xls.xlsx\n",
      "/Users/rmRM/Desktop/Evgenii/DS/Tier 1 - 4/TB-18-05 DgC Aggregation Out - US/MASTER LIST OF DOCS  (Refer to folder for most docs posted by Dinesh)/Actuals Report/Agg Out_Actuals_Nov.xls\n",
      "/Users/rmRM/Desktop/Evgenii/DS/Tier 1 - 4/TB-18-05 DgC Aggregation Out - US/MASTER LIST OF DOCS  (Refer to folder for most docs posted by Dinesh)/Actuals Report/Agg Out_Actuals_Nov.xlsx\n",
      "/Users/rmRM/Desktop/Evgenii/DS/Tier 1 - 4/TB-18-05 DgC Aggregation Out - US/MASTER LIST OF DOCS  (Refer to folder for most docs posted by Dinesh)/Actuals Report/Agg Out_Actuals_Oct.xls\n"
     ]
    },
    {
     "name": "stderr",
     "output_type": "stream",
     "text": [
      " 40%|████      | 3240/8058 [1:38:20<10:15,  7.83it/s]"
     ]
    },
    {
     "name": "stdout",
     "output_type": "stream",
     "text": [
      "/Users/rmRM/Desktop/Evgenii/DS/Tier 1 - 4/TB-18-05 DgC Aggregation Out - US/MASTER LIST OF DOCS  (Refer to folder for most docs posted by Dinesh)/Actuals Report/Agg Out_Actuals_Oct.xlsx\n",
      "/Users/rmRM/Desktop/Evgenii/DS/Tier 1 - 4/TB-18-05 DgC Aggregation Out - US/MASTER LIST OF DOCS  (Refer to folder for most docs posted by Dinesh)/QPR/Agg Out QPR - Month 3.ppt\n",
      "/Users/rmRM/Desktop/Evgenii/DS/Tier 1 - 4/TB-18-05 DgC Aggregation Out - US/Monthly Financials/Aug 2019/Accrual form 2019 Agg Out Aug.xls\n",
      "/Users/rmRM/Desktop/Evgenii/DS/Tier 1 - 4/TB-18-05 DgC Aggregation Out - US/Monthly Financials/Aug 2019/Accrual form 2019 Agg Out Aug.xlsx\n",
      "/Users/rmRM/Desktop/Evgenii/DS/Tier 1 - 4/TB-18-05 DgC Aggregation Out - US/Monthly Financials/Aug 2019/Posted Transactions/Agg Out TD_Posted_Transaction_Review Sep02.xlsx\n",
      "/Users/rmRM/Desktop/Evgenii/DS/Tier 1 - 4/TB-18-05 DgC Aggregation Out - US/Monthly Financials/Aug 2019/TD_Posted_Transaction_Review - 2019-09-03.xlsx\n",
      "/Users/rmRM/Desktop/Evgenii/DS/Tier 1 - 4/TB-18-05 DgC Aggregation Out - US/Monthly Financials/FY2018/agg Out TD_Posted_Transaction_Review - 2019-07-31T144835.416.xlsx\n",
      "/Users/rmRM/Desktop/Evgenii/DS/Tier 1 - 4/TB-18-05 DgC Aggregation Out - US/Monthly Financials/July/TD_Posted_Transaction_Review - 2019-07-24T104554.765.xlsx\n",
      "/Users/rmRM/Desktop/Evgenii/DS/Tier 1 - 4/TB-18-05 DgC Aggregation Out - US/Monthly Financials/July 2019/Agg Out TD_Posted_Transaction_Review - 2019-08-1.xlsx\n"
     ]
    },
    {
     "name": "stderr",
     "output_type": "stream",
     "text": [
      " 41%|████      | 3304/8058 [1:38:20<07:09, 11.08it/s]"
     ]
    },
    {
     "name": "stdout",
     "output_type": "stream",
     "text": [
      "/Users/rmRM/Desktop/Evgenii/DS/Tier 1 - 4/TB-18-05 DgC Aggregation Out - US/Monthly Financials/July 2019/Posted Transactions/Agg Out TD_Posted_Transaction_Review - 2019-07-29.xlsx\n",
      "/Users/rmRM/Desktop/Evgenii/DS/Tier 1 - 4/TB-18-05 DgC Aggregation Out - US/Monthly Financials/July 2019/Posted Transactions/TD_Posted_Transaction_Review Jul29 DgC.xlsx\n",
      "/Users/rmRM/Desktop/Evgenii/DS/Tier 1 - 4/TB-18-05 DgC Aggregation Out - US/Monthly Financials/June 2019/Posted Transactions/TD_Posted_Transaction_Review - 2019-07-03T141738.853.xlsx\n",
      "/Users/rmRM/Desktop/Evgenii/DS/Tier 1 - 4/TB-18-10 DgC TDB MRA600/Financials/Howards Collateral/MRA600 03OCT2018 BD3.xls\n",
      "/Users/rmRM/Desktop/Evgenii/DS/Tier 1 - 4/TB-18-10 DgC TDB MRA600/Financials/Howards Collateral/MRA600 03OCT2018 BD3.xlsx\n"
     ]
    },
    {
     "name": "stderr",
     "output_type": "stream",
     "text": [
      " 46%|████▌     | 3669/8058 [1:38:21<03:17, 22.22it/s]"
     ]
    },
    {
     "name": "stdout",
     "output_type": "stream",
     "text": [
      "/Users/rmRM/Desktop/Evgenii/DS/Tier 1 - 4/TB-18-10 DgC TDB MRA600/Financials/Posted Transactions/MRA600 DgC Transactions Start to 01-11-19.xlsx\n",
      "/Users/rmRM/Desktop/Evgenii/DS/Tier 1 - 4/TB-18-10 DgC TDB MRA600/Project Control Artifacts/PCRs/Cross Border PCR/PCR Approvals  Joe Ford  Greg Harper 08-22-18.docx\n",
      "/Users/rmRM/Desktop/Evgenii/DS/Tier 1 - 4/TB-18-10 DgC TDB MRA600/Project Control Artifacts/PCRs/Cross Border PCR/Project-Change-Request-Notifications-Cross Border Requirement (Autosaved).xlsx\n",
      "/Users/rmRM/Desktop/Evgenii/DS/Tier 1 - 4/TB-18-10 DgC TDB MRA600/Project Control Artifacts/PCRs/Dynamic Mobile App Link/Copy of PCR012 - Mobile App Link____Digital Assessment.xlsx\n",
      "/Users/rmRM/Desktop/Evgenii/DS/Tier 1 - 4/TB-18-10 DgC TDB MRA600/Project Control Artifacts/PCRs/Dynamic Mobile App Link/PCR Approvals  Joe Ford  Greg Harper 08-22-18.docx\n",
      "/Users/rmRM/Desktop/Evgenii/DS/Tier 1 - 4/TB-18-10 DgC TDB MRA600/Project Control Artifacts/PCRs/PCR-003 New To Bank/PCR approval.docx\n",
      "/Users/rmRM/Desktop/Evgenii/DS/Tier 1 - 4/TB-18-10 DgC TDB MRA600/Project Control Artifacts/PCRs/PCR-4390 Bankcard Template/PCR Approvals  Joe Ford  Greg Harper 08-22-18.docx\n",
      "/Users/rmRM/Desktop/Evgenii/DS/Tier 1 - 4/TB-18-10 DgC TDB MRA600/Project Control Artifacts/PCRs/PCR-4390 Bankcard Template/Project-Change-Request-Template-Additional Template for Credit Card Applicants (2).xlsx\n",
      "/Users/rmRM/Desktop/Evgenii/DS/Tier 1 - 4/TB-18-10 DgC TDB MRA600/Project Control Artifacts/PCRs/PCR-4390 Bankcard Template/Project-Change-Request-Template-Additional Template for Credit Card Applicants.xlsx\n",
      "/Users/rmRM/Desktop/Evgenii/DS/Tier 1 - 4/TB-18-10 DgC TDB MRA600/Project Control Artifacts/PCRs/PCR-4391 SR Deployment Delay/PCR-4391- SR Deployment Delay.xlsx\n",
      "/Users/rmRM/Desktop/Evgenii/DS/Tier 1 - 4/TB-18-10 DgC TDB MRA600/Project Control Artifacts/Project Financials/ATP/MRA 600 - Budget Sheet Calculator_FY1718_03AUG2018____project ATP.xlsx\n",
      "/Users/rmRM/Desktop/Evgenii/DS/Tier 1 - 4/TB-18-10 DgC TDB MRA600/Project Control Artifacts/Project Financials/ATP/MRA600 Digital-CTS ATP Estimate 10AUG2018.pptx\n",
      "/Users/rmRM/Desktop/Evgenii/DS/Tier 1 - 4/TB-18-10 DgC TDB MRA600/Project Control Artifacts/Project Financials/Business Case and FTP/Business_Case - MRA600 Draft.pptx\n",
      "/Users/rmRM/Desktop/Evgenii/DS/Tier 1 - 4/TB-18-10 DgC TDB MRA600/Project Control Artifacts/Project Financials/Forecasts/Copy of Forecast MRA600 - All WPs - 31-Jul-2018 (Updated - 11-Aug-2018).xlsx\n",
      "/Users/rmRM/Desktop/Evgenii/DS/Tier 1 - 4/TB-18-10 DgC TDB MRA600/Project Control Artifacts/Project Financials/Forecasts/Copy of MRA 600 - Budget Sheet Calculator_FY1718_03AUG2018____project ATP.xlsx\n",
      "/Users/rmRM/Desktop/Evgenii/DS/Tier 1 - 4/TB-18-10 DgC TDB MRA600/Project Control Artifacts/Project Financials/PDD/TD Technology CCB PDD and Intake__TDB MRA600_UMP - 11-Aug-18 (PCR).docx\n",
      "/Users/rmRM/Desktop/Evgenii/DS/Tier 1 - 4/TB-18-10 DgC TDB MRA600/Scope Requirements Management/EUC_+001+-+Access+The+US+Online+Banking+Application (2).doc\n",
      "/Users/rmRM/Desktop/Evgenii/DS/Tier 1 - 4/TB-18-10 DgC TDB MRA600/Scope Requirements Management/EUC_+001+-+Access+The+US+Online+Banking+Application (2).docx\n",
      "/Users/rmRM/Desktop/Evgenii/DS/Tier 1 - 4/TB-18-13 Debit Card Disputes and Controls/Scope_Requirements Management/Scope Deck/Debit Card Disputes Scope Deck v1.ppt\n",
      "/Users/rmRM/Desktop/Evgenii/DS/Tier 1 - 4/TB-18-13 Debit Card Disputes and Controls/Scope_Requirements Management/Scope Deck/Debit Card Disputes Scope Deck v1.pptx\n",
      "/Users/rmRM/Desktop/Evgenii/DS/Tier 1 - 4/TB-18-13 Debit Card Disputes and Controls/Scope_Requirements Management/Scope Deck/Debit Card Disputes Scope Deck v5.3.ppt\n"
     ]
    },
    {
     "name": "stderr",
     "output_type": "stream",
     "text": [
      " 46%|████▋     | 3741/8058 [1:38:21<02:19, 30.90it/s]"
     ]
    },
    {
     "name": "stdout",
     "output_type": "stream",
     "text": [
      "/Users/rmRM/Desktop/Evgenii/DS/Tier 1 - 4/TB-18-13 Debit Card Disputes and Controls/Scope_Requirements Management/Scope Deck/Debit Card Disputes Scope Deck v5.3.pptx\n",
      "/Users/rmRM/Desktop/Evgenii/DS/Tier 1 - 4/TB-18-13 Debit Card Disputes and Controls/Scope_Requirements Management/Scope Deck/Debit Card Disputes Scope Deck v5.3Appoved.ppt\n",
      "/Users/rmRM/Desktop/Evgenii/DS/Tier 1 - 4/TB-18-13 Debit Card Disputes and Controls/Scope_Requirements Management/Scope Deck/Debit Card Disputes Scope Deck v5.3Appoved.pptx\n",
      "/Users/rmRM/Desktop/Evgenii/DS/Tier 1 - 4/TB-18-XX TDB Agile Transformation/Communication and Meetings/Status/FY 2019/US Digital Transformation Status Aug 30 2019/Sales Status 08-30-19.pptx\n",
      "/Users/rmRM/Desktop/Evgenii/DS/Tier 1 - 4/TB-18-XX TDB Agile Transformation/Communication and Meetings/Status/FY 2019/US Digital Transformation Status May 10 2019/USP_Update_05092019  Edits.ppt\n"
     ]
    },
    {
     "name": "stderr",
     "output_type": "stream",
     "text": [
      " 49%|████▉     | 3984/8058 [1:38:22<01:10, 58.19it/s]"
     ]
    },
    {
     "name": "stdout",
     "output_type": "stream",
     "text": [
      "/Users/rmRM/Desktop/Evgenii/DS/Tier 1 - 4/TB-18-XX TDB Agile Transformation/Communication and Meetings/Status/FY 2019/US Digital Transformation Status May 10 2019/USP_Update_05092019  Edits.pptx\n",
      "/Users/rmRM/Desktop/Evgenii/DS/Tier 1 - 4/TB-18-XX TDB Agile Transformation/Communication and Meetings/Status/FY 2019/US Digital Transformation Status October 11 2019/Deposit Advance Status Oct 14 2019.pptx\n",
      "/Users/rmRM/Desktop/Evgenii/DS/Tier 1 - 4/TB-18-XX TDB Agile Transformation/Communication and Meetings/Status/FY 2019/US Digital Transformation Status October 25 2019/Deposit Advance Status Oct 25 2019.pptx\n",
      "/Users/rmRM/Desktop/Evgenii/DS/Tier 1 - 4/TB-18-XX TDB Agile Transformation/Communication and Meetings/Status/FY 2019/US Digital Transformation Status Sept 13 2019/Sales Status 09-13-19.pptx\n",
      "/Users/rmRM/Desktop/Evgenii/DS/Tier 1 - 4/TB-18-XX TDB Agile Transformation/Communication and Meetings/Status/FY 2019/US Digital Transformation Status Sept 27 2019/Sales Status 09-27-19.pptx\n",
      "/Users/rmRM/Desktop/Evgenii/DS/Tier 1 - 4/TB-18-XX TDB Agile Transformation/Communication and Meetings/Status/FY 2020/US Digital Transformation Status Feb 14, 2020/Sales - Updates as of February 14 2020.pptx\n",
      "/Users/rmRM/Desktop/Evgenii/DS/Tier 1 - 4/TB-18-XX TDB Agile Transformation/Communication and Meetings/Status/FY 2020/US Digital Transformation Status Feb 28, 2020/Payments_Portfolio_022720_v1.pptx\n",
      "/Users/rmRM/Desktop/Evgenii/DS/Tier 1 - 4/TB-18-XX TDB Agile Transformation/Communication and Meetings/Status/FY 2020/US Digital Transformation Status Feb 28, 2020/Sales - Updates as of February 28 2020.pptx\n",
      "/Users/rmRM/Desktop/Evgenii/DS/Tier 1 - 4/TB-18-XX TDB Agile Transformation/Resources/Resource forecasts 2019/Jan 2019/Mobile Innovation Pod Staffing Model 01Jan2019.xlsx\n",
      "/Users/rmRM/Desktop/Evgenii/DS/Tier 1 - 4/TB-18-XX TDB Agile Transformation/Resources/Resource forecasts 2019/Jan 2019/Online Improvement Pod Staffing Model 10Feb2019.xlsx\n",
      "/Users/rmRM/Desktop/Evgenii/DS/Tier 1 - 4/TB-18-XX TDB Agile Transformation/Resources/Resource forecasts 2019/Jan 2019/Online Improvement Pod Staffing Model 14JAN2019.xlsx\n"
     ]
    },
    {
     "name": "stderr",
     "output_type": "stream",
     "text": [
      " 50%|█████     | 4036/8058 [1:38:43<08:59,  7.46it/s]"
     ]
    },
    {
     "name": "stdout",
     "output_type": "stream",
     "text": [
      "/Users/rmRM/Desktop/Evgenii/DS/Tier 1 - 4/TB-18-XX TDB Agile Transformation/Resources/Resource forecasts 2019/Jan 2019/Online Improvement Pod Staffing Model 30DEC2018.xlsx\n"
     ]
    },
    {
     "name": "stderr",
     "output_type": "stream",
     "text": [
      " 50%|█████     | 4037/8058 [1:38:48<1:56:25,  1.74s/it]"
     ]
    },
    {
     "name": "stdout",
     "output_type": "stream",
     "text": [
      "/Users/rmRM/Desktop/Evgenii/DS/Tier 1 - 4/TB-18-XX TDB Agile Transformation/Resources/Resource forecasts 2019/Jan 2019/Public Site Innovation Pod Staffing Model 02Jan2019xlsx.xlsx\n"
     ]
    },
    {
     "name": "stderr",
     "output_type": "stream",
     "text": [
      " 50%|█████     | 4038/8058 [1:38:53<2:59:26,  2.68s/it]"
     ]
    },
    {
     "name": "stdout",
     "output_type": "stream",
     "text": [
      "/Users/rmRM/Desktop/Evgenii/DS/Tier 1 - 4/TB-18-XX TDB Agile Transformation/Resources/Resource forecasts 2019/Jan 2019/Sales Innovation Pod Staffing Model 02Jan2019xlsx.xlsx\n"
     ]
    },
    {
     "name": "stderr",
     "output_type": "stream",
     "text": [
      " 50%|█████     | 4039/8058 [1:38:58<3:46:37,  3.38s/it]"
     ]
    },
    {
     "name": "stdout",
     "output_type": "stream",
     "text": [
      "/Users/rmRM/Desktop/Evgenii/DS/Tier 1 - 4/TB-18-XX TDB Agile Transformation/Resources/Resource forecasts 2019/Jan 2019/Self Service Pod Staffing Model 02Jan2019.xlsx\n"
     ]
    },
    {
     "name": "stderr",
     "output_type": "stream",
     "text": [
      " 50%|█████     | 4040/8058 [1:39:03<4:19:15,  3.87s/it]"
     ]
    },
    {
     "name": "stdout",
     "output_type": "stream",
     "text": [
      "/Users/rmRM/Desktop/Evgenii/DS/Tier 1 - 4/TB-18-XX TDB Agile Transformation/Resources/Resource forecasts 2019/Jan 2019/Self Service Pod Staffing Model 14Jan2019.xlsx\n"
     ]
    },
    {
     "name": "stderr",
     "output_type": "stream",
     "text": [
      " 50%|█████     | 4041/8058 [1:39:08<4:42:11,  4.21s/it]"
     ]
    },
    {
     "name": "stdout",
     "output_type": "stream",
     "text": [
      "/Users/rmRM/Desktop/Evgenii/DS/Tier 1 - 4/TB-18-XX TDB Agile Transformation/Resources/Resource forecasts 2019/Jan 2019/Self Service Pod Staffing Model 28DEC2018.xlsx\n"
     ]
    },
    {
     "name": "stderr",
     "output_type": "stream",
     "text": [
      " 50%|█████     | 4042/8058 [1:39:14<5:04:41,  4.55s/it]"
     ]
    },
    {
     "name": "stdout",
     "output_type": "stream",
     "text": [
      "/Users/rmRM/Desktop/Evgenii/DS/Tier 1 - 4/TB-18-XX TDB Agile Transformation/Resources/Resource forecasts 2019/Jan 2019/Self Service Pod Staffing Model 31Jan2019 Updates  02004 (2).xlsx\n"
     ]
    },
    {
     "name": "stderr",
     "output_type": "stream",
     "text": [
      " 50%|█████     | 4045/8058 [1:39:19<4:09:52,  3.74s/it]"
     ]
    },
    {
     "name": "stdout",
     "output_type": "stream",
     "text": [
      "/Users/rmRM/Desktop/Evgenii/DS/Tier 1 - 4/TB-18-XX TDB Agile Transformation/Resources/Resource forecasts 2019/June 2019/Copy of Self Service Pod Staffing Forecast as of June 1.xlsx\n"
     ]
    },
    {
     "name": "stderr",
     "output_type": "stream",
     "text": [
      " 50%|█████     | 4065/8058 [1:39:24<3:08:10,  2.83s/it]"
     ]
    },
    {
     "name": "stdout",
     "output_type": "stream",
     "text": [
      "/Users/rmRM/Desktop/Evgenii/DS/Tier 1 - 4/TB-18-XX TDB Agile Transformation/Resources/Resource forecasts 2019/June 2019/Cross Platform Parity Pod Staffing Model Jun_2019_v2.xlsx\n",
      "/Users/rmRM/Desktop/Evgenii/DS/Tier 1 - 4/TB-18-XX TDB Agile Transformation/Resources/Resource forecasts 2019/June 2019/Online Improvements - TD_Posted_Transaction_Review - Nov 2018 thru May 2019.xlsx\n",
      "/Users/rmRM/Desktop/Evgenii/DS/Tier 1 - 4/TB-18-XX TDB Agile Transformation/Resources/Resource forecasts 2019/June 2019/Voice and Emerging - TD_Posted_Transaction_Review - Nov 2018 thru May 2019.xlsx\n",
      "/Users/rmRM/Desktop/Evgenii/DS/Tier 1 - 4/TB-18-XX TDB Agile Transformation/Resources/Role Transformation/Background C4E/C4E Role Definition Version V1.pptx\n",
      "/Users/rmRM/Desktop/Evgenii/DS/Tier 1 - 4/TB-18-XX TDB Agile Transformation/Resources/Role Transformation/Background C4E/New Pod Team Structure 20170828 - Channels C4E - 20190413.pptx\n"
     ]
    },
    {
     "name": "stderr",
     "output_type": "stream",
     "text": [
      " 54%|█████▎    | 4315/8058 [1:39:25<42:41,  1.46it/s]  "
     ]
    },
    {
     "name": "stdout",
     "output_type": "stream",
     "text": [
      "/Users/rmRM/Desktop/Evgenii/DS/Tier 1 - 4/TB-19- 10 Refer a Friend/Governance and Control/TB-19-xx RED Refer a Friend 20190911.xlsx\n",
      "/Users/rmRM/Desktop/Evgenii/DS/Tier 1 - 4/TB-19- 10 Refer a Friend/Requirements/SRS - WIP - Not signed-off/AL_ReferAFriend+-+WIP.doc\n",
      "/Users/rmRM/Desktop/Evgenii/DS/Tier 1 - 4/TB-19- 10 Refer a Friend/Requirements/SRS - WIP - Not signed-off/AL_ReferAFriend+-+WIP.docx\n",
      "/Users/rmRM/Desktop/Evgenii/DS/Tier 1 - 4/TB-19- 10 Refer a Friend/Requirements/SRS - WIP - Not signed-off/AL_Terms+Conditions-WIP.doc\n",
      "/Users/rmRM/Desktop/Evgenii/DS/Tier 1 - 4/TB-19- 10 Refer a Friend/Requirements/SRS - WIP - Not signed-off/AL_Terms+Conditions-WIP.docx\n",
      "/Users/rmRM/Desktop/Evgenii/DS/Tier 1 - 4/TB-19-03 CCPA Implementation/Digital Tech Artifacts/SDPs/NGP 20.02 MT UI COL CCPA Runbookv1.xls\n"
     ]
    },
    {
     "name": "stderr",
     "output_type": "stream",
     "text": [
      " 55%|█████▌    | 4454/8058 [1:39:25<20:12,  2.97it/s]"
     ]
    },
    {
     "name": "stdout",
     "output_type": "stream",
     "text": [
      "/Users/rmRM/Desktop/Evgenii/DS/Tier 1 - 4/TB-19-03 CCPA Implementation/Digital Tech Artifacts/SDPs/NGP 20.02 MT UI COL CCPA Runbookv1.xlsx\n",
      "/Users/rmRM/Desktop/Evgenii/DS/Tier 1 - 4/TB-19-03 CCPA Implementation/Digital Tech Artifacts/SDPs/TD Bank NGP Project USDP 20.02 SDP_v0.3.doc\n",
      "/Users/rmRM/Desktop/Evgenii/DS/Tier 1 - 4/TB-19-03 CCPA Implementation/Digital Tech Artifacts/SDPs/TD Bank NGP Project USDP 20.02 SDP_v0.3.docx\n",
      "/Users/rmRM/Desktop/Evgenii/DS/Tier 1 - 4/TB-19-11 Preferred Savings Replacement/Agenda and Meeting Minutes - Sales AND Preferred Savings Replacement 30 Day Readiness - February 20.doc\n",
      "/Users/rmRM/Desktop/Evgenii/DS/Tier 1 - 4/TB-19-11 Preferred Savings Replacement/Agenda and Meeting Minutes - Sales AND Preferred Savings Replacement 30 Day Readiness - February 20.docx\n",
      "/Users/rmRM/Desktop/Evgenii/DS/Tier 1 - 4/TB-19-11 Preferred Savings Replacement/Meeting Minutes/Agenda and Meeting Minutes - Preferred Savings Replacement - December 10.doc\n",
      "/Users/rmRM/Desktop/Evgenii/DS/Tier 1 - 4/TB-19-11 Preferred Savings Replacement/Meeting Minutes/Agenda and Meeting Minutes - Preferred Savings Replacement - December 10.docx\n",
      "/Users/rmRM/Desktop/Evgenii/DS/Tier 1 - 4/TB-19-11 Preferred Savings Replacement/Meeting Minutes/Agenda and Meeting Minutes - Preferred Savings Replacement - December 3.doc\n",
      "/Users/rmRM/Desktop/Evgenii/DS/Tier 1 - 4/TB-19-11 Preferred Savings Replacement/Meeting Minutes/Agenda and Meeting Minutes - Preferred Savings Replacement - December 3.docx\n",
      "/Users/rmRM/Desktop/Evgenii/DS/Tier 1 - 4/TB-19-11 Preferred Savings Replacement/Meeting Minutes/Agenda and Meeting Minutes - Preferred Savings Replacement - February 18.doc\n",
      "/Users/rmRM/Desktop/Evgenii/DS/Tier 1 - 4/TB-19-11 Preferred Savings Replacement/Meeting Minutes/Agenda and Meeting Minutes - Preferred Savings Replacement - February 18.docx\n",
      "/Users/rmRM/Desktop/Evgenii/DS/Tier 1 - 4/TB-19-11 Preferred Savings Replacement/Meeting Minutes/Agenda and Meeting Minutes - Preferred Savings Replacement - January 28.doc\n"
     ]
    },
    {
     "name": "stderr",
     "output_type": "stream",
     "text": [
      " 58%|█████▊    | 4656/8058 [1:39:25<13:22,  4.24it/s]"
     ]
    },
    {
     "name": "stdout",
     "output_type": "stream",
     "text": [
      "/Users/rmRM/Desktop/Evgenii/DS/Tier 1 - 4/TB-19-11 Preferred Savings Replacement/Meeting Minutes/Agenda and Meeting Minutes - Preferred Savings Replacement - January 28.docx\n",
      "/Users/rmRM/Desktop/Evgenii/DS/Tier 1 - 4/TB-19-11 Preferred Savings Replacement/Meeting Minutes/Agenda and Meeting Minutes - Preferred Savings Replacement - January 7.doc\n",
      "/Users/rmRM/Desktop/Evgenii/DS/Tier 1 - 4/TB-19-11 Preferred Savings Replacement/Meeting Minutes/Agenda and Meeting Minutes - Preferred Savings Replacement - January 7.docx\n",
      "/Users/rmRM/Desktop/Evgenii/DS/Tier 1 - 4/TB-19-11 Preferred Savings Replacement/Meeting Minutes/Agenda and Meeting Minutes - Preferred Savings Replacement - Kickoff - October 3.doc\n",
      "/Users/rmRM/Desktop/Evgenii/DS/Tier 1 - 4/TB-19-11 Preferred Savings Replacement/Meeting Minutes/Agenda and Meeting Minutes - Preferred Savings Replacement - Kickoff - October 3.docx\n",
      "/Users/rmRM/Desktop/Evgenii/DS/Tier 1 - 4/TB-19-11 Preferred Savings Replacement/Meeting Minutes/Agenda and Meeting Minutes - Preferred Savings Replacement - November 20.doc\n",
      "/Users/rmRM/Desktop/Evgenii/DS/Tier 1 - 4/TB-19-11 Preferred Savings Replacement/Meeting Minutes/Agenda and Meeting Minutes - Preferred Savings Replacement - November 20.docx\n",
      "/Users/rmRM/Desktop/Evgenii/DS/Tier 1 - 4/TB-19-11 Preferred Savings Replacement/Meeting Minutes/Agenda and Meeting Minutes - Preferred Savings Replacement - November 5.doc\n",
      "/Users/rmRM/Desktop/Evgenii/DS/Tier 1 - 4/TB-19-11 Preferred Savings Replacement/Meeting Minutes/Agenda and Meeting Minutes - Preferred Savings Replacement - November 5.docx\n",
      "/Users/rmRM/Desktop/Evgenii/DS/Tier 1 - 4/TB-19-800 DgC US - Self Service (PSO) Agile Team - FY19/Budget and Resource Allocation/Self Service Pod Staffing Model 020415 Updates W Vacation Time.xlsx\n",
      "/Users/rmRM/Desktop/Evgenii/DS/Tier 1 - 4/TB-19-800 DgC US - Self Service (PSO) Agile Team - FY19/Budget and Resource Allocation/Self Service Pod Staffing Model 14Jan2019.xlsx\n"
     ]
    },
    {
     "name": "stderr",
     "output_type": "stream",
     "text": [
      " 59%|█████▉    | 4768/8058 [1:39:38<08:34,  6.40it/s]"
     ]
    },
    {
     "name": "stdout",
     "output_type": "stream",
     "text": [
      "/Users/rmRM/Desktop/Evgenii/DS/Tier 1 - 4/TB-19-801 DgC Online Improvements Agile Team F19/Monthly Financials/CTS/20190705Tech_OnlineImprovement_ResourcePlanv0.4.xlsx\n",
      "/Users/rmRM/Desktop/Evgenii/DS/Tier 1 - 4/TB-19-801 DgC Online Improvements Agile Team F19/Monthly Financials/July 2019/Posted Transactions/Online TD_Posted_Transaction_Review Aug 08.xlsx\n",
      "/Users/rmRM/Desktop/Evgenii/DS/Tier 1 - 4/TB-19-802A DgC Parity Cross Platforms I Agile Team - FY19/Deployment and Closure/SIP/NGP 19.12 MT UI COL Runbookv1.xls\n",
      "/Users/rmRM/Desktop/Evgenii/DS/Tier 1 - 4/TB-19-802A DgC Parity Cross Platforms I Agile Team - FY19/Deployment and Closure/SIP/NGP 19.12 MT UI COL Runbookv1.xlsx\n",
      "/Users/rmRM/Desktop/Evgenii/DS/Tier 1 - 4/TB-19-802A DgC Parity Cross Platforms I Agile Team - FY19/Deployment and Closure/SIP/TD Bank NGP Project USDP 19.12 SDP_v0.11.doc\n"
     ]
    },
    {
     "name": "stderr",
     "output_type": "stream",
     "text": [
      " 59%|█████▉    | 4776/8058 [1:39:39<06:30,  8.40it/s]"
     ]
    },
    {
     "name": "stdout",
     "output_type": "stream",
     "text": [
      "/Users/rmRM/Desktop/Evgenii/DS/Tier 1 - 4/TB-19-802A DgC Parity Cross Platforms I Agile Team - FY19/Deployment and Closure/SIP/TD Bank NGP Project USDP 19.12 SDP_v0.11.docx\n",
      "/Users/rmRM/Desktop/Evgenii/DS/Tier 1 - 4/TB-19-802A DgC Parity Cross Platforms I Agile Team - FY19/Deployment and Closure/SIP/TD Bank NGP Project_RS_USDP_19.12_SDP_SITPATPROD_v007.doc\n",
      "/Users/rmRM/Desktop/Evgenii/DS/Tier 1 - 4/TB-19-802A DgC Parity Cross Platforms I Agile Team - FY19/Deployment and Closure/SIP/TD Bank NGP Project_RS_USDP_19.12_SDP_SITPATPROD_v007.docx\n",
      "/Users/rmRM/Desktop/Evgenii/DS/Tier 1 - 4/TB-19-808 DgC US Sales Innovation Agile Team F19/Meetings_Communications/2019 US Sales Release Calendar.xls\n"
     ]
    },
    {
     "name": "stderr",
     "output_type": "stream",
     "text": [
      " 60%|██████    | 4856/8058 [1:39:40<03:24, 15.67it/s]"
     ]
    },
    {
     "name": "stdout",
     "output_type": "stream",
     "text": [
      "/Users/rmRM/Desktop/Evgenii/DS/Tier 1 - 4/TB-19-808 DgC US Sales Innovation Agile Team F19/Meetings_Communications/2019 US Sales Release Calendar.xlsx\n",
      "/Users/rmRM/Desktop/Evgenii/DS/Tier 1 - 4/TB-19-808 DgC US Sales Innovation Agile Team F19/Meetings_Communications/OAO Weekly Status 06-04-19.doc\n",
      "/Users/rmRM/Desktop/Evgenii/DS/Tier 1 - 4/TB-19-808 DgC US Sales Innovation Agile Team F19/Meetings_Communications/OAO Weekly Status 06-04-19.docx\n",
      "/Users/rmRM/Desktop/Evgenii/DS/Tier 1 - 4/TB-19-808 DgC US Sales Innovation Agile Team F19/Meetings_Communications/OAO Weekly Status 06-12-19.doc\n",
      "/Users/rmRM/Desktop/Evgenii/DS/Tier 1 - 4/TB-19-808 DgC US Sales Innovation Agile Team F19/Meetings_Communications/OAO Weekly Status 06-12-19.docx\n",
      "/Users/rmRM/Desktop/Evgenii/DS/Tier 1 - 4/TB-19-808 DgC US Sales Innovation Agile Team F19/Meetings_Communications/OAO Weekly Status 06-20-19 Final.doc\n",
      "/Users/rmRM/Desktop/Evgenii/DS/Tier 1 - 4/TB-19-808 DgC US Sales Innovation Agile Team F19/Meetings_Communications/OAO Weekly Status 06-20-19 Final.docx\n",
      "/Users/rmRM/Desktop/Evgenii/DS/Tier 1 - 4/TB-19-808 DgC US Sales Innovation Agile Team F19/Meetings_Communications/OAO Weekly Status 06-20-19.doc\n",
      "/Users/rmRM/Desktop/Evgenii/DS/Tier 1 - 4/TB-19-808 DgC US Sales Innovation Agile Team F19/Meetings_Communications/OAO Weekly Status 06-20-19.docx\n",
      "/Users/rmRM/Desktop/Evgenii/DS/Tier 1 - 4/TB-19-808 DgC US Sales Innovation Agile Team F19/Meetings_Communications/OAO Weekly Status 06-27-19 Final.doc\n",
      "/Users/rmRM/Desktop/Evgenii/DS/Tier 1 - 4/TB-19-808 DgC US Sales Innovation Agile Team F19/Meetings_Communications/OAO Weekly Status 06-27-19 Final.docx\n",
      "/Users/rmRM/Desktop/Evgenii/DS/Tier 1 - 4/TB-19-808 DgC US Sales Innovation Agile Team F19/Meetings_Communications/OAO Weekly Status 07-11-19 Final.doc\n",
      "/Users/rmRM/Desktop/Evgenii/DS/Tier 1 - 4/TB-19-808 DgC US Sales Innovation Agile Team F19/Meetings_Communications/OAO Weekly Status 07-11-19 Final.docx\n",
      "/Users/rmRM/Desktop/Evgenii/DS/Tier 1 - 4/TB-19-808 DgC US Sales Innovation Agile Team F19/Meetings_Communications/OAO Weekly Status 07-25-19 Final.doc\n",
      "/Users/rmRM/Desktop/Evgenii/DS/Tier 1 - 4/TB-19-808 DgC US Sales Innovation Agile Team F19/Meetings_Communications/OAO Weekly Status 07-25-19 Final.docx\n",
      "/Users/rmRM/Desktop/Evgenii/DS/Tier 1 - 4/TB-19-808 DgC US Sales Innovation Agile Team F19/Meetings_Communications/OAO Weekly Status 08-01-19 Final.doc\n",
      "/Users/rmRM/Desktop/Evgenii/DS/Tier 1 - 4/TB-19-808 DgC US Sales Innovation Agile Team F19/Meetings_Communications/OAO Weekly Status 08-01-19 Final.docx\n"
     ]
    },
    {
     "name": "stderr",
     "output_type": "stream",
     "text": [
      " 60%|██████    | 4867/8058 [1:39:40<02:35, 20.58it/s]"
     ]
    },
    {
     "name": "stdout",
     "output_type": "stream",
     "text": [
      "/Users/rmRM/Desktop/Evgenii/DS/Tier 1 - 4/TB-19-808 DgC US Sales Innovation Agile Team F19/Meetings_Communications/OAO Weekly Status 08-29-19 Final.doc\n",
      "/Users/rmRM/Desktop/Evgenii/DS/Tier 1 - 4/TB-19-808 DgC US Sales Innovation Agile Team F19/Meetings_Communications/OAO Weekly Status 08-29-19 Final.docx\n",
      "/Users/rmRM/Desktop/Evgenii/DS/Tier 1 - 4/TB-19-808 DgC US Sales Innovation Agile Team F19/Meetings_Communications/OAO Weekly Status 09-05-19 Final.doc\n",
      "/Users/rmRM/Desktop/Evgenii/DS/Tier 1 - 4/TB-19-808 DgC US Sales Innovation Agile Team F19/Meetings_Communications/OAO Weekly Status 09-05-19 Final.docx\n",
      "/Users/rmRM/Desktop/Evgenii/DS/Tier 1 - 4/TB-19-808 DgC US Sales Innovation Agile Team F19/Meetings_Communications/OAO Weekly Status 09-19-19 Final.doc\n",
      "/Users/rmRM/Desktop/Evgenii/DS/Tier 1 - 4/TB-19-808 DgC US Sales Innovation Agile Team F19/Meetings_Communications/OAO Weekly Status 09-19-19 Final.docx\n",
      "/Users/rmRM/Desktop/Evgenii/DS/Tier 1 - 4/TB-19-808 DgC US Sales Innovation Agile Team F19/Meetings_Communications/OAO Weekly Status 09-26-19 Final.doc\n",
      "/Users/rmRM/Desktop/Evgenii/DS/Tier 1 - 4/TB-19-808 DgC US Sales Innovation Agile Team F19/Meetings_Communications/OAO Weekly Status 09-26-19 Final.docx\n",
      "/Users/rmRM/Desktop/Evgenii/DS/Tier 1 - 4/TB-19-808 DgC US Sales Innovation Agile Team F19/Meetings_Communications/OAO Weekly Status 10-03-19.doc\n",
      "/Users/rmRM/Desktop/Evgenii/DS/Tier 1 - 4/TB-19-808 DgC US Sales Innovation Agile Team F19/Meetings_Communications/OAO Weekly Status 10-03-19.docx\n",
      "/Users/rmRM/Desktop/Evgenii/DS/Tier 1 - 4/TB-19-808 DgC US Sales Innovation Agile Team F19/Meetings_Communications/OAO Weekly Status 10-10-19.doc\n",
      "/Users/rmRM/Desktop/Evgenii/DS/Tier 1 - 4/TB-19-808 DgC US Sales Innovation Agile Team F19/Meetings_Communications/OAO Weekly Status 10-10-19.docx\n",
      "/Users/rmRM/Desktop/Evgenii/DS/Tier 1 - 4/TB-19-808 DgC US Sales Innovation Agile Team F19/Meetings_Communications/OAO Weekly Status 10-24-19.doc\n"
     ]
    },
    {
     "name": "stderr",
     "output_type": "stream",
     "text": [
      " 61%|██████    | 4886/8058 [1:39:40<01:42, 30.89it/s]"
     ]
    },
    {
     "name": "stdout",
     "output_type": "stream",
     "text": [
      "/Users/rmRM/Desktop/Evgenii/DS/Tier 1 - 4/TB-19-808 DgC US Sales Innovation Agile Team F19/Meetings_Communications/OAO Weekly Status 10-24-19.docx\n",
      "/Users/rmRM/Desktop/Evgenii/DS/Tier 1 - 4/TB-19-808 DgC US Sales Innovation Agile Team F19/Meetings_Communications/OAO Weekly Status 4-25-19.doc\n",
      "/Users/rmRM/Desktop/Evgenii/DS/Tier 1 - 4/TB-19-808 DgC US Sales Innovation Agile Team F19/Meetings_Communications/OAO Weekly Status 4-25-19.docx\n",
      "/Users/rmRM/Desktop/Evgenii/DS/Tier 1 - 4/TB-19-808 DgC US Sales Innovation Agile Team F19/Meetings_Communications/OAO Weekly Status 5-2-19.doc\n",
      "/Users/rmRM/Desktop/Evgenii/DS/Tier 1 - 4/TB-19-808 DgC US Sales Innovation Agile Team F19/Meetings_Communications/OAO Weekly Status 5-2-19.docx\n",
      "/Users/rmRM/Desktop/Evgenii/DS/Tier 1 - 4/TB-19-808 DgC US Sales Innovation Agile Team F19/Meetings_Communications/OAO Weekly Status 5-23-19.doc\n",
      "/Users/rmRM/Desktop/Evgenii/DS/Tier 1 - 4/TB-19-808 DgC US Sales Innovation Agile Team F19/Meetings_Communications/OAO Weekly Status 5-23-19.docx\n",
      "/Users/rmRM/Desktop/Evgenii/DS/Tier 1 - 4/TB-19-808 DgC US Sales Innovation Agile Team F19/Meetings_Communications/OAO Weekly Status 5-30-19.doc\n",
      "/Users/rmRM/Desktop/Evgenii/DS/Tier 1 - 4/TB-19-808 DgC US Sales Innovation Agile Team F19/Meetings_Communications/OAO Weekly Status 5-30-19.docx\n",
      "/Users/rmRM/Desktop/Evgenii/DS/Tier 1 - 4/TB-19-808 DgC US Sales Innovation Agile Team F19/Meetings_Communications/OAO Weekly Status 5-9-19.doc\n",
      "/Users/rmRM/Desktop/Evgenii/DS/Tier 1 - 4/TB-19-808 DgC US Sales Innovation Agile Team F19/Meetings_Communications/OAO Weekly Status 5-9-19.docx\n",
      "/Users/rmRM/Desktop/Evgenii/DS/Tier 1 - 4/TB-19-808 DgC US Sales Innovation Agile Team F19/Meetings_Communications/OAO-Secured Card Status Mtg.doc\n",
      "/Users/rmRM/Desktop/Evgenii/DS/Tier 1 - 4/TB-19-808 DgC US Sales Innovation Agile Team F19/Meetings_Communications/OAO-Secured Card Status Mtg.docx\n",
      "/Users/rmRM/Desktop/Evgenii/DS/Tier 1 - 4/TB-19-808 DgC US Sales Innovation Agile Team F19/Meetings_Communications/Sales Sept SC-CK.pptx\n",
      "/Users/rmRM/Desktop/Evgenii/DS/Tier 1 - 4/TB-19-808 DgC US Sales Innovation Agile Team F19/Meetings_Communications/Sales Status 08-30-19.pptx\n",
      "/Users/rmRM/Desktop/Evgenii/DS/Tier 1 - 4/TB-19-808 DgC US Sales Innovation Agile Team F19/Meetings_Communications/Sales Status 09-13-19.pptx\n",
      "/Users/rmRM/Desktop/Evgenii/DS/Tier 1 - 4/TB-19-808 DgC US Sales Innovation Agile Team F19/Meetings_Communications/Sales Status 09-14-19.pptx\n",
      "/Users/rmRM/Desktop/Evgenii/DS/Tier 1 - 4/TB-19-808 DgC US Sales Innovation Agile Team F19/Meetings_Communications/Sales Status 09-27-19.pptx\n",
      "/Users/rmRM/Desktop/Evgenii/DS/Tier 1 - 4/TB-19-808 DgC US Sales Innovation Agile Team F19/Meetings_Communications/TDB Innovation Steering Comm_Oct_2019_DraftV1.pptx\n"
     ]
    },
    {
     "name": "stderr",
     "output_type": "stream",
     "text": [
      " 61%|██████▏   | 4942/8058 [1:39:41<01:15, 41.55it/s]"
     ]
    },
    {
     "name": "stdout",
     "output_type": "stream",
     "text": [
      "/Users/rmRM/Desktop/Evgenii/DS/Tier 1 - 4/TB-19-808 DgC US Sales Innovation Agile Team F19/Meetings_Communications/TDB Innovation Steering Comm_Sept_2019_Draft CK.pptx\n"
     ]
    },
    {
     "name": "stderr",
     "output_type": "stream",
     "text": [
      " 63%|██████▎   | 5111/8058 [1:39:41<00:57, 51.59it/s]"
     ]
    },
    {
     "name": "stdout",
     "output_type": "stream",
     "text": [
      "/Users/rmRM/Desktop/Evgenii/DS/Tier 1 - 4/TB-19-808 DgC US Sales Innovation Agile Team F19/Meetings_Communications/TDB Innovation Steering Comm_Sept_2019_DraftV2.pptx\n",
      "/Users/rmRM/Desktop/Evgenii/DS/Tier 1 - 4/TB-20-08 DgC Secured Card/Agenda and Meeting Minutes - Secured Card - February 27 2020.doc\n",
      "/Users/rmRM/Desktop/Evgenii/DS/Tier 1 - 4/TB-20-08 DgC Secured Card/Agenda and Meeting Minutes - Secured Card - February 27 2020.docx\n",
      "/Users/rmRM/Desktop/Evgenii/DS/Tier 1 - 4/TB-20-808 DGC US Sales Performance F20/Agenda and Meeting Minutes - Sales AND Preferred Savings Replacement 30 Day Readiness - February 20.doc\n",
      "/Users/rmRM/Desktop/Evgenii/DS/Tier 1 - 4/TB-20-808 DGC US Sales Performance F20/Agenda and Meeting Minutes - Sales AND Preferred Savings Replacement 30 Day Readiness - February 20.docx\n",
      "/Users/rmRM/Desktop/Evgenii/DS/Tier 1 - 4/TD NGP - Project 1 Audit/1.0 Executive Steering Materials/NGP Executive Steering Meeting Minutes - Dec 14 v.01.doc\n",
      "/Users/rmRM/Desktop/Evgenii/DS/Tier 1 - 4/TD NGP - Project 1 Audit/1.0 Executive Steering Materials/NGP Executive Steering Meeting Minutes - Dec 14 v.01.docx\n",
      "/Users/rmRM/Desktop/Evgenii/DS/Tier 1 - 4/TD NGP - Project 1 Audit/1.0 Executive Steering Materials/NGP Executive Steering Meeting Minutes - Nov 19 v.01.doc\n",
      "/Users/rmRM/Desktop/Evgenii/DS/Tier 1 - 4/TD NGP - Project 1 Audit/1.0 Executive Steering Materials/NGP Executive Steering Meeting Minutes - Nov 19 v.01.docx\n",
      "/Users/rmRM/Desktop/Evgenii/DS/Tier 1 - 4/TD NGP - Project 1 Audit/1.0 Executive Steering Materials/NGP Executive Steering Meeting Minutes - Oct 16 v.01.doc\n",
      "/Users/rmRM/Desktop/Evgenii/DS/Tier 1 - 4/TD NGP - Project 1 Audit/1.0 Executive Steering Materials/NGP Executive Steering Meeting Minutes - Oct 16 v.01.docx\n",
      "/Users/rmRM/Desktop/Evgenii/DS/Tier 1 - 4/TD NGP - Project 1 Audit/1.0 Executive Steering Materials/NGP_Executive Steering Committee Minutes 1_22_2016 v1.doc\n",
      "/Users/rmRM/Desktop/Evgenii/DS/Tier 1 - 4/TD NGP - Project 1 Audit/1.0 Executive Steering Materials/NGP_Executive Steering Committee Minutes 1_22_2016 v1.docx\n",
      "/Users/rmRM/Desktop/Evgenii/DS/Tier 1 - 4/TD NGP - Project 1 Audit/10.0 Test Strategy/NGP_Overall_QA_Strategy_v1 2.doc\n",
      "/Users/rmRM/Desktop/Evgenii/DS/Tier 1 - 4/TD NGP - Project 1 Audit/10.0 Test Strategy/NGP_Overall_QA_Strategy_v1 2.docx\n",
      "/Users/rmRM/Desktop/Evgenii/DS/Tier 1 - 4/TD NGP - Project 1 Audit/10.0 Test Strategy/NGP_Project_1_QA_Test_Strategy_v0. 9.doc\n"
     ]
    },
    {
     "name": "stderr",
     "output_type": "stream",
     "text": [
      " 64%|██████▍   | 5161/8058 [1:39:41<00:42, 67.46it/s]"
     ]
    },
    {
     "name": "stdout",
     "output_type": "stream",
     "text": [
      "/Users/rmRM/Desktop/Evgenii/DS/Tier 1 - 4/TD NGP - Project 1 Audit/10.0 Test Strategy/NGP_Project_1_QA_Test_Strategy_v0. 9.docx\n",
      "/Users/rmRM/Desktop/Evgenii/DS/Tier 1 - 4/TD NGP - Project 1 Audit/13.0 Vendor Details/NGP Audit_030716.ppt\n",
      "/Users/rmRM/Desktop/Evgenii/DS/Tier 1 - 4/TD NGP - Project 1 Audit/13.0 Vendor Details/NGP Audit_030716.pptx\n",
      "/Users/rmRM/Desktop/Evgenii/DS/Tier 1 - 4/TD NGP - Project 1 Audit/15.0 Technology Documents/3.0 Control Documentation/TDOUS - Midtier - Control Docs/TDOUS Control Design - 20160211 - Approvals.docx\n",
      "/Users/rmRM/Desktop/Evgenii/DS/Tier 1 - 4/TD NGP - Project 1 Audit/19.0 Communication and Training/Stakeholder Engagement/NGP_Bi-Monthly P1 Readiness Minutes 2_1_2016.doc\n",
      "/Users/rmRM/Desktop/Evgenii/DS/Tier 1 - 4/TD NGP - Project 1 Audit/19.0 Communication and Training/Stakeholder Engagement/NGP_Bi-Monthly P1 Readiness Minutes 2_1_2016.docx\n",
      "/Users/rmRM/Desktop/Evgenii/DS/Tier 1 - 4/TD NGP - Project 1 Audit/19.0 Communication and Training/Stakeholder Engagement/NGP_Mobile App Readiness Stakeholder Minutes 2_18_2016.doc\n",
      "/Users/rmRM/Desktop/Evgenii/DS/Tier 1 - 4/TD NGP - Project 1 Audit/19.0 Communication and Training/Stakeholder Engagement/NGP_Mobile App Readiness Stakeholder Minutes 2_18_2016.docx\n",
      "/Users/rmRM/Desktop/Evgenii/DS/Tier 1 - 4/TD NGP - Project 1 Audit/21.0 Testing Validation/CTS_QA_Digital_Closure_SIT_Summary_Report_V1.0.doc\n"
     ]
    },
    {
     "name": "stderr",
     "output_type": "stream",
     "text": [
      " 66%|██████▌   | 5306/8058 [1:39:42<00:22, 120.50it/s]"
     ]
    },
    {
     "name": "stdout",
     "output_type": "stream",
     "text": [
      "/Users/rmRM/Desktop/Evgenii/DS/Tier 1 - 4/TD NGP - Project 1 Audit/21.0 Testing Validation/CTS_QA_Digital_Closure_SIT_Summary_Report_V1.0.docx\n",
      "/Users/rmRM/Desktop/Evgenii/DS/Tier 1 - 4/TD NGP - Project 1 Audit/9.0 Deployment Strategy/Deployment Strategy - NGP - Project 1 _v0.1.doc\n",
      "/Users/rmRM/Desktop/Evgenii/DS/Tier 1 - 4/TD NGP - Project 1 Audit/9.0 Deployment Strategy/Deployment Strategy - NGP - Project 1 _v0.1.docx\n",
      "/Users/rmRM/Desktop/Evgenii/DS/Tier 1 - 4/TD NGP - Project RS Audit/Testing8/TMX Test Cases.xls\n",
      "/Users/rmRM/Desktop/Evgenii/DS/Tier 1 - 4/TD NGP - Project RS Audit/Testing8/TMX Test Cases.xlsx\n",
      "/Users/rmRM/Desktop/Evgenii/DS/Tier 1 - 4/TD NGP - Project RS Audit/Testing9/EUC_20 Biometric Login.xls\n",
      "/Users/rmRM/Desktop/Evgenii/DS/Tier 1 - 4/TD NGP - Project RS Audit/Testing9/EUC_20 Biometric Login.xlsx\n",
      "/Users/rmRM/Desktop/Evgenii/DS/Tier 1 - 4/TD NGP Delivery Assurance/1.0 Program Scope and Requirements/Project 1/PTS USNGP P1 - 2015-12-07 v1.3.doc\n",
      "/Users/rmRM/Desktop/Evgenii/DS/Tier 1 - 4/TD NGP Delivery Assurance/1.0 Program Scope and Requirements/Project 1/PTS USNGP P1 - 2015-12-07 v1.3.docx\n",
      "/Users/rmRM/Desktop/Evgenii/DS/Tier 1 - 4/TD NGP Delivery Assurance/1.0 Program Scope and Requirements/Project 3/NGP - Project 3 Tablet App Scope - v 1 018016.ppt\n",
      "/Users/rmRM/Desktop/Evgenii/DS/Tier 1 - 4/TD NGP Delivery Assurance/1.0 Program Scope and Requirements/Project 3/NGP - Project 3 Tablet App Scope - v 1 018016.pptx\n",
      "/Users/rmRM/Desktop/Evgenii/DS/Tier 1 - 4/TD NGP Delivery Assurance/1.0 Program Scope and Requirements/Project 3/NGP - Scope Definition - Project 3 - v.12_110315.ppt\n",
      "/Users/rmRM/Desktop/Evgenii/DS/Tier 1 - 4/TD NGP Delivery Assurance/1.0 Program Scope and Requirements/Project 3/NGP - Scope Definition - Project 3 - v.12_110315.pptx\n",
      "/Users/rmRM/Desktop/Evgenii/DS/Tier 1 - 4/TD NGP Delivery Assurance/1.0 Program Scope and Requirements/Project 3/NGP - Scope Definition - Project 3-4 Bill Pay Endstate - v.1_111315.ppt\n",
      "/Users/rmRM/Desktop/Evgenii/DS/Tier 1 - 4/TD NGP Delivery Assurance/1.0 Program Scope and Requirements/Project 3/NGP - Scope Definition - Project 3-4 Bill Pay Endstate - v.1_111315.pptx\n",
      "/Users/rmRM/Desktop/Evgenii/DS/Tier 1 - 4/TD NGP Delivery Assurance/1.0 Program Scope and Requirements/Project 4/2016_01_28_NGP - Scope Definition RM Admin Tool- Project 4 - v  1 0 Customer Respon   .ppt\n",
      "/Users/rmRM/Desktop/Evgenii/DS/Tier 1 - 4/TD NGP Delivery Assurance/1.0 Program Scope and Requirements/Project 4/2016_01_28_NGP - Scope Definition RM Admin Tool- Project 4 - v  1 0 Customer Respon   .pptx\n",
      "/Users/rmRM/Desktop/Evgenii/DS/Tier 1 - 4/TD NGP Delivery Assurance/1.0 Program Scope and Requirements/Project 4/NGP - Scope Definition - Project 4 Alerts  v 2_121815.ppt\n",
      "/Users/rmRM/Desktop/Evgenii/DS/Tier 1 - 4/TD NGP Delivery Assurance/1.0 Program Scope and Requirements/Project 4/NGP - Scope Definition - Project 4 Alerts  v 2_121815.pptx\n",
      "/Users/rmRM/Desktop/Evgenii/DS/Tier 1 - 4/TD NGP Delivery Assurance/1.0 Program Scope and Requirements/Project 4/NGP - Scope Definition - Project 4 Bill Pay Endstate - v 2_121815.ppt\n"
     ]
    },
    {
     "name": "stderr",
     "output_type": "stream",
     "text": [
      " 66%|██████▋   | 5358/8058 [1:39:44<00:56, 48.06it/s] "
     ]
    },
    {
     "name": "stdout",
     "output_type": "stream",
     "text": [
      "/Users/rmRM/Desktop/Evgenii/DS/Tier 1 - 4/TD NGP Delivery Assurance/1.0 Program Scope and Requirements/Project 4/NGP - Scope Definition - Project 4 Bill Pay Endstate - v 2_121815.pptx\n",
      "/Users/rmRM/Desktop/Evgenii/DS/Tier 1 - 4/TD NGP Delivery Assurance/2.0 Executive Steering Materials/NGP Executive Steering Meeting Minutes - Dec 14 v.01.doc\n",
      "/Users/rmRM/Desktop/Evgenii/DS/Tier 1 - 4/TD NGP Delivery Assurance/2.0 Executive Steering Materials/NGP Executive Steering Meeting Minutes - Dec 14 v.01.docx\n",
      "/Users/rmRM/Desktop/Evgenii/DS/Tier 1 - 4/TD NGP Delivery Assurance/2.0 Executive Steering Materials/NGP Executive Steering Meeting Minutes - Nov 19 v.01.doc\n",
      "/Users/rmRM/Desktop/Evgenii/DS/Tier 1 - 4/TD NGP Delivery Assurance/2.0 Executive Steering Materials/NGP Executive Steering Meeting Minutes - Nov 19 v.01.docx\n",
      "/Users/rmRM/Desktop/Evgenii/DS/Tier 1 - 4/TD NGP Delivery Assurance/2.0 Executive Steering Materials/NGP Executive Steering Meeting Minutes - Oct 16 v.01.doc\n",
      "/Users/rmRM/Desktop/Evgenii/DS/Tier 1 - 4/TD NGP Delivery Assurance/2.0 Executive Steering Materials/NGP Executive Steering Meeting Minutes - Oct 16 v.01.docx\n",
      "/Users/rmRM/Desktop/Evgenii/DS/Tier 1 - 4/TD NGP Delivery Assurance/2.0 Executive Steering Materials/NGP_Executive Steering Committee Minutes 1_22_2016 v1.doc\n",
      "/Users/rmRM/Desktop/Evgenii/DS/Tier 1 - 4/TD NGP Delivery Assurance/2.0 Executive Steering Materials/NGP_Executive Steering Committee Minutes 1_22_2016 v1.docx\n",
      "/Users/rmRM/Desktop/Evgenii/DS/Tier 1 - 4/TD NGP Delivery Assurance/5.0 Governance/Program Budget Sheet/1.0 Final and Approvals/NGP Program - Budget sheet calculator 05Oct2015 - BD3.xls\n",
      "/Users/rmRM/Desktop/Evgenii/DS/Tier 1 - 4/TD NGP Delivery Assurance/5.0 Governance/Program Budget Sheet/1.0 Final and Approvals/NGP Program - Budget sheet calculator 05Oct2015 - BD3.xlsx\n",
      "/Users/rmRM/Desktop/Evgenii/DS/Tier 1 - 4/TD NGP Delivery Assurance/5.0 Governance/Program Budget Sheet/2.0 WIP/Copy of NGP Planning TB-14-19-2  Budget Sheet 07Apr2015.xls\n"
     ]
    },
    {
     "name": "stderr",
     "output_type": "stream",
     "text": [
      " 67%|██████▋   | 5395/8058 [1:39:47<01:31, 29.00it/s]"
     ]
    },
    {
     "name": "stdout",
     "output_type": "stream",
     "text": [
      "/Users/rmRM/Desktop/Evgenii/DS/Tier 1 - 4/TD NGP Delivery Assurance/5.0 Governance/Program Budget Sheet/2.0 WIP/Copy of NGP Planning TB-14-19-2  Budget Sheet 07Apr2015.xlsx\n",
      "/Users/rmRM/Desktop/Evgenii/DS/Tier 1 - 4/TD NGP Delivery Assurance/5.0 Governance/Program Budget Sheet/2.0 WIP/MIR Meeting Minutes Dec 18_v0 2.doc\n",
      "/Users/rmRM/Desktop/Evgenii/DS/Tier 1 - 4/TD NGP Delivery Assurance/5.0 Governance/Program Budget Sheet/2.0 WIP/MIR Meeting Minutes Dec 18_v0 2.docx\n",
      "/Users/rmRM/Desktop/Evgenii/DS/Tier 1 - 4/TD NGP Delivery Assurance/5.0 Governance/Program Budget Sheet/2.0 WIP/NGP Planning TB-14-19-2  Budget Sheet 03Jun2015 BD3.xls\n",
      "/Users/rmRM/Desktop/Evgenii/DS/Tier 1 - 4/TD NGP Delivery Assurance/5.0 Governance/Program Budget Sheet/2.0 WIP/NGP Planning TB-14-19-2  Budget Sheet 03Jun2015 BD3.xlsx\n",
      "/Users/rmRM/Desktop/Evgenii/DS/Tier 1 - 4/TD NGP Delivery Assurance/5.0 Governance/Program Budget Sheet/2.0 WIP/NGP Planning TB-14-19-2  Budget Sheet 05May2015 BD10.xls\n",
      "/Users/rmRM/Desktop/Evgenii/DS/Tier 1 - 4/TD NGP Delivery Assurance/5.0 Governance/Program Budget Sheet/2.0 WIP/NGP Planning TB-14-19-2  Budget Sheet 05May2015 BD10.xlsx\n",
      "/Users/rmRM/Desktop/Evgenii/DS/Tier 1 - 4/TD NGP Delivery Assurance/5.0 Governance/Program Budget Sheet/2.0 WIP/NGP Planning TB-14-19-2  Budget Sheet 05May2015 BD3.xls\n",
      "/Users/rmRM/Desktop/Evgenii/DS/Tier 1 - 4/TD NGP Delivery Assurance/5.0 Governance/Program Budget Sheet/2.0 WIP/NGP Planning TB-14-19-2  Budget Sheet 05May2015 BD3.xlsx\n",
      "/Users/rmRM/Desktop/Evgenii/DS/Tier 1 - 4/TD NGP Delivery Assurance/5.0 Governance/Program Budget Sheet/2.0 WIP/NGP Planning TB-14-19-2  Budget Sheet 07Apr2015.xls\n",
      "/Users/rmRM/Desktop/Evgenii/DS/Tier 1 - 4/TD NGP Delivery Assurance/5.0 Governance/Program Budget Sheet/2.0 WIP/NGP Planning TB-14-19-2  Budget Sheet 07Apr2015.xlsx\n",
      "/Users/rmRM/Desktop/Evgenii/DS/Tier 1 - 4/TD NGP Delivery Assurance/5.0 Governance/Program Budget Sheet/2.0 WIP/TB-14-19 US NGP Online Program_Initation Funding - 22Jul2014 v4.pptx\n",
      "/Users/rmRM/Desktop/Evgenii/DS/Tier 1 - 4/TD NGP Delivery Assurance/5.0 Governance/Program Budget Sheet/2.0 WIP/TB-14-19-2 OLC NGP US Online Budget Sheet 03Apr2014.xls\n",
      "/Users/rmRM/Desktop/Evgenii/DS/Tier 1 - 4/TD NGP Delivery Assurance/5.0 Governance/Program Budget Sheet/2.0 WIP/TB-14-19-2 OLC NGP US Online Budget Sheet 03Apr2014.xlsx\n",
      "/Users/rmRM/Desktop/Evgenii/DS/Tier 1 - 4/TD NGP Delivery Assurance/5.0 Governance/Program Budget Sheet/2.0 WIP/TB-14-19-2 OLC NGP US Online Budget Sheet 03Dec2014 - BD3.xls\n",
      "/Users/rmRM/Desktop/Evgenii/DS/Tier 1 - 4/TD NGP Delivery Assurance/5.0 Governance/Program Budget Sheet/2.0 WIP/TB-14-19-2 OLC NGP US Online Budget Sheet 03Dec2014 - BD3.xlsx\n",
      "/Users/rmRM/Desktop/Evgenii/DS/Tier 1 - 4/TD NGP Delivery Assurance/5.0 Governance/Program Budget Sheet/2.0 WIP/TB-14-19-2 OLC NGP US Online Budget Sheet 03Mar2014.xls\n",
      "/Users/rmRM/Desktop/Evgenii/DS/Tier 1 - 4/TD NGP Delivery Assurance/5.0 Governance/Program Budget Sheet/2.0 WIP/TB-14-19-2 OLC NGP US Online Budget Sheet 03Mar2014.xlsx\n",
      "/Users/rmRM/Desktop/Evgenii/DS/Tier 1 - 4/TD NGP Delivery Assurance/5.0 Governance/Program Budget Sheet/2.0 WIP/TB-14-19-2 OLC NGP US Online Budget Sheet 03Oct2014 final B3.xls\n",
      "/Users/rmRM/Desktop/Evgenii/DS/Tier 1 - 4/TD NGP Delivery Assurance/5.0 Governance/Program Budget Sheet/2.0 WIP/TB-14-19-2 OLC NGP US Online Budget Sheet 03Oct2014 final B3.xlsx\n",
      "/Users/rmRM/Desktop/Evgenii/DS/Tier 1 - 4/TD NGP Delivery Assurance/5.0 Governance/Program Budget Sheet/2.0 WIP/TB-14-19-2 OLC NGP US Online Budget Sheet 04Feb2015 BD3.xls\n",
      "/Users/rmRM/Desktop/Evgenii/DS/Tier 1 - 4/TD NGP Delivery Assurance/5.0 Governance/Program Budget Sheet/2.0 WIP/TB-14-19-2 OLC NGP US Online Budget Sheet 04Feb2015 BD3.xlsx\n",
      "/Users/rmRM/Desktop/Evgenii/DS/Tier 1 - 4/TD NGP Delivery Assurance/5.0 Governance/Program Budget Sheet/2.0 WIP/TB-14-19-2 OLC NGP US Online Budget Sheet 04Jun2014.xls\n",
      "/Users/rmRM/Desktop/Evgenii/DS/Tier 1 - 4/TD NGP Delivery Assurance/5.0 Governance/Program Budget Sheet/2.0 WIP/TB-14-19-2 OLC NGP US Online Budget Sheet 04Jun2014.xlsx\n",
      "/Users/rmRM/Desktop/Evgenii/DS/Tier 1 - 4/TD NGP Delivery Assurance/5.0 Governance/Program Budget Sheet/2.0 WIP/TB-14-19-2 OLC NGP US Online Budget Sheet 04Mar2015 BD3 v2.xls\n",
      "/Users/rmRM/Desktop/Evgenii/DS/Tier 1 - 4/TD NGP Delivery Assurance/5.0 Governance/Program Budget Sheet/2.0 WIP/TB-14-19-2 OLC NGP US Online Budget Sheet 04Mar2015 BD3 v2.xlsx\n",
      "/Users/rmRM/Desktop/Evgenii/DS/Tier 1 - 4/TD NGP Delivery Assurance/5.0 Governance/Program Budget Sheet/2.0 WIP/TB-14-19-2 OLC NGP US Online Budget Sheet 05May2014 v2.xls\n"
     ]
    },
    {
     "name": "stderr",
     "output_type": "stream",
     "text": [
      " 67%|██████▋   | 5422/8058 [1:39:55<05:10,  8.48it/s]"
     ]
    },
    {
     "name": "stdout",
     "output_type": "stream",
     "text": [
      "/Users/rmRM/Desktop/Evgenii/DS/Tier 1 - 4/TD NGP Delivery Assurance/5.0 Governance/Program Budget Sheet/2.0 WIP/TB-14-19-2 OLC NGP US Online Budget Sheet 05May2014 v2.xlsx\n",
      "/Users/rmRM/Desktop/Evgenii/DS/Tier 1 - 4/TD NGP Delivery Assurance/5.0 Governance/Program Budget Sheet/2.0 WIP/TB-14-19-2 OLC NGP US Online Budget Sheet 05Nov2014 BD3.xls\n",
      "/Users/rmRM/Desktop/Evgenii/DS/Tier 1 - 4/TD NGP Delivery Assurance/5.0 Governance/Program Budget Sheet/2.0 WIP/TB-14-19-2 OLC NGP US Online Budget Sheet 05Nov2014 BD3.xlsx\n",
      "/Users/rmRM/Desktop/Evgenii/DS/Tier 1 - 4/TD NGP Delivery Assurance/5.0 Governance/Program Budget Sheet/2.0 WIP/TB-14-19-2 OLC NGP US Online Budget Sheet 06Aug2014.xls\n",
      "/Users/rmRM/Desktop/Evgenii/DS/Tier 1 - 4/TD NGP Delivery Assurance/5.0 Governance/Program Budget Sheet/2.0 WIP/TB-14-19-2 OLC NGP US Online Budget Sheet 06Aug2014.xlsx\n",
      "/Users/rmRM/Desktop/Evgenii/DS/Tier 1 - 4/TD NGP Delivery Assurance/5.0 Governance/Program Budget Sheet/2.0 WIP/TB-14-19-2 OLC NGP US Online Budget Sheet 06Feb2015 BD5 v3.xls\n",
      "/Users/rmRM/Desktop/Evgenii/DS/Tier 1 - 4/TD NGP Delivery Assurance/5.0 Governance/Program Budget Sheet/2.0 WIP/TB-14-19-2 OLC NGP US Online Budget Sheet 06Feb2015 BD5 v3.xlsx\n",
      "/Users/rmRM/Desktop/Evgenii/DS/Tier 1 - 4/TD NGP Delivery Assurance/5.0 Governance/Program Budget Sheet/2.0 WIP/TB-14-19-2 OLC NGP US Online Budget Sheet 07Oct2014 BD5.xls\n",
      "/Users/rmRM/Desktop/Evgenii/DS/Tier 1 - 4/TD NGP Delivery Assurance/5.0 Governance/Program Budget Sheet/2.0 WIP/TB-14-19-2 OLC NGP US Online Budget Sheet 07Oct2014 BD5.xlsx\n",
      "/Users/rmRM/Desktop/Evgenii/DS/Tier 1 - 4/TD NGP Delivery Assurance/5.0 Governance/Program Budget Sheet/2.0 WIP/TB-14-19-2 OLC NGP US Online Budget Sheet 7Jul2014.xls\n",
      "/Users/rmRM/Desktop/Evgenii/DS/Tier 1 - 4/TD NGP Delivery Assurance/5.0 Governance/Program Budget Sheet/2.0 WIP/TB-14-19-2 OLC NGP US Online Budget Sheet 7Jul2014.xlsx\n",
      "/Users/rmRM/Desktop/Evgenii/DS/Tier 1 - 4/TD NGP Delivery Assurance/5.0 Governance/Program Budget Sheet/2.0 WIP/TB-14-19-2 OLC NGP US Online Budget Sheet 9Sept2014 v2.xls\n",
      "/Users/rmRM/Desktop/Evgenii/DS/Tier 1 - 4/TD NGP Delivery Assurance/5.0 Governance/Program Budget Sheet/2.0 WIP/TB-14-19-2 OLC NGP US Online Budget Sheet 9Sept2014 v2.xlsx\n",
      "/Users/rmRM/Desktop/Evgenii/DS/Tier 1 - 4/TD NGP Delivery Assurance/5.0 Governance/Program Budget Sheet/2.0 WIP/Tie out to SCOPE NGP Program - Budget sheet calculator 23Sept2015 - v1 - SCOPE.xls\n"
     ]
    },
    {
     "name": "stderr",
     "output_type": "stream",
     "text": [
      " 68%|██████▊   | 5441/8058 [1:40:01<07:23,  5.90it/s]"
     ]
    },
    {
     "name": "stdout",
     "output_type": "stream",
     "text": [
      "/Users/rmRM/Desktop/Evgenii/DS/Tier 1 - 4/TD NGP Delivery Assurance/5.0 Governance/Program Budget Sheet/2.0 WIP/Tie out to SCOPE NGP Program - Budget sheet calculator 23Sept2015 - v1 - SCOPE.xlsx\n",
      "/Users/rmRM/Desktop/Evgenii/DS/Tier 1 - 4/TD NGP Delivery Assurance/5.0 Governance/Program Budget Sheet/2.0 WIP/US NGP Online Program Initialtion Funding 6May2014 v2.pptx\n",
      "/Users/rmRM/Desktop/Evgenii/DS/Tier 1 - 4/TD NGP Delivery Assurance/5.0 Governance/RAID Logs/Archive/ARCHIVE - NGP PROGRAM Risk Action Issue Decision_(RAID)_Log.xlsx\n",
      "/Users/rmRM/Desktop/Evgenii/DS/Tier 1 - 4/TD NGP Delivery Assurance/5.0 Governance/RAID Logs/Archive/RIB_SBIB_Upgrade_DCTS_IAD_Log.xls\n",
      "/Users/rmRM/Desktop/Evgenii/DS/Tier 1 - 4/TD NGP Delivery Assurance/5.0 Governance/RAID Logs/Archive/RIB_SBIB_Upgrade_DCTS_IAD_Log.xlsx\n",
      "/Users/rmRM/Desktop/Evgenii/DS/Tier 1 - 4/TD NGP Delivery Assurance/5.0 Governance/Readiness/NGP StakeholderImpactAssessment.xlsx\n",
      "/Users/rmRM/Desktop/Evgenii/DS/Tier 1 - 4/TD NGP Delivery Assurance/5.0 Governance/Readiness/P1 Pilot/NGP Project 1_Pilot Plan_1_29_2016v06.docx\n",
      "/Users/rmRM/Desktop/Evgenii/DS/Tier 1 - 4/TD NGP Delivery Assurance/5.0 Governance/Readiness/P1 Pilot/NGP_P1_Pilot_45D_ReadinessVFinal.pptx\n",
      "/Users/rmRM/Desktop/Evgenii/DS/Tier 1 - 4/TD NGP Delivery Assurance/5.0 Governance/Vendor_Consultant Engagement Artifacts/Fiserv/NGP_SOW_version0 1_Draft_050614_TDTrack Changes_TAL v1.doc\n",
      "/Users/rmRM/Desktop/Evgenii/DS/Tier 1 - 4/TD NGP Delivery Assurance/5.0 Governance/Vendor_Consultant Engagement Artifacts/Fiserv/NGP_SOW_version0 1_Draft_050614_TDTrack Changes_TAL v1.docx\n",
      "/Users/rmRM/Desktop/Evgenii/DS/Tier 1 - 4/TD NGP Delivery Assurance/5.0 Governance/Vendor_Consultant Engagement Artifacts/Fiserv/Vendor_Engagement_Form_(VEF) - NGP Fiserv SOW v1.xls\n"
     ]
    },
    {
     "name": "stderr",
     "output_type": "stream",
     "text": [
      " 68%|██████▊   | 5481/8058 [1:40:02<04:24,  9.76it/s]"
     ]
    },
    {
     "name": "stdout",
     "output_type": "stream",
     "text": [
      "/Users/rmRM/Desktop/Evgenii/DS/Tier 1 - 4/TD NGP Delivery Assurance/5.0 Governance/Vendor_Consultant Engagement Artifacts/Fiserv/Vendor_Engagement_Form_(VEF) - NGP Fiserv SOW v1.xlsx\n",
      "/Users/rmRM/Desktop/Evgenii/DS/Tier 1 - 4/TD NGP Delivery Assurance/7.0 Detailed Requirements/P1/CRD_Account Transactions Review/Account Details Data Mapping Sheet.xlsx\n",
      "/Users/rmRM/Desktop/Evgenii/DS/Tier 1 - 4/TD NGP Delivery Assurance/7.0 Detailed Requirements/P1/CRD_Account Transactions Review/Account History Data Mapping Sheet.xlsx\n",
      "/Users/rmRM/Desktop/Evgenii/DS/Tier 1 - 4/TD NGP Delivery Assurance/7.0 Detailed Requirements/P1/CRD_Account Transactions Review/Account Summary Data Mapping Sheet.xlsx\n",
      "/Users/rmRM/Desktop/Evgenii/DS/Tier 1 - 4/TD NGP Delivery Assurance/7.0 Detailed Requirements/P1/CRD_Account Transactions Review/Account_Summary_Voyager_TP_sequence_logic.docx\n",
      "/Users/rmRM/Desktop/Evgenii/DS/Tier 1 - 4/TD NGP Delivery Assurance/7.0 Detailed Requirements/P1/CRD_Account Transactions Review/Check Images Data Mapping Sheet.xlsx\n",
      "/Users/rmRM/Desktop/Evgenii/DS/Tier 1 - 4/TD NGP Delivery Assurance/7.0 Detailed Requirements/P1/CRD_Account Transactions Review/IM Savings Account Details.xlsx\n",
      "/Users/rmRM/Desktop/Evgenii/DS/Tier 1 - 4/TD NGP Delivery Assurance/7.0 Detailed Requirements/P1/CRD_Account Transactions Review/LL Loan Account Details.xlsx\n",
      "/Users/rmRM/Desktop/Evgenii/DS/Tier 1 - 4/TD NGP Delivery Assurance/7.0 Detailed Requirements/P1/CRD_Account Transactions Review/NGP_Account _Transactions_UC002_v5.2.docx\n",
      "/Users/rmRM/Desktop/Evgenii/DS/Tier 1 - 4/TD NGP Delivery Assurance/7.0 Detailed Requirements/P1/CRD_Account Transactions Review/NGP_Account_Trans_Data_Mapping.xlsx\n",
      "/Users/rmRM/Desktop/Evgenii/DS/Tier 1 - 4/TD NGP Delivery Assurance/7.0 Detailed Requirements/P1/CRD_Account Transactions Review/NGP_Account_Transactions_CRD_v5.1.docx\n",
      "/Users/rmRM/Desktop/Evgenii/DS/Tier 1 - 4/TD NGP Delivery Assurance/7.0 Detailed Requirements/P1/CRD_Account Transactions Review/Pending Transactions Data Mapping Sheet.xlsx\n",
      "/Users/rmRM/Desktop/Evgenii/DS/Tier 1 - 4/TD NGP Delivery Assurance/7.0 Detailed Requirements/P1/CRD_Account Transactions Review/Traceability - Account Transactions.xlsx\n",
      "/Users/rmRM/Desktop/Evgenii/DS/Tier 1 - 4/TD NGP Delivery Assurance/7.0 Detailed Requirements/P1/CRD_Account Transactions Review/View Statements Data Mapping Sheet.xlsx\n",
      "/Users/rmRM/Desktop/Evgenii/DS/Tier 1 - 4/TD NGP Delivery Assurance/7.0 Detailed Requirements/P1/CRD_Customer Service/Customer Service_Trace_Matrix V 4 0.xlsx\n",
      "/Users/rmRM/Desktop/Evgenii/DS/Tier 1 - 4/TD NGP Delivery Assurance/7.0 Detailed Requirements/P1/CRD_Customer Service/NGP_Customer_ Service_UC007_v5.1.docx\n",
      "/Users/rmRM/Desktop/Evgenii/DS/Tier 1 - 4/TD NGP Delivery Assurance/7.0 Detailed Requirements/P1/CRD_Customer Service/NGP_Customer_Service_CRD_v_5.1.docx\n",
      "/Users/rmRM/Desktop/Evgenii/DS/Tier 1 - 4/TD NGP Delivery Assurance/7.0 Detailed Requirements/P1/CRD_Customer Service/NGP_Customer_Service_CRD_v_6.04.docx\n",
      "/Users/rmRM/Desktop/Evgenii/DS/Tier 1 - 4/TD NGP Delivery Assurance/7.0 Detailed Requirements/P1/CRD_Customer Service/NGP_Customer_Service_CRD_v_6.1.docx\n",
      "/Users/rmRM/Desktop/Evgenii/DS/Tier 1 - 4/TD NGP Delivery Assurance/7.0 Detailed Requirements/P1/CRD_Customer Service/Online Statements Settings Data Mapping Sheet.xlsx\n",
      "/Users/rmRM/Desktop/Evgenii/DS/Tier 1 - 4/TD NGP Delivery Assurance/7.0 Detailed Requirements/P1/CRD_Customer Service/TDDCA Data Mapping Sheet.xlsx\n",
      "/Users/rmRM/Desktop/Evgenii/DS/Tier 1 - 4/TD NGP Delivery Assurance/7.0 Detailed Requirements/P1/CRD_Customer Service/TDDCA_Data_Mapping_Sheet.xlsx\n",
      "/Users/rmRM/Desktop/Evgenii/DS/Tier 1 - 4/TD NGP Delivery Assurance/7.0 Detailed Requirements/P1/CRD_Email Alerts Management/Alerts Data Mapping Sheet.xlsx\n",
      "/Users/rmRM/Desktop/Evgenii/DS/Tier 1 - 4/TD NGP Delivery Assurance/7.0 Detailed Requirements/P1/CRD_Email Alerts Management/NGP_Email_ Alerts_UC009_v4.2.docx\n",
      "/Users/rmRM/Desktop/Evgenii/DS/Tier 1 - 4/TD NGP Delivery Assurance/7.0 Detailed Requirements/P1/CRD_Email Alerts Management/NGP_Email_Alerts_CRD_v_4.2.docx\n",
      "/Users/rmRM/Desktop/Evgenii/DS/Tier 1 - 4/TD NGP Delivery Assurance/7.0 Detailed Requirements/P1/CRD_Email Alerts Management/Trace Matrix - Email  Alerts V 4.00.xlsx\n",
      "/Users/rmRM/Desktop/Evgenii/DS/Tier 1 - 4/TD NGP Delivery Assurance/7.0 Detailed Requirements/P1/CRD_Financial Transactions Management/Bill_Pay_-_Schedule_Payments_Data_Mapping_Sheet.xlsx\n",
      "/Users/rmRM/Desktop/Evgenii/DS/Tier 1 - 4/TD NGP Delivery Assurance/7.0 Detailed Requirements/P1/CRD_Financial Transactions Management/Internal_Transfers_(TD_to_TD)_Data_Mapping_Sheet.xlsx\n",
      "/Users/rmRM/Desktop/Evgenii/DS/Tier 1 - 4/TD NGP Delivery Assurance/7.0 Detailed Requirements/P1/CRD_Financial Transactions Management/Mobile Deposit (mRDC)_BackEnd.xlsx\n",
      "/Users/rmRM/Desktop/Evgenii/DS/Tier 1 - 4/TD NGP Delivery Assurance/7.0 Detailed Requirements/P1/CRD_Financial Transactions Management/Mobile_Deposit_(mRDC)_Data_Mapping_Sheet.xlsx\n",
      "/Users/rmRM/Desktop/Evgenii/DS/Tier 1 - 4/TD NGP Delivery Assurance/7.0 Detailed Requirements/P1/CRD_Financial Transactions Management/NGP_Financial_Transactions_CRD_v5.3.docx\n",
      "/Users/rmRM/Desktop/Evgenii/DS/Tier 1 - 4/TD NGP Delivery Assurance/7.0 Detailed Requirements/P1/CRD_Financial Transactions Management/NGP_Mng_Fin_Trans_UC003_Transfers_v5.1.docx\n",
      "/Users/rmRM/Desktop/Evgenii/DS/Tier 1 - 4/TD NGP Delivery Assurance/7.0 Detailed Requirements/P1/CRD_Financial Transactions Management/NGP_Mng_Fin_Trans_UC004_Sched_Bill_Payment_v5.2.docx\n",
      "/Users/rmRM/Desktop/Evgenii/DS/Tier 1 - 4/TD NGP Delivery Assurance/7.0 Detailed Requirements/P1/CRD_Financial Transactions Management/NGP_Mng_Fin_Trans_UC005_mRDC_v5.0.docx\n",
      "/Users/rmRM/Desktop/Evgenii/DS/Tier 1 - 4/TD NGP Delivery Assurance/7.0 Detailed Requirements/P1/CRD_User Authentication/1st_Time_Login_after_RM-Store_Enrollment_Data_Mapping_Sheet.xlsx\n",
      "/Users/rmRM/Desktop/Evgenii/DS/Tier 1 - 4/TD NGP Delivery Assurance/7.0 Detailed Requirements/P1/CRD_User Authentication/Complete Enrollment Data Mapping Sheet.xlsx\n",
      "/Users/rmRM/Desktop/Evgenii/DS/Tier 1 - 4/TD NGP Delivery Assurance/7.0 Detailed Requirements/P1/CRD_User Authentication/Login_with_MFA_and_Password_Reset_Data_Mapping_Sheet.xlsx\n",
      "/Users/rmRM/Desktop/Evgenii/DS/Tier 1 - 4/TD NGP Delivery Assurance/7.0 Detailed Requirements/P1/CRD_User Authentication/NGP_User_Auth_UC006_Enrollment_v4.1.docx\n",
      "/Users/rmRM/Desktop/Evgenii/DS/Tier 1 - 4/TD NGP Delivery Assurance/7.0 Detailed Requirements/P1/CRD_User Authentication/NGP_User_Authentication_CRD_v5.1.docx\n",
      "/Users/rmRM/Desktop/Evgenii/DS/Tier 1 - 4/TD NGP Delivery Assurance/7.0 Detailed Requirements/P1/CRD_User Authentication/NGP_User_Authentication_UC001_Login_v5.01.docx\n",
      "/Users/rmRM/Desktop/Evgenii/DS/Tier 1 - 4/TD NGP Delivery Assurance/7.0 Detailed Requirements/P1/CRD_User Authentication/Traceability - User Authentication.xlsx\n",
      "/Users/rmRM/Desktop/Evgenii/DS/Tier 1 - 4/TD NGP Delivery Assurance/7.0 Detailed Requirements/P1/MRD_NGP_Project 1/Accessibility Requirements - Consolidated1.docx\n",
      "/Users/rmRM/Desktop/Evgenii/DS/Tier 1 - 4/TD NGP Delivery Assurance/7.0 Detailed Requirements/P1/MRD_NGP_Project 1/Audit Log Reporting 2.docx\n",
      "/Users/rmRM/Desktop/Evgenii/DS/Tier 1 - 4/TD NGP Delivery Assurance/7.0 Detailed Requirements/P1/MRD_NGP_Project 1/Capability Release Plan and Definitions v1.7.xlsx\n",
      "/Users/rmRM/Desktop/Evgenii/DS/Tier 1 - 4/TD NGP Delivery Assurance/7.0 Detailed Requirements/P1/MRD_NGP_Project 1/Capability Reporting 1.docx\n",
      "/Users/rmRM/Desktop/Evgenii/DS/Tier 1 - 4/TD NGP Delivery Assurance/7.0 Detailed Requirements/P1/MRD_NGP_Project 1/Copy of NGP Mobile Reports - Transaction GroupsV0.6.xlsx\n",
      "/Users/rmRM/Desktop/Evgenii/DS/Tier 1 - 4/TD NGP Delivery Assurance/7.0 Detailed Requirements/P1/MRD_NGP_Project 1/Kill_Switch_V03.xlsx\n",
      "/Users/rmRM/Desktop/Evgenii/DS/Tier 1 - 4/TD NGP Delivery Assurance/7.0 Detailed Requirements/P1/MRD_NGP_Project 1/NGP AuditLog Transactions 0.03.xlsx\n",
      "/Users/rmRM/Desktop/Evgenii/DS/Tier 1 - 4/TD NGP Delivery Assurance/7.0 Detailed Requirements/P1/MRD_NGP_Project 1/NGP_MasterRequirementsDocument_V5.0.docx\n"
     ]
    },
    {
     "name": "stderr",
     "output_type": "stream",
     "text": [
      " 68%|██████▊   | 5506/8058 [1:40:02<03:06, 13.70it/s]"
     ]
    },
    {
     "name": "stdout",
     "output_type": "stream",
     "text": [
      "/Users/rmRM/Desktop/Evgenii/DS/Tier 1 - 4/TD NGP Delivery Assurance/7.0 Detailed Requirements/P1/MRD_NGP_Project 1/Product Rules DB Draft v0.01.xlsx\n",
      "/Users/rmRM/Desktop/Evgenii/DS/Tier 1 - 4/TD NGP Delivery Assurance/7.0 Detailed Requirements/P1/MRD_NGP_Project 1/Trace_Matrix_MRD V 4.0.xlsx\n",
      "/Users/rmRM/Desktop/Evgenii/DS/Tier 1 - 4/TD NGP Delivery Assurance/7.0 Detailed Requirements/P1/MRD_NGP_Project 1/UI Logging .xlsx\n",
      "/Users/rmRM/Desktop/Evgenii/DS/Tier 1 - 4/TD NGP Delivery Assurance/7.0 Detailed Requirements/P1/MRD_NGP_Project 1/US_OLB_Plf_Upgrade_Tech_Reqs_0515_DRAFT.pptx\n",
      "/Users/rmRM/Desktop/Evgenii/DS/Tier 1 - 4/TD NGP Delivery Assurance/7.0 Detailed Requirements/P3/Business Rules/NGP- Business Rules.xlsx\n",
      "/Users/rmRM/Desktop/Evgenii/DS/Tier 1 - 4/TD NGP Delivery Assurance/7.0 Detailed Requirements/P3/IAD Log/IAD_Log_P3_BA.xls\n"
     ]
    },
    {
     "name": "stderr",
     "output_type": "stream",
     "text": [
      " 69%|██████▊   | 5524/8058 [1:40:03<02:36, 16.17it/s]"
     ]
    },
    {
     "name": "stdout",
     "output_type": "stream",
     "text": [
      "/Users/rmRM/Desktop/Evgenii/DS/Tier 1 - 4/TD NGP Delivery Assurance/7.0 Detailed Requirements/P3/IAD Log/IAD_Log_P3_BA.xlsx\n",
      "/Users/rmRM/Desktop/Evgenii/DS/Tier 1 - 4/TD NGP Delivery Assurance/8.0 Solution Delivery/Deployment Strategy - NGP - Project 1 _v0.1.doc\n",
      "/Users/rmRM/Desktop/Evgenii/DS/Tier 1 - 4/TD NGP Delivery Assurance/8.0 Solution Delivery/Deployment Strategy - NGP - Project 1 _v0.1.docx\n",
      "/Users/rmRM/Desktop/Evgenii/DS/Tier 1 - 4/TD NGP Delivery Assurance/8.0 Solution Delivery/Direct Channels NBPA Risk Assessment (April 2015) NGP Project 1.doc\n",
      "/Users/rmRM/Desktop/Evgenii/DS/Tier 1 - 4/TD NGP Delivery Assurance/8.0 Solution Delivery/Direct Channels NBPA Risk Assessment (April 2015) NGP Project 1.docx\n",
      "/Users/rmRM/Desktop/Evgenii/DS/Tier 1 - 4/TD NGP Delivery Assurance/8.0 Solution Delivery/Testing/NGP Mobile PerformanceTestPlan_v1.7.doc\n",
      "/Users/rmRM/Desktop/Evgenii/DS/Tier 1 - 4/TD NGP Delivery Assurance/8.0 Solution Delivery/Testing/NGP Mobile PerformanceTestPlan_v1.7.docx\n",
      "/Users/rmRM/Desktop/Evgenii/DS/Tier 1 - 4/TD NGP Delivery Assurance/8.0 Solution Delivery/Testing/NGP Release 1_Test Plan_Version 0.4.doc\n",
      "/Users/rmRM/Desktop/Evgenii/DS/Tier 1 - 4/TD NGP Delivery Assurance/8.0 Solution Delivery/Testing/NGP Release 1_Test Plan_Version 0.4.docx\n",
      "/Users/rmRM/Desktop/Evgenii/DS/Tier 1 - 4/TD NGP Delivery Assurance/8.0 Solution Delivery/Testing/NGP_Overall_QA_Strategy_v1 2.doc\n",
      "/Users/rmRM/Desktop/Evgenii/DS/Tier 1 - 4/TD NGP Delivery Assurance/8.0 Solution Delivery/Testing/NGP_Overall_QA_Strategy_v1 2.docx\n",
      "/Users/rmRM/Desktop/Evgenii/DS/Tier 1 - 4/TD NGP Delivery Assurance/8.0 Solution Delivery/Testing/NGP_Project_1_QA_Test_Strategy_v0. 9.doc\n",
      "/Users/rmRM/Desktop/Evgenii/DS/Tier 1 - 4/TD NGP Delivery Assurance/8.0 Solution Delivery/Testing/NGP_Project_1_QA_Test_Strategy_v0. 9.docx\n",
      "/Users/rmRM/Desktop/Evgenii/DS/Tier 1 - 4/TD NGP Delivery Assurance/9.0 Finances/15 11 Nov NGP FY16 v5.ppt\n"
     ]
    },
    {
     "name": "stderr",
     "output_type": "stream",
     "text": [
      " 69%|██████▊   | 5537/8058 [1:40:03<02:14, 18.75it/s]"
     ]
    },
    {
     "name": "stdout",
     "output_type": "stream",
     "text": [
      "/Users/rmRM/Desktop/Evgenii/DS/Tier 1 - 4/TD NGP Delivery Assurance/9.0 Finances/15 11 Nov NGP FY16 v5.pptx\n",
      "/Users/rmRM/Desktop/Evgenii/DS/Tier 1 - 4/TD NGP Delivery Assurance/9.0 Finances/15 12 Dec NGP FY16 v2.ppt\n",
      "/Users/rmRM/Desktop/Evgenii/DS/Tier 1 - 4/TD NGP Delivery Assurance/9.0 Finances/15 12 Dec NGP FY16 v2.pptx\n",
      "/Users/rmRM/Desktop/Evgenii/DS/Tier 1 - 4/UP-17-02 Decoupling Billpay/Initiation Documents/Data Impact Analysis/Archive/2018.01.18 - DBP Data_Impact_Assessment_Tool_v8.xlsx\n",
      "/Users/rmRM/Desktop/Evgenii/DS/Tier 1 - 4/UP-17-02 Decoupling Billpay/Initiation Documents/Data Impact Analysis/Archive/DBP Data_Impact_Assessment_Tool_v4.xlsx\n",
      "/Users/rmRM/Desktop/Evgenii/DS/Tier 1 - 4/UP-17-02 Decoupling Billpay/Initiation Documents/Data Impact Analysis/Archive/DBP Data_Impact_Assessment_Tool_v5.xlsx\n",
      "/Users/rmRM/Desktop/Evgenii/DS/Tier 1 - 4/UP-17-02 Decoupling Billpay/Initiation Documents/MIR/Archive/DBP DgC MIR Presentations Solutions Approval Slides_Aug 18.pptx\n"
     ]
    },
    {
     "name": "stderr",
     "output_type": "stream",
     "text": [
      " 69%|██████▉   | 5582/8058 [1:40:03<01:34, 26.19it/s]"
     ]
    },
    {
     "name": "stdout",
     "output_type": "stream",
     "text": [
      "/Users/rmRM/Desktop/Evgenii/DS/Tier 1 - 4/UP-17-02 Decoupling Billpay/Initiation Documents/MIR/Archive/MIR Deck updated Incremental Funding June 6v1.pptx\n",
      "/Users/rmRM/Desktop/Evgenii/DS/Tier 1 - 4/UP-17-02 Decoupling Billpay/Initiation Documents/MIR/Archive/ROM Estimate Decoupled Billpay v2.0 Aug 16.xls\n",
      "/Users/rmRM/Desktop/Evgenii/DS/Tier 1 - 4/UP-17-02 Decoupling Billpay/Initiation Documents/MIR/Archive/ROM Estimate Decoupled Billpay v2.0 Aug 16.xlsx\n",
      "/Users/rmRM/Desktop/Evgenii/DS/Tier 1 - 4/UP-17-02 Decoupling Billpay/Initiation Documents/MIR/ROM Estimate Decoupled Billpay v2.0 Aug 31.xls\n",
      "/Users/rmRM/Desktop/Evgenii/DS/Tier 1 - 4/UP-17-02 Decoupling Billpay/Initiation Documents/MIR/ROM Estimate Decoupled Billpay v2.0 Aug 31.xlsx\n",
      "/Users/rmRM/Desktop/Evgenii/DS/Tier 1 - 4/UP-17-02 Decoupling Billpay/Initiation Documents/Project_Gating_and_QA_Checklist Decoupled Billpay.xls\n"
     ]
    },
    {
     "name": "stderr",
     "output_type": "stream",
     "text": [
      " 69%|██████▉   | 5600/8058 [1:40:05<02:23, 17.14it/s]"
     ]
    },
    {
     "name": "stdout",
     "output_type": "stream",
     "text": [
      "/Users/rmRM/Desktop/Evgenii/DS/Tier 1 - 4/UP-17-02 Decoupling Billpay/Initiation Documents/Project_Gating_and_QA_Checklist Decoupled Billpay.xlsx\n",
      "/Users/rmRM/Desktop/Evgenii/DS/Tier 1 - 4/UP-17-02 Decoupling Billpay/Initiation Documents/US PSC and PIC/Approvals/December 2017 PIC Minutes DRAFT.docx\n",
      "/Users/rmRM/Desktop/Evgenii/DS/Tier 1 - 4/UP-17-02 Decoupling Billpay/Initiation Documents/US PSC and PIC/Approvals/December 2017 PIC Minutes FINAL.docx\n",
      "/Users/rmRM/Desktop/Evgenii/DS/Tier 1 - 4/UP-17-02 Decoupling Billpay/Meetings_Communications/Advisory_SteerCom Meeting Minutes/UP-17-02- Decoupled US Bill Pay Manager - Advisory -01_10_2018 v1.ppt\n",
      "/Users/rmRM/Desktop/Evgenii/DS/Tier 1 - 4/UP-17-02 Decoupling Billpay/Meetings_Communications/Advisory_SteerCom Meeting Minutes/UP-17-02- Decoupled US Bill Pay Manager - Advisory -01_10_2018 v1.pptx\n",
      "/Users/rmRM/Desktop/Evgenii/DS/Tier 1 - 4/UP-17-02 Decoupling Billpay/Meetings_Communications/Advisory_SteerCom Meeting Minutes/UP-17-02- Decoupled US Bill Pay Manager - Advisory -01_10_2018 v3.ppt\n",
      "/Users/rmRM/Desktop/Evgenii/DS/Tier 1 - 4/UP-17-02 Decoupling Billpay/Meetings_Communications/Advisory_SteerCom Meeting Minutes/UP-17-02- Decoupled US Bill Pay Manager - Advisory -01_10_2018 v3.pptx\n",
      "/Users/rmRM/Desktop/Evgenii/DS/Tier 1 - 4/UP-17-02 Decoupling Billpay/Meetings_Communications/Advisory_SteerCom Meeting Minutes/UP-17-02- Decoupled US Bill Pay Manager - Advisory -02_26_2018 v1.ppt\n",
      "/Users/rmRM/Desktop/Evgenii/DS/Tier 1 - 4/UP-17-02 Decoupling Billpay/Meetings_Communications/Advisory_SteerCom Meeting Minutes/UP-17-02- Decoupled US Bill Pay Manager - Advisory -02_26_2018 v1.pptx\n",
      "/Users/rmRM/Desktop/Evgenii/DS/Tier 1 - 4/UP-17-02 Decoupling Billpay/Meetings_Communications/Advisory_SteerCom Meeting Minutes/UP-17-02- Decoupled US Bill Pay Manager - Advisory -02_26_2018 v2.ppt\n",
      "/Users/rmRM/Desktop/Evgenii/DS/Tier 1 - 4/UP-17-02 Decoupling Billpay/Meetings_Communications/Advisory_SteerCom Meeting Minutes/UP-17-02- Decoupled US Bill Pay Manager - Advisory -02_26_2018 v2.pptx\n",
      "/Users/rmRM/Desktop/Evgenii/DS/Tier 1 - 4/UP-17-02 Decoupling Billpay/Meetings_Communications/Advisory_SteerCom Meeting Minutes/UP-17-02- Decoupled US Bill Pay Manager - Advisory -03_04_2018 v1.ppt\n"
     ]
    },
    {
     "name": "stderr",
     "output_type": "stream",
     "text": [
      " 70%|██████▉   | 5613/8058 [1:40:06<02:35, 15.77it/s]"
     ]
    },
    {
     "name": "stdout",
     "output_type": "stream",
     "text": [
      "/Users/rmRM/Desktop/Evgenii/DS/Tier 1 - 4/UP-17-02 Decoupling Billpay/Meetings_Communications/Advisory_SteerCom Meeting Minutes/UP-17-02- Decoupled US Bill Pay Manager - Advisory -03_04_2018 v1.pptx\n",
      "/Users/rmRM/Desktop/Evgenii/DS/Tier 1 - 4/UP-17-02 Decoupling Billpay/Meetings_Communications/Advisory_SteerCom Meeting Minutes/UP-17-02- Decoupled US Bill Pay Manager - Advisory -03_04_2018 v2.ppt\n",
      "/Users/rmRM/Desktop/Evgenii/DS/Tier 1 - 4/UP-17-02 Decoupling Billpay/Meetings_Communications/Advisory_SteerCom Meeting Minutes/UP-17-02- Decoupled US Bill Pay Manager - Advisory -03_04_2018 v2.pptx\n",
      "/Users/rmRM/Desktop/Evgenii/DS/Tier 1 - 4/UP-17-02 Decoupling Billpay/Meetings_Communications/Advisory_SteerCom Meeting Minutes/UP-17-02- Decoupled US Bill Pay Manager - Advisory -10_11_2017 v3.ppt\n",
      "/Users/rmRM/Desktop/Evgenii/DS/Tier 1 - 4/UP-17-02 Decoupling Billpay/Meetings_Communications/Advisory_SteerCom Meeting Minutes/UP-17-02- Decoupled US Bill Pay Manager - Advisory -10_11_2017 v3.pptx\n",
      "/Users/rmRM/Desktop/Evgenii/DS/Tier 1 - 4/UP-17-02 Decoupling Billpay/Meetings_Communications/Advisory_SteerCom Meeting Minutes/UP-17-02- Decoupled US Bill Pay Manager - Advisory -12_13_2017 FINAL.ppt\n",
      "/Users/rmRM/Desktop/Evgenii/DS/Tier 1 - 4/UP-17-02 Decoupling Billpay/Meetings_Communications/Advisory_SteerCom Meeting Minutes/UP-17-02- Decoupled US Bill Pay Manager - Advisory -12_13_2017 FINAL.pptx\n",
      "/Users/rmRM/Desktop/Evgenii/DS/Tier 1 - 4/UP-17-02 Decoupling Billpay/Meetings_Communications/Advisory_SteerCom Meeting Minutes/UP-17-02- Decoupled US Bill Pay Manager - Advisory -12_13_2017.ppt\n"
     ]
    },
    {
     "name": "stderr",
     "output_type": "stream",
     "text": [
      " 70%|██████▉   | 5623/8058 [1:40:07<02:55, 13.85it/s]"
     ]
    },
    {
     "name": "stdout",
     "output_type": "stream",
     "text": [
      "/Users/rmRM/Desktop/Evgenii/DS/Tier 1 - 4/UP-17-02 Decoupling Billpay/Meetings_Communications/Advisory_SteerCom Meeting Minutes/UP-17-02- Decoupled US Bill Pay Manager - Advisory -12_13_2017.pptx\n",
      "/Users/rmRM/Desktop/Evgenii/DS/Tier 1 - 4/UP-17-02 Decoupling Billpay/Meetings_Communications/Advisory_SteerCom Meeting Minutes/UP-17-02- Decoupled US Bill Pay Manager - Steering -11_15_2017.ppt\n",
      "/Users/rmRM/Desktop/Evgenii/DS/Tier 1 - 4/UP-17-02 Decoupling Billpay/Meetings_Communications/Advisory_SteerCom Meeting Minutes/UP-17-02- Decoupled US Bill Pay Manager - Steering -11_15_2017.pptx\n",
      "/Users/rmRM/Desktop/Evgenii/DS/Tier 1 - 4/UP-17-02 Decoupling Billpay/Meetings_Communications/Advisory_SteerCom Meeting Minutes/UP-17-02- Decoupled US Bill Pay Manager - Steering -12_13_2017 FINAL.ppt\n"
     ]
    },
    {
     "name": "stderr",
     "output_type": "stream",
     "text": [
      " 70%|██████▉   | 5630/8058 [1:40:07<02:38, 15.29it/s]"
     ]
    },
    {
     "name": "stdout",
     "output_type": "stream",
     "text": [
      "/Users/rmRM/Desktop/Evgenii/DS/Tier 1 - 4/UP-17-02 Decoupling Billpay/Meetings_Communications/Advisory_SteerCom Meeting Minutes/UP-17-02- Decoupled US Bill Pay Manager - Steering -12_13_2017 FINAL.pptx\n",
      "/Users/rmRM/Desktop/Evgenii/DS/Tier 1 - 4/UP-17-02 Decoupling Billpay/Meetings_Communications/Advisory_SteerCom Meeting Minutes/UP-17-02- Decoupled US Bill Pay Manager - Steering -12_13_2017 v5.ppt\n",
      "/Users/rmRM/Desktop/Evgenii/DS/Tier 1 - 4/UP-17-02 Decoupling Billpay/Meetings_Communications/Advisory_SteerCom Meeting Minutes/UP-17-02- Decoupled US Bill Pay Manager - Steering -12_13_2017 v5.pptx\n",
      "/Users/rmRM/Desktop/Evgenii/DS/Tier 1 - 4/UP-17-02 Decoupling Billpay/Meetings_Communications/Communication Plan/Archive/Communication Plan Draft 1.1.xlsx\n",
      "/Users/rmRM/Desktop/Evgenii/DS/Tier 1 - 4/UP-17-02 Decoupling Billpay/Meetings_Communications/Communication Plan/Archive/Communication Plan Draft 1.11.xlsx\n",
      "/Users/rmRM/Desktop/Evgenii/DS/Tier 1 - 4/UP-17-02 Decoupling Billpay/Meetings_Communications/Communication Plan/Archive/Communication Plan Draft 1.13.xlsx\n",
      "/Users/rmRM/Desktop/Evgenii/DS/Tier 1 - 4/UP-17-02 Decoupling Billpay/Meetings_Communications/Communication Plan/Archive/Communication Plan Draft 1.14.xlsx\n",
      "/Users/rmRM/Desktop/Evgenii/DS/Tier 1 - 4/UP-17-02 Decoupling Billpay/Meetings_Communications/Communication Plan/Archive/Communication Plan Draft 1.15.xlsx\n"
     ]
    },
    {
     "name": "stderr",
     "output_type": "stream",
     "text": [
      " 72%|███████▏  | 5770/8058 [1:40:08<01:45, 21.74it/s]"
     ]
    },
    {
     "name": "stdout",
     "output_type": "stream",
     "text": [
      "/Users/rmRM/Desktop/Evgenii/DS/Tier 1 - 4/UP-17-02 Decoupling Billpay/Meetings_Communications/Other Meetings/Executive Status/Executive Summary Aug 03v1.pptx\n",
      "/Users/rmRM/Desktop/Evgenii/DS/Tier 1 - 4/UP-17-02 Decoupling Billpay/Meetings_Communications/Other Meetings/Executive Status/Executive Summary Aug 23v1.pptx\n",
      "/Users/rmRM/Desktop/Evgenii/DS/Tier 1 - 4/UP-17-02 Decoupling Billpay/Meetings_Communications/Other Meetings/Executive Status/Executive Summary Aug 30v1.pptx\n",
      "/Users/rmRM/Desktop/Evgenii/DS/Tier 1 - 4/UP-17-02 Decoupling Billpay/Meetings_Communications/Other Meetings/Executive Status/Executive Summary Aug 9v1.pptx\n",
      "/Users/rmRM/Desktop/Evgenii/DS/Tier 1 - 4/UP-17-02 Decoupling Billpay/Meetings_Communications/Other Meetings/Executive Status/Executive Summary Dec06v1.pptx\n",
      "/Users/rmRM/Desktop/Evgenii/DS/Tier 1 - 4/UP-17-02 Decoupling Billpay/Meetings_Communications/Other Meetings/Executive Status/Executive Summary Dec12v1.pptx\n",
      "/Users/rmRM/Desktop/Evgenii/DS/Tier 1 - 4/UP-17-02 Decoupling Billpay/Meetings_Communications/Other Meetings/Executive Status/Executive Summary Feb01.pptx\n",
      "/Users/rmRM/Desktop/Evgenii/DS/Tier 1 - 4/UP-17-02 Decoupling Billpay/Meetings_Communications/Other Meetings/Executive Status/Executive Summary Feb12 [Autosaved].pptx\n",
      "/Users/rmRM/Desktop/Evgenii/DS/Tier 1 - 4/UP-17-02 Decoupling Billpay/Meetings_Communications/Other Meetings/Executive Status/Executive Summary Feb28.pptx\n",
      "/Users/rmRM/Desktop/Evgenii/DS/Tier 1 - 4/UP-17-02 Decoupling Billpay/Meetings_Communications/Other Meetings/Executive Status/Executive Summary Jan 25.pptx\n",
      "/Users/rmRM/Desktop/Evgenii/DS/Tier 1 - 4/UP-17-02 Decoupling Billpay/Meetings_Communications/Other Meetings/Executive Status/Executive Summary Jan11v1.pptx\n",
      "/Users/rmRM/Desktop/Evgenii/DS/Tier 1 - 4/UP-17-02 Decoupling Billpay/Meetings_Communications/Other Meetings/Executive Status/Executive Summary July 12.pptx\n",
      "/Users/rmRM/Desktop/Evgenii/DS/Tier 1 - 4/UP-17-02 Decoupling Billpay/Meetings_Communications/Other Meetings/Executive Status/Executive Summary July 12v1.pptx\n",
      "/Users/rmRM/Desktop/Evgenii/DS/Tier 1 - 4/UP-17-02 Decoupling Billpay/Meetings_Communications/Other Meetings/Executive Status/Executive Summary July 12v3.pptx\n",
      "/Users/rmRM/Desktop/Evgenii/DS/Tier 1 - 4/UP-17-02 Decoupling Billpay/Meetings_Communications/Other Meetings/Executive Status/Executive Summary July 19v1.pptx\n",
      "/Users/rmRM/Desktop/Evgenii/DS/Tier 1 - 4/UP-17-02 Decoupling Billpay/Meetings_Communications/Other Meetings/Executive Status/Executive Summary July 26v1.pptx\n",
      "/Users/rmRM/Desktop/Evgenii/DS/Tier 1 - 4/UP-17-02 Decoupling Billpay/Meetings_Communications/Other Meetings/Executive Status/Executive Summary June 09.pptx\n",
      "/Users/rmRM/Desktop/Evgenii/DS/Tier 1 - 4/UP-17-02 Decoupling Billpay/Meetings_Communications/Other Meetings/Executive Status/Executive Summary Mar02.pptx\n",
      "/Users/rmRM/Desktop/Evgenii/DS/Tier 1 - 4/UP-17-02 Decoupling Billpay/Meetings_Communications/Other Meetings/Executive Status/Executive Summary Mar08.pptx\n",
      "/Users/rmRM/Desktop/Evgenii/DS/Tier 1 - 4/UP-17-02 Decoupling Billpay/Meetings_Communications/Other Meetings/Executive Status/Executive Summary Mar15 DRAFT.pptx\n",
      "/Users/rmRM/Desktop/Evgenii/DS/Tier 1 - 4/UP-17-02 Decoupling Billpay/Meetings_Communications/Other Meetings/Executive Status/Executive Summary Mar15.pptx\n",
      "/Users/rmRM/Desktop/Evgenii/DS/Tier 1 - 4/UP-17-02 Decoupling Billpay/Meetings_Communications/Other Meetings/Executive Status/Executive Summary May 12.pptx\n",
      "/Users/rmRM/Desktop/Evgenii/DS/Tier 1 - 4/UP-17-02 Decoupling Billpay/Meetings_Communications/Other Meetings/Executive Status/Executive Summary May 19.pptx\n",
      "/Users/rmRM/Desktop/Evgenii/DS/Tier 1 - 4/UP-17-02 Decoupling Billpay/Meetings_Communications/Other Meetings/Executive Status/Executive Summary May 26.pptx\n",
      "/Users/rmRM/Desktop/Evgenii/DS/Tier 1 - 4/UP-17-02 Decoupling Billpay/Meetings_Communications/Other Meetings/Executive Status/Executive Summary Nov 02v1.pptx\n",
      "/Users/rmRM/Desktop/Evgenii/DS/Tier 1 - 4/UP-17-02 Decoupling Billpay/Meetings_Communications/Other Meetings/Executive Status/Executive Summary Nov 09v1.pptx\n",
      "/Users/rmRM/Desktop/Evgenii/DS/Tier 1 - 4/UP-17-02 Decoupling Billpay/Meetings_Communications/Other Meetings/Executive Status/Executive Summary Nov 16v1.pptx\n",
      "/Users/rmRM/Desktop/Evgenii/DS/Tier 1 - 4/UP-17-02 Decoupling Billpay/Meetings_Communications/Other Meetings/Executive Status/Executive Summary Nov 17v1.pptx\n",
      "/Users/rmRM/Desktop/Evgenii/DS/Tier 1 - 4/UP-17-02 Decoupling Billpay/Meetings_Communications/Other Meetings/Executive Status/Executive Summary Nov 29v1.pptx\n",
      "/Users/rmRM/Desktop/Evgenii/DS/Tier 1 - 4/UP-17-02 Decoupling Billpay/Meetings_Communications/Other Meetings/Executive Status/Executive Summary Oct 05 v3.pptx\n",
      "/Users/rmRM/Desktop/Evgenii/DS/Tier 1 - 4/UP-17-02 Decoupling Billpay/Meetings_Communications/Other Meetings/Executive Status/Executive Summary Oct 05.pptx\n",
      "/Users/rmRM/Desktop/Evgenii/DS/Tier 1 - 4/UP-17-02 Decoupling Billpay/Meetings_Communications/Other Meetings/Executive Status/Executive Summary Oct 12v1.pptx\n",
      "/Users/rmRM/Desktop/Evgenii/DS/Tier 1 - 4/UP-17-02 Decoupling Billpay/Meetings_Communications/Other Meetings/Executive Status/Executive Summary Oct 13v1.pptx\n",
      "/Users/rmRM/Desktop/Evgenii/DS/Tier 1 - 4/UP-17-02 Decoupling Billpay/Meetings_Communications/Other Meetings/Executive Status/Executive Summary Oct 19v1.pptx\n",
      "/Users/rmRM/Desktop/Evgenii/DS/Tier 1 - 4/UP-17-02 Decoupling Billpay/Meetings_Communications/Other Meetings/Executive Status/Executive Summary Oct 26v1.pptx\n",
      "/Users/rmRM/Desktop/Evgenii/DS/Tier 1 - 4/UP-17-02 Decoupling Billpay/Meetings_Communications/Other Meetings/Executive Status/Executive Summary Sept 07.pptx\n",
      "/Users/rmRM/Desktop/Evgenii/DS/Tier 1 - 4/UP-17-02 Decoupling Billpay/Meetings_Communications/Steering Comittee/July 28, 2017/DB Steering Meeting Minutes July 28 2017.doc\n",
      "/Users/rmRM/Desktop/Evgenii/DS/Tier 1 - 4/UP-17-02 Decoupling Billpay/Meetings_Communications/Steering Comittee/July 28, 2017/DB Steering Meeting Minutes July 28 2017.docx\n",
      "/Users/rmRM/Desktop/Evgenii/DS/Tier 1 - 4/UP-17-02 Decoupling Billpay/Meetings_Communications/Steering Comittee/July 28, 2017/UP-17-02- Decoupled US Bill Pay Manager - SteerCom -28-July-2017 v9.5.ppt\n"
     ]
    },
    {
     "name": "stderr",
     "output_type": "stream",
     "text": [
      " 72%|███████▏  | 5815/8058 [1:40:08<01:16, 29.26it/s]"
     ]
    },
    {
     "name": "stdout",
     "output_type": "stream",
     "text": [
      "/Users/rmRM/Desktop/Evgenii/DS/Tier 1 - 4/UP-17-02 Decoupling Billpay/Meetings_Communications/Steering Comittee/July 28, 2017/UP-17-02- Decoupled US Bill Pay Manager - SteerCom -28-July-2017 v9.5.pptx\n",
      "/Users/rmRM/Desktop/Evgenii/DS/Tier 1 - 4/UP-17-02 Decoupling Billpay/Meetings_Communications/Steering Comittee/UP-17-02- Decoupled US Bill Pay Manager - SteerCom - 7-Apr-17 v.1.7.ppt\n",
      "/Users/rmRM/Desktop/Evgenii/DS/Tier 1 - 4/UP-17-02 Decoupling Billpay/Meetings_Communications/Steering Comittee/UP-17-02- Decoupled US Bill Pay Manager - SteerCom - 7-Apr-17 v.1.7.pptx\n",
      "/Users/rmRM/Desktop/Evgenii/DS/Tier 1 - 4/UP-17-02 Decoupling Billpay/Meetings_Communications/Steering Comittee/UP-17-02- Decoupled US Bill Pay Manager - SteerCom - 7-Apr-21 v.2.2.ppt\n",
      "/Users/rmRM/Desktop/Evgenii/DS/Tier 1 - 4/UP-17-02 Decoupling Billpay/Meetings_Communications/Steering Comittee/UP-17-02- Decoupled US Bill Pay Manager - SteerCom - 7-Apr-21 v.2.2.pptx\n",
      "/Users/rmRM/Desktop/Evgenii/DS/Tier 1 - 4/UP-17-02 Decoupling Billpay/Meetings_Communications/Steering Comittee/UP-17-02- Decoupled US Bill Pay Manager - SteerCom -12-June-17 v.1.2.ppt\n",
      "/Users/rmRM/Desktop/Evgenii/DS/Tier 1 - 4/UP-17-02 Decoupling Billpay/Meetings_Communications/Steering Comittee/UP-17-02- Decoupled US Bill Pay Manager - SteerCom -12-June-17 v.1.2.pptx\n",
      "/Users/rmRM/Desktop/Evgenii/DS/Tier 1 - 4/UP-17-02 Decoupling Billpay/Meetings_Communications/Steering Comittee/UP-17-02- Decoupled US Bill Pay Manager - SteerCom -17-July-2017 v4.0.ppt\n",
      "/Users/rmRM/Desktop/Evgenii/DS/Tier 1 - 4/UP-17-02 Decoupling Billpay/Meetings_Communications/Steering Comittee/UP-17-02- Decoupled US Bill Pay Manager - SteerCom -17-July-2017 v4.0.pptx\n",
      "/Users/rmRM/Desktop/Evgenii/DS/Tier 1 - 4/UP-17-02 Decoupling Billpay/Meetings_Communications/Steering Comittee/UP-17-02- Decoupled US Bill Pay Manager - SteerCom -19-May-17 v.2.1.ppt\n",
      "/Users/rmRM/Desktop/Evgenii/DS/Tier 1 - 4/UP-17-02 Decoupling Billpay/Meetings_Communications/Steering Comittee/UP-17-02- Decoupled US Bill Pay Manager - SteerCom -19-May-17 v.2.1.pptx\n",
      "/Users/rmRM/Desktop/Evgenii/DS/Tier 1 - 4/UP-17-02 Decoupling Billpay/Meetings_Communications/Steering Comittee/UP-17-02- Decoupled US Bill Pay Manager - SteerCom -21-Aug-2017 v1.6.ppt\n",
      "/Users/rmRM/Desktop/Evgenii/DS/Tier 1 - 4/UP-17-02 Decoupling Billpay/Meetings_Communications/Steering Comittee/UP-17-02- Decoupled US Bill Pay Manager - SteerCom -21-Aug-2017 v1.6.pptx\n",
      "/Users/rmRM/Desktop/Evgenii/DS/Tier 1 - 4/UP-17-02 Decoupling Billpay/Meetings_Communications/Steering Comittee/UP-17-02- Decoupled US Bill Pay Manager - SteerCom -28-July-2017 v9.5.ppt\n",
      "/Users/rmRM/Desktop/Evgenii/DS/Tier 1 - 4/UP-17-02 Decoupling Billpay/Meetings_Communications/Steering Comittee/UP-17-02- Decoupled US Bill Pay Manager - SteerCom -28-July-2017 v9.5.pptx\n",
      "/Users/rmRM/Desktop/Evgenii/DS/Tier 1 - 4/UP-17-02 Decoupling Billpay/Meetings_Communications/Steering Comittee/UP-17-02- Decoupled US Bill Pay Manager - SteerCom -5-May-17 v.2.1.ppt\n",
      "/Users/rmRM/Desktop/Evgenii/DS/Tier 1 - 4/UP-17-02 Decoupling Billpay/Meetings_Communications/Steering Comittee/UP-17-02- Decoupled US Bill Pay Manager - SteerCom -5-May-17 v.2.1.pptx\n",
      "/Users/rmRM/Desktop/Evgenii/DS/Tier 1 - 4/UP-17-02 Decoupling Billpay/Meetings_Communications/Steering Comittee/UP-17-02- Decoupled US Bill Pay Manager - Steering -01_12_2018 v7.ppt\n",
      "/Users/rmRM/Desktop/Evgenii/DS/Tier 1 - 4/UP-17-02 Decoupling Billpay/Meetings_Communications/Steering Comittee/UP-17-02- Decoupled US Bill Pay Manager - Steering -01_12_2018 v7.pptx\n",
      "/Users/rmRM/Desktop/Evgenii/DS/Tier 1 - 4/UP-17-02 Decoupling Billpay/Meetings_Communications/Steering Comittee/UP-17-02- Decoupled US Bill Pay Manager - Steering -10_13_2017.ppt\n",
      "/Users/rmRM/Desktop/Evgenii/DS/Tier 1 - 4/UP-17-02 Decoupling Billpay/Meetings_Communications/Steering Comittee/UP-17-02- Decoupled US Bill Pay Manager - Steering -10_13_2017.pptx\n",
      "/Users/rmRM/Desktop/Evgenii/DS/Tier 1 - 4/UP-17-02 Decoupling Billpay/Meetings_Communications/Steering Comittee/UP-17-02- Decoupled US Bill Pay Manager - Steering -11_10_2017 .ppt\n"
     ]
    },
    {
     "name": "stderr",
     "output_type": "stream",
     "text": [
      " 73%|███████▎  | 5852/8058 [1:40:10<01:37, 22.73it/s]"
     ]
    },
    {
     "name": "stdout",
     "output_type": "stream",
     "text": [
      "/Users/rmRM/Desktop/Evgenii/DS/Tier 1 - 4/UP-17-02 Decoupling Billpay/Meetings_Communications/Steering Comittee/UP-17-02- Decoupled US Bill Pay Manager - Steering -11_10_2017 .pptx\n",
      "/Users/rmRM/Desktop/Evgenii/DS/Tier 1 - 4/UP-17-02 Decoupling Billpay/Meetings_Communications/Steering Comittee/UP-17-02- Decoupled US Bill Pay Manager - Steering -11_10_2017.ppt\n",
      "/Users/rmRM/Desktop/Evgenii/DS/Tier 1 - 4/UP-17-02 Decoupling Billpay/Meetings_Communications/Steering Comittee/UP-17-02- Decoupled US Bill Pay Manager - Steering -11_10_2017.pptx\n",
      "/Users/rmRM/Desktop/Evgenii/DS/Tier 1 - 4/UP-17-02 Decoupling Billpay/Project Control Artifacts/Financials/August 2017/Aug All Project Financials.xlsx\n",
      "/Users/rmRM/Desktop/Evgenii/DS/Tier 1 - 4/UP-17-02 Decoupling Billpay/Project Control Artifacts/Financials/August 2017/Budget Sheet Calculator_FY17_Billpay_Aug 2017  Aug 31 .xls\n",
      "/Users/rmRM/Desktop/Evgenii/DS/Tier 1 - 4/UP-17-02 Decoupling Billpay/Project Control Artifacts/Financials/August 2017/Budget Sheet Calculator_FY17_Billpay_Aug 2017  Aug 31 .xlsx\n",
      "/Users/rmRM/Desktop/Evgenii/DS/Tier 1 - 4/UP-17-02 Decoupling Billpay/Project Control Artifacts/Financials/August 2017/Budget Sheet Calculator_FY17_Billpay_Aug 2017  Sept 6.1.xls\n",
      "/Users/rmRM/Desktop/Evgenii/DS/Tier 1 - 4/UP-17-02 Decoupling Billpay/Project Control Artifacts/Financials/August 2017/Budget Sheet Calculator_FY17_Billpay_Aug 2017  Sept 6.1.xlsx\n",
      "/Users/rmRM/Desktop/Evgenii/DS/Tier 1 - 4/UP-17-02 Decoupling Billpay/Project Control Artifacts/Financials/Budget Sheet Calculator_FY17_Billpay_May 2017 June 12.xls\n",
      "/Users/rmRM/Desktop/Evgenii/DS/Tier 1 - 4/UP-17-02 Decoupling Billpay/Project Control Artifacts/Financials/Budget Sheet Calculator_FY17_Billpay_May 2017 June 12.xlsx\n",
      "/Users/rmRM/Desktop/Evgenii/DS/Tier 1 - 4/UP-17-02 Decoupling Billpay/Project Control Artifacts/Financials/Budget Sheet Calculator_FY17_Billpay_May 2017 June 2.xls\n",
      "/Users/rmRM/Desktop/Evgenii/DS/Tier 1 - 4/UP-17-02 Decoupling Billpay/Project Control Artifacts/Financials/Budget Sheet Calculator_FY17_Billpay_May 2017 June 2.xlsx\n",
      "/Users/rmRM/Desktop/Evgenii/DS/Tier 1 - 4/UP-17-02 Decoupling Billpay/Project Control Artifacts/Financials/Dec 2017/Budget Sheet Calculator_FY17_Billpay_Dec 2017  Jan 02v1.xls\n",
      "/Users/rmRM/Desktop/Evgenii/DS/Tier 1 - 4/UP-17-02 Decoupling Billpay/Project Control Artifacts/Financials/Dec 2017/Budget Sheet Calculator_FY17_Billpay_Dec 2017  Jan 02v1.xlsx\n",
      "/Users/rmRM/Desktop/Evgenii/DS/Tier 1 - 4/UP-17-02 Decoupling Billpay/Project Control Artifacts/Financials/Dec 2017/Budget Sheet Calculator_FY17_Billpay_Dec 2017  Jan 03v1.xls\n",
      "/Users/rmRM/Desktop/Evgenii/DS/Tier 1 - 4/UP-17-02 Decoupling Billpay/Project Control Artifacts/Financials/Dec 2017/Budget Sheet Calculator_FY17_Billpay_Dec 2017  Jan 03v1.xlsx\n",
      "/Users/rmRM/Desktop/Evgenii/DS/Tier 1 - 4/UP-17-02 Decoupling Billpay/Project Control Artifacts/Financials/Dec 2017/Budget Sheet Calculator_FY17_Billpay_Dec 2017  Jan 04v1.xls\n",
      "/Users/rmRM/Desktop/Evgenii/DS/Tier 1 - 4/UP-17-02 Decoupling Billpay/Project Control Artifacts/Financials/Dec 2017/Budget Sheet Calculator_FY17_Billpay_Dec 2017  Jan 04v1.xlsx\n",
      "/Users/rmRM/Desktop/Evgenii/DS/Tier 1 - 4/UP-17-02 Decoupling Billpay/Project Control Artifacts/Financials/Dec 2017/Budget Sheet Calculator_FY17_Billpay_Dec 2017  Jan 21v1.xls\n"
     ]
    },
    {
     "name": "stderr",
     "output_type": "stream",
     "text": [
      " 73%|███████▎  | 5878/8058 [1:40:13<02:17, 15.89it/s]"
     ]
    },
    {
     "name": "stdout",
     "output_type": "stream",
     "text": [
      "/Users/rmRM/Desktop/Evgenii/DS/Tier 1 - 4/UP-17-02 Decoupling Billpay/Project Control Artifacts/Financials/Dec 2017/Budget Sheet Calculator_FY17_Billpay_Dec 2017  Jan 21v1.xlsx\n",
      "/Users/rmRM/Desktop/Evgenii/DS/Tier 1 - 4/UP-17-02 Decoupling Billpay/Project Control Artifacts/Financials/Dec 2017/TD_Posted_Transaction_Review Jan 01.xlsx\n",
      "/Users/rmRM/Desktop/Evgenii/DS/Tier 1 - 4/UP-17-02 Decoupling Billpay/Project Control Artifacts/Financials/Dec 2017/TD_Posted_Transaction_Review Jan04.xlsx\n",
      "/Users/rmRM/Desktop/Evgenii/DS/Tier 1 - 4/UP-17-02 Decoupling Billpay/Project Control Artifacts/Financials/Feb 2018/Budget Sheet Calculator_FY17_Billpay_ Feb 28v1.xls\n",
      "/Users/rmRM/Desktop/Evgenii/DS/Tier 1 - 4/UP-17-02 Decoupling Billpay/Project Control Artifacts/Financials/Feb 2018/Budget Sheet Calculator_FY17_Billpay_ Feb 28v1.xlsx\n",
      "/Users/rmRM/Desktop/Evgenii/DS/Tier 1 - 4/UP-17-02 Decoupling Billpay/Project Control Artifacts/Financials/Feb 2018/Budget Sheet Calculator_FY17_Billpay_ Feb 28v2.xls\n",
      "/Users/rmRM/Desktop/Evgenii/DS/Tier 1 - 4/UP-17-02 Decoupling Billpay/Project Control Artifacts/Financials/Feb 2018/Budget Sheet Calculator_FY17_Billpay_ Feb 28v2.xlsx\n",
      "/Users/rmRM/Desktop/Evgenii/DS/Tier 1 - 4/UP-17-02 Decoupling Billpay/Project Control Artifacts/Financials/Feb 2018/Budget Sheet Calculator_FY17_Billpay_ Mar02v1.xls\n",
      "/Users/rmRM/Desktop/Evgenii/DS/Tier 1 - 4/UP-17-02 Decoupling Billpay/Project Control Artifacts/Financials/Feb 2018/Budget Sheet Calculator_FY17_Billpay_ Mar02v1.xlsx\n",
      "/Users/rmRM/Desktop/Evgenii/DS/Tier 1 - 4/UP-17-02 Decoupling Billpay/Project Control Artifacts/Financials/Feb 2018/Budget Sheet Calculator_FY17_Billpay_ Mar02v2.xls\n",
      "/Users/rmRM/Desktop/Evgenii/DS/Tier 1 - 4/UP-17-02 Decoupling Billpay/Project Control Artifacts/Financials/Feb 2018/Budget Sheet Calculator_FY17_Billpay_ Mar02v2.xlsx\n",
      "/Users/rmRM/Desktop/Evgenii/DS/Tier 1 - 4/UP-17-02 Decoupling Billpay/Project Control Artifacts/Financials/Feb 2018/Budget Sheet Calculator_FY17_Billpay_ Mar04.xls\n",
      "/Users/rmRM/Desktop/Evgenii/DS/Tier 1 - 4/UP-17-02 Decoupling Billpay/Project Control Artifacts/Financials/Feb 2018/Budget Sheet Calculator_FY17_Billpay_ Mar04.xlsx\n",
      "/Users/rmRM/Desktop/Evgenii/DS/Tier 1 - 4/UP-17-02 Decoupling Billpay/Project Control Artifacts/Financials/Feb 2018/Budget Sheet Calculator_FY17_Billpay_ Mar08 updated Cap.xls\n"
     ]
    },
    {
     "name": "stderr",
     "output_type": "stream",
     "text": [
      " 73%|███████▎  | 5897/8058 [1:40:15<02:42, 13.29it/s]"
     ]
    },
    {
     "name": "stdout",
     "output_type": "stream",
     "text": [
      "/Users/rmRM/Desktop/Evgenii/DS/Tier 1 - 4/UP-17-02 Decoupling Billpay/Project Control Artifacts/Financials/Feb 2018/Budget Sheet Calculator_FY17_Billpay_ Mar08 updated Cap.xlsx\n",
      "/Users/rmRM/Desktop/Evgenii/DS/Tier 1 - 4/UP-17-02 Decoupling Billpay/Project Control Artifacts/Financials/Feb 2018/DBP TD Project Financial Details v1.1 Mar02.xls\n",
      "/Users/rmRM/Desktop/Evgenii/DS/Tier 1 - 4/UP-17-02 Decoupling Billpay/Project Control Artifacts/Financials/Feb 2018/DBP TD Project Financial Details v1.1 Mar02.xlsx\n",
      "/Users/rmRM/Desktop/Evgenii/DS/Tier 1 - 4/UP-17-02 Decoupling Billpay/Project Control Artifacts/Financials/Feb 2018/TD Project Financial Details v1.1  Mar04.xlsx\n",
      "/Users/rmRM/Desktop/Evgenii/DS/Tier 1 - 4/UP-17-02 Decoupling Billpay/Project Control Artifacts/Financials/Feb 2018/TD Project Financial Details v1.1 Feb 27.xlsx\n",
      "/Users/rmRM/Desktop/Evgenii/DS/Tier 1 - 4/UP-17-02 Decoupling Billpay/Project Control Artifacts/Financials/Feb 2018/TD_Posted_Transaction_Review Feb21.xlsx\n",
      "/Users/rmRM/Desktop/Evgenii/DS/Tier 1 - 4/UP-17-02 Decoupling Billpay/Project Control Artifacts/Financials/Jan 2018/Budget Sheet Calculator_FY17_Billpay_Dec 2017  Feb 01v1.xls\n",
      "/Users/rmRM/Desktop/Evgenii/DS/Tier 1 - 4/UP-17-02 Decoupling Billpay/Project Control Artifacts/Financials/Jan 2018/Budget Sheet Calculator_FY17_Billpay_Dec 2017  Feb 01v1.xlsx\n",
      "/Users/rmRM/Desktop/Evgenii/DS/Tier 1 - 4/UP-17-02 Decoupling Billpay/Project Control Artifacts/Financials/Jan 2018/Budget Sheet Calculator_FY17_Billpay_Dec 2017  Feb 05v1.xls\n",
      "/Users/rmRM/Desktop/Evgenii/DS/Tier 1 - 4/UP-17-02 Decoupling Billpay/Project Control Artifacts/Financials/Jan 2018/Budget Sheet Calculator_FY17_Billpay_Dec 2017  Feb 05v1.xlsx\n",
      "/Users/rmRM/Desktop/Evgenii/DS/Tier 1 - 4/UP-17-02 Decoupling Billpay/Project Control Artifacts/Financials/Jan 2018/Budget Sheet Calculator_FY17_Billpay_Dec 2017  Feb 05v2.xls\n",
      "/Users/rmRM/Desktop/Evgenii/DS/Tier 1 - 4/UP-17-02 Decoupling Billpay/Project Control Artifacts/Financials/Jan 2018/Budget Sheet Calculator_FY17_Billpay_Dec 2017  Feb 05v2.xlsx\n",
      "/Users/rmRM/Desktop/Evgenii/DS/Tier 1 - 4/UP-17-02 Decoupling Billpay/Project Control Artifacts/Financials/Jan 2018/Budget Sheet Calculator_FY17_Billpay_Dec 2017  Feb 07v1.xls\n",
      "/Users/rmRM/Desktop/Evgenii/DS/Tier 1 - 4/UP-17-02 Decoupling Billpay/Project Control Artifacts/Financials/Jan 2018/Budget Sheet Calculator_FY17_Billpay_Dec 2017  Feb 07v1.xlsx\n",
      "/Users/rmRM/Desktop/Evgenii/DS/Tier 1 - 4/UP-17-02 Decoupling Billpay/Project Control Artifacts/Financials/Jan 2018/Budget Sheet Calculator_FY17_Billpay_Dec 2017  Feb 08v1.xls\n",
      "/Users/rmRM/Desktop/Evgenii/DS/Tier 1 - 4/UP-17-02 Decoupling Billpay/Project Control Artifacts/Financials/Jan 2018/Budget Sheet Calculator_FY17_Billpay_Dec 2017  Feb 08v1.xlsx\n",
      "/Users/rmRM/Desktop/Evgenii/DS/Tier 1 - 4/UP-17-02 Decoupling Billpay/Project Control Artifacts/Financials/Jan 2018/Budget Sheet Calculator_FY17_Billpay_Dec 2017  Feb 12v1.xls\n",
      "/Users/rmRM/Desktop/Evgenii/DS/Tier 1 - 4/UP-17-02 Decoupling Billpay/Project Control Artifacts/Financials/Jan 2018/Budget Sheet Calculator_FY17_Billpay_Dec 2017  Feb 12v1.xlsx\n",
      "/Users/rmRM/Desktop/Evgenii/DS/Tier 1 - 4/UP-17-02 Decoupling Billpay/Project Control Artifacts/Financials/Jan 2018/Budget Sheet Calculator_FY17_Billpay_Dec 2017  Feb 21v1.xls\n"
     ]
    },
    {
     "name": "stderr",
     "output_type": "stream",
     "text": [
      " 73%|███████▎  | 5911/8058 [1:40:17<03:37,  9.89it/s]"
     ]
    },
    {
     "name": "stdout",
     "output_type": "stream",
     "text": [
      "/Users/rmRM/Desktop/Evgenii/DS/Tier 1 - 4/UP-17-02 Decoupling Billpay/Project Control Artifacts/Financials/Jan 2018/Budget Sheet Calculator_FY17_Billpay_Dec 2017  Feb 21v1.xlsx\n",
      "/Users/rmRM/Desktop/Evgenii/DS/Tier 1 - 4/UP-17-02 Decoupling Billpay/Project Control Artifacts/Financials/Jan 2018/Budget Sheet Calculator_FY17_Billpay_Dec 2017  Jan 31v1.xls\n",
      "/Users/rmRM/Desktop/Evgenii/DS/Tier 1 - 4/UP-17-02 Decoupling Billpay/Project Control Artifacts/Financials/Jan 2018/Budget Sheet Calculator_FY17_Billpay_Dec 2017  Jan 31v1.xlsx\n",
      "/Users/rmRM/Desktop/Evgenii/DS/Tier 1 - 4/UP-17-02 Decoupling Billpay/Project Control Artifacts/Financials/Nov 2017/Budget Sheet Calculator_FY17_Billpay_Nov 2017  Dec04v1.xls\n",
      "/Users/rmRM/Desktop/Evgenii/DS/Tier 1 - 4/UP-17-02 Decoupling Billpay/Project Control Artifacts/Financials/Nov 2017/Budget Sheet Calculator_FY17_Billpay_Nov 2017  Dec04v1.xlsx\n",
      "/Users/rmRM/Desktop/Evgenii/DS/Tier 1 - 4/UP-17-02 Decoupling Billpay/Project Control Artifacts/Financials/Nov 2017/Budget Sheet Calculator_FY17_Billpay_Nov 2017  Dec06v1.xls\n",
      "/Users/rmRM/Desktop/Evgenii/DS/Tier 1 - 4/UP-17-02 Decoupling Billpay/Project Control Artifacts/Financials/Nov 2017/Budget Sheet Calculator_FY17_Billpay_Nov 2017  Dec06v1.xlsx\n",
      "/Users/rmRM/Desktop/Evgenii/DS/Tier 1 - 4/UP-17-02 Decoupling Billpay/Project Control Artifacts/Financials/Nov 2017/Budget Sheet Calculator_FY17_Billpay_Nov 2017  Nov17v1.xls\n",
      "/Users/rmRM/Desktop/Evgenii/DS/Tier 1 - 4/UP-17-02 Decoupling Billpay/Project Control Artifacts/Financials/Nov 2017/Budget Sheet Calculator_FY17_Billpay_Nov 2017  Nov17v1.xlsx\n",
      "/Users/rmRM/Desktop/Evgenii/DS/Tier 1 - 4/UP-17-02 Decoupling Billpay/Project Control Artifacts/Financials/Nov 2017/Budget Sheet Calculator_FY17_Billpay_Nov 2017  Nov20v1.xls\n"
     ]
    },
    {
     "name": "stderr",
     "output_type": "stream",
     "text": [
      " 73%|███████▎  | 5921/8058 [1:40:21<06:31,  5.46it/s]"
     ]
    },
    {
     "name": "stdout",
     "output_type": "stream",
     "text": [
      "/Users/rmRM/Desktop/Evgenii/DS/Tier 1 - 4/UP-17-02 Decoupling Billpay/Project Control Artifacts/Financials/Nov 2017/Budget Sheet Calculator_FY17_Billpay_Nov 2017  Nov20v1.xlsx\n",
      "/Users/rmRM/Desktop/Evgenii/DS/Tier 1 - 4/UP-17-02 Decoupling Billpay/Project Control Artifacts/Financials/Nov 2017/Budget Sheet Calculator_FY17_Billpay_Nov 2017  Nov30v1.xls\n",
      "/Users/rmRM/Desktop/Evgenii/DS/Tier 1 - 4/UP-17-02 Decoupling Billpay/Project Control Artifacts/Financials/Nov 2017/Budget Sheet Calculator_FY17_Billpay_Nov 2017  Nov30v1.xlsx\n",
      "/Users/rmRM/Desktop/Evgenii/DS/Tier 1 - 4/UP-17-02 Decoupling Billpay/Project Control Artifacts/Financials/Nov 2017/DBP TD Project Financial Details v1.1 nov 27.xlsx\n",
      "/Users/rmRM/Desktop/Evgenii/DS/Tier 1 - 4/UP-17-02 Decoupling Billpay/Project Control Artifacts/Financials/Nov 2017/DBP TD_Posted_Transaction_Review Nov 17.xlsx\n",
      "/Users/rmRM/Desktop/Evgenii/DS/Tier 1 - 4/UP-17-02 Decoupling Billpay/Project Control Artifacts/Financials/Nov 2017/Technology record posting process and timing for the following.docx\n",
      "/Users/rmRM/Desktop/Evgenii/DS/Tier 1 - 4/UP-17-02 Decoupling Billpay/Project Control Artifacts/Financials/Oct 2017/Budget Sheet Calculator_FY17_Billpay_OCT 2017  Nov10v1.xls\n"
     ]
    },
    {
     "name": "stderr",
     "output_type": "stream",
     "text": [
      " 74%|███████▎  | 5928/8058 [1:40:24<09:00,  3.94it/s]"
     ]
    },
    {
     "name": "stdout",
     "output_type": "stream",
     "text": [
      "/Users/rmRM/Desktop/Evgenii/DS/Tier 1 - 4/UP-17-02 Decoupling Billpay/Project Control Artifacts/Financials/Oct 2017/Budget Sheet Calculator_FY17_Billpay_OCT 2017  Nov10v1.xlsx\n",
      "/Users/rmRM/Desktop/Evgenii/DS/Tier 1 - 4/UP-17-02 Decoupling Billpay/Project Control Artifacts/Financials/Oct 2017/Budget Sheet Calculator_FY17_Billpay_OCT 2017  Nov2v1 .xls\n",
      "/Users/rmRM/Desktop/Evgenii/DS/Tier 1 - 4/UP-17-02 Decoupling Billpay/Project Control Artifacts/Financials/Oct 2017/Budget Sheet Calculator_FY17_Billpay_OCT 2017  Nov2v1 .xlsx\n",
      "/Users/rmRM/Desktop/Evgenii/DS/Tier 1 - 4/UP-17-02 Decoupling Billpay/Project Control Artifacts/Financials/Oct 2017/Budget Sheet Calculator_FY17_Billpay_OCT 2017  Nov3v1 .xls\n",
      "/Users/rmRM/Desktop/Evgenii/DS/Tier 1 - 4/UP-17-02 Decoupling Billpay/Project Control Artifacts/Financials/Oct 2017/Budget Sheet Calculator_FY17_Billpay_OCT 2017  Nov3v1 .xlsx\n",
      "/Users/rmRM/Desktop/Evgenii/DS/Tier 1 - 4/UP-17-02 Decoupling Billpay/Project Control Artifacts/Financials/Oct 2017/Budget Sheet Calculator_FY17_Billpay_OCT 2017  Nov6v1 .xls\n"
     ]
    },
    {
     "name": "stderr",
     "output_type": "stream",
     "text": [
      " 74%|███████▎  | 5933/8058 [1:40:28<15:13,  2.33it/s]"
     ]
    },
    {
     "name": "stdout",
     "output_type": "stream",
     "text": [
      "/Users/rmRM/Desktop/Evgenii/DS/Tier 1 - 4/UP-17-02 Decoupling Billpay/Project Control Artifacts/Financials/Oct 2017/Budget Sheet Calculator_FY17_Billpay_OCT 2017  Nov6v1 .xlsx\n",
      "/Users/rmRM/Desktop/Evgenii/DS/Tier 1 - 4/UP-17-02 Decoupling Billpay/Project Control Artifacts/Financials/Oct 2017/Budget Sheet Calculator_FY17_Billpay_OCT 2017  Nov9v1.xls\n"
     ]
    },
    {
     "name": "stderr",
     "output_type": "stream",
     "text": [
      " 74%|███████▎  | 5937/8058 [1:40:30<14:42,  2.40it/s]"
     ]
    },
    {
     "name": "stdout",
     "output_type": "stream",
     "text": [
      "/Users/rmRM/Desktop/Evgenii/DS/Tier 1 - 4/UP-17-02 Decoupling Billpay/Project Control Artifacts/Financials/Oct 2017/Budget Sheet Calculator_FY17_Billpay_OCT 2017  Nov9v1.xlsx\n",
      "/Users/rmRM/Desktop/Evgenii/DS/Tier 1 - 4/UP-17-02 Decoupling Billpay/Project Control Artifacts/Financials/Oct 2017/Bus Posted_Transaction_Review Nov 2 Final.xlsx\n",
      "/Users/rmRM/Desktop/Evgenii/DS/Tier 1 - 4/UP-17-02 Decoupling Billpay/Project Control Artifacts/Financials/Oct 2017/Bus TD_Posted_Transaction_Review After Entries.xlsx\n",
      "/Users/rmRM/Desktop/Evgenii/DS/Tier 1 - 4/UP-17-02 Decoupling Billpay/Project Control Artifacts/Financials/Oct 2017/Copy of Decoulped Bill Pay - Cdn Clarity timesheet Oct.xlsx\n",
      "/Users/rmRM/Desktop/Evgenii/DS/Tier 1 - 4/UP-17-02 Decoupling Billpay/Project Control Artifacts/Financials/Oct 2017/TD Project Financial Details v1.1 _Nov 10.xlsx\n",
      "/Users/rmRM/Desktop/Evgenii/DS/Tier 1 - 4/UP-17-02 Decoupling Billpay/Project Control Artifacts/Financials/Oct 2017/TD_Posted_Transaction_Review (70) All.xlsx\n",
      "/Users/rmRM/Desktop/Evgenii/DS/Tier 1 - 4/UP-17-02 Decoupling Billpay/Project Control Artifacts/Financials/Oct 2017/TD_Posted_Transaction_Review (71). All.xlsx\n",
      "/Users/rmRM/Desktop/Evgenii/DS/Tier 1 - 4/UP-17-02 Decoupling Billpay/Project Control Artifacts/Financials/Oct 2017/TD_Posted_Transaction_Review Business Resources.xlsx\n",
      "/Users/rmRM/Desktop/Evgenii/DS/Tier 1 - 4/UP-17-02 Decoupling Billpay/Project Control Artifacts/Financials/Oct 2017/TD_Posted_Transaction_Review Oct 30.xlsx\n",
      "/Users/rmRM/Desktop/Evgenii/DS/Tier 1 - 4/UP-17-02 Decoupling Billpay/Project Control Artifacts/Financials/Sept 2017/3862 DBP 17 09 Sep Clarity Dgc Finance Details.xlsx\n",
      "/Users/rmRM/Desktop/Evgenii/DS/Tier 1 - 4/UP-17-02 Decoupling Billpay/Project Control Artifacts/Financials/Sept 2017/Budget Sheet Calculator_FY17_Billpay_OCT 2017  Nov1v1 .xls\n"
     ]
    },
    {
     "name": "stderr",
     "output_type": "stream",
     "text": [
      " 74%|███████▍  | 5947/8058 [1:40:31<11:54,  2.95it/s]"
     ]
    },
    {
     "name": "stdout",
     "output_type": "stream",
     "text": [
      "/Users/rmRM/Desktop/Evgenii/DS/Tier 1 - 4/UP-17-02 Decoupling Billpay/Project Control Artifacts/Financials/Sept 2017/Budget Sheet Calculator_FY17_Billpay_OCT 2017  Nov1v1 .xlsx\n",
      "/Users/rmRM/Desktop/Evgenii/DS/Tier 1 - 4/UP-17-02 Decoupling Billpay/Project Control Artifacts/Financials/Sept 2017/Budget Sheet Calculator_FY17_Billpay_OCT 2017  Nov2v1 .xls\n"
     ]
    },
    {
     "name": "stderr",
     "output_type": "stream",
     "text": [
      " 74%|███████▍  | 5949/8058 [1:40:33<15:58,  2.20it/s]"
     ]
    },
    {
     "name": "stdout",
     "output_type": "stream",
     "text": [
      "/Users/rmRM/Desktop/Evgenii/DS/Tier 1 - 4/UP-17-02 Decoupling Billpay/Project Control Artifacts/Financials/Sept 2017/Budget Sheet Calculator_FY17_Billpay_OCT 2017  Nov2v1 .xlsx\n",
      "/Users/rmRM/Desktop/Evgenii/DS/Tier 1 - 4/UP-17-02 Decoupling Billpay/Project Control Artifacts/Financials/Sept 2017/Budget Sheet Calculator_FY17_Billpay_Sept 2017  Oct 2 .xls\n"
     ]
    },
    {
     "name": "stderr",
     "output_type": "stream",
     "text": [
      " 74%|███████▍  | 5951/8058 [1:40:34<16:11,  2.17it/s]"
     ]
    },
    {
     "name": "stdout",
     "output_type": "stream",
     "text": [
      "/Users/rmRM/Desktop/Evgenii/DS/Tier 1 - 4/UP-17-02 Decoupling Billpay/Project Control Artifacts/Financials/Sept 2017/Budget Sheet Calculator_FY17_Billpay_Sept 2017  Oct 2 .xlsx\n",
      "/Users/rmRM/Desktop/Evgenii/DS/Tier 1 - 4/UP-17-02 Decoupling Billpay/Project Control Artifacts/Financials/Sept 2017/Budget Sheet Calculator_FY17_Billpay_Sept 2017  Oct 3 .xls\n"
     ]
    },
    {
     "name": "stderr",
     "output_type": "stream",
     "text": [
      " 74%|███████▍  | 5953/8058 [1:40:35<16:37,  2.11it/s]"
     ]
    },
    {
     "name": "stdout",
     "output_type": "stream",
     "text": [
      "/Users/rmRM/Desktop/Evgenii/DS/Tier 1 - 4/UP-17-02 Decoupling Billpay/Project Control Artifacts/Financials/Sept 2017/Budget Sheet Calculator_FY17_Billpay_Sept 2017  Oct 3 .xlsx\n",
      "/Users/rmRM/Desktop/Evgenii/DS/Tier 1 - 4/UP-17-02 Decoupling Billpay/Project Control Artifacts/Financials/Sept 2017/Budget Sheet Calculator_FY17_Billpay_Sept 2017  Oct 9.xls\n"
     ]
    },
    {
     "name": "stderr",
     "output_type": "stream",
     "text": [
      " 74%|███████▍  | 5955/8058 [1:40:36<17:01,  2.06it/s]"
     ]
    },
    {
     "name": "stdout",
     "output_type": "stream",
     "text": [
      "/Users/rmRM/Desktop/Evgenii/DS/Tier 1 - 4/UP-17-02 Decoupling Billpay/Project Control Artifacts/Financials/Sept 2017/Budget Sheet Calculator_FY17_Billpay_Sept 2017  Oct 9.xlsx\n",
      "/Users/rmRM/Desktop/Evgenii/DS/Tier 1 - 4/UP-17-02 Decoupling Billpay/Project Control Artifacts/Financials/Sept 2017/Budget Sheet Calculator_FY17_Billpay_Sept 2017  Oct 9v2 .xls\n"
     ]
    },
    {
     "name": "stderr",
     "output_type": "stream",
     "text": [
      " 74%|███████▍  | 5999/8058 [1:40:37<13:36,  2.52it/s]"
     ]
    },
    {
     "name": "stdout",
     "output_type": "stream",
     "text": [
      "/Users/rmRM/Desktop/Evgenii/DS/Tier 1 - 4/UP-17-02 Decoupling Billpay/Project Control Artifacts/Financials/Sept 2017/Budget Sheet Calculator_FY17_Billpay_Sept 2017  Oct 9v2 .xlsx\n",
      "/Users/rmRM/Desktop/Evgenii/DS/Tier 1 - 4/UP-17-02 Decoupling Billpay/Project Control Artifacts/Financials/Sept 2017/TD Project Financial Details v1.1 _10052017.xlsx\n",
      "/Users/rmRM/Desktop/Evgenii/DS/Tier 1 - 4/UP-17-02 Decoupling Billpay/Project Control Artifacts/Financials/Sept 2017/TD_Posted_Transaction_Review Oct 2.xlsx\n",
      "/Users/rmRM/Desktop/Evgenii/DS/Tier 1 - 4/UP-17-02 Decoupling Billpay/Project Control Artifacts/Financials/Sept 2017/TD_Posted_Transaction_Review Oct.xlsx\n",
      "/Users/rmRM/Desktop/Evgenii/DS/Tier 1 - 4/UP-17-02 Decoupling Billpay/Project Control Artifacts/PCR/Archive/Copy of DBP Project-Change-Request-027-Phase 1 Same Day Fee back end testing.xlsx\n",
      "/Users/rmRM/Desktop/Evgenii/DS/Tier 1 - 4/UP-17-02 Decoupling Billpay/Project Control Artifacts/PCR/Archive/DBP PCR 002 Full Population.xlsx\n",
      "/Users/rmRM/Desktop/Evgenii/DS/Tier 1 - 4/UP-17-02 Decoupling Billpay/Project Control Artifacts/PCR/Archive/DBP PCR 003 Revised Scope.xlsx\n",
      "/Users/rmRM/Desktop/Evgenii/DS/Tier 1 - 4/UP-17-02 Decoupling Billpay/Project Control Artifacts/PCR/Archive/DBP PCR 30.xlsx\n",
      "/Users/rmRM/Desktop/Evgenii/DS/Tier 1 - 4/UP-17-02 Decoupling Billpay/Project Control Artifacts/PCR/Archive/DBP Project Change Request 001 Spanish.xlsx\n",
      "/Users/rmRM/Desktop/Evgenii/DS/Tier 1 - 4/UP-17-02 Decoupling Billpay/Project Control Artifacts/PCR/Archive/DBP Project-Change-Request-005-NGP Prod Fixes V2.xlsx\n",
      "/Users/rmRM/Desktop/Evgenii/DS/Tier 1 - 4/UP-17-02 Decoupling Billpay/Project Control Artifacts/PCR/Archive/DBP Project-Change-Request-006-MasterMerchant-v1.4.xlsx\n",
      "/Users/rmRM/Desktop/Evgenii/DS/Tier 1 - 4/UP-17-02 Decoupling Billpay/Project Control Artifacts/PCR/Archive/DBP Project-Change-Request-007-EmployeePilot-v1 (Autosaved).xlsx\n",
      "/Users/rmRM/Desktop/Evgenii/DS/Tier 1 - 4/UP-17-02 Decoupling Billpay/Project Control Artifacts/PCR/Archive/DBP Project-Change-Request-008-SameDay-v1.4 (3).xlsx\n",
      "/Users/rmRM/Desktop/Evgenii/DS/Tier 1 - 4/UP-17-02 Decoupling Billpay/Project Control Artifacts/PCR/Archive/DBP Project-Change-Request-009-Tech Contraint-v1.4.xlsx\n",
      "/Users/rmRM/Desktop/Evgenii/DS/Tier 1 - 4/UP-17-02 Decoupling Billpay/Project Control Artifacts/PCR/Archive/DBP Project-Change-Request-010-AutopayVsManual.xlsx\n",
      "/Users/rmRM/Desktop/Evgenii/DS/Tier 1 - 4/UP-17-02 Decoupling Billpay/Project Control Artifacts/PCR/Archive/DBP Project-Change-Request-011-Accessibility.xlsx\n",
      "/Users/rmRM/Desktop/Evgenii/DS/Tier 1 - 4/UP-17-02 Decoupling Billpay/Project Control Artifacts/PCR/Archive/DBP Project-Change-Request-012-Requirements-v1.4.xlsx\n",
      "/Users/rmRM/Desktop/Evgenii/DS/Tier 1 - 4/UP-17-02 Decoupling Billpay/Project Control Artifacts/PCR/Archive/DBP Project-Change-Request-013-Paperless-v1.4.xlsx\n",
      "/Users/rmRM/Desktop/Evgenii/DS/Tier 1 - 4/UP-17-02 Decoupling Billpay/Project Control Artifacts/PCR/Archive/DBP Project-Change-Request-014-Masking-v1.4.xlsx\n",
      "/Users/rmRM/Desktop/Evgenii/DS/Tier 1 - 4/UP-17-02 Decoupling Billpay/Project Control Artifacts/PCR/Archive/DBP Project-Change-Request-015-SSN- DOB.xlsx\n",
      "/Users/rmRM/Desktop/Evgenii/DS/Tier 1 - 4/UP-17-02 Decoupling Billpay/Project Control Artifacts/PCR/Archive/DBP Project-Change-Request-016-TnC-Entitlements.xlsx\n"
     ]
    },
    {
     "name": "stderr",
     "output_type": "stream",
     "text": [
      " 75%|███████▍  | 6024/8058 [1:40:38<06:44,  5.03it/s]"
     ]
    },
    {
     "name": "stdout",
     "output_type": "stream",
     "text": [
      "/Users/rmRM/Desktop/Evgenii/DS/Tier 1 - 4/UP-17-02 Decoupling Billpay/Project Control Artifacts/PCR/Archive/DBP Project-Change-Request-017-NGP-S-v1.4.xlsx\n",
      "/Users/rmRM/Desktop/Evgenii/DS/Tier 1 - 4/UP-17-02 Decoupling Billpay/Project Control Artifacts/PCR/Archive/DBP Project-Change-Request-018-LEI-v1.4.xlsx\n",
      "/Users/rmRM/Desktop/Evgenii/DS/Tier 1 - 4/UP-17-02 Decoupling Billpay/Project Control Artifacts/PCR/Archive/DBP Project-Change-Request-019-Reporting requirements-v1.4.xlsx\n",
      "/Users/rmRM/Desktop/Evgenii/DS/Tier 1 - 4/UP-17-02 Decoupling Billpay/Project Control Artifacts/PCR/Archive/DBP Project-Change-Request-023-MasterMerchant.xlsx\n",
      "/Users/rmRM/Desktop/Evgenii/DS/Tier 1 - 4/UP-17-02 Decoupling Billpay/Project Control Artifacts/PCR/Archive/DBP Project-Change-Request-024-Batch3 changes.xlsx\n",
      "/Users/rmRM/Desktop/Evgenii/DS/Tier 1 - 4/UP-17-02 Decoupling Billpay/Project Control Artifacts/PCR/Archive/DBP Project-Change-Request-025-EDPP.xlsx\n",
      "/Users/rmRM/Desktop/Evgenii/DS/Tier 1 - 4/UP-17-02 Decoupling Billpay/Project Control Artifacts/PCR/Archive/DBP Project-Change-Request-026-Phase 1 Date Alignment.xlsx\n",
      "/Users/rmRM/Desktop/Evgenii/DS/Tier 1 - 4/UP-17-02 Decoupling Billpay/Project Control Artifacts/PCR/Archive/DBP Project-Change-Request-027-Phase 1 Same Day Fee back end testing.xlsx\n",
      "/Users/rmRM/Desktop/Evgenii/DS/Tier 1 - 4/UP-17-02 Decoupling Billpay/Project Control Artifacts/PCR/Archive/DBP Project-Change-Request-029-API Certification.xlsx\n",
      "/Users/rmRM/Desktop/Evgenii/DS/Tier 1 - 4/UP-17-02 Decoupling Billpay/Project Control Artifacts/PCR/Archive/DBP Project-Change-Request-20-Consolidated 5-16.xlsx\n",
      "/Users/rmRM/Desktop/Evgenii/DS/Tier 1 - 4/UP-17-02 Decoupling Billpay/Project Control Artifacts/PCR/Archive/DBP Project-Change-Request-Markting Budget - 021.xlsx\n",
      "/Users/rmRM/Desktop/Evgenii/DS/Tier 1 - 4/UP-17-02 Decoupling Billpay/Project Control Artifacts/PCR/Archive/Decoupled bill pay - PCR Assessment-ENF-4.pptx\n",
      "/Users/rmRM/Desktop/Evgenii/DS/Tier 1 - 4/UP-17-02 Decoupling Billpay/Project Control Artifacts/PCR/Archive/Feedback survey in the app.pptx\n",
      "/Users/rmRM/Desktop/Evgenii/DS/Tier 1 - 4/UP-17-02 Decoupling Billpay/Project Control Artifacts/PCR/Archive/PCR Change_Tracker_vMarch_14_v95.xlsx\n",
      "/Users/rmRM/Desktop/Evgenii/DS/Tier 1 - 4/UP-17-02 Decoupling Billpay/Project Control Artifacts/PCR/Archive/PCR Change_Tracker_vMarch_20_v99 CR.xlsx\n",
      "/Users/rmRM/Desktop/Evgenii/DS/Tier 1 - 4/UP-17-02 Decoupling Billpay/Project Control Artifacts/PCR/Archive/PCR Change_Tracker_vMarch_28_v992 CR.xlsx\n",
      "/Users/rmRM/Desktop/Evgenii/DS/Tier 1 - 4/UP-17-02 Decoupling Billpay/Project Control Artifacts/PCR/Archive/PCR Request list.xlsx\n",
      "/Users/rmRM/Desktop/Evgenii/DS/Tier 1 - 4/UP-17-02 Decoupling Billpay/Project Control Artifacts/Project Governance/Archive/TD_Decoupled Bill Pay PMO_Delivery_Governance_Overview apr 26.pptx\n",
      "/Users/rmRM/Desktop/Evgenii/DS/Tier 1 - 4/UP-17-02 Decoupling Billpay/Project Control Artifacts/Project Governance/Archive/TD_Decoupled Bill Pay PMO_Delivery_Governance_Overview.pptx\n",
      "/Users/rmRM/Desktop/Evgenii/DS/Tier 1 - 4/UP-17-02 Decoupling Billpay/Project Control Artifacts/Project Risk Documentation/PIA_IRA/Decoupled US Bill Pay PRIV_PIA_FINAL.xlsx\n",
      "/Users/rmRM/Desktop/Evgenii/DS/Tier 1 - 4/UP-17-02 Decoupling Billpay/Project Control Artifacts/Project Risk Documentation/PIA_IRA/Decoupled US Bill Pay PRIV_PIA_Privacy_Impact_Assessment 2018-04-18.xlsx\n"
     ]
    },
    {
     "name": "stderr",
     "output_type": "stream",
     "text": [
      " 76%|███████▌  | 6132/8058 [1:40:38<03:09, 10.15it/s]"
     ]
    },
    {
     "name": "stdout",
     "output_type": "stream",
     "text": [
      "/Users/rmRM/Desktop/Evgenii/DS/Tier 1 - 4/UP-17-02 Decoupling Billpay/Project Control Artifacts/Vendor Management/Presentations and Documentation/Architecture_Blueprint-strategic_bill_pay-v0.6.docx\n",
      "/Users/rmRM/Desktop/Evgenii/DS/Tier 1 - 4/UP-17-02 Decoupling Billpay/Project Control Artifacts/Vendor Management/Presentations and Documentation/U.S Bill Pay Phase 2 - GTAC Presentation.pptx\n",
      "/Users/rmRM/Desktop/Evgenii/DS/Tier 1 - 4/UP-17-02 Decoupling Billpay/Project Control Artifacts/Vendor Management/TD Bank Fiserv Challenger Pilot Addendum 12Jun2017v2.doc\n",
      "/Users/rmRM/Desktop/Evgenii/DS/Tier 1 - 4/UP-17-02 Decoupling Billpay/Project Control Artifacts/Vendor Management/TD Bank Fiserv Challenger Pilot Addendum 12Jun2017v2.docx\n",
      "/Users/rmRM/Desktop/Evgenii/DS/Tier 1 - 4/UP-17-02 Decoupling Billpay/Project Control Artifacts/WBS_Project Schedule/Archive/Bill Pay - Gantt Chart-MVP.xlsx\n",
      "/Users/rmRM/Desktop/Evgenii/DS/Tier 1 - 4/UP-17-02 Decoupling Billpay/Project Control Artifacts/WBS_Project Schedule/Archive/DCX-Schedule-Published.xlsx\n",
      "/Users/rmRM/Desktop/Evgenii/DS/Tier 1 - 4/UP-17-02 Decoupling Billpay/Project Control Artifacts/WBS_Project Schedule/Archive/Gantt Chart_ Aug_1st_2017.xlsx\n",
      "/Users/rmRM/Desktop/Evgenii/DS/Tier 1 - 4/UP-17-02 Decoupling Billpay/Project Control Artifacts/WBS_Project Schedule/Archive/High Level Schedule V3.xlsx\n",
      "/Users/rmRM/Desktop/Evgenii/DS/Tier 1 - 4/UP-17-02 Decoupling Billpay/Project Control Artifacts/WBS_Project Schedule/Archive/High Level Schedule V5 July_04.xlsx\n",
      "/Users/rmRM/Desktop/Evgenii/DS/Tier 1 - 4/UP-17-02 Decoupling Billpay/Technology/QA/Same Day Testing/Core Banking  Deposit Ops SIT Closure Report Decouple eBill Sameday Project V 1.1_PDP.docx\n",
      "/Users/rmRM/Desktop/Evgenii/DS/Tier 1 - 4/UP-17-02 Decoupling Billpay/Technology/QA/Same Day Testing/Customer Facing Collateral Testing Results matrix.xlsx\n",
      "/Users/rmRM/Desktop/Evgenii/DS/Tier 1 - 4/UP-17-02 Decoupling Billpay/Technology/Same Day Payment/Decoupled Bill Pay Test Closure Report 0.2 091218.doc\n",
      "/Users/rmRM/Desktop/Evgenii/DS/Tier 1 - 4/UP-17-02 Decoupling Billpay/Technology/Same Day Payment/Decoupled Bill Pay Test Closure Report 0.2 091218.docx\n",
      "/Users/rmRM/Desktop/Evgenii/DS/Tier 1 - 4/UP-17-02 Decoupling Billpay/Technology/Same Day Payment/HP EXSTREAM_STMT_TEST_REQUEST_FORM_PAT_091318.doc\n",
      "/Users/rmRM/Desktop/Evgenii/DS/Tier 1 - 4/UP-17-02 Decoupling Billpay/Technology/Same Day Payment/HP EXSTREAM_STMT_TEST_REQUEST_FORM_PAT_091318.docx\n",
      "/Users/rmRM/Desktop/Evgenii/DS/Tier 1 - 4/UP-17-02 Decoupling Billpay/Technology/Same Day Payment/HP ExStream Statement Testing_Runbooks_PAT_C1_091318.xls\n",
      "/Users/rmRM/Desktop/Evgenii/DS/Tier 1 - 4/UP-17-02 Decoupling Billpay/Technology/Same Day Payment/HP ExStream Statement Testing_Runbooks_PAT_C1_091318.xlsx\n",
      "/Users/rmRM/Desktop/Evgenii/DS/Tier 1 - 4/UP-17-02 Decoupling Billpay/Technology/Same Day Payment/Runbook - CHG0202112 PAT v1.1 - Decoupled (Same-day) Payment - IM Tran Code Updates.xls\n"
     ]
    },
    {
     "name": "stderr",
     "output_type": "stream",
     "text": [
      " 77%|███████▋  | 6166/8058 [1:40:40<02:48, 11.24it/s]"
     ]
    },
    {
     "name": "stdout",
     "output_type": "stream",
     "text": [
      "/Users/rmRM/Desktop/Evgenii/DS/Tier 1 - 4/UP-17-02 Decoupling Billpay/Technology/Same Day Payment/Runbook - CHG0202112 PAT v1.1 - Decoupled (Same-day) Payment - IM Tran Code Updates.xlsx\n",
      "/Users/rmRM/Desktop/Evgenii/DS/Tier 1 - 4/UP-17-02 Decoupling Billpay/Vendor Artifacts and Documentation/SOW/TD Bank Fiserv Challenger Pilot Addendum 12Jun2017v2.doc\n",
      "/Users/rmRM/Desktop/Evgenii/DS/Tier 1 - 4/UP-17-02 Decoupling Billpay/Vendor Artifacts and Documentation/SOW/TD Bank Fiserv Challenger Pilot Addendum 12Jun2017v2.docx\n"
     ]
    },
    {
     "name": "stderr",
     "output_type": "stream",
     "text": [
      " 77%|███████▋  | 6201/8058 [1:40:40<02:00, 15.45it/s]"
     ]
    },
    {
     "name": "stdout",
     "output_type": "stream",
     "text": [
      "/Users/rmRM/Desktop/Evgenii/DS/Tier 1 - 4/UP-17-04 Zelle Branding/Change Management/Zelle Branding Change Management SIA - v1.0.xlsx\n",
      "/Users/rmRM/Desktop/Evgenii/DS/Tier 1 - 4/UP-17-04 Zelle Branding/Closure/Business Test Closure Summary Zelle Branding.doc\n",
      "/Users/rmRM/Desktop/Evgenii/DS/Tier 1 - 4/UP-17-04 Zelle Branding/Closure/Business Test Closure Summary Zelle Branding.docx\n"
     ]
    },
    {
     "name": "stderr",
     "output_type": "stream",
     "text": [
      " 77%|███████▋  | 6222/8058 [1:40:41<01:31, 19.99it/s]"
     ]
    },
    {
     "name": "stdout",
     "output_type": "stream",
     "text": [
      "/Users/rmRM/Desktop/Evgenii/DS/Tier 1 - 4/UP-17-04 Zelle Branding/Closure/RE USDP 1.6 Release Success Notification.msg\n",
      "/Users/rmRM/Desktop/Evgenii/DS/Tier 1 - 4/UP-17-04 Zelle Branding/PIM/PIF_Zelle Branding.xls\n"
     ]
    },
    {
     "name": "stderr",
     "output_type": "stream",
     "text": [
      " 78%|███████▊  | 6246/8058 [1:40:41<01:09, 25.92it/s]"
     ]
    },
    {
     "name": "stdout",
     "output_type": "stream",
     "text": [
      "/Users/rmRM/Desktop/Evgenii/DS/Tier 1 - 4/UP-17-04 Zelle Branding/PIM/PIF_Zelle Branding.xlsx\n",
      "/Users/rmRM/Desktop/Evgenii/DS/Tier 1 - 4/UP-17-04 Zelle Branding/Project Control Artifacts/Governance and Control/Copy of TDB Zelle Rebranding-Risk Intake Packet 20180305final.xls\n"
     ]
    },
    {
     "name": "stderr",
     "output_type": "stream",
     "text": [
      " 78%|███████▊  | 6267/8058 [1:40:42<01:02, 28.63it/s]"
     ]
    },
    {
     "name": "stdout",
     "output_type": "stream",
     "text": [
      "/Users/rmRM/Desktop/Evgenii/DS/Tier 1 - 4/UP-17-04 Zelle Branding/Project Control Artifacts/Governance and Control/Copy of TDB Zelle Rebranding-Risk Intake Packet 20180305final.xlsx\n",
      "/Users/rmRM/Desktop/Evgenii/DS/Tier 1 - 4/UP-17-04 Zelle Branding/Project Control Artifacts/Initiation Documents/Requirements/Zelle Branding 101917.docx\n",
      "/Users/rmRM/Desktop/Evgenii/DS/Tier 1 - 4/UP-17-04 Zelle Branding/Scope_Requirements Management/Designs - Wireframes, Visual Design, MCD/Archive/Zelle Rebrand MCD v2.3 2018_0228 kt.docx\n",
      "/Users/rmRM/Desktop/Evgenii/DS/Tier 1 - 4/UP-17-04 Zelle Branding/Scope_Requirements Management/Designs - Wireframes, Visual Design, MCD/Archive/Zelle_Wireframes_v2.3.docx\n",
      "/Users/rmRM/Desktop/Evgenii/DS/Tier 1 - 4/UP-17-04 Zelle Branding/Scope_Requirements Management/Terms and Conditions/Reconciled Zelle and A2A Terms and Conditions 2018-03-15 Final.doc\n",
      "/Users/rmRM/Desktop/Evgenii/DS/Tier 1 - 4/UP-17-04 Zelle Branding/Scope_Requirements Management/Terms and Conditions/Reconciled Zelle and A2A Terms and Conditions 2018-03-15 Final.docx\n",
      "/Users/rmRM/Desktop/Evgenii/DS/Tier 1 - 4/UP-17-04 Zelle Branding/Scope_Requirements Management/Terms and Conditions/Reconciled Zelle and A2A Terms and Conditions 2018-03-23 Final (no green).doc\n",
      "/Users/rmRM/Desktop/Evgenii/DS/Tier 1 - 4/UP-17-04 Zelle Branding/Scope_Requirements Management/Terms and Conditions/Reconciled Zelle and A2A Terms and Conditions 2018-03-23 Final (no green).docx\n",
      "/Users/rmRM/Desktop/Evgenii/DS/Tier 5 - 6/TB-15-82 HFIAA - Home Flood Insurance Affordability Act/Deployment_Closure/Closure Documents/Budget sheet calculator 00024770.xls\n"
     ]
    },
    {
     "name": "stderr",
     "output_type": "stream",
     "text": [
      " 78%|███████▊  | 6325/8058 [1:40:42<00:45, 37.82it/s]"
     ]
    },
    {
     "name": "stdout",
     "output_type": "stream",
     "text": [
      "/Users/rmRM/Desktop/Evgenii/DS/Tier 5 - 6/TB-15-82 HFIAA - Home Flood Insurance Affordability Act/Deployment_Closure/Closure Documents/Budget sheet calculator 00024770.xlsx\n",
      "/Users/rmRM/Desktop/Evgenii/DS/Tier 5 - 6/TB-15-82 HFIAA - Home Flood Insurance Affordability Act/Deployment_Closure/Closure Documents/TB-15-82 HFIAA - Project Closure Presentation Deck 01-12-16.ppt\n",
      "/Users/rmRM/Desktop/Evgenii/DS/Tier 5 - 6/TB-15-82 HFIAA - Home Flood Insurance Affordability Act/Deployment_Closure/Closure Documents/TB-15-82 HFIAA - Project Closure Presentation Deck 01-12-16.pptx\n",
      "/Users/rmRM/Desktop/Evgenii/DS/Tier 5 - 6/TB-15-82 HFIAA - Home Flood Insurance Affordability Act/Deployment_Closure/Go_No_Go/20151201 HFIAA Go-No-Go Minutes.ppt\n",
      "/Users/rmRM/Desktop/Evgenii/DS/Tier 5 - 6/TB-15-82 HFIAA - Home Flood Insurance Affordability Act/Deployment_Closure/Go_No_Go/20151201 HFIAA Go-No-Go Minutes.pptx\n",
      "/Users/rmRM/Desktop/Evgenii/DS/Tier 5 - 6/TB-15-82 HFIAA - Home Flood Insurance Affordability Act/Deployment_Closure/Go_No_Go/HFIAA 30-Day Readiness Session Final.pptx\n",
      "/Users/rmRM/Desktop/Evgenii/DS/Tier 5 - 6/TB-15-82 HFIAA - Home Flood Insurance Affordability Act/Deployment_Closure/Implementation Plan/TDBANK_Run_Book_12052015_PROD.xlsx\n",
      "/Users/rmRM/Desktop/Evgenii/DS/Tier 5 - 6/TB-15-82 HFIAA - Home Flood Insurance Affordability Act/Deployment_Closure/Project Readiness Communication/20151201 HFIAA Go-No-Go Minutes.ppt\n"
     ]
    },
    {
     "name": "stderr",
     "output_type": "stream",
     "text": [
      " 79%|███████▊  | 6338/8058 [1:40:43<01:27, 19.70it/s]"
     ]
    },
    {
     "name": "stdout",
     "output_type": "stream",
     "text": [
      "/Users/rmRM/Desktop/Evgenii/DS/Tier 5 - 6/TB-15-82 HFIAA - Home Flood Insurance Affordability Act/Deployment_Closure/Project Readiness Communication/20151201 HFIAA Go-No-Go Minutes.pptx\n",
      "/Users/rmRM/Desktop/Evgenii/DS/Tier 5 - 6/TB-15-82 HFIAA - Home Flood Insurance Affordability Act/Deployment_Closure/Project Readiness Communication/30 Day Readiness Assessment_HFIAA R50.5 - DgC.pptx\n",
      "/Users/rmRM/Desktop/Evgenii/DS/Tier 5 - 6/TB-15-82 HFIAA - Home Flood Insurance Affordability Act/Deployment_Closure/Project Readiness Communication/HFIAA 30-Day Readiness Session Final.pptx\n",
      "/Users/rmRM/Desktop/Evgenii/DS/Tier 5 - 6/TB-15-82 HFIAA - Home Flood Insurance Affordability Act/Meetings_Communications/Communication Plan/Communications_Strategy - HFIAA 05-19-15.doc\n",
      "/Users/rmRM/Desktop/Evgenii/DS/Tier 5 - 6/TB-15-82 HFIAA - Home Flood Insurance Affordability Act/Meetings_Communications/Communication Plan/Communications_Strategy - HFIAA 05-19-15.docx\n",
      "/Users/rmRM/Desktop/Evgenii/DS/Tier 5 - 6/TB-15-82 HFIAA - Home Flood Insurance Affordability Act/Meetings_Communications/Project Communications/Home Flood Insurance Affordability Act  Kick-Off Meeting 05-06-15.docx\n",
      "/Users/rmRM/Desktop/Evgenii/DS/Tier 5 - 6/TB-15-82 HFIAA - Home Flood Insurance Affordability Act/Meetings_Communications/Project Communications/Minutes_HFIAA_TechWeekly_2015-06-05.docx\n",
      "/Users/rmRM/Desktop/Evgenii/DS/Tier 5 - 6/TB-15-82 HFIAA - Home Flood Insurance Affordability Act/Meetings_Communications/Project RAID log/RAID Log - HFIAA 08-17-15.xlsx\n",
      "/Users/rmRM/Desktop/Evgenii/DS/Tier 5 - 6/TB-15-82 HFIAA - Home Flood Insurance Affordability Act/Meetings_Communications/Project Status Meeting Minutes/Minutes_HFIAA_TechWeekly_2015-06-05.docx\n",
      "/Users/rmRM/Desktop/Evgenii/DS/Tier 5 - 6/TB-15-82 HFIAA - Home Flood Insurance Affordability Act/Project Control Artifacts/IPP - Integrated Project Plan/HFIAA Integrated Project Plan Draft.docx\n",
      "/Users/rmRM/Desktop/Evgenii/DS/Tier 5 - 6/TB-15-82 HFIAA - Home Flood Insurance Affordability Act/Project Control Artifacts/Project Governance/IRA DgC Inherent Risk Assessment - HFIAA.xlsx\n",
      "/Users/rmRM/Desktop/Evgenii/DS/Tier 5 - 6/TB-15-82 HFIAA - Home Flood Insurance Affordability Act/Project Control Artifacts/Project Risk Documentation/IRA/IRA DgC Inherent Risk Assessment - HFIAA.xlsx\n",
      "/Users/rmRM/Desktop/Evgenii/DS/Tier 5 - 6/TB-15-82 HFIAA - Home Flood Insurance Affordability Act/Project Control Artifacts/RACI/DgC RACI - HFIAA 07-08-15.xlsx\n",
      "/Users/rmRM/Desktop/Evgenii/DS/Tier 5 - 6/TB-15-82 HFIAA - Home Flood Insurance Affordability Act/Project Control Artifacts/RAID Log/RAID Log - HFIAA 10-21-15.xlsx\n",
      "/Users/rmRM/Desktop/Evgenii/DS/Tier 5 - 6/TB-15-82 HFIAA - Home Flood Insurance Affordability Act/Project Control Artifacts/Tier Classification Tool/Tier Classification Tool - HFIAA 05-21-15.xls\n"
     ]
    },
    {
     "name": "stderr",
     "output_type": "stream",
     "text": [
      " 79%|███████▉  | 6376/8058 [1:40:44<00:54, 31.05it/s]"
     ]
    },
    {
     "name": "stdout",
     "output_type": "stream",
     "text": [
      "/Users/rmRM/Desktop/Evgenii/DS/Tier 5 - 6/TB-15-82 HFIAA - Home Flood Insurance Affordability Act/Project Control Artifacts/Tier Classification Tool/Tier Classification Tool - HFIAA 05-21-15.xlsx\n",
      "/Users/rmRM/Desktop/Evgenii/DS/Tier 5 - 6/TB-15-82 HFIAA - Home Flood Insurance Affordability Act/Project Gating_Financials/Pipeline Approval/MIR Meeting Minutes Apr 07 - HFIAA Pipeline.doc\n",
      "/Users/rmRM/Desktop/Evgenii/DS/Tier 5 - 6/TB-15-82 HFIAA - Home Flood Insurance Affordability Act/Project Gating_Financials/Pipeline Approval/MIR Meeting Minutes Apr 07 - HFIAA Pipeline.docx\n",
      "/Users/rmRM/Desktop/Evgenii/DS/Tier 5 - 6/TB-15-82 HFIAA - Home Flood Insurance Affordability Act/Project Gating_Financials/ROM Estimates_Approvals/MIR Meeting Minutes Jul07 2015 - HFIAA Seed Funding.doc\n",
      "/Users/rmRM/Desktop/Evgenii/DS/Tier 5 - 6/TB-15-82 HFIAA - Home Flood Insurance Affordability Act/Project Gating_Financials/ROM Estimates_Approvals/MIR Meeting Minutes Jul07 2015 - HFIAA Seed Funding.docx\n",
      "/Users/rmRM/Desktop/Evgenii/DS/Tier 5 - 6/TB-15-82 HFIAA - Home Flood Insurance Affordability Act/Project Gating_Financials/Seed Funding Deck/MIR Tier 5 - HFIAA ROM 06-05-15.xlsx\n",
      "/Users/rmRM/Desktop/Evgenii/DS/Tier 5 - 6/TB-15-82 HFIAA - Home Flood Insurance Affordability Act/Project Gating_Financials/Seed Funding FPT_Approvals/MIR Tier 5 - HFIAA ROM 06-26-15.xlsx\n",
      "/Users/rmRM/Desktop/Evgenii/DS/Tier 5 - 6/TB-15-82 HFIAA - Home Flood Insurance Affordability Act/Scope_Requirements Management/Design Documents/DgC HFIAA Use Cases.docx\n",
      "/Users/rmRM/Desktop/Evgenii/DS/Tier 5 - 6/TB-15-82 HFIAA - Home Flood Insurance Affordability Act/Scope_Requirements Management/Design Documents/HFIAA MCD v5_JDH.docx\n",
      "/Users/rmRM/Desktop/Evgenii/DS/Tier 5 - 6/TB-15-82 HFIAA - Home Flood Insurance Affordability Act/Scope_Requirements Management/Design Documents/SDS_HFIAA_V_02.docx\n",
      "/Users/rmRM/Desktop/Evgenii/DS/Tier 5 - 6/TB-15-82 HFIAA - Home Flood Insurance Affordability Act/Scope_Requirements Management/Design Documents/SRS_ITTDB1001038_ALSCOM Rlse 50 5_v1 1 - 2015 06 09.docx\n",
      "/Users/rmRM/Desktop/Evgenii/DS/Tier 5 - 6/TB-15-82 HFIAA - Home Flood Insurance Affordability Act/Scope_Requirements Management/Requirements Document/BRD Approvals.docx\n",
      "/Users/rmRM/Desktop/Evgenii/DS/Tier 5 - 6/TB-15-82 HFIAA - Home Flood Insurance Affordability Act/Scope_Requirements Management/Requirements Document/HFIAA BRD v2.0 Approved.docx\n",
      "/Users/rmRM/Desktop/Evgenii/DS/Tier 5 - 6/TB-15-82 HFIAA - Home Flood Insurance Affordability Act/Scope_Requirements Management/Requirements Document/HFIAA HLRs v.02.docx\n",
      "/Users/rmRM/Desktop/Evgenii/DS/Tier 5 - 6/TB-15-82 HFIAA - Home Flood Insurance Affordability Act/Scope_Requirements Management/Scope Deck/HSIAA Scope Definition v5.ppt\n",
      "/Users/rmRM/Desktop/Evgenii/DS/Tier 5 - 6/TB-15-82 HFIAA - Home Flood Insurance Affordability Act/Scope_Requirements Management/Scope Deck/HSIAA Scope Definition v5.pptx\n",
      "/Users/rmRM/Desktop/Evgenii/DS/Tier 5 - 6/TB-15-82 HFIAA - Home Flood Insurance Affordability Act/Scope_Requirements Management/Scope Deck/Scope Document Approvals.docx\n",
      "/Users/rmRM/Desktop/Evgenii/DS/Tier 5 - 6/TB-15-82 HFIAA - Home Flood Insurance Affordability Act/Scope_Requirements Management/Traceability Matrix/HFIAA Trace Matrix V 0.1.xlsx\n",
      "/Users/rmRM/Desktop/Evgenii/DS/Tier 5 - 6/TB-15-82 HFIAA - Home Flood Insurance Affordability Act/Scope_Requirements Management/Traceability Matrix/HFIAATrace Matrix - Email  Alerts V 0.01.xlsx\n",
      "/Users/rmRM/Desktop/Evgenii/DS/Tier 5 - 6/TB-15-82 HFIAA - Home Flood Insurance Affordability Act/Scope_Requirements Management/Use Cases/DgC HFIAA Use Cases.docx\n",
      "/Users/rmRM/Desktop/Evgenii/DS/Tier 5 - 6/TB-15-82 HFIAA - Home Flood Insurance Affordability Act/Scope_Requirements Management/Wireframes/DgC HFIAA Use Cases.docx\n",
      "/Users/rmRM/Desktop/Evgenii/DS/Tier 5 - 6/TB-15-82 HFIAA - Home Flood Insurance Affordability Act/Scope_Requirements Management/Wireframes/HFIAA MCD v3_JDH.docx\n",
      "/Users/rmRM/Desktop/Evgenii/DS/Tier 5 - 6/TB-15-82 HFIAA - Home Flood Insurance Affordability Act/Scope_Requirements Management/Wireframes/SDS_HFIAA_V_02.docx\n",
      "/Users/rmRM/Desktop/Evgenii/DS/Tier 5 - 6/TB-15-82 HFIAA - Home Flood Insurance Affordability Act/Scope_Requirements Management/Wireframes/SRS_ITTDB1001038_ALSCOM Rlse 50 5_v1 1 - 2015 06 09.docx\n",
      "/Users/rmRM/Desktop/Evgenii/DS/Tier 5 - 6/TB-15-82 HFIAA - Home Flood Insurance Affordability Act/Testing Documentation/Test Plan - HFIAA V 1.1.doc\n"
     ]
    },
    {
     "name": "stderr",
     "output_type": "stream",
     "text": [
      " 80%|███████▉  | 6408/8058 [1:40:44<00:39, 41.84it/s]"
     ]
    },
    {
     "name": "stdout",
     "output_type": "stream",
     "text": [
      "/Users/rmRM/Desktop/Evgenii/DS/Tier 5 - 6/TB-15-82 HFIAA - Home Flood Insurance Affordability Act/Testing Documentation/Test Plan - HFIAA V 1.1.docx\n",
      "/Users/rmRM/Desktop/Evgenii/DS/Tier 5 - 6/TB-15-82 HFIAA - Home Flood Insurance Affordability Act/Testing Documentation/Test Strategy - HFIAA V 1.1.doc\n",
      "/Users/rmRM/Desktop/Evgenii/DS/Tier 5 - 6/TB-15-82 HFIAA - Home Flood Insurance Affordability Act/Testing Documentation/Test Strategy - HFIAA V 1.1.docx\n",
      "/Users/rmRM/Desktop/Evgenii/DS/Tier 5 - 6/TB-16-54 2016 Partner Funded Small Enhancements Project Folder/Scope_Requirements Management/Design Document(MCD_Visual)/SBB Payroll WP/2016TDBankPayrollVideoScript.docx\n",
      "/Users/rmRM/Desktop/Evgenii/DS/Tier 5 - 6/TB-16-54 2016 Partner Funded Small Enhancements Project Folder/Scope_Requirements Management/Design Document(MCD_Visual)/SBB Payroll WP/Screenshots for TD Bank Video.docx\n",
      "/Users/rmRM/Desktop/Evgenii/DS/Tier 5 - 6/TB-16-54-f Tax Resource Center Refresh/Gating_Financials/Project Financial Tools/Budget Calculator/Tax Resource Center Refresh_Budget Sheet Calculator_0705.xls\n"
     ]
    },
    {
     "name": "stderr",
     "output_type": "stream",
     "text": [
      " 80%|███████▉  | 6439/8058 [1:40:44<00:30, 53.58it/s]"
     ]
    },
    {
     "name": "stdout",
     "output_type": "stream",
     "text": [
      "/Users/rmRM/Desktop/Evgenii/DS/Tier 5 - 6/TB-16-54-f Tax Resource Center Refresh/Gating_Financials/Project Financial Tools/Budget Calculator/Tax Resource Center Refresh_Budget Sheet Calculator_0705.xlsx\n",
      "/Users/rmRM/Desktop/Evgenii/DS/Tier 5 - 6/TB-16-54-f Tax Resource Center Refresh/Gating_Financials/Project Financial Tools/Budget Calculator/Tax Resource Center Refresh_Budget Sheet Calculator_0802.xls\n",
      "/Users/rmRM/Desktop/Evgenii/DS/Tier 5 - 6/TB-16-54-f Tax Resource Center Refresh/Gating_Financials/Project Financial Tools/Budget Calculator/Tax Resource Center Refresh_Budget Sheet Calculator_0802.xlsx\n",
      "/Users/rmRM/Desktop/Evgenii/DS/Tier 5 - 6/TB-16-54-f Tax Resource Center Refresh/Gating_Financials/Project Financial Tools/Budget Calculator/Tax Resource Center Refresh_Budget Sheet Calculator_0906.xls\n"
     ]
    },
    {
     "name": "stderr",
     "output_type": "stream",
     "text": [
      " 81%|████████  | 6497/8058 [1:40:45<00:22, 68.13it/s]"
     ]
    },
    {
     "name": "stdout",
     "output_type": "stream",
     "text": [
      "/Users/rmRM/Desktop/Evgenii/DS/Tier 5 - 6/TB-16-54-f Tax Resource Center Refresh/Gating_Financials/Project Financial Tools/Budget Calculator/Tax Resource Center Refresh_Budget Sheet Calculator_0906.xlsx\n",
      "/Users/rmRM/Desktop/Evgenii/DS/Tier 5 - 6/TB-17-08 Partner-Funded Small Enhancements/Project Control Artifacts/PCR/Corporate Reloadable Cards PCR-003 FY18 Additional Funding.xlsx\n",
      "/Users/rmRM/Desktop/Evgenii/DS/Tier 5 - 6/TB-17-08 Partner-Funded Small Enhancements/Project Control Artifacts/PCR/PCR-002 - Corporate Reloadable Cards Funding for 2018.xlsx\n",
      "/Users/rmRM/Desktop/Evgenii/DS/Tier 5 - 6/TB-17-08 Partner-Funded Small Enhancements/Project Control Artifacts/PCR/PCR-004 Pay Card Visa Alerts Cross Sell.xlsx\n",
      "/Users/rmRM/Desktop/Evgenii/DS/Tier 5 - 6/TB-17-08 Partner-Funded Small Enhancements/Project Control Artifacts/PCR/TDB AMCB Corporate Reloadable Cards- PCR-001- Budget.xlsx\n",
      "/Users/rmRM/Desktop/Evgenii/DS/Tier 5 - 6/TB-17-08 Partner-Funded Small Enhancements/Project Control Artifacts/PPT_RACI/TB-17-08-b Corporate Reloadable Cards Workbook.xlsx\n",
      "/Users/rmRM/Desktop/Evgenii/DS/Tier 5 - 6/TB-17-08 Partner-Funded Small Enhancements/Project Control Artifacts/Project Governance/Corporate Reloadable Cards_Letter of Engagement_Nov 2016.xlsx\n",
      "/Users/rmRM/Desktop/Evgenii/DS/Tier 5 - 6/TB-17-08 Partner-Funded Small Enhancements/Project Control Artifacts/Project Governance/Department of Labor - Letter of engagement Nov 2016.xlsx\n",
      "/Users/rmRM/Desktop/Evgenii/DS/Tier 5 - 6/TB-17-08 Partner-Funded Small Enhancements/Project Control Artifacts/Project Governance/LOE in Checking Statement Offer – Wave 4 (12-08-16) v0.2.xlsx\n",
      "/Users/rmRM/Desktop/Evgenii/DS/Tier 5 - 6/TB-17-08 Partner-Funded Small Enhancements/Project Control Artifacts/Project Governance/Social Media Letter of engagement_1.0.xlsx\n",
      "/Users/rmRM/Desktop/Evgenii/DS/Tier 5 - 6/TB-17-08 Partner-Funded Small Enhancements/Project Control Artifacts/Project Governance/Visa Debit Rewards LOE.xlsx\n",
      "/Users/rmRM/Desktop/Evgenii/DS/Tier 5 - 6/TB-17-08 Partner-Funded Small Enhancements/Project Control Artifacts/Project Risk Documentation/PIA_IRA/Corporate Reloadable PIA LOB response_HB_CMO Response 10172016.xlsx\n",
      "/Users/rmRM/Desktop/Evgenii/DS/Tier 5 - 6/TB-17-08 Partner-Funded Small Enhancements/Project Control Artifacts/Project Risk Documentation/PIA_IRA/Project_Gating_and_QA_Checklist Corporate Reloadable Cards V2-JM.xlsx\n",
      "/Users/rmRM/Desktop/Evgenii/DS/Tier 5 - 6/TB-17-08 Partner-Funded Small Enhancements/Project Gating_Financials/Gate 2 Deck _Approvals/Corporrate Reloadable Cards_MIR_Final.pptx\n",
      "/Users/rmRM/Desktop/Evgenii/DS/Tier 5 - 6/TB-17-08 Partner-Funded Small Enhancements/Project Gating_Financials/Project Financial Tools/Budget Calculator/Checking Statement Offer Wave4_Budget worksheet.xls\n",
      "/Users/rmRM/Desktop/Evgenii/DS/Tier 5 - 6/TB-17-08 Partner-Funded Small Enhancements/Project Gating_Financials/Project Financial Tools/Budget Calculator/Checking Statement Offer Wave4_Budget worksheet.xlsx\n",
      "/Users/rmRM/Desktop/Evgenii/DS/Tier 5 - 6/TB-17-08 Partner-Funded Small Enhancements/Project Gating_Financials/Project Financial Tools/Budget Calculator/Corporate Reloadable Cards_Budget worksheet.xls\n",
      "/Users/rmRM/Desktop/Evgenii/DS/Tier 5 - 6/TB-17-08 Partner-Funded Small Enhancements/Project Gating_Financials/Project Financial Tools/Budget Calculator/Corporate Reloadable Cards_Budget worksheet.xlsx\n",
      "/Users/rmRM/Desktop/Evgenii/DS/Tier 5 - 6/TB-17-08 Partner-Funded Small Enhancements/Project Gating_Financials/Project Financial Tools/Budget Calculator/Corporate Reloadable Cards_Budget worksheet_020117.xls\n",
      "/Users/rmRM/Desktop/Evgenii/DS/Tier 5 - 6/TB-17-08 Partner-Funded Small Enhancements/Project Gating_Financials/Project Financial Tools/Budget Calculator/Corporate Reloadable Cards_Budget worksheet_020117.xlsx\n",
      "/Users/rmRM/Desktop/Evgenii/DS/Tier 5 - 6/TB-17-08 Partner-Funded Small Enhancements/Project Gating_Financials/Project Financial Tools/Budget Calculator/Corporate Reloadable Cards_Budget worksheet_030217.xls\n",
      "/Users/rmRM/Desktop/Evgenii/DS/Tier 5 - 6/TB-17-08 Partner-Funded Small Enhancements/Project Gating_Financials/Project Financial Tools/Budget Calculator/Corporate Reloadable Cards_Budget worksheet_030217.xlsx\n",
      "/Users/rmRM/Desktop/Evgenii/DS/Tier 5 - 6/TB-17-08 Partner-Funded Small Enhancements/Project Gating_Financials/Project Financial Tools/Budget Calculator/Corporate Reloadable Cards_Budget worksheet_050217.xls\n",
      "/Users/rmRM/Desktop/Evgenii/DS/Tier 5 - 6/TB-17-08 Partner-Funded Small Enhancements/Project Gating_Financials/Project Financial Tools/Budget Calculator/Corporate Reloadable Cards_Budget worksheet_050217.xlsx\n",
      "/Users/rmRM/Desktop/Evgenii/DS/Tier 5 - 6/TB-17-08 Partner-Funded Small Enhancements/Project Gating_Financials/Project Financial Tools/Budget Calculator/Corporate Reloadable Cards_Budget worksheet_05302017.xls\n",
      "/Users/rmRM/Desktop/Evgenii/DS/Tier 5 - 6/TB-17-08 Partner-Funded Small Enhancements/Project Gating_Financials/Project Financial Tools/Budget Calculator/Corporate Reloadable Cards_Budget worksheet_05302017.xlsx\n",
      "/Users/rmRM/Desktop/Evgenii/DS/Tier 5 - 6/TB-17-08 Partner-Funded Small Enhancements/Project Gating_Financials/Project Financial Tools/Budget Calculator/Corporate Reloadable Cards_Budget worksheet_07032017.xls\n",
      "/Users/rmRM/Desktop/Evgenii/DS/Tier 5 - 6/TB-17-08 Partner-Funded Small Enhancements/Project Gating_Financials/Project Financial Tools/Budget Calculator/Corporate Reloadable Cards_Budget worksheet_07032017.xlsx\n",
      "/Users/rmRM/Desktop/Evgenii/DS/Tier 5 - 6/TB-17-08 Partner-Funded Small Enhancements/Project Gating_Financials/Project Financial Tools/Budget Calculator/Corporate Reloadable Cards_Budget worksheet_08022017.xls\n"
     ]
    },
    {
     "name": "stderr",
     "output_type": "stream",
     "text": [
      " 81%|████████  | 6512/8058 [1:40:46<00:49, 31.29it/s]"
     ]
    },
    {
     "name": "stdout",
     "output_type": "stream",
     "text": [
      "/Users/rmRM/Desktop/Evgenii/DS/Tier 5 - 6/TB-17-08 Partner-Funded Small Enhancements/Project Gating_Financials/Project Financial Tools/Budget Calculator/Corporate Reloadable Cards_Budget worksheet_08022017.xlsx\n",
      "/Users/rmRM/Desktop/Evgenii/DS/Tier 5 - 6/TB-17-08 Partner-Funded Small Enhancements/Project Gating_Financials/Project Financial Tools/Budget Calculator/Corporate Reloadable Cards_Budget worksheet_09012017.xls\n",
      "/Users/rmRM/Desktop/Evgenii/DS/Tier 5 - 6/TB-17-08 Partner-Funded Small Enhancements/Project Gating_Financials/Project Financial Tools/Budget Calculator/Corporate Reloadable Cards_Budget worksheet_09012017.xlsx\n",
      "/Users/rmRM/Desktop/Evgenii/DS/Tier 5 - 6/TB-17-08 Partner-Funded Small Enhancements/Project Gating_Financials/Project Financial Tools/Budget Calculator/Department of Labor_Budget Worksheet_0201.xls\n",
      "/Users/rmRM/Desktop/Evgenii/DS/Tier 5 - 6/TB-17-08 Partner-Funded Small Enhancements/Project Gating_Financials/Project Financial Tools/Budget Calculator/Department of Labor_Budget Worksheet_0201.xlsx\n",
      "/Users/rmRM/Desktop/Evgenii/DS/Tier 5 - 6/TB-17-08 Partner-Funded Small Enhancements/Project Gating_Financials/Project Financial Tools/Budget Calculator/Department of Labor_Budget Worksheet_0302.xls\n",
      "/Users/rmRM/Desktop/Evgenii/DS/Tier 5 - 6/TB-17-08 Partner-Funded Small Enhancements/Project Gating_Financials/Project Financial Tools/Budget Calculator/Department of Labor_Budget Worksheet_0302.xlsx\n",
      "/Users/rmRM/Desktop/Evgenii/DS/Tier 5 - 6/TB-17-08 Partner-Funded Small Enhancements/Project Gating_Financials/Project Financial Tools/Budget Calculator/Personal Loan Rate Change_Budget Worksheet_0302.xls\n",
      "/Users/rmRM/Desktop/Evgenii/DS/Tier 5 - 6/TB-17-08 Partner-Funded Small Enhancements/Project Gating_Financials/Project Financial Tools/Budget Calculator/Personal Loan Rate Change_Budget Worksheet_0302.xlsx\n",
      "/Users/rmRM/Desktop/Evgenii/DS/Tier 5 - 6/TB-17-08 Partner-Funded Small Enhancements/Project Gating_Financials/Project Financial Tools/Budget Calculator/Social Media Application autoFill_Budget Worksheet_0201.xls\n",
      "/Users/rmRM/Desktop/Evgenii/DS/Tier 5 - 6/TB-17-08 Partner-Funded Small Enhancements/Project Gating_Financials/Project Financial Tools/Budget Calculator/Social Media Application autoFill_Budget Worksheet_0201.xlsx\n",
      "/Users/rmRM/Desktop/Evgenii/DS/Tier 5 - 6/TB-17-08 Partner-Funded Small Enhancements/Project Gating_Financials/Project Financial Tools/Budget Calculator/Social Media Application autoFill_Budget Worksheet_0302.xls\n"
     ]
    },
    {
     "name": "stderr",
     "output_type": "stream",
     "text": [
      " 81%|████████  | 6523/8058 [1:40:47<01:14, 20.65it/s]"
     ]
    },
    {
     "name": "stdout",
     "output_type": "stream",
     "text": [
      "/Users/rmRM/Desktop/Evgenii/DS/Tier 5 - 6/TB-17-08 Partner-Funded Small Enhancements/Project Gating_Financials/Project Financial Tools/Budget Calculator/Social Media Application autoFill_Budget Worksheet_0302.xlsx\n",
      "/Users/rmRM/Desktop/Evgenii/DS/Tier 5 - 6/TB-17-08 Partner-Funded Small Enhancements/Project Gating_Financials/Project Financial Tools/Budget Calculator/Social Media Application autoFill_Budget Worksheet_0404.xls\n",
      "/Users/rmRM/Desktop/Evgenii/DS/Tier 5 - 6/TB-17-08 Partner-Funded Small Enhancements/Project Gating_Financials/Project Financial Tools/Budget Calculator/Social Media Application autoFill_Budget Worksheet_0404.xlsx\n",
      "/Users/rmRM/Desktop/Evgenii/DS/Tier 5 - 6/TB-17-08 Partner-Funded Small Enhancements/Project Gating_Financials/Project Financial Tools/Budget Calculator/Social Media Application autoFill_Budget Worksheet_0502.xls\n",
      "/Users/rmRM/Desktop/Evgenii/DS/Tier 5 - 6/TB-17-08 Partner-Funded Small Enhancements/Project Gating_Financials/Project Financial Tools/Budget Calculator/Social Media Application autoFill_Budget Worksheet_0502.xlsx\n",
      "/Users/rmRM/Desktop/Evgenii/DS/Tier 5 - 6/TB-17-08 Partner-Funded Small Enhancements/Project Gating_Financials/Project Financial Tools/Budget Calculator/Visa Debit Card Rewrd Refresh_Budget Worksheet_0201.xls\n"
     ]
    },
    {
     "name": "stderr",
     "output_type": "stream",
     "text": [
      " 81%|████████  | 6531/8058 [1:40:47<01:32, 16.47it/s]"
     ]
    },
    {
     "name": "stdout",
     "output_type": "stream",
     "text": [
      "/Users/rmRM/Desktop/Evgenii/DS/Tier 5 - 6/TB-17-08 Partner-Funded Small Enhancements/Project Gating_Financials/Project Financial Tools/Budget Calculator/Visa Debit Card Rewrd Refresh_Budget Worksheet_0201.xlsx\n",
      "/Users/rmRM/Desktop/Evgenii/DS/Tier 5 - 6/TB-17-08 Partner-Funded Small Enhancements/Project Gating_Financials/Project Financial Tools/Budget Calculator/Visa Debit Card Rewrd Refresh_Budget Worksheet_0302.xls\n",
      "/Users/rmRM/Desktop/Evgenii/DS/Tier 5 - 6/TB-17-08 Partner-Funded Small Enhancements/Project Gating_Financials/Project Financial Tools/Budget Calculator/Visa Debit Card Rewrd Refresh_Budget Worksheet_0302.xlsx\n",
      "/Users/rmRM/Desktop/Evgenii/DS/Tier 5 - 6/TB-17-08 Partner-Funded Small Enhancements/Project Gating_Financials/Project Financial Tools/Budget Calculator/Visa Debit Card Rewrd Refresh_Budget Worksheet_0505.xls\n",
      "/Users/rmRM/Desktop/Evgenii/DS/Tier 5 - 6/TB-17-08 Partner-Funded Small Enhancements/Project Gating_Financials/Project Financial Tools/Budget Calculator/Visa Debit Card Rewrd Refresh_Budget Worksheet_0505.xlsx\n",
      "/Users/rmRM/Desktop/Evgenii/DS/Tier 5 - 6/TB-17-08 Partner-Funded Small Enhancements/Project Gating_Financials/Project Financial Tools/Budget Calculator/Visa Debit Card Rewrd Refresh_Budget Worksheet_0602.xls\n",
      "/Users/rmRM/Desktop/Evgenii/DS/Tier 5 - 6/TB-17-08 Partner-Funded Small Enhancements/Project Gating_Financials/Project Financial Tools/Budget Calculator/Visa Debit Card Rewrd Refresh_Budget Worksheet_0602.xlsx\n",
      "/Users/rmRM/Desktop/Evgenii/DS/Tier 5 - 6/TB-17-08 Partner-Funded Small Enhancements/Project Gating_Financials/Project Financial Tools/Budget Calculator/Visa Debit Card Rewrd Refresh_Budget Worksheet_0703.xls\n"
     ]
    },
    {
     "name": "stderr",
     "output_type": "stream",
     "text": [
      " 81%|████████  | 6537/8058 [1:40:48<01:38, 15.50it/s]"
     ]
    },
    {
     "name": "stdout",
     "output_type": "stream",
     "text": [
      "/Users/rmRM/Desktop/Evgenii/DS/Tier 5 - 6/TB-17-08 Partner-Funded Small Enhancements/Project Gating_Financials/Project Financial Tools/Budget Calculator/Visa Debit Card Rewrd Refresh_Budget Worksheet_0703.xlsx\n",
      "/Users/rmRM/Desktop/Evgenii/DS/Tier 5 - 6/TB-17-08 Partner-Funded Small Enhancements/Project Gating_Financials/Project Financial Tools/Budget Calculator/Visa Debit Card Rewrd Refresh_Budget Worksheet_0802.xls\n",
      "/Users/rmRM/Desktop/Evgenii/DS/Tier 5 - 6/TB-17-08 Partner-Funded Small Enhancements/Project Gating_Financials/Project Financial Tools/Budget Calculator/Visa Debit Card Rewrd Refresh_Budget Worksheet_0802.xlsx\n",
      "/Users/rmRM/Desktop/Evgenii/DS/Tier 5 - 6/TB-17-08 Partner-Funded Small Enhancements/Project Gating_Financials/Project Financial Tools/Budget Calculator/Visa Debit Card Rewrd Refresh_Budget Worksheet_0906.xls\n"
     ]
    },
    {
     "name": "stderr",
     "output_type": "stream",
     "text": [
      " 82%|████████▏ | 6631/8058 [1:40:48<01:04, 22.14it/s]"
     ]
    },
    {
     "name": "stdout",
     "output_type": "stream",
     "text": [
      "/Users/rmRM/Desktop/Evgenii/DS/Tier 5 - 6/TB-17-08 Partner-Funded Small Enhancements/Project Gating_Financials/Project Financial Tools/Budget Calculator/Visa Debit Card Rewrd Refresh_Budget Worksheet_0906.xlsx\n",
      "/Users/rmRM/Desktop/Evgenii/DS/Tier 5 - 6/TB-17-08 Partner-Funded Small Enhancements/Schedule/RE  To discuss In-Scope Functions and Expectation from CTS QA .msg\n",
      "/Users/rmRM/Desktop/Evgenii/DS/Tier 5 - 6/TB-17-08 Partner-Funded Small Enhancements/Scope_Requirements Management/Design Document(MCD_Visual)/Corporate Reloadable Card_MCD v1.6.docx\n",
      "/Users/rmRM/Desktop/Evgenii/DS/Tier 5 - 6/TB-17-08 Partner-Funded Small Enhancements/Scope_Requirements Management/Design Document(MCD_Visual)/Dave review 07-21-2017- TD Access Card Public Site MCD v1.2.docx\n",
      "/Users/rmRM/Desktop/Evgenii/DS/Tier 5 - 6/TB-17-08 Partner-Funded Small Enhancements/Scope_Requirements Management/Design Document(MCD_Visual)/TD Access Card_MCD v1.4.docx\n",
      "/Users/rmRM/Desktop/Evgenii/DS/Tier 5 - 6/TB-17-08 Partner-Funded Small Enhancements/Scope_Requirements Management/Design Document(MCD_Visual)/TD Ready Card_Visa_MCD v1.0.docx\n",
      "/Users/rmRM/Desktop/Evgenii/DS/Tier 5 - 6/TB-17-08 Partner-Funded Small Enhancements/Scope_Requirements Management/Wireframes/TD Access Card_MCD v1.3.docx\n",
      "/Users/rmRM/Desktop/Evgenii/DS/Tier 5 - 6/TB-17-12 DgC 2017 Partner-Funded Small Enhancements 2/Project Control Artifacts/PCR/Financial Education digital assets_TD on Campus.xlsx\n",
      "/Users/rmRM/Desktop/Evgenii/DS/Tier 5 - 6/TB-17-12 DgC 2017 Partner-Funded Small Enhancements 2/Project Control Artifacts/PCR/PCR_Bank at Work_College Campus.xlsx\n",
      "/Users/rmRM/Desktop/Evgenii/DS/Tier 5 - 6/TB-17-12 DgC 2017 Partner-Funded Small Enhancements 2/Project Control Artifacts/PCR/Product Matrix - PCR v 0.1 (04-26-17).xlsx\n",
      "/Users/rmRM/Desktop/Evgenii/DS/Tier 5 - 6/TB-17-12 DgC 2017 Partner-Funded Small Enhancements 2/Project Control Artifacts/PCR/Wank@workPCR_College Campus_v 0.1 (04-25-17).xlsx\n",
      "/Users/rmRM/Desktop/Evgenii/DS/Tier 5 - 6/TB-17-12 DgC 2017 Partner-Funded Small Enhancements 2/Project Control Artifacts/Project Governance/Privacy Letter of engagement_1.1 (2).xlsx\n",
      "/Users/rmRM/Desktop/Evgenii/DS/Tier 5 - 6/TB-17-12 DgC 2017 Partner-Funded Small Enhancements 2/Project Control Artifacts/Project Governance/Public Site Digital content Optimization_Additional Funding_MIR.pptx\n",
      "/Users/rmRM/Desktop/Evgenii/DS/Tier 5 - 6/TB-17-12 DgC 2017 Partner-Funded Small Enhancements 2/Project Control Artifacts/Project Governance/Rerun of the tests_PCR.xlsx\n",
      "/Users/rmRM/Desktop/Evgenii/DS/Tier 5 - 6/TB-17-12 DgC 2017 Partner-Funded Small Enhancements 2/Project Gating_Financials/August GD invoice  DgC Digital Bank@Work Redesign.msg\n",
      "/Users/rmRM/Desktop/Evgenii/DS/Tier 5 - 6/TB-17-12 DgC 2017 Partner-Funded Small Enhancements 2/Project Gating_Financials/FW  July GD invoice  DgC Digital Bank@Work Redesign.msg\n",
      "/Users/rmRM/Desktop/Evgenii/DS/Tier 5 - 6/TB-17-12 DgC 2017 Partner-Funded Small Enhancements 2/Project Gating_Financials/July GD invoice  DgC Digital Bank@Work Redesign.msg\n",
      "/Users/rmRM/Desktop/Evgenii/DS/Tier 5 - 6/TB-17-12 DgC 2017 Partner-Funded Small Enhancements 2/Project Gating_Financials/Project Financial Tools/Budget Calculator/Budget Sheet Calculator_Bank@Work.xls\n",
      "/Users/rmRM/Desktop/Evgenii/DS/Tier 5 - 6/TB-17-12 DgC 2017 Partner-Funded Small Enhancements 2/Project Gating_Financials/Project Financial Tools/Budget Calculator/Budget Sheet Calculator_Bank@Work.xlsx\n",
      "/Users/rmRM/Desktop/Evgenii/DS/Tier 5 - 6/TB-17-12 DgC 2017 Partner-Funded Small Enhancements 2/Project Gating_Financials/Project Financial Tools/Budget Calculator/Budget Sheet Calculator_Bank@Work_0404.xls\n",
      "/Users/rmRM/Desktop/Evgenii/DS/Tier 5 - 6/TB-17-12 DgC 2017 Partner-Funded Small Enhancements 2/Project Gating_Financials/Project Financial Tools/Budget Calculator/Budget Sheet Calculator_Bank@Work_0404.xlsx\n",
      "/Users/rmRM/Desktop/Evgenii/DS/Tier 5 - 6/TB-17-12 DgC 2017 Partner-Funded Small Enhancements 2/Project Gating_Financials/Project Financial Tools/Budget Calculator/Budget Sheet Calculator_Bank@Work_0502.xls\n",
      "/Users/rmRM/Desktop/Evgenii/DS/Tier 5 - 6/TB-17-12 DgC 2017 Partner-Funded Small Enhancements 2/Project Gating_Financials/Project Financial Tools/Budget Calculator/Budget Sheet Calculator_Bank@Work_0502.xlsx\n",
      "/Users/rmRM/Desktop/Evgenii/DS/Tier 5 - 6/TB-17-12 DgC 2017 Partner-Funded Small Enhancements 2/Project Gating_Financials/Project Financial Tools/Budget Calculator/Budget Sheet Calculator_Bank@Work_0601.xls\n",
      "/Users/rmRM/Desktop/Evgenii/DS/Tier 5 - 6/TB-17-12 DgC 2017 Partner-Funded Small Enhancements 2/Project Gating_Financials/Project Financial Tools/Budget Calculator/Budget Sheet Calculator_Bank@Work_0601.xlsx\n",
      "/Users/rmRM/Desktop/Evgenii/DS/Tier 5 - 6/TB-17-12 DgC 2017 Partner-Funded Small Enhancements 2/Project Gating_Financials/Project Financial Tools/Budget Calculator/Budget Sheet Calculator_Bank@Work_0703.xls\n",
      "/Users/rmRM/Desktop/Evgenii/DS/Tier 5 - 6/TB-17-12 DgC 2017 Partner-Funded Small Enhancements 2/Project Gating_Financials/Project Financial Tools/Budget Calculator/Budget Sheet Calculator_Bank@Work_0703.xlsx\n",
      "/Users/rmRM/Desktop/Evgenii/DS/Tier 5 - 6/TB-17-12 DgC 2017 Partner-Funded Small Enhancements 2/Project Gating_Financials/Project Financial Tools/Budget Calculator/Budget Sheet Calculator_Bank@Work_0802.xls\n",
      "/Users/rmRM/Desktop/Evgenii/DS/Tier 5 - 6/TB-17-12 DgC 2017 Partner-Funded Small Enhancements 2/Project Gating_Financials/Project Financial Tools/Budget Calculator/Budget Sheet Calculator_Bank@Work_0802.xlsx\n",
      "/Users/rmRM/Desktop/Evgenii/DS/Tier 5 - 6/TB-17-12 DgC 2017 Partner-Funded Small Enhancements 2/Project Gating_Financials/Project Financial Tools/Budget Calculator/Budget Sheet Calculator_Bank@Work_0905.xls\n",
      "/Users/rmRM/Desktop/Evgenii/DS/Tier 5 - 6/TB-17-12 DgC 2017 Partner-Funded Small Enhancements 2/Project Gating_Financials/Project Financial Tools/Budget Calculator/Budget Sheet Calculator_Bank@Work_0905.xlsx\n",
      "/Users/rmRM/Desktop/Evgenii/DS/Tier 5 - 6/TB-17-12 DgC 2017 Partner-Funded Small Enhancements 2/Project Gating_Financials/Project Financial Tools/Budget Calculator/Budget Sheet Calculator_MS Redesign_0502.xls\n",
      "/Users/rmRM/Desktop/Evgenii/DS/Tier 5 - 6/TB-17-12 DgC 2017 Partner-Funded Small Enhancements 2/Project Gating_Financials/Project Financial Tools/Budget Calculator/Budget Sheet Calculator_MS Redesign_0502.xlsx\n",
      "/Users/rmRM/Desktop/Evgenii/DS/Tier 5 - 6/TB-17-12 DgC 2017 Partner-Funded Small Enhancements 2/Project Gating_Financials/Project Financial Tools/Budget Calculator/Budget Sheet Calculator_MS Redesign_0605.xls\n",
      "/Users/rmRM/Desktop/Evgenii/DS/Tier 5 - 6/TB-17-12 DgC 2017 Partner-Funded Small Enhancements 2/Project Gating_Financials/Project Financial Tools/Budget Calculator/Budget Sheet Calculator_MS Redesign_0605.xlsx\n",
      "/Users/rmRM/Desktop/Evgenii/DS/Tier 5 - 6/TB-17-12 DgC 2017 Partner-Funded Small Enhancements 2/Project Gating_Financials/Project Financial Tools/Budget Calculator/Budget Sheet Calculator_MS Redesign_0705.xls\n",
      "/Users/rmRM/Desktop/Evgenii/DS/Tier 5 - 6/TB-17-12 DgC 2017 Partner-Funded Small Enhancements 2/Project Gating_Financials/Project Financial Tools/Budget Calculator/Budget Sheet Calculator_MS Redesign_0705.xlsx\n",
      "/Users/rmRM/Desktop/Evgenii/DS/Tier 5 - 6/TB-17-12 DgC 2017 Partner-Funded Small Enhancements 2/Project Gating_Financials/Project Financial Tools/Budget Calculator/Budget Sheet Calculator_MS Redesign_0802.xls\n"
     ]
    },
    {
     "name": "stderr",
     "output_type": "stream",
     "text": [
      " 83%|████████▎ | 6676/8058 [1:40:50<00:55, 25.09it/s]"
     ]
    },
    {
     "name": "stdout",
     "output_type": "stream",
     "text": [
      "/Users/rmRM/Desktop/Evgenii/DS/Tier 5 - 6/TB-17-12 DgC 2017 Partner-Funded Small Enhancements 2/Project Gating_Financials/Project Financial Tools/Budget Calculator/Budget Sheet Calculator_MS Redesign_0802.xlsx\n",
      "/Users/rmRM/Desktop/Evgenii/DS/Tier 5 - 6/TB-17-12 DgC 2017 Partner-Funded Small Enhancements 2/Project Gating_Financials/Project Financial Tools/Budget Calculator/Budget Sheet Calculator_MS Redesign_0906.xls\n",
      "/Users/rmRM/Desktop/Evgenii/DS/Tier 5 - 6/TB-17-12 DgC 2017 Partner-Funded Small Enhancements 2/Project Gating_Financials/Project Financial Tools/Budget Calculator/Budget Sheet Calculator_MS Redesign_0906.xlsx\n"
     ]
    },
    {
     "name": "stderr",
     "output_type": "stream",
     "text": [
      " 84%|████████▍ | 6799/8058 [1:40:51<00:21, 59.70it/s]"
     ]
    },
    {
     "name": "stdout",
     "output_type": "stream",
     "text": [
      "/Users/rmRM/Desktop/Evgenii/DS/Tier 5 - 6/TB-17-12 DgC 2017 Partner-Funded Small Enhancements 2/TB-17-12-d Fiserve feature Pack 17.2/Financials/Budget Sheet Calculator_Fiserv feature Pack Upgrade_0906.xlsx\n",
      "/Users/rmRM/Desktop/Evgenii/DS/Tier 5 - 6/TB-17-12 DgC 2017 Partner-Funded Small Enhancements 2/TB-17-12-d Fiserve feature Pack 17.2/Financials/Fiserve Feature Pack_Posted Transaction_tech 20000_0926.xlsx\n",
      "/Users/rmRM/Desktop/Evgenii/DS/Tier 5 - 6/TB-17-12 DgC 2017 Partner-Funded Small Enhancements 2/TB-17-12-d Fiserve feature Pack 17.2/Financials/NEW_DCTS_FiServ Feature Pack Upgrade 17.2_Accruals_092617.xls\n",
      "/Users/rmRM/Desktop/Evgenii/DS/Tier 5 - 6/TB-17-12 DgC 2017 Partner-Funded Small Enhancements 2/TB-17-12-d Fiserve feature Pack 17.2/Financials/NEW_DCTS_FiServ Feature Pack Upgrade 17.2_Accruals_092617.xlsx\n",
      "/Users/rmRM/Desktop/Evgenii/DS/Tier 5 - 6/TB-17-12 DgC 2017 Partner-Funded Small Enhancements 2/TB-17-12c Merchant Solutions Redesign/Design/Merchant Solutions Production Edits v1.0.docx\n",
      "/Users/rmRM/Desktop/Evgenii/DS/Tier 5 - 6/TB-17-12 DgC 2017 Partner-Funded Small Enhancements 2/TB-17-12c Merchant Solutions Redesign/Design/Merchant_Solutions_Redesign_MCD_v1.9.docx\n",
      "/Users/rmRM/Desktop/Evgenii/DS/Tier 5 - 6/TB-17-12 DgC 2017 Partner-Funded Small Enhancements 2/TB-17-12c Merchant Solutions Redesign/Financials/PCR/Merchant Solutions Redesign - PCR Draft for FY18.xlsx\n",
      "/Users/rmRM/Desktop/Evgenii/DS/Tier 5 - 6/TB-17-12 DgC 2017 Partner-Funded Small Enhancements 2/TB-17-12c Merchant Solutions Redesign/Financials/TD_Posted_Transaction_Review Oct-Nov 2017.xlsx\n",
      "/Users/rmRM/Desktop/Evgenii/DS/Tier 5 - 6/TB-17-12 DgC 2017 Partner-Funded Small Enhancements 2/TB-17-12c Merchant Solutions Redesign/Readiness/Merchant Solutions - Readiness CheckList.xlsx\n",
      "/Users/rmRM/Desktop/Evgenii/DS/Tier 5 - 6/TB-17-25 DgC Select Savings Replacement/Meetings_Communications/Project Communications/Approve RESPONSE REQUESTED Updated Preferred Savings MCDs MANN APPROVAL.msg\n",
      "/Users/rmRM/Desktop/Evgenii/DS/Tier 5 - 6/TB-17-25 DgC Select Savings Replacement/Meetings_Communications/Project Status Meeting Minutes/Select Savings Replacement Status Meeting Agenda 10-09-17.doc\n",
      "/Users/rmRM/Desktop/Evgenii/DS/Tier 5 - 6/TB-17-25 DgC Select Savings Replacement/Meetings_Communications/Project Status Meeting Minutes/Select Savings Replacement Status Meeting Agenda 10-09-17.docx\n",
      "/Users/rmRM/Desktop/Evgenii/DS/Tier 5 - 6/TB-17-25 DgC Select Savings Replacement/Meetings_Communications/Project Status Meeting Minutes/Select Savings Replacement Status Meeting Agenda 10-13-17.doc\n",
      "/Users/rmRM/Desktop/Evgenii/DS/Tier 5 - 6/TB-17-25 DgC Select Savings Replacement/Meetings_Communications/Project Status Meeting Minutes/Select Savings Replacement Status Meeting Agenda 10-13-17.docx\n",
      "/Users/rmRM/Desktop/Evgenii/DS/Tier 5 - 6/TB-17-25 DgC Select Savings Replacement/Meetings_Communications/Project Status Meeting Minutes/Select Savings Replacement Status Meeting Agenda 9-15-17.doc\n",
      "/Users/rmRM/Desktop/Evgenii/DS/Tier 5 - 6/TB-17-25 DgC Select Savings Replacement/Meetings_Communications/Project Status Meeting Minutes/Select Savings Replacement Status Meeting Agenda 9-15-17.docx\n",
      "/Users/rmRM/Desktop/Evgenii/DS/Tier 5 - 6/TB-17-25 DgC Select Savings Replacement/Meetings_Communications/Project Status Meeting Minutes/Select Savings Replacement Status Meeting Agenda 9-22-17.doc\n",
      "/Users/rmRM/Desktop/Evgenii/DS/Tier 5 - 6/TB-17-25 DgC Select Savings Replacement/Meetings_Communications/Project Status Meeting Minutes/Select Savings Replacement Status Meeting Agenda 9-22-17.docx\n",
      "/Users/rmRM/Desktop/Evgenii/DS/Tier 5 - 6/TB-17-25 DgC Select Savings Replacement/Meetings_Communications/Project Status Meeting Minutes/Select Savings Replacement Status Meeting Agenda 9-29-17.doc\n",
      "/Users/rmRM/Desktop/Evgenii/DS/Tier 5 - 6/TB-17-25 DgC Select Savings Replacement/Meetings_Communications/Project Status Meeting Minutes/Select Savings Replacement Status Meeting Agenda 9-29-17.docx\n",
      "/Users/rmRM/Desktop/Evgenii/DS/Tier 5 - 6/TB-17-25 DgC Select Savings Replacement/Meetings_Communications/Project Status Meeting Minutes/Select Savings Replacement Status Meeting Agenda 9-8-17.doc\n",
      "/Users/rmRM/Desktop/Evgenii/DS/Tier 5 - 6/TB-17-25 DgC Select Savings Replacement/Meetings_Communications/Project Status Meeting Minutes/Select Savings Replacement Status Meeting Agenda 9-8-17.docx\n",
      "/Users/rmRM/Desktop/Evgenii/DS/Tier 5 - 6/TB-17-25 DgC Select Savings Replacement/Meetings_Communications/Project Status Meeting Minutes/Select Savings Replacement Status Meeting Minutes 9-22-17.doc\n",
      "/Users/rmRM/Desktop/Evgenii/DS/Tier 5 - 6/TB-17-25 DgC Select Savings Replacement/Meetings_Communications/Project Status Meeting Minutes/Select Savings Replacement Status Meeting Minutes 9-22-17.docx\n",
      "/Users/rmRM/Desktop/Evgenii/DS/Tier 5 - 6/TB-17-25 DgC Select Savings Replacement/Project Gating_Financials/Project Financial Tools/Budget Calculator/Select Savings Budget Sheet Calculator July 2017.xls\n",
      "/Users/rmRM/Desktop/Evgenii/DS/Tier 5 - 6/TB-17-25 DgC Select Savings Replacement/Project Gating_Financials/Project Financial Tools/Budget Calculator/Select Savings Budget Sheet Calculator July 2017.xlsx\n",
      "/Users/rmRM/Desktop/Evgenii/DS/Tier 5 - 6/TB-17-25 DgC Select Savings Replacement/Project Gating_Financials/Project Financial Tools/Budget Calculator/Select Savings Budget Sheet Calculator June 2017.xls\n"
     ]
    },
    {
     "name": "stderr",
     "output_type": "stream",
     "text": [
      " 85%|████████▌ | 6866/8058 [1:40:51<00:13, 85.44it/s]"
     ]
    },
    {
     "name": "stdout",
     "output_type": "stream",
     "text": [
      "/Users/rmRM/Desktop/Evgenii/DS/Tier 5 - 6/TB-17-25 DgC Select Savings Replacement/Project Gating_Financials/Project Financial Tools/Budget Calculator/Select Savings Budget Sheet Calculator June 2017.xlsx\n",
      "/Users/rmRM/Desktop/Evgenii/DS/Tier 5 - 6/TB-17-37 Bankcard Rewards Mobile App/Meetings_Communications/Project Status Meeting Minutes/Bankcard Rewards Status Mtg TD 09-27-17.doc\n",
      "/Users/rmRM/Desktop/Evgenii/DS/Tier 5 - 6/TB-17-37 Bankcard Rewards Mobile App/Meetings_Communications/Project Status Meeting Minutes/Bankcard Rewards Status Mtg TD 09-27-17.docx\n",
      "/Users/rmRM/Desktop/Evgenii/DS/Tier 5 - 6/TB-17-37 Bankcard Rewards Mobile App/Meetings_Communications/Project Status Meeting Minutes/Bankcard Rewards Status Mtg TD 1-22-18.doc\n",
      "/Users/rmRM/Desktop/Evgenii/DS/Tier 5 - 6/TB-17-37 Bankcard Rewards Mobile App/Meetings_Communications/Project Status Meeting Minutes/Bankcard Rewards Status Mtg TD 1-22-18.docx\n",
      "/Users/rmRM/Desktop/Evgenii/DS/Tier 5 - 6/TB-17-37 Bankcard Rewards Mobile App/Meetings_Communications/Project Status Meeting Minutes/Bankcard Rewards Status Mtg TD 1-29-18.doc\n",
      "/Users/rmRM/Desktop/Evgenii/DS/Tier 5 - 6/TB-17-37 Bankcard Rewards Mobile App/Meetings_Communications/Project Status Meeting Minutes/Bankcard Rewards Status Mtg TD 1-29-18.docx\n",
      "/Users/rmRM/Desktop/Evgenii/DS/Tier 5 - 6/TB-17-37 Bankcard Rewards Mobile App/Meetings_Communications/Project Status Meeting Minutes/Bankcard Rewards Status Mtg TD 10-04-17.doc\n",
      "/Users/rmRM/Desktop/Evgenii/DS/Tier 5 - 6/TB-17-37 Bankcard Rewards Mobile App/Meetings_Communications/Project Status Meeting Minutes/Bankcard Rewards Status Mtg TD 10-04-17.docx\n",
      "/Users/rmRM/Desktop/Evgenii/DS/Tier 5 - 6/TB-17-37 Bankcard Rewards Mobile App/Meetings_Communications/Project Status Meeting Minutes/Bankcard Rewards Status Mtg TD 10-18-17.doc\n",
      "/Users/rmRM/Desktop/Evgenii/DS/Tier 5 - 6/TB-17-37 Bankcard Rewards Mobile App/Meetings_Communications/Project Status Meeting Minutes/Bankcard Rewards Status Mtg TD 10-18-17.docx\n",
      "/Users/rmRM/Desktop/Evgenii/DS/Tier 5 - 6/TB-17-37 Bankcard Rewards Mobile App/Meetings_Communications/Project Status Meeting Minutes/Bankcard Rewards Status Mtg TD 10-23-17.doc\n",
      "/Users/rmRM/Desktop/Evgenii/DS/Tier 5 - 6/TB-17-37 Bankcard Rewards Mobile App/Meetings_Communications/Project Status Meeting Minutes/Bankcard Rewards Status Mtg TD 10-23-17.docx\n",
      "/Users/rmRM/Desktop/Evgenii/DS/Tier 5 - 6/TB-17-37 Bankcard Rewards Mobile App/Meetings_Communications/Project Status Meeting Minutes/Bankcard Rewards Status Mtg TD 10-30-17.doc\n",
      "/Users/rmRM/Desktop/Evgenii/DS/Tier 5 - 6/TB-17-37 Bankcard Rewards Mobile App/Meetings_Communications/Project Status Meeting Minutes/Bankcard Rewards Status Mtg TD 10-30-17.docx\n",
      "/Users/rmRM/Desktop/Evgenii/DS/Tier 5 - 6/TB-17-37 Bankcard Rewards Mobile App/Meetings_Communications/Project Status Meeting Minutes/Bankcard Rewards Status Mtg TD 11-06-17.doc\n",
      "/Users/rmRM/Desktop/Evgenii/DS/Tier 5 - 6/TB-17-37 Bankcard Rewards Mobile App/Meetings_Communications/Project Status Meeting Minutes/Bankcard Rewards Status Mtg TD 11-06-17.docx\n",
      "/Users/rmRM/Desktop/Evgenii/DS/Tier 5 - 6/TB-17-37 Bankcard Rewards Mobile App/Meetings_Communications/Project Status Meeting Minutes/Bankcard Rewards Status Mtg TD 11-20-17.doc\n",
      "/Users/rmRM/Desktop/Evgenii/DS/Tier 5 - 6/TB-17-37 Bankcard Rewards Mobile App/Meetings_Communications/Project Status Meeting Minutes/Bankcard Rewards Status Mtg TD 11-20-17.docx\n",
      "/Users/rmRM/Desktop/Evgenii/DS/Tier 5 - 6/TB-17-37 Bankcard Rewards Mobile App/Meetings_Communications/Project Status Meeting Minutes/Bankcard Rewards Status Mtg TD 11-27-17.doc\n",
      "/Users/rmRM/Desktop/Evgenii/DS/Tier 5 - 6/TB-17-37 Bankcard Rewards Mobile App/Meetings_Communications/Project Status Meeting Minutes/Bankcard Rewards Status Mtg TD 11-27-17.docx\n",
      "/Users/rmRM/Desktop/Evgenii/DS/Tier 5 - 6/TB-17-37 Bankcard Rewards Mobile App/Meetings_Communications/Project Status Meeting Minutes/Bankcard Rewards Status Mtg TD 12-04-17.doc\n",
      "/Users/rmRM/Desktop/Evgenii/DS/Tier 5 - 6/TB-17-37 Bankcard Rewards Mobile App/Meetings_Communications/Project Status Meeting Minutes/Bankcard Rewards Status Mtg TD 12-04-17.docx\n",
      "/Users/rmRM/Desktop/Evgenii/DS/Tier 5 - 6/TB-17-37 Bankcard Rewards Mobile App/Meetings_Communications/Project Status Meeting Minutes/Bankcard Rewards Status Mtg TD 12-11-17.doc\n",
      "/Users/rmRM/Desktop/Evgenii/DS/Tier 5 - 6/TB-17-37 Bankcard Rewards Mobile App/Meetings_Communications/Project Status Meeting Minutes/Bankcard Rewards Status Mtg TD 12-11-17.docx\n",
      "/Users/rmRM/Desktop/Evgenii/DS/Tier 5 - 6/TB-17-37 Bankcard Rewards Mobile App/Meetings_Communications/Project Status Meeting Minutes/Bankcard Rewards Status Mtg TD 12-18-17.doc\n",
      "/Users/rmRM/Desktop/Evgenii/DS/Tier 5 - 6/TB-17-37 Bankcard Rewards Mobile App/Meetings_Communications/Project Status Meeting Minutes/Bankcard Rewards Status Mtg TD 12-18-17.docx\n",
      "/Users/rmRM/Desktop/Evgenii/DS/Tier 5 - 6/TB-17-37 Bankcard Rewards Mobile App/Meetings_Communications/Project Status Meeting Minutes/Bankcard Rewards Status Mtg TD 2-12-18.doc\n",
      "/Users/rmRM/Desktop/Evgenii/DS/Tier 5 - 6/TB-17-37 Bankcard Rewards Mobile App/Meetings_Communications/Project Status Meeting Minutes/Bankcard Rewards Status Mtg TD 2-12-18.docx\n",
      "/Users/rmRM/Desktop/Evgenii/DS/Tier 5 - 6/TB-17-37 Bankcard Rewards Mobile App/Meetings_Communications/Project Status Meeting Minutes/Bankcard Rewards Status Mtg TD 2-5-18.doc\n",
      "/Users/rmRM/Desktop/Evgenii/DS/Tier 5 - 6/TB-17-37 Bankcard Rewards Mobile App/Meetings_Communications/Project Status Meeting Minutes/Bankcard Rewards Status Mtg TD 2-5-18.docx\n",
      "/Users/rmRM/Desktop/Evgenii/DS/Tier 5 - 6/TB-17-37 Bankcard Rewards Mobile App/Meetings_Communications/Project Status Meeting Minutes/Bankcard Rewards Status Mtg TD 3-12-18.doc\n",
      "/Users/rmRM/Desktop/Evgenii/DS/Tier 5 - 6/TB-17-37 Bankcard Rewards Mobile App/Meetings_Communications/Project Status Meeting Minutes/Bankcard Rewards Status Mtg TD 3-12-18.docx\n",
      "/Users/rmRM/Desktop/Evgenii/DS/Tier 5 - 6/TB-17-37 Bankcard Rewards Mobile App/Meetings_Communications/Project Status Meeting Minutes/Bankcard Rewards Status Mtg TD 3-19-18.doc\n",
      "/Users/rmRM/Desktop/Evgenii/DS/Tier 5 - 6/TB-17-37 Bankcard Rewards Mobile App/Meetings_Communications/Project Status Meeting Minutes/Bankcard Rewards Status Mtg TD 3-19-18.docx\n",
      "/Users/rmRM/Desktop/Evgenii/DS/Tier 5 - 6/TB-17-37 Bankcard Rewards Mobile App/Meetings_Communications/Project Status Meeting Minutes/Bankcard Rewards Status Mtg TD 3-26-18.doc\n",
      "/Users/rmRM/Desktop/Evgenii/DS/Tier 5 - 6/TB-17-37 Bankcard Rewards Mobile App/Meetings_Communications/Project Status Meeting Minutes/Bankcard Rewards Status Mtg TD 3-26-18.docx\n",
      "/Users/rmRM/Desktop/Evgenii/DS/Tier 5 - 6/TB-17-37 Bankcard Rewards Mobile App/Meetings_Communications/Project Status Meeting Minutes/Bankcard Rewards Status Mtg TD 3-5-18.doc\n",
      "/Users/rmRM/Desktop/Evgenii/DS/Tier 5 - 6/TB-17-37 Bankcard Rewards Mobile App/Meetings_Communications/Project Status Meeting Minutes/Bankcard Rewards Status Mtg TD 3-5-18.docx\n",
      "/Users/rmRM/Desktop/Evgenii/DS/Tier 5 - 6/TB-17-37 Bankcard Rewards Mobile App/Meetings_Communications/Project Status Meeting Minutes/Bankcard Rewards Status Mtg TD 4-2-18.doc\n",
      "/Users/rmRM/Desktop/Evgenii/DS/Tier 5 - 6/TB-17-37 Bankcard Rewards Mobile App/Meetings_Communications/Project Status Meeting Minutes/Bankcard Rewards Status Mtg TD 4-2-18.docx\n",
      "/Users/rmRM/Desktop/Evgenii/DS/Tier 5 - 6/TB-17-37 Bankcard Rewards Mobile App/Meetings_Communications/Project Status Meeting Minutes/Bankcard Rewards Steer Comm 02-2018 Levi KM.ppt\n",
      "/Users/rmRM/Desktop/Evgenii/DS/Tier 5 - 6/TB-17-37 Bankcard Rewards Mobile App/Meetings_Communications/Project Status Meeting Minutes/Bankcard Rewards Steer Comm 02-2018 Levi KM.pptx\n",
      "/Users/rmRM/Desktop/Evgenii/DS/Tier 5 - 6/TB-17-37 Bankcard Rewards Mobile App/Meetings_Communications/Project Status Meeting Minutes/Bankcard Rewards Steer Comm 02-2018 Levi.ppt\n"
     ]
    },
    {
     "name": "stderr",
     "output_type": "stream",
     "text": [
      " 86%|████████▌ | 6893/8058 [1:40:52<00:18, 63.69it/s]"
     ]
    },
    {
     "name": "stdout",
     "output_type": "stream",
     "text": [
      "/Users/rmRM/Desktop/Evgenii/DS/Tier 5 - 6/TB-17-37 Bankcard Rewards Mobile App/Meetings_Communications/Project Status Meeting Minutes/Bankcard Rewards Steer Comm 02-2018 Levi.pptx\n",
      "/Users/rmRM/Desktop/Evgenii/DS/Tier 5 - 6/TB-17-37 Bankcard Rewards Mobile App/Meetings_Communications/Project Status Meeting Minutes/Bankcard Rewards Steer Comm 02-2018 v5.ppt\n",
      "/Users/rmRM/Desktop/Evgenii/DS/Tier 5 - 6/TB-17-37 Bankcard Rewards Mobile App/Meetings_Communications/Project Status Meeting Minutes/Bankcard Rewards Steer Comm 02-2018 v5.pptx\n",
      "/Users/rmRM/Desktop/Evgenii/DS/Tier 5 - 6/TB-17-37 Bankcard Rewards Mobile App/Meetings_Communications/Project Status Meeting Minutes/Bankcard Rewards Steer Comm 02-2018.ppt\n"
     ]
    },
    {
     "name": "stderr",
     "output_type": "stream",
     "text": [
      " 86%|████████▌ | 6913/8058 [1:40:52<00:20, 54.61it/s]"
     ]
    },
    {
     "name": "stdout",
     "output_type": "stream",
     "text": [
      "/Users/rmRM/Desktop/Evgenii/DS/Tier 5 - 6/TB-17-37 Bankcard Rewards Mobile App/Meetings_Communications/Project Status Meeting Minutes/Bankcard Rewards Steer Comm 02-2018.pptx\n",
      "/Users/rmRM/Desktop/Evgenii/DS/Tier 5 - 6/TB-17-37 Bankcard Rewards Mobile App/Meetings_Communications/Project Status Meeting Minutes/DGC Comm Release TD Rewards App-CK.doc\n",
      "/Users/rmRM/Desktop/Evgenii/DS/Tier 5 - 6/TB-17-37 Bankcard Rewards Mobile App/Meetings_Communications/Project Status Meeting Minutes/DGC Comm Release TD Rewards App-CK.docx\n",
      "/Users/rmRM/Desktop/Evgenii/DS/Tier 5 - 6/TB-17-37 Bankcard Rewards Mobile App/Project Control Artifacts/Project Risk Documentation/PIA_IRA/PRIV_PIA_Privacy_Impact_Assessment USBC Rewards Mobile App 20170929 KM.xlsx\n",
      "/Users/rmRM/Desktop/Evgenii/DS/Tier 5 - 6/TB-17-37 Bankcard Rewards Mobile App/Project Gating_Financials/Budget Bankcard Rewards Dec 2017 update.xls\n",
      "/Users/rmRM/Desktop/Evgenii/DS/Tier 5 - 6/TB-17-37 Bankcard Rewards Mobile App/Project Gating_Financials/Budget Bankcard Rewards Dec 2017 update.xlsx\n",
      "/Users/rmRM/Desktop/Evgenii/DS/Tier 5 - 6/TB-17-37 Bankcard Rewards Mobile App/Project Gating_Financials/Budget Bankcard Rewards Dec 2017.xls\n"
     ]
    },
    {
     "name": "stderr",
     "output_type": "stream",
     "text": [
      " 86%|████████▌ | 6928/8058 [1:40:53<00:21, 52.06it/s]"
     ]
    },
    {
     "name": "stdout",
     "output_type": "stream",
     "text": [
      "/Users/rmRM/Desktop/Evgenii/DS/Tier 5 - 6/TB-17-37 Bankcard Rewards Mobile App/Project Gating_Financials/Budget Bankcard Rewards Dec 2017.xlsx\n",
      "/Users/rmRM/Desktop/Evgenii/DS/Tier 5 - 6/TB-17-37 Bankcard Rewards Mobile App/Project Gating_Financials/Budget Bankcard Rewards Feb 2018.xls\n",
      "/Users/rmRM/Desktop/Evgenii/DS/Tier 5 - 6/TB-17-37 Bankcard Rewards Mobile App/Project Gating_Financials/Budget Bankcard Rewards Feb 2018.xlsx\n",
      "/Users/rmRM/Desktop/Evgenii/DS/Tier 5 - 6/TB-17-37 Bankcard Rewards Mobile App/Project Gating_Financials/Budget Bankcard Rewards Jan 2018.xls\n",
      "/Users/rmRM/Desktop/Evgenii/DS/Tier 5 - 6/TB-17-37 Bankcard Rewards Mobile App/Project Gating_Financials/Budget Bankcard Rewards Jan 2018.xlsx\n",
      "/Users/rmRM/Desktop/Evgenii/DS/Tier 5 - 6/TB-17-37 Bankcard Rewards Mobile App/Project Gating_Financials/Budget Bankcard Rewards Mar 2018.xls\n",
      "/Users/rmRM/Desktop/Evgenii/DS/Tier 5 - 6/TB-17-37 Bankcard Rewards Mobile App/Project Gating_Financials/Budget Bankcard Rewards Mar 2018.xlsx\n",
      "/Users/rmRM/Desktop/Evgenii/DS/Tier 5 - 6/TB-17-37 Bankcard Rewards Mobile App/Project Gating_Financials/Budget Bankcard Rewards Noc 2017.xls\n",
      "/Users/rmRM/Desktop/Evgenii/DS/Tier 5 - 6/TB-17-37 Bankcard Rewards Mobile App/Project Gating_Financials/Budget Bankcard Rewards Noc 2017.xlsx\n",
      "/Users/rmRM/Desktop/Evgenii/DS/Tier 5 - 6/TB-17-37 Bankcard Rewards Mobile App/Project Gating_Financials/Budget Bankcard Rewards Oct 2017.xls\n",
      "/Users/rmRM/Desktop/Evgenii/DS/Tier 5 - 6/TB-17-37 Bankcard Rewards Mobile App/Project Gating_Financials/Budget Bankcard Rewards Oct 2017.xlsx\n",
      "/Users/rmRM/Desktop/Evgenii/DS/Tier 5 - 6/TB-17-37 Bankcard Rewards Mobile App/Project Gating_Financials/Budget Bankcard Rewards Sept 2017.xls\n"
     ]
    },
    {
     "name": "stderr",
     "output_type": "stream",
     "text": [
      " 86%|████████▌ | 6949/8058 [1:40:54<00:32, 34.16it/s]"
     ]
    },
    {
     "name": "stdout",
     "output_type": "stream",
     "text": [
      "/Users/rmRM/Desktop/Evgenii/DS/Tier 5 - 6/TB-17-37 Bankcard Rewards Mobile App/Project Gating_Financials/Budget Bankcard Rewards Sept 2017.xlsx\n",
      "/Users/rmRM/Desktop/Evgenii/DS/Tier 5 - 6/TB-17-37 Bankcard Rewards Mobile App/Project Gating_Financials/Budget Sheet Calculator_FY18v0.8.xls\n",
      "/Users/rmRM/Desktop/Evgenii/DS/Tier 5 - 6/TB-17-37 Bankcard Rewards Mobile App/Project Gating_Financials/Budget Sheet Calculator_FY18v0.8.xlsx\n",
      "/Users/rmRM/Desktop/Evgenii/DS/Tier 5 - 6/TB-17-37 Bankcard Rewards Mobile App/Scope_Requirements Management/Requirements Package/Archive/TD Bankcard Rewards App_ Business Requirements v 1.2.docx\n",
      "/Users/rmRM/Desktop/Evgenii/DS/Tier 5 - 6/TB-17-37 Bankcard Rewards Mobile App/Scope_Requirements Management/Requirements Package/Archive/TD Bankcard Rewards App_ Business Requirements v 1.3.docx\n",
      "/Users/rmRM/Desktop/Evgenii/DS/Tier 5 - 6/TB-17-37 Bankcard Rewards Mobile App/Scope_Requirements Management/Requirements Package/Archive/TD Bankcard Rewards App_ Business Requirements v 1.4.docx\n",
      "/Users/rmRM/Desktop/Evgenii/DS/Tier 5 - 6/TB-17-37 Bankcard Rewards Mobile App/Scope_Requirements Management/Requirements Package/Archive/TD Rewards App - High Level Requirements 20170908 v0.3.docx\n",
      "/Users/rmRM/Desktop/Evgenii/DS/Tier 5 - 6/TB-17-40 SB and MS Salesforce Lead Form/Project Gating_Financials/Budget/SB and MS Saleforce Budget Dec 2017.xls\n"
     ]
    },
    {
     "name": "stderr",
     "output_type": "stream",
     "text": [
      " 87%|████████▋ | 6985/8058 [1:40:54<00:23, 45.71it/s]"
     ]
    },
    {
     "name": "stdout",
     "output_type": "stream",
     "text": [
      "/Users/rmRM/Desktop/Evgenii/DS/Tier 5 - 6/TB-17-40 SB and MS Salesforce Lead Form/Project Gating_Financials/Budget/SB and MS Saleforce Budget Dec 2017.xlsx\n",
      "/Users/rmRM/Desktop/Evgenii/DS/Tier 5 - 6/TB-17-40 SB and MS Salesforce Lead Form/Project Gating_Financials/Budget/SB and MS Saleforce Budget Nov 2017.xls\n",
      "/Users/rmRM/Desktop/Evgenii/DS/Tier 5 - 6/TB-17-40 SB and MS Salesforce Lead Form/Project Gating_Financials/Budget/SB and MS Saleforce Budget Nov 2017.xlsx\n",
      "/Users/rmRM/Desktop/Evgenii/DS/Tier 5 - 6/TB-17-40 SB and MS Salesforce Lead Form/Project Gating_Financials/Budget/SB and MS Saleforce Budget Oct 2017.xls\n"
     ]
    },
    {
     "name": "stderr",
     "output_type": "stream",
     "text": [
      " 87%|████████▋ | 6998/8058 [1:40:54<00:26, 40.20it/s]"
     ]
    },
    {
     "name": "stdout",
     "output_type": "stream",
     "text": [
      "/Users/rmRM/Desktop/Evgenii/DS/Tier 5 - 6/TB-17-40 SB and MS Salesforce Lead Form/Project Gating_Financials/Budget/SB and MS Saleforce Budget Oct 2017.xlsx\n",
      "/Users/rmRM/Desktop/Evgenii/DS/Tier 5 - 6/TB-17-40 SB and MS Salesforce Lead Form/Project Gating_Financials/Budget/SB and MS Saleforce Budget Sept 2017.xls\n",
      "/Users/rmRM/Desktop/Evgenii/DS/Tier 5 - 6/TB-17-40 SB and MS Salesforce Lead Form/Project Gating_Financials/Budget/SB and MS Saleforce Budget Sept 2017.xlsx\n",
      "/Users/rmRM/Desktop/Evgenii/DS/Tier 5 - 6/TB-17-41 eTreasury Upgrade/Project Control Artifacts/RAID/Artifacts_Documentation/A10_Microsite recommendations_5_14.docx\n",
      "/Users/rmRM/Desktop/Evgenii/DS/Tier 5 - 6/TB-17-41 eTreasury Upgrade/Project Gating_Financials/Project Financial Tools/Budget Calculator/eTreasury Budget Jan 2018.xls\n"
     ]
    },
    {
     "name": "stderr",
     "output_type": "stream",
     "text": [
      " 88%|████████▊ | 7088/8058 [1:40:55<00:17, 55.72it/s]"
     ]
    },
    {
     "name": "stdout",
     "output_type": "stream",
     "text": [
      "/Users/rmRM/Desktop/Evgenii/DS/Tier 5 - 6/TB-17-41 eTreasury Upgrade/Project Gating_Financials/Project Financial Tools/Budget Calculator/eTreasury Budget Jan 2018.xlsx\n",
      "/Users/rmRM/Desktop/Evgenii/DS/Tier 5 - 6/TB-17-41 eTreasury Upgrade/Project Gating_Financials/Project Financial Tools/Budget Calculator/eTreasury Budget Sept 2017.xls\n",
      "/Users/rmRM/Desktop/Evgenii/DS/Tier 5 - 6/TB-17-41 eTreasury Upgrade/Project Gating_Financials/Project Financial Tools/Budget Calculator/eTreasury Budget Sept 2017.xlsx\n",
      "/Users/rmRM/Desktop/Evgenii/DS/Tier 5 - 6/TB-17-41 eTreasury Upgrade/Project Gating_Financials/Project Financial Tools/Budget Calculator/eTreasury Budget Sheet Calculator_FY18_2018 02 21.xlsx\n",
      "/Users/rmRM/Desktop/Evgenii/DS/Tier 5 - 6/TB-17-41 eTreasury Upgrade/Project Gating_Financials/Project Financial Tools/Budget Calculator/eTreasury Budget Sheet Calculator_FY18_2018 03 06.xlsx\n",
      "/Users/rmRM/Desktop/Evgenii/DS/Tier 5 - 6/TB-17-41 eTreasury Upgrade/Project Gating_Financials/Project Financial Tools/Budget Calculator/eTreasury Budget Sheet Calculator_FY18_2018 04 03.xlsx\n",
      "/Users/rmRM/Desktop/Evgenii/DS/Tier 5 - 6/TB-17-41 eTreasury Upgrade/Project Gating_Financials/Project Financial Tools/Budget Calculator/eTreasury Budget Sheet Calculator_FY18_2018 05 01.xlsx\n",
      "/Users/rmRM/Desktop/Evgenii/DS/Tier 5 - 6/TB-17-41 eTreasury Upgrade/Project Gating_Financials/Project Financial Tools/Budget Calculator/eTreasury Budget Sheet Calculator_FY18_2018 06 01.xlsx\n",
      "/Users/rmRM/Desktop/Evgenii/DS/Tier 5 - 6/TB-17-41 eTreasury Upgrade/Project Gating_Financials/Project Financial Tools/Budget Calculator/eTreasury Budget Sheet Calculator_FY18_2018 07 01.xlsx\n",
      "/Users/rmRM/Desktop/Evgenii/DS/Tier 5 - 6/TB-17-41 eTreasury Upgrade/Project Gating_Financials/Project Financial Tools/Budget Calculator/eTreasury Budget Sheet Calculator_FY18_2018 08 01.xlsx\n",
      "/Users/rmRM/Desktop/Evgenii/DS/Tier 5 - 6/TB-17-41 eTreasury Upgrade/Project Gating_Financials/Project Financial Tools/Budget Calculator/eTreasury Budget Sheet Calculator_FY18_2018 09 01.xlsx\n",
      "/Users/rmRM/Desktop/Evgenii/DS/Tier 5 - 6/TB-17-41 eTreasury Upgrade/Project Gating_Financials/Project Financial Tools/Budget Calculator/eTreasury Budget Sheet Calculator_FY18_2018 10 01 .xlsx\n",
      "/Users/rmRM/Desktop/Evgenii/DS/Tier 5 - 6/TB-17-41 eTreasury Upgrade/Project Gating_Financials/Project Financial Tools/Budget Calculator/eTreasury Budget Sheet Calculator_FY18_2018 11 01 .xlsx\n",
      "/Users/rmRM/Desktop/Evgenii/DS/Tier 5 - 6/TB-17-41 eTreasury Upgrade/Project Gating_Financials/ROM Estimates_Approvals/eTreasury ROM Estimate Template_2018 03 02.xls\n",
      "/Users/rmRM/Desktop/Evgenii/DS/Tier 5 - 6/TB-17-41 eTreasury Upgrade/Project Gating_Financials/ROM Estimates_Approvals/eTreasury ROM Estimate Template_2018 03 02.xlsx\n",
      "/Users/rmRM/Desktop/Evgenii/DS/Tier 5 - 6/TB-17-41 eTreasury Upgrade/Project Gating_Financials/ROM Estimates_Approvals/eTreasury ROM Estimate Template_2018 06 01.xls\n",
      "/Users/rmRM/Desktop/Evgenii/DS/Tier 5 - 6/TB-17-41 eTreasury Upgrade/Project Gating_Financials/ROM Estimates_Approvals/eTreasury ROM Estimate Template_2018 06 01.xlsx\n"
     ]
    },
    {
     "name": "stderr",
     "output_type": "stream",
     "text": [
      " 88%|████████▊ | 7130/8058 [1:40:55<00:15, 61.29it/s]"
     ]
    },
    {
     "name": "stdout",
     "output_type": "stream",
     "text": [
      "/Users/rmRM/Desktop/Evgenii/DS/Tier 5 - 6/TB-17-41 eTreasury Upgrade/SF Docs/eTreasury Budget Sept 2017.xls\n",
      "/Users/rmRM/Desktop/Evgenii/DS/Tier 5 - 6/TB-17-41 eTreasury Upgrade/SF Docs/eTreasury Budget Sept 2017.xlsx\n",
      "/Users/rmRM/Desktop/Evgenii/DS/Tier 5 - 6/TB-18-09 Commercial Public Site Redesign/Control Artifacts/Risk Documentation/PIA_IRA/DgC Risk Impact Assessment_Comm Public Site Redesign.xls\n"
     ]
    },
    {
     "name": "stderr",
     "output_type": "stream",
     "text": [
      " 89%|████████▉ | 7166/8058 [1:40:56<00:14, 63.33it/s]"
     ]
    },
    {
     "name": "stdout",
     "output_type": "stream",
     "text": [
      "/Users/rmRM/Desktop/Evgenii/DS/Tier 5 - 6/TB-18-09 Commercial Public Site Redesign/Control Artifacts/Risk Documentation/PIA_IRA/DgC Risk Impact Assessment_Comm Public Site Redesign.xlsx\n",
      "/Users/rmRM/Desktop/Evgenii/DS/Tier 5 - 6/TB-18-09 Commercial Public Site Redesign/Control Artifacts/Risk Documentation/PIA_IRA/Privacy Impact Assessment_Comm Public Site Redesign.xlsx\n",
      "/Users/rmRM/Desktop/Evgenii/DS/Tier 5 - 6/TB-18-09 Commercial Public Site Redesign/Control Artifacts/WBS_Project Schedule/Previous Versions/Draft project timeline 2018 03 29.xlsx\n",
      "/Users/rmRM/Desktop/Evgenii/DS/Tier 5 - 6/TB-18-09 Commercial Public Site Redesign/Design/TM Competitor Links for Treasury Management .msg\n",
      "/Users/rmRM/Desktop/Evgenii/DS/Tier 5 - 6/TB-18-09 Commercial Public Site Redesign/Gating_Financials/Project Financial Tools/Budget Calculator/Comm Public Site Redesign Budget Sheet Calculator_2018 04 03.xlsx\n",
      "/Users/rmRM/Desktop/Evgenii/DS/Tier 5 - 6/TB-18-09 Commercial Public Site Redesign/Gating_Financials/Project Financial Tools/Budget Calculator/Comm Public Site Redesign Budget Sheet Calculator_2018 05 01.xlsx\n",
      "/Users/rmRM/Desktop/Evgenii/DS/Tier 5 - 6/TB-18-09 Commercial Public Site Redesign/Gating_Financials/Project Financial Tools/Budget Calculator/Comm Public Site Redesign Budget Sheet Calculator_2018 06 01.xlsx\n",
      "/Users/rmRM/Desktop/Evgenii/DS/Tier 5 - 6/TB-18-09 Commercial Public Site Redesign/Gating_Financials/Project Financial Tools/Budget Calculator/Comm Public Site Redesign Budget Sheet Calculator_2018 07 06.xlsx\n",
      "/Users/rmRM/Desktop/Evgenii/DS/Tier 5 - 6/TB-18-09 Commercial Public Site Redesign/Gating_Financials/Project Financial Tools/Budget Calculator/Comm Public Site Redesign Budget Sheet Calculator_2018 09 01.xlsx\n",
      "/Users/rmRM/Desktop/Evgenii/DS/Tier 5 - 6/TB-18-09 Commercial Public Site Redesign/Gating_Financials/Project Financial Tools/Budget Calculator/Comm Public Site Redesign Budget Sheet Calculator_FY18.xlsx\n",
      "/Users/rmRM/Desktop/Evgenii/DS/Tier 5 - 6/TB-18-09 Commercial Public Site Redesign/Gating_Financials/ROM Estimates_Approvals/Commercial Public Site Redesign_ROM Estimate_Final.xls\n"
     ]
    },
    {
     "name": "stderr",
     "output_type": "stream",
     "text": [
      " 90%|████████▉ | 7239/8058 [1:40:56<00:09, 81.92it/s]"
     ]
    },
    {
     "name": "stdout",
     "output_type": "stream",
     "text": [
      "/Users/rmRM/Desktop/Evgenii/DS/Tier 5 - 6/TB-18-09 Commercial Public Site Redesign/Gating_Financials/ROM Estimates_Approvals/Commercial Public Site Redesign_ROM Estimate_Final.xlsx\n",
      "/Users/rmRM/Desktop/Evgenii/DS/Tier 5 - 6/TB-18-09 Commercial Public Site Redesign/Governance/Risk/DgC Risk Impact Assessment_Comm Public Site Redesign.xls\n"
     ]
    },
    {
     "name": "stderr",
     "output_type": "stream",
     "text": [
      " 90%|█████████ | 7257/8058 [1:40:57<00:13, 57.74it/s]"
     ]
    },
    {
     "name": "stdout",
     "output_type": "stream",
     "text": [
      "/Users/rmRM/Desktop/Evgenii/DS/Tier 5 - 6/TB-18-09 Commercial Public Site Redesign/Governance/Risk/DgC Risk Impact Assessment_Comm Public Site Redesign.xlsx\n",
      "/Users/rmRM/Desktop/Evgenii/DS/Tier 5 - 6/TB-18-09 Commercial Public Site Redesign/Meetings_Communications/Project Status Meeting Minutes/Minutes - Commercial Public Site Redesign - 2018 02 09 Kickoff.doc\n",
      "/Users/rmRM/Desktop/Evgenii/DS/Tier 5 - 6/TB-18-09 Commercial Public Site Redesign/Meetings_Communications/Project Status Meeting Minutes/Minutes - Commercial Public Site Redesign - 2018 02 09 Kickoff.docx\n",
      "/Users/rmRM/Desktop/Evgenii/DS/Tier 5 - 6/TB-18-27 Adaptive Learning Launch/ATP/Adaptive Learning Launch - Budget Sheet Calculator_v4-181002.xls\n"
     ]
    },
    {
     "name": "stderr",
     "output_type": "stream",
     "text": [
      " 92%|█████████▏| 7437/8058 [1:40:57<00:06, 96.04it/s]"
     ]
    },
    {
     "name": "stdout",
     "output_type": "stream",
     "text": [
      "/Users/rmRM/Desktop/Evgenii/DS/Tier 5 - 6/TB-18-27 Adaptive Learning Launch/ATP/Adaptive Learning Launch - Budget Sheet Calculator_v4-181002.xlsx\n",
      "/Users/rmRM/Desktop/Evgenii/DS/Tier 5 - 6/TB-18-27 Adaptive Learning Launch/Agenda-Minutes/Adaptive Learning Launch Meeting Minutes- Nov 2 2018.doc\n",
      "/Users/rmRM/Desktop/Evgenii/DS/Tier 5 - 6/TB-18-27 Adaptive Learning Launch/Agenda-Minutes/Adaptive Learning Launch Meeting Minutes- Nov 2 2018.docx\n",
      "/Users/rmRM/Desktop/Evgenii/DS/Tier 5 - 6/TB-18-27 Adaptive Learning Launch/Agenda-Minutes/Adaptive Learning Launch Meeting Minutes- Nov 8 2018.doc\n",
      "/Users/rmRM/Desktop/Evgenii/DS/Tier 5 - 6/TB-18-27 Adaptive Learning Launch/Agenda-Minutes/Adaptive Learning Launch Meeting Minutes- Nov 8 2018.docx\n",
      "/Users/rmRM/Desktop/Evgenii/DS/Tier 5 - 6/TB-18-27 Adaptive Learning Launch/Agenda-Minutes/Adaptive Learning Launch Meeting Minutes- Oct 12 2018.doc\n",
      "/Users/rmRM/Desktop/Evgenii/DS/Tier 5 - 6/TB-18-27 Adaptive Learning Launch/Agenda-Minutes/Adaptive Learning Launch Meeting Minutes- Oct 12 2018.docx\n",
      "/Users/rmRM/Desktop/Evgenii/DS/Tier 5 - 6/TB-18-27 Adaptive Learning Launch/Agenda-Minutes/Adaptive Learning Launch Meeting Minutes- Oct 19 2018.doc\n",
      "/Users/rmRM/Desktop/Evgenii/DS/Tier 5 - 6/TB-18-27 Adaptive Learning Launch/Agenda-Minutes/Adaptive Learning Launch Meeting Minutes- Oct 19 2018.docx\n",
      "/Users/rmRM/Desktop/Evgenii/DS/Tier 5 - 6/TB-18-27 Adaptive Learning Launch/Agenda-Minutes/Adaptive Learning Launch Meeting Minutes- Oct 24 2018.doc\n",
      "/Users/rmRM/Desktop/Evgenii/DS/Tier 5 - 6/TB-18-27 Adaptive Learning Launch/Agenda-Minutes/Adaptive Learning Launch Meeting Minutes- Oct 24 2018.docx\n",
      "/Users/rmRM/Desktop/Evgenii/DS/Tier 5 - 6/TB-18-27 Adaptive Learning Launch/Agenda-Minutes/Adaptive Learning Launch Meeting Minutes- Oct 26 2018.doc\n",
      "/Users/rmRM/Desktop/Evgenii/DS/Tier 5 - 6/TB-18-27 Adaptive Learning Launch/Agenda-Minutes/Adaptive Learning Launch Meeting Minutes- Oct 26 2018.docx\n",
      "/Users/rmRM/Desktop/Evgenii/DS/Tier 5 - 6/TB-18-27 Adaptive Learning Launch/Agenda-Minutes/Adaptive Learning Launch Meeting Minutes- Oct 5 2018.doc\n",
      "/Users/rmRM/Desktop/Evgenii/DS/Tier 5 - 6/TB-18-27 Adaptive Learning Launch/Agenda-Minutes/Adaptive Learning Launch Meeting Minutes- Oct 5 2018.docx\n",
      "/Users/rmRM/Desktop/Evgenii/DS/Tier 5 - 6/TB-18-27 Adaptive Learning Launch/Agenda-Minutes/Adaptive Learning Launch Meeting Minutes- Sep 10 2018.doc\n",
      "/Users/rmRM/Desktop/Evgenii/DS/Tier 5 - 6/TB-18-27 Adaptive Learning Launch/Agenda-Minutes/Adaptive Learning Launch Meeting Minutes- Sep 10 2018.docx\n",
      "/Users/rmRM/Desktop/Evgenii/DS/Tier 5 - 6/TB-18-27 Adaptive Learning Launch/Agenda-Minutes/Adaptive Learning Launch Meeting Minutes- Sep 21 2018.doc\n",
      "/Users/rmRM/Desktop/Evgenii/DS/Tier 5 - 6/TB-18-27 Adaptive Learning Launch/Agenda-Minutes/Adaptive Learning Launch Meeting Minutes- Sep 21 2018.docx\n",
      "/Users/rmRM/Desktop/Evgenii/DS/Tier 5 - 6/TB-18-27 Adaptive Learning Launch/Agenda-Minutes/Adaptive Learning Launch Meeting Minutes- Sep 28 2018.doc\n",
      "/Users/rmRM/Desktop/Evgenii/DS/Tier 5 - 6/TB-18-27 Adaptive Learning Launch/Agenda-Minutes/Adaptive Learning Launch Meeting Minutes- Sep 28 2018.docx\n",
      "/Users/rmRM/Desktop/Evgenii/DS/Tier 5 - 6/TB-18-27 Adaptive Learning Launch/Requirements-Scope/TDB-Adaptive-Learning- Analytics Tagging Plan.xls\n",
      "/Users/rmRM/Desktop/Evgenii/DS/Tier 5 - 6/TB-18-27 Adaptive Learning Launch/Requirements-Scope/TDB-Adaptive-Learning- Analytics Tagging Plan.xlsx\n"
     ]
    },
    {
     "name": "stderr",
     "output_type": "stream",
     "text": [
      " 93%|█████████▎| 7459/8058 [1:40:57<00:07, 82.06it/s]"
     ]
    },
    {
     "name": "stdout",
     "output_type": "stream",
     "text": [
      "/Users/rmRM/Desktop/Evgenii/DS/Tier 5 - 6/TB-18-27 Adaptive Learning Launch/SIA Adaptive Learning Launch - v1.0.xlsx\n",
      "/Users/rmRM/Desktop/Evgenii/DS/Tier 5 - 6/TB-18-29 Mortgage and Home Equity Digital Application MVP/Meetings and Communications/Agenda and Meeting Minutes - Digital Application - Kickoff - September 19 2018.doc\n",
      "/Users/rmRM/Desktop/Evgenii/DS/Tier 5 - 6/TB-18-29 Mortgage and Home Equity Digital Application MVP/Meetings and Communications/Agenda and Meeting Minutes - Digital Application - Kickoff - September 19 2018.docx\n",
      "/Users/rmRM/Desktop/Evgenii/DS/Tier 5 - 6/TB-18-29 Mortgage and Home Equity Digital Application MVP/Meetings and Communications/Agenda and Meeting Minutes - Digital Application - Status - December 13 2018.doc\n",
      "/Users/rmRM/Desktop/Evgenii/DS/Tier 5 - 6/TB-18-29 Mortgage and Home Equity Digital Application MVP/Meetings and Communications/Agenda and Meeting Minutes - Digital Application - Status - December 13 2018.docx\n",
      "/Users/rmRM/Desktop/Evgenii/DS/Tier 5 - 6/TB-18-29 Mortgage and Home Equity Digital Application MVP/Meetings and Communications/Agenda and Meeting Minutes - Digital Application - Status - January 9 2019.doc\n",
      "/Users/rmRM/Desktop/Evgenii/DS/Tier 5 - 6/TB-18-29 Mortgage and Home Equity Digital Application MVP/Meetings and Communications/Agenda and Meeting Minutes - Digital Application - Status - January 9 2019.docx\n",
      "/Users/rmRM/Desktop/Evgenii/DS/Tier 5 - 6/TB-18-29 Mortgage and Home Equity Digital Application MVP/Meetings and Communications/Agenda and Meeting Minutes - Digital Application - Status - October 17 2018.doc\n",
      "/Users/rmRM/Desktop/Evgenii/DS/Tier 5 - 6/TB-18-29 Mortgage and Home Equity Digital Application MVP/Meetings and Communications/Agenda and Meeting Minutes - Digital Application - Status - October 17 2018.docx\n",
      "/Users/rmRM/Desktop/Evgenii/DS/Tier 5 - 6/TB-18-29 Mortgage and Home Equity Digital Application MVP/Meetings and Communications/Agenda and Meeting Minutes - Digital Application - Status - October 3 2018.doc\n",
      "/Users/rmRM/Desktop/Evgenii/DS/Tier 5 - 6/TB-18-29 Mortgage and Home Equity Digital Application MVP/Meetings and Communications/Agenda and Meeting Minutes - Digital Application - Status - October 3 2018.docx\n",
      "/Users/rmRM/Desktop/Evgenii/DS/Tier 5 - 6/TB-18-29 Mortgage and Home Equity Digital Application MVP/Meetings and Communications/Agenda and Meeting Minutes - Digital Application - Status - October 31 2018.doc\n",
      "/Users/rmRM/Desktop/Evgenii/DS/Tier 5 - 6/TB-18-29 Mortgage and Home Equity Digital Application MVP/Meetings and Communications/Agenda and Meeting Minutes - Digital Application - Status - October 31 2018.docx\n",
      "/Users/rmRM/Desktop/Evgenii/DS/Tier 5 - 6/TB-18-29 Mortgage and Home Equity Digital Application MVP/Project Gating Financials/A - Mortgage and HE App - as of January 31 2019.xls\n"
     ]
    },
    {
     "name": "stderr",
     "output_type": "stream",
     "text": [
      " 95%|█████████▍| 7617/8058 [1:40:58<00:04, 104.80it/s]"
     ]
    },
    {
     "name": "stdout",
     "output_type": "stream",
     "text": [
      "/Users/rmRM/Desktop/Evgenii/DS/Tier 5 - 6/TB-18-29 Mortgage and Home Equity Digital Application MVP/Project Gating Financials/A - Mortgage and HE App - as of January 31 2019.xlsx\n",
      "/Users/rmRM/Desktop/Evgenii/DS/Tier 5 - 6/TB-18-29 Mortgage and Home Equity Digital Application MVP/TBD-Mortage-Application-Roostify-Tagging-Plan.xls\n",
      "/Users/rmRM/Desktop/Evgenii/DS/Tier 5 - 6/TB-18-29 Mortgage and Home Equity Digital Application MVP/TBD-Mortage-Application-Roostify-Tagging-Plan.xlsx\n",
      "/Users/rmRM/Desktop/Evgenii/DS/Tier 5 - 6/TB-18-33 DgC Contactless Debit Card/Communications/Emails/RE  TD com Update for Contactless .msg\n",
      "/Users/rmRM/Desktop/Evgenii/DS/Tier 5 - 6/TB-18-33 DgC Contactless Debit Card/Requirements/RE  TD com Update for Contactless .msg\n",
      "/Users/rmRM/Desktop/Evgenii/DS/Tier 5 - 6/TB-19-02 Merchant Solutions Updates (formerly TB-18-16B)/Meetings_Communications/Project Status Meeting Minutes/2018/Agenda - Merchant Solutions_2018 09 27 Kickoff.doc\n",
      "/Users/rmRM/Desktop/Evgenii/DS/Tier 5 - 6/TB-19-02 Merchant Solutions Updates (formerly TB-18-16B)/Meetings_Communications/Project Status Meeting Minutes/2018/Agenda - Merchant Solutions_2018 09 27 Kickoff.docx\n",
      "/Users/rmRM/Desktop/Evgenii/DS/Tier 5 - 6/TB-19-02 Merchant Solutions Updates (formerly TB-18-16B)/Project Control Artifacts/PPT_RACI/Merchant Solutions Artifact List and RAC Chart_2018 04 17.xlsx\n",
      "/Users/rmRM/Desktop/Evgenii/DS/Tier 5 - 6/TB-19-02 Merchant Solutions Updates (formerly TB-18-16B)/Project Control Artifacts/Project Governance/Change Management SIA - DgC Small Enhancements Merhant Solutions.pptx\n",
      "/Users/rmRM/Desktop/Evgenii/DS/Tier 5 - 6/TB-19-02 Merchant Solutions Updates (formerly TB-18-16B)/Project Control Artifacts/Project Risk Documentation/DgC Risk Impact Assessment Merchant Solutions.xls\n"
     ]
    },
    {
     "name": "stderr",
     "output_type": "stream",
     "text": [
      " 97%|█████████▋| 7825/8058 [1:40:58<00:01, 133.14it/s]"
     ]
    },
    {
     "name": "stdout",
     "output_type": "stream",
     "text": [
      "/Users/rmRM/Desktop/Evgenii/DS/Tier 5 - 6/TB-19-02 Merchant Solutions Updates (formerly TB-18-16B)/Project Control Artifacts/Project Risk Documentation/DgC Risk Impact Assessment Merchant Solutions.xlsx\n",
      "/Users/rmRM/Desktop/Evgenii/DS/Tier 5 - 6/TB-19-02 Merchant Solutions Updates (formerly TB-18-16B)/Project Gating_Financials/Invoices/Tata Consultancy 219001148_GL Confirmation.xlsx\n",
      "/Users/rmRM/Desktop/Evgenii/DS/Tier 5 - 6/TB-19-02 Merchant Solutions Updates (formerly TB-18-16B)/Project Gating_Financials/Invoices/Tata Consultancy_8003040-219002447_GL Proof.xlsx\n",
      "/Users/rmRM/Desktop/Evgenii/DS/Tier 5 - 6/TB-19-02 Merchant Solutions Updates (formerly TB-18-16B)/Project Gating_Financials/ROM Estimates_Approvals/Merchant Letter of Engagement_2.28.18.xlsx\n",
      "/Users/rmRM/Desktop/Evgenii/DS/Tier 5 - 6/TB-19-02 Merchant Solutions Updates (formerly TB-18-16B)/Project Gating_Financials/ROM Estimates_Approvals/Merchant Letter of Engagement_6.18.18.xlsx\n",
      "/Users/rmRM/Desktop/Evgenii/DS/Tier 5 - 6/TB-19-02 Merchant Solutions Updates (formerly TB-18-16B)/Project Gating_Financials/ROM Estimates_Approvals/Merchant Solutions ROM Estimate 2018 05 31.xls\n"
     ]
    },
    {
     "name": "stderr",
     "output_type": "stream",
     "text": [
      " 98%|█████████▊| 7871/8058 [1:40:59<00:01, 147.92it/s]"
     ]
    },
    {
     "name": "stdout",
     "output_type": "stream",
     "text": [
      "/Users/rmRM/Desktop/Evgenii/DS/Tier 5 - 6/TB-19-02 Merchant Solutions Updates (formerly TB-18-16B)/Project Gating_Financials/ROM Estimates_Approvals/Merchant Solutions ROM Estimate 2018 05 31.xlsx\n",
      "/Users/rmRM/Desktop/Evgenii/DS/Tier 5 - 6/TB-19-02 Merchant Solutions Updates (formerly TB-18-16B)/Scope_Requirements Management/Co-Branding Requirement/3rd_Party_Risk_Assessment - Marketing.docx\n",
      "/Users/rmRM/Desktop/Evgenii/DS/Tier 5 - 6/TB-19-02 Merchant Solutions Updates (formerly TB-18-16B)/Scope_Requirements Management/MCD/MerchantSolutionsOfferUpdate_May2018_MCDv1.1_RTS.docx\n",
      "/Users/rmRM/Desktop/Evgenii/DS/Tier 5 - 6/TB-19-02 Merchant Solutions Updates (formerly TB-18-16B)/Scope_Requirements Management/MCD/Merchant_Solutions_Small_Enhancements_MCD_v1.2.docx\n",
      "/Users/rmRM/Desktop/Evgenii/DS/Tier 5 - 6/TB-19-05 Home Equity Disclosure Booklet/Project Gating_Financials/LOE_Reclass Information/Aug19 US GL RC_Home Equity Reclass.xls\n",
      "/Users/rmRM/Desktop/Evgenii/DS/Tier 5 - 6/TB-19-05 Home Equity Disclosure Booklet/Project Gating_Financials/LOE_Reclass Information/Aug19 US GL RC_Home Equity Reclass.xlsx\n",
      "/Users/rmRM/Desktop/Evgenii/DS/Tier 5 - 6/TB-19-05 Home Equity Disclosure Booklet/Project Gating_Financials/LOE_Reclass Information/Aug19 US GL RC_Home Equity Reclass_Sales_Pod.xls\n"
     ]
    },
    {
     "name": "stderr",
     "output_type": "stream",
     "text": [
      " 99%|█████████▉| 7990/8058 [1:41:00<00:00, 85.77it/s] "
     ]
    },
    {
     "name": "stdout",
     "output_type": "stream",
     "text": [
      "/Users/rmRM/Desktop/Evgenii/DS/Tier 5 - 6/TB-19-05 Home Equity Disclosure Booklet/Project Gating_Financials/LOE_Reclass Information/Aug19 US GL RC_Home Equity Reclass_Sales_Pod.xlsx\n",
      "/Users/rmRM/Desktop/Evgenii/DS/Tier 5 - 6/TB-20-20 View Rewards USDP-Mobile/Status/Rewards Update 1-16-20.doc\n",
      "/Users/rmRM/Desktop/Evgenii/DS/Tier 5 - 6/TB-20-20 View Rewards USDP-Mobile/Status/Rewards Update 1-16-20.docx\n",
      "/Users/rmRM/Desktop/Evgenii/DS/Tier 5 - 6/TB-20-20 View Rewards USDP-Mobile/Status/Rewards Update 1-22-20.doc\n",
      "/Users/rmRM/Desktop/Evgenii/DS/Tier 5 - 6/TB-20-20 View Rewards USDP-Mobile/Status/Rewards Update 1-22-20.docx\n",
      "/Users/rmRM/Desktop/Evgenii/DS/Tier 5 - 6/TB-20-20 View Rewards USDP-Mobile/Status/Rewards Update 1-29-20.doc\n",
      "/Users/rmRM/Desktop/Evgenii/DS/Tier 5 - 6/TB-20-20 View Rewards USDP-Mobile/Status/Rewards Update 1-29-20.docx\n",
      "/Users/rmRM/Desktop/Evgenii/DS/Tier 5 - 6/TB-20-20 View Rewards USDP-Mobile/Status/Rewards Update 1-8-20.doc\n",
      "/Users/rmRM/Desktop/Evgenii/DS/Tier 5 - 6/TB-20-20 View Rewards USDP-Mobile/Status/Rewards Update 1-8-20.docx\n",
      "/Users/rmRM/Desktop/Evgenii/DS/Tier 5 - 6/TB-20-20 View Rewards USDP-Mobile/Status/Rewards Update 2-12-20.doc\n",
      "/Users/rmRM/Desktop/Evgenii/DS/Tier 5 - 6/TB-20-20 View Rewards USDP-Mobile/Status/Rewards Update 2-12-20.docx\n",
      "/Users/rmRM/Desktop/Evgenii/DS/Tier 5 - 6/TB-20-20 View Rewards USDP-Mobile/Status/Rewards Update 2-19-20(2).doc\n",
      "/Users/rmRM/Desktop/Evgenii/DS/Tier 5 - 6/TB-20-20 View Rewards USDP-Mobile/Status/Rewards Update 2-19-20(2).docx\n",
      "/Users/rmRM/Desktop/Evgenii/DS/Tier 5 - 6/TB-20-20 View Rewards USDP-Mobile/Status/Rewards Update 2-19-20.doc\n",
      "/Users/rmRM/Desktop/Evgenii/DS/Tier 5 - 6/TB-20-20 View Rewards USDP-Mobile/Status/Rewards Update 2-19-20.docx\n",
      "/Users/rmRM/Desktop/Evgenii/DS/Tier 5 - 6/TB-20-20 View Rewards USDP-Mobile/Status/Rewards Update 2-26-20.doc\n",
      "/Users/rmRM/Desktop/Evgenii/DS/Tier 5 - 6/TB-20-20 View Rewards USDP-Mobile/Status/Rewards Update 2-26-20.docx\n",
      "/Users/rmRM/Desktop/Evgenii/DS/Tier 5 - 6/UP-17-03 TCH Tokenization Discovery/Project Gating_Financials/Project Financial Tools/Budget Calculator/Jun 2017/Budget Sheet Calculator_Tokenization_Jun 30.xlsx\n",
      "/Users/rmRM/Desktop/Evgenii/DS/Tier 5 - 6/UP-17-03 TCH Tokenization Discovery/Project Gating_Financials/Project Financial Tools/Budget Calculator/Jun 2017/TD Posted Transaction Review TCH Jun 30.xlsx\n",
      "/Users/rmRM/Desktop/Evgenii/DS/Tier 5 - 6/UP-17-03 TCH Tokenization Discovery/Project Gating_Financials/Project Financial Tools/Budget Calculator/May/Budget Sheet Calculator_Tokenization_May 31.xls\n",
      "/Users/rmRM/Desktop/Evgenii/DS/Tier 5 - 6/UP-17-03 TCH Tokenization Discovery/Project Gating_Financials/Project Financial Tools/Budget Calculator/May/Budget Sheet Calculator_Tokenization_May 31.xlsx\n",
      "/Users/rmRM/Desktop/Evgenii/DS/Tier 5 - 6/UP-17-03 TCH Tokenization Discovery/Project Gating_Financials/Project Financial Tools/Budget Calculator/May/TCH TD Posted Transaction Review May 31.xlsx\n",
      "/Users/rmRM/Desktop/Evgenii/DS/Tier 5 - 6/UP-17-05 - Direct Send-Electronic Payments/Deployment_Closure/Impmtn_Test Plan/Implementation plan/TD Bank Remittance Production Deployment Plan.xls\n",
      "/Users/rmRM/Desktop/Evgenii/DS/Tier 5 - 6/UP-17-05 - Direct Send-Electronic Payments/Deployment_Closure/Impmtn_Test Plan/Implementation plan/TD Bank Remittance Production Deployment Plan.xlsx\n"
     ]
    },
    {
     "name": "stderr",
     "output_type": "stream",
     "text": [
      "100%|█████████▉| 8032/8058 [1:41:01<00:00, 69.29it/s]"
     ]
    },
    {
     "name": "stdout",
     "output_type": "stream",
     "text": [
      "/Users/rmRM/Desktop/Evgenii/DS/Tier 5 - 6/UP-17-05 - Direct Send-Electronic Payments/Meetings_Communications/Project Status Meeting Minutes/Direct Send Money Weekly DgC Status Meeting Agenda 5-25-17.doc\n",
      "/Users/rmRM/Desktop/Evgenii/DS/Tier 5 - 6/UP-17-05 - Direct Send-Electronic Payments/Meetings_Communications/Project Status Meeting Minutes/Direct Send Money Weekly DgC Status Meeting Agenda 5-25-17.docx\n",
      "/Users/rmRM/Desktop/Evgenii/DS/Tier 5 - 6/UP-17-05 - Direct Send-Electronic Payments/Meetings_Communications/Project Status Meeting Minutes/Direct Send Money Weekly DgC Status Meeting Agenda 6-15-17.doc\n",
      "/Users/rmRM/Desktop/Evgenii/DS/Tier 5 - 6/UP-17-05 - Direct Send-Electronic Payments/Meetings_Communications/Project Status Meeting Minutes/Direct Send Money Weekly DgC Status Meeting Agenda 6-15-17.docx\n",
      "/Users/rmRM/Desktop/Evgenii/DS/Tier 5 - 6/UP-17-05 - Direct Send-Electronic Payments/Meetings_Communications/Project Status Meeting Minutes/Direct Send Money Weekly DgC Status Meeting Agenda 6-22-17.doc\n",
      "/Users/rmRM/Desktop/Evgenii/DS/Tier 5 - 6/UP-17-05 - Direct Send-Electronic Payments/Meetings_Communications/Project Status Meeting Minutes/Direct Send Money Weekly DgC Status Meeting Agenda 6-22-17.docx\n",
      "/Users/rmRM/Desktop/Evgenii/DS/Tier 5 - 6/UP-17-05 - Direct Send-Electronic Payments/Meetings_Communications/Project Status Meeting Minutes/Direct Send Money Weekly DgC Status Meeting Agenda 6-29-17.doc\n",
      "/Users/rmRM/Desktop/Evgenii/DS/Tier 5 - 6/UP-17-05 - Direct Send-Electronic Payments/Meetings_Communications/Project Status Meeting Minutes/Direct Send Money Weekly DgC Status Meeting Agenda 6-29-17.docx\n",
      "/Users/rmRM/Desktop/Evgenii/DS/Tier 5 - 6/UP-17-05 - Direct Send-Electronic Payments/Meetings_Communications/Project Status Meeting Minutes/Direct Send Money Weekly DgC Status Meeting Agenda 6-8-17.doc\n",
      "/Users/rmRM/Desktop/Evgenii/DS/Tier 5 - 6/UP-17-05 - Direct Send-Electronic Payments/Meetings_Communications/Project Status Meeting Minutes/Direct Send Money Weekly DgC Status Meeting Agenda 6-8-17.docx\n",
      "/Users/rmRM/Desktop/Evgenii/DS/Tier 5 - 6/UP-17-05 - Direct Send-Electronic Payments/Meetings_Communications/Project Status Meeting Minutes/Direct Send Money Weekly DgC Status Meeting Agenda 7-13-17.doc\n",
      "/Users/rmRM/Desktop/Evgenii/DS/Tier 5 - 6/UP-17-05 - Direct Send-Electronic Payments/Meetings_Communications/Project Status Meeting Minutes/Direct Send Money Weekly DgC Status Meeting Agenda 7-13-17.docx\n",
      "/Users/rmRM/Desktop/Evgenii/DS/Tier 5 - 6/UP-17-05 - Direct Send-Electronic Payments/Meetings_Communications/Project Status Meeting Minutes/Direct Send Money Weekly DgC Status Meeting Agenda 7-20-17.doc\n",
      "/Users/rmRM/Desktop/Evgenii/DS/Tier 5 - 6/UP-17-05 - Direct Send-Electronic Payments/Meetings_Communications/Project Status Meeting Minutes/Direct Send Money Weekly DgC Status Meeting Agenda 7-20-17.docx\n",
      "/Users/rmRM/Desktop/Evgenii/DS/Tier 5 - 6/UP-17-05 - Direct Send-Electronic Payments/Meetings_Communications/Project Status Meeting Minutes/Direct Send Money Weekly DgC Status Meeting Agenda 7-27-17.doc\n",
      "/Users/rmRM/Desktop/Evgenii/DS/Tier 5 - 6/UP-17-05 - Direct Send-Electronic Payments/Meetings_Communications/Project Status Meeting Minutes/Direct Send Money Weekly DgC Status Meeting Agenda 7-27-17.docx\n",
      "/Users/rmRM/Desktop/Evgenii/DS/Tier 5 - 6/UP-17-05 - Direct Send-Electronic Payments/Meetings_Communications/Project Status Meeting Minutes/Direct Send Money Weekly DgC Status Meeting Agenda 8-3-17.doc\n",
      "/Users/rmRM/Desktop/Evgenii/DS/Tier 5 - 6/UP-17-05 - Direct Send-Electronic Payments/Meetings_Communications/Project Status Meeting Minutes/Direct Send Money Weekly DgC Status Meeting Agenda 8-3-17.docx\n",
      "/Users/rmRM/Desktop/Evgenii/DS/Tier 5 - 6/UP-17-05 - Direct Send-Electronic Payments/Meetings_Communications/Project Status Meeting Minutes/Direct Send Money Weekly DgC Status Meeting Notes 5-25-17.doc\n",
      "/Users/rmRM/Desktop/Evgenii/DS/Tier 5 - 6/UP-17-05 - Direct Send-Electronic Payments/Meetings_Communications/Project Status Meeting Minutes/Direct Send Money Weekly DgC Status Meeting Notes 5-25-17.docx\n",
      "/Users/rmRM/Desktop/Evgenii/DS/Tier 5 - 6/UP-17-05 - Direct Send-Electronic Payments/Meetings_Communications/Project Status Meeting Minutes/Direct Send Money Weekly DgC Status Meeting Notes 7-13-17.doc\n",
      "/Users/rmRM/Desktop/Evgenii/DS/Tier 5 - 6/UP-17-05 - Direct Send-Electronic Payments/Meetings_Communications/Project Status Meeting Minutes/Direct Send Money Weekly DgC Status Meeting Notes 7-13-17.docx\n",
      "/Users/rmRM/Desktop/Evgenii/DS/Tier 5 - 6/UP-17-05 - Direct Send-Electronic Payments/Project Control Artifacts/Project Risk Documentation/PIA_IRA/Direct Send Money_Project_Risk_Assessment_Version 7.xlsx\n",
      "/Users/rmRM/Desktop/Evgenii/DS/Tier 5 - 6/UP-17-05 - Direct Send-Electronic Payments/Project Gating_Financials/Project Financial Tools/Budget Calculator/Copy of Direct Send Money Expense Detail- June Actuals.xlsx\n",
      "/Users/rmRM/Desktop/Evgenii/DS/Tier 5 - 6/UP-17-05 - Direct Send-Electronic Payments/Project Gating_Financials/Project Financial Tools/Budget Calculator/Direct Send Money Expense Detail- June Actuals.xlsx\n",
      "/Users/rmRM/Desktop/Evgenii/DS/Tier 5 - 6/UP-17-05 - Direct Send-Electronic Payments/Scope_Requirements Management/Requirements Package/PRJ96119 Draft 5 layout.xls\n"
     ]
    },
    {
     "name": "stderr",
     "output_type": "stream",
     "text": [
      "100%|██████████| 8058/8058 [1:41:01<00:00,  1.33it/s]"
     ]
    },
    {
     "name": "stdout",
     "output_type": "stream",
     "text": [
      "/Users/rmRM/Desktop/Evgenii/DS/Tier 5 - 6/UP-17-05 - Direct Send-Electronic Payments/Scope_Requirements Management/Requirements Package/PRJ96119 Draft 5 layout.xlsx\n",
      "EVERY FILE DONE\n"
     ]
    },
    {
     "name": "stderr",
     "output_type": "stream",
     "text": [
      "\n"
     ]
    }
   ],
   "source": [
    "step_size = 10000\n",
    "start = 0\n",
    "#stop = step_size\n",
    "#while stop<len(all_data):\n",
    "#    extract_file(all_data[start:stop], stop)\n",
    "#    start = stop\n",
    "#    if stop + step_size<len(all_data):\n",
    "#        stop += step_size\n",
    "#    else:\n",
    "#        break\n",
    "extract_file(all_data[start:len(all_data)], len(all_data))\n",
    "print('EVERY FILE DONE')"
   ]
  },
  {
   "cell_type": "code",
   "execution_count": 91,
   "id": "awful-internship",
   "metadata": {},
   "outputs": [
    {
     "data": {
      "text/html": [
       "<div>\n",
       "<style scoped>\n",
       "    .dataframe tbody tr th:only-of-type {\n",
       "        vertical-align: middle;\n",
       "    }\n",
       "\n",
       "    .dataframe tbody tr th {\n",
       "        vertical-align: top;\n",
       "    }\n",
       "\n",
       "    .dataframe thead th {\n",
       "        text-align: right;\n",
       "    }\n",
       "</style>\n",
       "<table border=\"1\" class=\"dataframe\">\n",
       "  <thead>\n",
       "    <tr style=\"text-align: right;\">\n",
       "      <th></th>\n",
       "      <th>paths</th>\n",
       "      <th>text</th>\n",
       "    </tr>\n",
       "  </thead>\n",
       "  <tbody>\n",
       "    <tr>\n",
       "      <th>0</th>\n",
       "      <td>/Users/rmRM/Desktop/Evgenii/DS/Tier 1 - 4/Cros...</td>\n",
       "      <td>4000 1234 5678 1234\\n\\n00/00\\n\\nTD CUSTOMER\\n\\n</td>\n",
       "    </tr>\n",
       "    <tr>\n",
       "      <th>1</th>\n",
       "      <td>/Users/rmRM/Desktop/Evgenii/DS/Tier 1 - 4/NGP ...</td>\n",
       "      <td>NGP Project 4  - Core Capabilities\\nProject Ma...</td>\n",
       "    </tr>\n",
       "    <tr>\n",
       "      <th>2</th>\n",
       "      <td>/Users/rmRM/Desktop/Evgenii/DS/Tier 1 - 4/NGP ...</td>\n",
       "      <td>NGP Project 4  - Core Capabilities\\nProject Ma...</td>\n",
       "    </tr>\n",
       "    <tr>\n",
       "      <th>3</th>\n",
       "      <td>/Users/rmRM/Desktop/Evgenii/DS/Tier 1 - 4/NGP ...</td>\n",
       "      <td>NGPR  - Tablet, Browser as well as Core Capabi...</td>\n",
       "    </tr>\n",
       "    <tr>\n",
       "      <th>4</th>\n",
       "      <td>/Users/rmRM/Desktop/Evgenii/DS/Tier 1 - 4/NGP ...</td>\n",
       "      <td>NGP - P4 Team Roster (Core Team &amp; Stakheholder...</td>\n",
       "    </tr>\n",
       "    <tr>\n",
       "      <th>5</th>\n",
       "      <td>/Users/rmRM/Desktop/Evgenii/DS/Tier 1 - 4/TB-1...</td>\n",
       "      <td>NGP Readiness &amp; Conversion Status. As of July ...</td>\n",
       "    </tr>\n",
       "    <tr>\n",
       "      <th>6</th>\n",
       "      <td>/Users/rmRM/Desktop/Evgenii/DS/Tier 1 - 4/TB-1...</td>\n",
       "      <td>NGP Readiness &amp; Conversion Status. As of July ...</td>\n",
       "    </tr>\n",
       "    <tr>\n",
       "      <th>7</th>\n",
       "      <td>/Users/rmRM/Desktop/Evgenii/DS/Tier 1 - 4/TB-1...</td>\n",
       "      <td>NGP Readiness &amp; \\nConversion Status \\nAs of Ju...</td>\n",
       "    </tr>\n",
       "    <tr>\n",
       "      <th>8</th>\n",
       "      <td>/Users/rmRM/Desktop/Evgenii/DS/Tier 1 - 4/TB-1...</td>\n",
       "      <td>NGP Readiness &amp; Conversion Status. As of July ...</td>\n",
       "    </tr>\n",
       "    <tr>\n",
       "      <th>9</th>\n",
       "      <td>/Users/rmRM/Desktop/Evgenii/DS/Tier 1 - 4/TB-1...</td>\n",
       "      <td>NGP Readiness &amp; \\nConversion Status \\nAs of Ju...</td>\n",
       "    </tr>\n",
       "  </tbody>\n",
       "</table>\n",
       "</div>"
      ],
      "text/plain": [
       "                                               paths  \\\n",
       "0  /Users/rmRM/Desktop/Evgenii/DS/Tier 1 - 4/Cros...   \n",
       "1  /Users/rmRM/Desktop/Evgenii/DS/Tier 1 - 4/NGP ...   \n",
       "2  /Users/rmRM/Desktop/Evgenii/DS/Tier 1 - 4/NGP ...   \n",
       "3  /Users/rmRM/Desktop/Evgenii/DS/Tier 1 - 4/NGP ...   \n",
       "4  /Users/rmRM/Desktop/Evgenii/DS/Tier 1 - 4/NGP ...   \n",
       "5  /Users/rmRM/Desktop/Evgenii/DS/Tier 1 - 4/TB-1...   \n",
       "6  /Users/rmRM/Desktop/Evgenii/DS/Tier 1 - 4/TB-1...   \n",
       "7  /Users/rmRM/Desktop/Evgenii/DS/Tier 1 - 4/TB-1...   \n",
       "8  /Users/rmRM/Desktop/Evgenii/DS/Tier 1 - 4/TB-1...   \n",
       "9  /Users/rmRM/Desktop/Evgenii/DS/Tier 1 - 4/TB-1...   \n",
       "\n",
       "                                                text  \n",
       "0   4000 1234 5678 1234\\n\\n00/00\\n\\nTD CUSTOMER\\n\\n\n",
       "  \n",
       "1  NGP Project 4  - Core Capabilities\\nProject Ma...  \n",
       "2  NGP Project 4  - Core Capabilities\\nProject Ma...  \n",
       "3  NGPR  - Tablet, Browser as well as Core Capabi...  \n",
       "4  NGP - P4 Team Roster (Core Team & Stakheholder...  \n",
       "5  NGP Readiness & Conversion Status. As of July ...  \n",
       "6  NGP Readiness & Conversion Status. As of July ...  \n",
       "7  NGP Readiness & \\nConversion Status \\nAs of Ju...  \n",
       "8  NGP Readiness & Conversion Status. As of July ...  \n",
       "9  NGP Readiness & \\nConversion Status \\nAs of Ju...  "
      ]
     },
     "execution_count": 91,
     "metadata": {},
     "output_type": "execute_result"
    }
   ],
   "source": [
    "#*******************************\n",
    "#removing dups and saving\n",
    "processeddata=pd.read_csv('/Users/rmRM/Desktop/RM/trainv8.csv')\n",
    "processeddata.head(10)\n",
    "#processeddata.shape\n",
    "#newdf=processeddata.drop_duplicates()\n",
    "#newdf.to_excel('trainv8.xlsx', index=False)\n",
    "#newdf.to_csv('trainv8.csv', index=False)\n",
    "\n"
   ]
  },
  {
   "cell_type": "code",
   "execution_count": 47,
   "id": "responsible-jenny",
   "metadata": {},
   "outputs": [],
   "source": [
    "def replaceAppribute (a):\n",
    "    #*******removing\n",
    "    #if a in ['Archive']: return ''\n",
    "    x=''\n",
    "    if 'Requirements' in a: x=\"Project Requirements\"\n",
    "    if 'PCR' in a: x=\"Project PCR\"\n",
    "    if ('Design' in a) or (\"Wireframes\" in a): x=\"Design Document\" \n",
    "    if ('Steering' in a) or ('SteerCo' in a): x=\"Steering Committee Meeting\"\n",
    "    if 'Communication' in a: x=\"Project Communication\"\n",
    "    if 'SRS' in a: x=\"System Requirements Document\"\n",
    "    if 'Audit' in a: x=\"Project Audit\"     \n",
    "    if 'Planning' in a: x=\"Project Planning\"\n",
    "    if 'Governance' in a: x=\"Project Governance\"\n",
    "    if 'Discovery' in a: x=\"Project Discovery\"\n",
    "    if ('Financials' in a) or ('Invoices' in a) or ('Finances' in a) or ('Financial' in a): x=\"Project Financials and Invoices\"\n",
    "    if 'Delivery' in a: x=\"Project Delivery\"\n",
    "    if 'PCR' in a: x=\"Project PCR\"\n",
    "    if 'Release' in a: x=\"Release Artifacts\"\n",
    "    if ('Readiness' in a) or ('Pilot' in a): x=\"Project Readiness\"\n",
    "    if ('Testing' in a) or ('QA' in a): x=\"Quality Assurance\"\n",
    "    if 'Stakeholder' in a: x=\"Stakeholder Meeting\"\n",
    "    if 'NGP' in a: x=\"NGP\"\n",
    "    if 'MRDC' in a: x=\"Mobile deposit\"\n",
    "    if 'Account Opening' in a: x=\"Account Opening\"\n",
    "    if 'Fiserv' in a: x=\"Fiserv\"\n",
    "    if 'Agile Transformation' in a: x=\"Agile Transformation\"\n",
    "    if 'Billpay' in a: x=\"Billpay\"\n",
    "    if 'Zelle' in a: x=\"Zelle\"\n",
    "    if 'Mobile' in a: x=\"Mobile app\"\n",
    "    if 'Public Site' in a: x=\"Public Site\"\n",
    "    if 'Small Enhancements' in a: x=\"Small Enhancements\"\n",
    "    if ('SBB' in a) or ('Small Business' in a): x=\"Small Business Banking\"\n",
    "    if 'Meeting Minutes' in a: x=\"Meeting Minutes\"\n",
    "    if ('Approvals' in a) or ('Approve' in a): x=\"Project Approvals\"\n",
    "    if 'Closure' in a: x=\"Project Closure\" \n",
    "    if 'Control' in a: x=\"Change Control\"\n",
    "    if 'Status' in a: x=\"Status Report\"\n",
    "    if 'eTreasury' in x: x=\"eTreasury\"\n",
    "    if 'Vendor' in a: x=\"Vendor Management\"\n",
    "    return x"
   ]
  },
  {
   "cell_type": "code",
   "execution_count": 48,
   "id": "creative-element",
   "metadata": {},
   "outputs": [
    {
     "name": "stdout",
     "output_type": "stream",
     "text": [
      "(5516, 3)\n"
     ]
    },
    {
     "data": {
      "text/html": [
       "<div>\n",
       "<style scoped>\n",
       "    .dataframe tbody tr th:only-of-type {\n",
       "        vertical-align: middle;\n",
       "    }\n",
       "\n",
       "    .dataframe tbody tr th {\n",
       "        vertical-align: top;\n",
       "    }\n",
       "\n",
       "    .dataframe thead th {\n",
       "        text-align: right;\n",
       "    }\n",
       "</style>\n",
       "<table border=\"1\" class=\"dataframe\">\n",
       "  <thead>\n",
       "    <tr style=\"text-align: right;\">\n",
       "      <th></th>\n",
       "      <th>attributes</th>\n",
       "      <th>text</th>\n",
       "      <th>paths</th>\n",
       "    </tr>\n",
       "  </thead>\n",
       "  <tbody>\n",
       "    <tr>\n",
       "      <th>0</th>\n",
       "      <td>NGP,Project Communication</td>\n",
       "      <td>2016_05_09_NGP_P4_Workbook.xlsxNGP Project 4  ...</td>\n",
       "      <td>/Users/rmRM/Desktop/Evgenii/DS/Tier 1 - 4/NGP ...</td>\n",
       "    </tr>\n",
       "    <tr>\n",
       "      <th>1</th>\n",
       "      <td>NGP,Project Communication</td>\n",
       "      <td>2016_05_17_NGP_P4_Workbook (Autosaved).xlsxNGP...</td>\n",
       "      <td>/Users/rmRM/Desktop/Evgenii/DS/Tier 1 - 4/NGP ...</td>\n",
       "    </tr>\n",
       "    <tr>\n",
       "      <th>2</th>\n",
       "      <td>NGP,Project Communication</td>\n",
       "      <td>2016_05_31_NGP_P4_Workbook.xlsxNGPR  - Tablet,...</td>\n",
       "      <td>/Users/rmRM/Desktop/Evgenii/DS/Tier 1 - 4/NGP ...</td>\n",
       "    </tr>\n",
       "    <tr>\n",
       "      <th>3</th>\n",
       "      <td>NGP,Project Communication</td>\n",
       "      <td>old2016_03_8_NGP_P4_DRAFT_LOB Perspective  HL ...</td>\n",
       "      <td>/Users/rmRM/Desktop/Evgenii/DS/Tier 1 - 4/NGP ...</td>\n",
       "    </tr>\n",
       "    <tr>\n",
       "      <th>4</th>\n",
       "      <td>NGP,Project Delivery,Project Readiness,Status ...</td>\n",
       "      <td>NGP_Readiness and Conversion Status_07_14_2017...</td>\n",
       "      <td>/Users/rmRM/Desktop/Evgenii/DS/Tier 1 - 4/TB-1...</td>\n",
       "    </tr>\n",
       "    <tr>\n",
       "      <th>...</th>\n",
       "      <td>...</td>\n",
       "      <td>...</td>\n",
       "      <td>...</td>\n",
       "    </tr>\n",
       "    <tr>\n",
       "      <th>95</th>\n",
       "      <td>NGP,Change Control,Status Report</td>\n",
       "      <td>NGP_PCR_Status_04_26_2017.pptx1. Note: Project...</td>\n",
       "      <td>/Users/rmRM/Desktop/Evgenii/DS/Tier 1 - 4/TB-1...</td>\n",
       "    </tr>\n",
       "    <tr>\n",
       "      <th>96</th>\n",
       "      <td>NGP,Change Control,Status Report</td>\n",
       "      <td>NGP_PCR_Status_05_16_2017 vF.pptx1. Note: Proj...</td>\n",
       "      <td>/Users/rmRM/Desktop/Evgenii/DS/Tier 1 - 4/TB-1...</td>\n",
       "    </tr>\n",
       "    <tr>\n",
       "      <th>97</th>\n",
       "      <td>NGP,Change Control,Status Report</td>\n",
       "      <td>NGP_PCR_Status_05_24_2017 vF.pptx1. Note: Proj...</td>\n",
       "      <td>/Users/rmRM/Desktop/Evgenii/DS/Tier 1 - 4/TB-1...</td>\n",
       "    </tr>\n",
       "    <tr>\n",
       "      <th>98</th>\n",
       "      <td>NGP,Change Control,Status Report</td>\n",
       "      <td>NGP_PCR_Status_06_07_2017 vF.pptx1. Note: Proj...</td>\n",
       "      <td>/Users/rmRM/Desktop/Evgenii/DS/Tier 1 - 4/TB-1...</td>\n",
       "    </tr>\n",
       "    <tr>\n",
       "      <th>99</th>\n",
       "      <td>NGP,Change Control,Status Report</td>\n",
       "      <td>NGP_PCR_Status_06_09_2016.pptx1. Note: Project...</td>\n",
       "      <td>/Users/rmRM/Desktop/Evgenii/DS/Tier 1 - 4/TB-1...</td>\n",
       "    </tr>\n",
       "  </tbody>\n",
       "</table>\n",
       "<p>100 rows × 3 columns</p>\n",
       "</div>"
      ],
      "text/plain": [
       "                                           attributes  \\\n",
       "0                           NGP,Project Communication   \n",
       "1                           NGP,Project Communication   \n",
       "2                           NGP,Project Communication   \n",
       "3                           NGP,Project Communication   \n",
       "4   NGP,Project Delivery,Project Readiness,Status ...   \n",
       "..                                                ...   \n",
       "95                   NGP,Change Control,Status Report   \n",
       "96                   NGP,Change Control,Status Report   \n",
       "97                   NGP,Change Control,Status Report   \n",
       "98                   NGP,Change Control,Status Report   \n",
       "99                   NGP,Change Control,Status Report   \n",
       "\n",
       "                                                 text  \\\n",
       "0   2016_05_09_NGP_P4_Workbook.xlsxNGP Project 4  ...   \n",
       "1   2016_05_17_NGP_P4_Workbook (Autosaved).xlsxNGP...   \n",
       "2   2016_05_31_NGP_P4_Workbook.xlsxNGPR  - Tablet,...   \n",
       "3   old2016_03_8_NGP_P4_DRAFT_LOB Perspective  HL ...   \n",
       "4   NGP_Readiness and Conversion Status_07_14_2017...   \n",
       "..                                                ...   \n",
       "95  NGP_PCR_Status_04_26_2017.pptx1. Note: Project...   \n",
       "96  NGP_PCR_Status_05_16_2017 vF.pptx1. Note: Proj...   \n",
       "97  NGP_PCR_Status_05_24_2017 vF.pptx1. Note: Proj...   \n",
       "98  NGP_PCR_Status_06_07_2017 vF.pptx1. Note: Proj...   \n",
       "99  NGP_PCR_Status_06_09_2016.pptx1. Note: Project...   \n",
       "\n",
       "                                                paths  \n",
       "0   /Users/rmRM/Desktop/Evgenii/DS/Tier 1 - 4/NGP ...  \n",
       "1   /Users/rmRM/Desktop/Evgenii/DS/Tier 1 - 4/NGP ...  \n",
       "2   /Users/rmRM/Desktop/Evgenii/DS/Tier 1 - 4/NGP ...  \n",
       "3   /Users/rmRM/Desktop/Evgenii/DS/Tier 1 - 4/NGP ...  \n",
       "4   /Users/rmRM/Desktop/Evgenii/DS/Tier 1 - 4/TB-1...  \n",
       "..                                                ...  \n",
       "95  /Users/rmRM/Desktop/Evgenii/DS/Tier 1 - 4/TB-1...  \n",
       "96  /Users/rmRM/Desktop/Evgenii/DS/Tier 1 - 4/TB-1...  \n",
       "97  /Users/rmRM/Desktop/Evgenii/DS/Tier 1 - 4/TB-1...  \n",
       "98  /Users/rmRM/Desktop/Evgenii/DS/Tier 1 - 4/TB-1...  \n",
       "99  /Users/rmRM/Desktop/Evgenii/DS/Tier 1 - 4/TB-1...  \n",
       "\n",
       "[100 rows x 3 columns]"
      ]
     },
     "execution_count": 48,
     "metadata": {},
     "output_type": "execute_result"
    }
   ],
   "source": [
    "#*******************************\n",
    "#adding attributes\n",
    "processeddata=pd.read_csv('/Users/rmRM/Desktop/RM/trainv8.csv')\n",
    "df = pd.DataFrame(columns=['attributes', 'text', 'paths'])\n",
    "dfExcel = pd.DataFrame(columns=['attributes', 'text', 'paths'])\n",
    "y = []\n",
    "\n",
    "for row in processeddata.iterrows():\n",
    "  str1=''\n",
    "  y=row[1]['paths'].split('/')\n",
    "  for x in range(7,len(y)):\n",
    "   attribute=replaceAppribute(y[x])\n",
    "   if (attribute==''): continue\n",
    "   if (attribute in y): continue\n",
    "   y[x]=attribute\n",
    "   #break\n",
    "   if len (str1)==0: \n",
    "    str1+=(y[x])\n",
    "   else: \n",
    "    str1+=','+y[x]\n",
    "  #print (str1)\n",
    "  #print (y[len(y)-1])\n",
    "  #break\n",
    "  #if str1=='': continue\n",
    "  if len(row[1]['text'])<100 or (str1==''): continue\n",
    "  values_to_add = {'attributes': str1, 'text': y[len(y)-1]+row[1]['text'][:100000], 'paths': row[1]['paths']}\n",
    "  row_to_add = pd.Series(values_to_add)\n",
    "  df = df.append(row_to_add,ignore_index=True)  \n",
    "\n",
    "  values_to_add = {'attributes': str1, 'text': y[len(y)-1]+row[1]['text'][:50], 'paths': row[1]['paths']}\n",
    "  row_to_add = pd.Series(values_to_add)\n",
    "  dfExcel=dfExcel.append(row_to_add,ignore_index=True) \n",
    "\n",
    "df.to_csv('trainv8WithAttributes.csv', index=False)\n",
    "dfExcel.to_excel('trainv8WithAttributes.xls', index=False)\n",
    "print(df.shape)\n",
    "df.head(100)"
   ]
  },
  {
   "cell_type": "code",
   "execution_count": 49,
   "id": "published-bangladesh",
   "metadata": {},
   "outputs": [
    {
     "name": "stdout",
     "output_type": "stream",
     "text": [
      "32\n",
      "(5516, 32)\n",
      "[[0 0 0 0 0 0 0 0 0 0 0 1 0 0 0 0 0 0 0 0 0 0 0 0 0 0 0 0 1 0 0 0]\n",
      " [0 0 0 0 0 0 0 0 0 0 0 1 0 0 0 0 0 0 0 0 0 0 0 0 0 0 0 0 1 0 0 0]\n",
      " [0 0 0 0 0 0 0 0 0 0 0 1 0 0 0 0 0 0 0 0 0 0 0 0 0 0 0 0 1 0 0 0]\n",
      " [0 0 0 0 0 0 0 0 0 0 0 1 0 0 0 0 0 0 0 0 0 0 0 0 0 0 0 0 1 0 0 0]\n",
      " [0 0 0 0 0 1 0 0 0 0 0 0 0 0 0 0 1 0 0 0 0 0 0 0 0 0 0 0 1 0 0 1]\n",
      " [0 0 0 0 0 1 0 0 0 0 0 0 0 0 0 0 1 0 0 0 0 0 0 0 0 0 0 0 1 0 0 1]\n",
      " [0 0 0 0 0 1 0 0 0 0 0 0 0 0 0 0 1 0 0 0 0 0 0 0 0 0 0 0 1 0 0 1]\n",
      " [0 0 0 0 0 1 0 0 0 0 0 0 0 0 0 0 1 0 0 0 0 0 0 0 0 0 0 0 1 0 0 1]\n",
      " [0 0 0 0 0 1 0 0 0 0 0 0 0 0 0 0 1 0 0 0 0 0 0 0 0 0 0 0 1 0 0 1]\n",
      " [0 0 0 0 0 1 0 0 0 0 0 0 0 0 0 0 1 0 0 0 0 0 0 0 0 0 0 0 1 0 0 1]]\n",
      "PublicSite 202\n",
      "ProjectClosure 167\n",
      "ProjectPCR 328\n",
      "SmallEnhancements 395\n",
      "VendorManagement 60\n",
      "ProjectDelivery 318\n",
      "ChangeControl 1001\n",
      "StakeholderMeeting 71\n",
      "MeetingMinutes 166\n",
      "ProjectRequirements 729\n",
      "Zelle 163\n",
      "ProjectCommunication 1051\n",
      "ProjectAudit 17\n",
      "SmallBusinessBanking 311\n",
      "ProjectPlanning 27\n",
      "SteeringCommitteeMeeting 164\n",
      "ProjectReadiness 289\n",
      "AgileTransformation 374\n",
      "DesignDocument 320\n",
      "ProjectDiscovery 77\n",
      "Mobileapp 285\n",
      "SystemRequirementsDocument 28\n",
      "Mobiledeposit 16\n",
      "ProjectFinancialsandInvoices 851\n",
      "QualityAssurance 200\n",
      "ProjectGovernance 93\n",
      "Billpay 449\n",
      "Fiserv 322\n",
      "NGP 1419\n",
      "ReleaseArtifacts 133\n",
      "ProjectApprovals 267\n",
      "StatusReport 847\n"
     ]
    }
   ],
   "source": [
    "import numpy as np\n",
    "#*****************************\n",
    "#Clean up attributes\n",
    "#Generate numerical labels\n",
    "tmp_list = []\n",
    "for line in dfExcel['attributes'].values:\n",
    "  if ',' in line:\n",
    "    for l in line.split(','):\n",
    "      if len(l)>2:\n",
    "        tmp_list.append(l.replace(' ', ''))\n",
    "    # tmp_list += [l.replace(' ', '') for l in line.split(',') if len(line)>2]\n",
    "  else:\n",
    "    if len(line)>2:\n",
    "      tmp_list.append(line.replace(' ', ''))\n",
    "print(len(set(tmp_list)))\n",
    "#print(set(tmp_list))\n",
    "\n",
    "label_map = {name:k for k,name in enumerate(set(tmp_list))}\n",
    "#print (label_map)\n",
    "\n",
    "#************************************\n",
    "label_map_inv = {k:name for k,name in enumerate(label_map)}\n",
    "y = []\n",
    "for line in dfExcel['attributes'].values:\n",
    "  target = [0 for i in range(len(label_map))]\n",
    "  for l in line.split(','):\n",
    "    l = l.replace(' ','')\n",
    "    if l in label_map:\n",
    "      target[label_map[l]]=1\n",
    "  y.append(target)\n",
    "y = np.stack(y)\n",
    "print(y.shape)\n",
    "print (y[:10])\n",
    "#************************************\n",
    "for key in label_map_inv:\n",
    "  print(label_map_inv[key], sum(y[:,key]))\n"
   ]
  },
  {
   "cell_type": "code",
   "execution_count": 50,
   "id": "graduate-event",
   "metadata": {},
   "outputs": [
    {
     "name": "stdout",
     "output_type": "stream",
     "text": [
      "mean_len =  13904.881073241479\n"
     ]
    }
   ],
   "source": [
    "#Calculate mean len for text data\n",
    "docs = df['text'].values\n",
    "mean_len = []\n",
    "for doc in docs:\n",
    "    mean_len.append(len(doc))\n",
    "    #print (len(doc))\n",
    "print('mean_len = ', sum(mean_len)/len(mean_len))"
   ]
  },
  {
   "cell_type": "markdown",
   "id": "medieval-vegetation",
   "metadata": {},
   "source": [
    "# Concat all"
   ]
  },
  {
   "cell_type": "code",
   "execution_count": null,
   "id": "interior-sheep",
   "metadata": {},
   "outputs": [],
   "source": [
    "data_csv = sorted(list(Path('./Data_done/').rglob('data*.csv')))[1:]\n",
    "len(data_csv)"
   ]
  },
  {
   "cell_type": "code",
   "execution_count": null,
   "id": "aging-hurricane",
   "metadata": {},
   "outputs": [],
   "source": [
    "train_data = sorted(list(Path('./Train_data/').rglob('data*.csv')))\n",
    "len(train_data)"
   ]
  },
  {
   "cell_type": "code",
   "execution_count": null,
   "id": "twenty-tribe",
   "metadata": {},
   "outputs": [],
   "source": [
    "combined_csv = pd.concat([pd.read_csv(f) for f in data_csv+train_data ])"
   ]
  },
  {
   "cell_type": "code",
   "execution_count": null,
   "id": "fundamental-internship",
   "metadata": {},
   "outputs": [],
   "source": [
    "combined_csv.shape"
   ]
  },
  {
   "cell_type": "code",
   "execution_count": null,
   "id": "center-church",
   "metadata": {},
   "outputs": [],
   "source": [
    "combined_csv.head()"
   ]
  },
  {
   "cell_type": "code",
   "execution_count": null,
   "id": "worst-theorem",
   "metadata": {},
   "outputs": [],
   "source": [
    "combined_csv.columns\n",
    "del combined_csv['Unnamed: 0']"
   ]
  },
  {
   "cell_type": "code",
   "execution_count": null,
   "id": "virtual-puzzle",
   "metadata": {},
   "outputs": [],
   "source": [
    "combined_csv.drop_duplicates().shape"
   ]
  },
  {
   "cell_type": "code",
   "execution_count": null,
   "id": "electrical-probability",
   "metadata": {},
   "outputs": [],
   "source": [
    "done_paths = combined_csv['paths'].values"
   ]
  },
  {
   "cell_type": "code",
   "execution_count": null,
   "id": "accessible-backing",
   "metadata": {},
   "outputs": [],
   "source": []
  },
  {
   "cell_type": "code",
   "execution_count": null,
   "id": "gorgeous-remark",
   "metadata": {},
   "outputs": [],
   "source": [
    "combined_csv.to_excel('train.xlsx', index=False)"
   ]
  },
  {
   "cell_type": "markdown",
   "id": "temporal-shoot",
   "metadata": {},
   "source": [
    "# Statistic"
   ]
  },
  {
   "cell_type": "code",
   "execution_count": null,
   "id": "ecological-yukon",
   "metadata": {},
   "outputs": [],
   "source": [
    "combined_csv['len_text'] = combined_csv['text'].apply(lambda x: len(x))"
   ]
  },
  {
   "cell_type": "code",
   "execution_count": null,
   "id": "opened-zimbabwe",
   "metadata": {},
   "outputs": [],
   "source": [
    "combined_csv[combined_csv['len_text']>50000].shape"
   ]
  },
  {
   "cell_type": "code",
   "execution_count": null,
   "id": "fluid-passport",
   "metadata": {},
   "outputs": [],
   "source": [
    "done_paths = combined_csv['paths'].values"
   ]
  },
  {
   "cell_type": "code",
   "execution_count": null,
   "id": "civil-poetry",
   "metadata": {},
   "outputs": [],
   "source": [
    "done_paths[0]"
   ]
  },
  {
   "cell_type": "code",
   "execution_count": null,
   "id": "experimental-tours",
   "metadata": {},
   "outputs": [],
   "source": [
    "combined_csv['paths'].shape"
   ]
  },
  {
   "cell_type": "code",
   "execution_count": null,
   "id": "running-sailing",
   "metadata": {},
   "outputs": [],
   "source": []
  },
  {
   "cell_type": "code",
   "execution_count": null,
   "id": "governing-newcastle",
   "metadata": {},
   "outputs": [],
   "source": [
    "len(set(combined_csv['paths'].values.tolist()))"
   ]
  },
  {
   "cell_type": "code",
   "execution_count": null,
   "id": "historical-salad",
   "metadata": {},
   "outputs": [],
   "source": [
    "need_extention_done = {'.docx':0,'.doc':0,'.xls':0,'.xlsx':0,'.ppt':0,'.pptx':0,'.pdf':0,'.msg':0,'.eml':0}"
   ]
  },
  {
   "cell_type": "code",
   "execution_count": null,
   "id": "meaning-banana",
   "metadata": {},
   "outputs": [],
   "source": [
    "for path in done_paths:\n",
    "    if '.'+path.strip().split('.')[-1] in need_extention_done:\n",
    "        need_extention_done['.'+path.strip().split('.')[-1]] += 1"
   ]
  },
  {
   "cell_type": "code",
   "execution_count": null,
   "id": "cardiac-continuity",
   "metadata": {},
   "outputs": [],
   "source": [
    "need_extention_done"
   ]
  },
  {
   "cell_type": "code",
   "execution_count": null,
   "id": "composite-balance",
   "metadata": {},
   "outputs": [],
   "source": []
  },
  {
   "cell_type": "code",
   "execution_count": null,
   "id": "metric-screening",
   "metadata": {},
   "outputs": [],
   "source": []
  }
 ],
 "metadata": {
  "kernelspec": {
   "display_name": "Python 3",
   "language": "python",
   "name": "python3"
  },
  "language_info": {
   "codemirror_mode": {
    "name": "ipython",
    "version": 3
   },
   "file_extension": ".py",
   "mimetype": "text/x-python",
   "name": "python",
   "nbconvert_exporter": "python",
   "pygments_lexer": "ipython3",
   "version": "3.9.2"
  }
 },
 "nbformat": 4,
 "nbformat_minor": 5
}
